{
    "metadata": {
        "kernelspec": {
            "name": "SQL",
            "display_name": "SQL",
            "language": "sql"
        },
        "language_info": {
            "name": "sql",
            "version": ""
        }
    },
    "nbformat_minor": 2,
    "nbformat": 4,
    "cells": [
        {
            "cell_type": "code",
            "source": [
                "SELECT TOP 5 * FROM dbo.Orders\r\n",
                "GO\r\n",
                "SELECT TOP 5 * FROM dbo.OrderPayments\r\n",
                "GO\r\n",
                "SELECT TOP 5 * FROM dbo.OrderItems\r\n",
                "GO"
            ],
            "metadata": {
                "azdata_cell_guid": "88a9b2d8-915c-42e6-aeca-fc824394a898"
            },
            "outputs": [
                {
                    "output_type": "display_data",
                    "data": {
                        "text/html": "(5 rows affected)"
                    },
                    "metadata": {}
                },
                {
                    "output_type": "execute_result",
                    "execution_count": 2,
                    "data": {
                        "application/vnd.dataresource+json": {
                            "schema": {
                                "fields": [
                                    {
                                        "name": "OrderId"
                                    },
                                    {
                                        "name": "CustomerId"
                                    },
                                    {
                                        "name": "OrderStatus"
                                    },
                                    {
                                        "name": "CustomerZipCode"
                                    },
                                    {
                                        "name": "OrderPurchaseTimestamp"
                                    },
                                    {
                                        "name": "OrderApprovedAt"
                                    },
                                    {
                                        "name": "OrderCeliveredCarrierDate"
                                    },
                                    {
                                        "name": "OrderDeliveredCustomerDate"
                                    },
                                    {
                                        "name": "OrderEstimatedSeliveryDate"
                                    }
                                ]
                            },
                            "data": [
                                {
                                    "0": "fd742725-35ad-3904-f7b2-0001968d5ad6",
                                    "1": "04ef021a-9baf-0e95-bd76-ae8f731de1e6",
                                    "2": "delivered",
                                    "3": "13083",
                                    "4": "2018-06-12 18:54:44.000",
                                    "5": "2018-06-12 19:27:06.000",
                                    "6": "2018-06-13 13:09:00.000",
                                    "7": "2018-06-18 15:58:42.000",
                                    "8": "2018-06-29 00:00:00.000"
                                },
                                {
                                    "0": "d43fdae2-93f4-77cf-aa36-000252f3973f",
                                    "1": "ab9c360a-f9fd-56c4-a270-822341c2d965",
                                    "2": "delivered",
                                    "3": "41830",
                                    "4": "2018-05-06 08:59:22.000",
                                    "5": "2018-05-06 09:10:21.000",
                                    "6": "2018-05-07 12:19:00.000",
                                    "7": "2018-05-17 21:46:29.000",
                                    "8": "2018-05-28 00:00:00.000"
                                },
                                {
                                    "0": "ee09e937-cddd-9928-e172-000410e19c57",
                                    "1": "a005730a-6f53-0f59-3206-3b70c1ea4b88",
                                    "2": "delivered",
                                    "3": "93260",
                                    "4": "2018-03-18 13:45:54.000",
                                    "5": "2018-03-18 14:08:42.000",
                                    "6": "2018-03-20 22:00:12.000",
                                    "7": "2018-04-04 14:12:50.000",
                                    "8": "2018-04-13 00:00:00.000"
                                },
                                {
                                    "0": "39887bba-2005-d25e-7b74-00055ab2febb",
                                    "1": "f2147db3-33aa-5fea-63f5-fbdd5a812eed",
                                    "2": "delivered",
                                    "3": "22773",
                                    "4": "2017-02-25 14:20:03.000",
                                    "5": "2017-02-25 14:30:12.000",
                                    "6": "2017-03-01 05:55:43.000",
                                    "7": "2017-03-10 14:59:07.000",
                                    "8": "2017-03-24 00:00:00.000"
                                },
                                {
                                    "0": "cc38f8f9-071f-47f5-57c4-0005c7884168",
                                    "1": "2d27dca5-b552-a611-7268-124ecc3c55aa",
                                    "2": "delivered",
                                    "3": "5003",
                                    "4": "2018-06-24 12:40:55.000",
                                    "5": "2018-06-24 12:55:13.000",
                                    "6": "2018-06-28 06:06:00.000",
                                    "7": "2018-07-02 15:58:56.000",
                                    "8": "2018-07-24 00:00:00.000"
                                }
                            ]
                        },
                        "text/html": "<table><tr><th>OrderId</th><th>CustomerId</th><th>OrderStatus</th><th>CustomerZipCode</th><th>OrderPurchaseTimestamp</th><th>OrderApprovedAt</th><th>OrderCeliveredCarrierDate</th><th>OrderDeliveredCustomerDate</th><th>OrderEstimatedSeliveryDate</th></tr><tr><td>fd742725-35ad-3904-f7b2-0001968d5ad6</td><td>04ef021a-9baf-0e95-bd76-ae8f731de1e6</td><td>delivered</td><td>13083</td><td>2018-06-12 18:54:44.000</td><td>2018-06-12 19:27:06.000</td><td>2018-06-13 13:09:00.000</td><td>2018-06-18 15:58:42.000</td><td>2018-06-29 00:00:00.000</td></tr><tr><td>d43fdae2-93f4-77cf-aa36-000252f3973f</td><td>ab9c360a-f9fd-56c4-a270-822341c2d965</td><td>delivered</td><td>41830</td><td>2018-05-06 08:59:22.000</td><td>2018-05-06 09:10:21.000</td><td>2018-05-07 12:19:00.000</td><td>2018-05-17 21:46:29.000</td><td>2018-05-28 00:00:00.000</td></tr><tr><td>ee09e937-cddd-9928-e172-000410e19c57</td><td>a005730a-6f53-0f59-3206-3b70c1ea4b88</td><td>delivered</td><td>93260</td><td>2018-03-18 13:45:54.000</td><td>2018-03-18 14:08:42.000</td><td>2018-03-20 22:00:12.000</td><td>2018-04-04 14:12:50.000</td><td>2018-04-13 00:00:00.000</td></tr><tr><td>39887bba-2005-d25e-7b74-00055ab2febb</td><td>f2147db3-33aa-5fea-63f5-fbdd5a812eed</td><td>delivered</td><td>22773</td><td>2017-02-25 14:20:03.000</td><td>2017-02-25 14:30:12.000</td><td>2017-03-01 05:55:43.000</td><td>2017-03-10 14:59:07.000</td><td>2017-03-24 00:00:00.000</td></tr><tr><td>cc38f8f9-071f-47f5-57c4-0005c7884168</td><td>2d27dca5-b552-a611-7268-124ecc3c55aa</td><td>delivered</td><td>5003</td><td>2018-06-24 12:40:55.000</td><td>2018-06-24 12:55:13.000</td><td>2018-06-28 06:06:00.000</td><td>2018-07-02 15:58:56.000</td><td>2018-07-24 00:00:00.000</td></tr></table>"
                    },
                    "metadata": {}
                },
                {
                    "output_type": "display_data",
                    "data": {
                        "text/html": "(5 rows affected)"
                    },
                    "metadata": {}
                },
                {
                    "output_type": "display_data",
                    "data": {
                        "text/html": "(5 rows affected)"
                    },
                    "metadata": {}
                },
                {
                    "output_type": "display_data",
                    "data": {
                        "text/html": "Total execution time: 00:00:00.245"
                    },
                    "metadata": {}
                },
                {
                    "output_type": "execute_result",
                    "execution_count": 2,
                    "data": {
                        "application/vnd.dataresource+json": {
                            "schema": {
                                "fields": [
                                    {
                                        "name": "PaymentId"
                                    },
                                    {
                                        "name": "OrderId"
                                    },
                                    {
                                        "name": "PaymentSequential"
                                    },
                                    {
                                        "name": "PaymentType"
                                    },
                                    {
                                        "name": "PaymentInstallments"
                                    },
                                    {
                                        "name": "PaymentValue"
                                    }
                                ]
                            },
                            "data": [
                                {
                                    "0": "1",
                                    "1": "b81ef226-f3fe-1789-b1e8-b2acac839d17",
                                    "2": "1",
                                    "3": "credit_card",
                                    "4": "99",
                                    "5": "8,00"
                                },
                                {
                                    "0": "2",
                                    "1": "a9810da8-2917-af2d-9aef-d1278f1dcfa0",
                                    "2": "1",
                                    "3": "credit_card",
                                    "4": "24",
                                    "5": "1,00"
                                },
                                {
                                    "0": "3",
                                    "1": "25e8ea4e-9339-6b6f-a0d3-dd708e76c1bd",
                                    "2": "1",
                                    "3": "credit_card",
                                    "4": "65",
                                    "5": "1,00"
                                },
                                {
                                    "0": "4",
                                    "1": "ba789979-21bb-cdc1-373b-b41e913ab953",
                                    "2": "1",
                                    "3": "credit_card",
                                    "4": "107",
                                    "5": "8,00"
                                },
                                {
                                    "0": "5",
                                    "1": "42fdf880-ba16-b47b-5925-1dd489d4441a",
                                    "2": "1",
                                    "3": "credit_card",
                                    "4": "128",
                                    "5": "2,00"
                                }
                            ]
                        },
                        "text/html": "<table><tr><th>PaymentId</th><th>OrderId</th><th>PaymentSequential</th><th>PaymentType</th><th>PaymentInstallments</th><th>PaymentValue</th></tr><tr><td>1</td><td>b81ef226-f3fe-1789-b1e8-b2acac839d17</td><td>1</td><td>credit_card</td><td>99</td><td>8,00</td></tr><tr><td>2</td><td>a9810da8-2917-af2d-9aef-d1278f1dcfa0</td><td>1</td><td>credit_card</td><td>24</td><td>1,00</td></tr><tr><td>3</td><td>25e8ea4e-9339-6b6f-a0d3-dd708e76c1bd</td><td>1</td><td>credit_card</td><td>65</td><td>1,00</td></tr><tr><td>4</td><td>ba789979-21bb-cdc1-373b-b41e913ab953</td><td>1</td><td>credit_card</td><td>107</td><td>8,00</td></tr><tr><td>5</td><td>42fdf880-ba16-b47b-5925-1dd489d4441a</td><td>1</td><td>credit_card</td><td>128</td><td>2,00</td></tr></table>"
                    },
                    "metadata": {}
                },
                {
                    "output_type": "execute_result",
                    "execution_count": 2,
                    "data": {
                        "application/vnd.dataresource+json": {
                            "schema": {
                                "fields": [
                                    {
                                        "name": "Id"
                                    },
                                    {
                                        "name": "OrderId"
                                    },
                                    {
                                        "name": "OrderItemId"
                                    },
                                    {
                                        "name": "ProductId"
                                    },
                                    {
                                        "name": "SellerId"
                                    },
                                    {
                                        "name": "ShippingLimitDate"
                                    },
                                    {
                                        "name": "Price"
                                    },
                                    {
                                        "name": "FreightValue"
                                    }
                                ]
                            },
                            "data": [
                                {
                                    "0": "1",
                                    "1": "00010242-fe8c-5a6d-1ba2-dd792cb16214",
                                    "2": "1",
                                    "3": "4244733e-06e7-ecb4-970a-6e2683c13e61",
                                    "4": "48436dad-e18a-c8b2-bce0-89ec2a041202",
                                    "5": "2017-09-19 09:45:35.000",
                                    "6": "58,90",
                                    "7": "13,29"
                                },
                                {
                                    "0": "2",
                                    "1": "00018f77-f2f0-320c-5571-90d7a144bdd3",
                                    "2": "1",
                                    "3": "e5f2d52b-8021-89ee-6588-65ca93d83a8f",
                                    "4": "dd7ddc04-e1b6-c2c6-1435-2b383efe2d36",
                                    "5": "2017-05-03 11:05:13.000",
                                    "6": "239,90",
                                    "7": "19,93"
                                },
                                {
                                    "0": "3",
                                    "1": "000229ec-3982-24ef-6ca0-657da4fc703e",
                                    "2": "1",
                                    "3": "c777355d-18b7-2b67-abbe-ef9df44fd0fd",
                                    "4": "5b51032e-ddd2-42ad-c84c-38acab88f23d",
                                    "5": "2018-01-18 14:48:30.000",
                                    "6": "199,00",
                                    "7": "17,87"
                                },
                                {
                                    "0": "4",
                                    "1": "00024acb-cdf0-a6da-a1e9-31b038114c75",
                                    "2": "1",
                                    "3": "7634da15-2a46-10f1-595e-fa32f14722fc",
                                    "4": "9d7a1d34-a505-2409-0064-25275ba1c2b4",
                                    "5": "2018-08-15 10:10:18.000",
                                    "6": "12,99",
                                    "7": "12,79"
                                },
                                {
                                    "0": "5",
                                    "1": "00042b26-cf59-d7ce-69df-abb4e55b4fd9",
                                    "2": "1",
                                    "3": "ac6c3623-068f-30de-0304-5865e4e10089",
                                    "4": "df560393-f3a5-1e74-553a-b94004ba5c87",
                                    "5": "2017-02-13 13:57:51.000",
                                    "6": "199,90",
                                    "7": "18,14"
                                }
                            ]
                        },
                        "text/html": "<table><tr><th>Id</th><th>OrderId</th><th>OrderItemId</th><th>ProductId</th><th>SellerId</th><th>ShippingLimitDate</th><th>Price</th><th>FreightValue</th></tr><tr><td>1</td><td>00010242-fe8c-5a6d-1ba2-dd792cb16214</td><td>1</td><td>4244733e-06e7-ecb4-970a-6e2683c13e61</td><td>48436dad-e18a-c8b2-bce0-89ec2a041202</td><td>2017-09-19 09:45:35.000</td><td>58,90</td><td>13,29</td></tr><tr><td>2</td><td>00018f77-f2f0-320c-5571-90d7a144bdd3</td><td>1</td><td>e5f2d52b-8021-89ee-6588-65ca93d83a8f</td><td>dd7ddc04-e1b6-c2c6-1435-2b383efe2d36</td><td>2017-05-03 11:05:13.000</td><td>239,90</td><td>19,93</td></tr><tr><td>3</td><td>000229ec-3982-24ef-6ca0-657da4fc703e</td><td>1</td><td>c777355d-18b7-2b67-abbe-ef9df44fd0fd</td><td>5b51032e-ddd2-42ad-c84c-38acab88f23d</td><td>2018-01-18 14:48:30.000</td><td>199,00</td><td>17,87</td></tr><tr><td>4</td><td>00024acb-cdf0-a6da-a1e9-31b038114c75</td><td>1</td><td>7634da15-2a46-10f1-595e-fa32f14722fc</td><td>9d7a1d34-a505-2409-0064-25275ba1c2b4</td><td>2018-08-15 10:10:18.000</td><td>12,99</td><td>12,79</td></tr><tr><td>5</td><td>00042b26-cf59-d7ce-69df-abb4e55b4fd9</td><td>1</td><td>ac6c3623-068f-30de-0304-5865e4e10089</td><td>df560393-f3a5-1e74-553a-b94004ba5c87</td><td>2017-02-13 13:57:51.000</td><td>199,90</td><td>18,14</td></tr></table>"
                    },
                    "metadata": {}
                }
            ],
            "execution_count": 2
        },
        {
            "cell_type": "code",
            "source": [
                "SELECT TOP 30 * FROM dbo.OrderPayments\r\n",
                "WHERE PaymentValue > 100\r\n",
                "ORDER By PaymentValue Desc\r\n",
                "GO\r\n",
                "\r\n",
                "SELECT TOP 30 TRY_CAST(payment_value AS decimal(6,2)) as payment, payment_installments FROM raw_data.Order_payments\r\n",
                "ORDER By payment Desc\r\n",
                "GO\r\n",
                "\r\n",
                "S"
            ],
            "metadata": {
                "azdata_cell_guid": "a68c98c5-70b9-40f6-94e5-1c0245328353",
                "tags": [
                    "hide_input"
                ]
            },
            "outputs": [
                {
                    "output_type": "display_data",
                    "data": {
                        "text/html": "(0 rows affected)"
                    },
                    "metadata": {}
                },
                {
                    "output_type": "execute_result",
                    "execution_count": 5,
                    "data": {
                        "application/vnd.dataresource+json": {
                            "schema": {
                                "fields": [
                                    {
                                        "name": "PaymentId"
                                    },
                                    {
                                        "name": "OrderId"
                                    },
                                    {
                                        "name": "PaymentSequential"
                                    },
                                    {
                                        "name": "PaymentType"
                                    },
                                    {
                                        "name": "PaymentInstallments"
                                    },
                                    {
                                        "name": "PaymentValue"
                                    }
                                ]
                            },
                            "data": []
                        },
                        "text/html": "<table><tr><th>PaymentId</th><th>OrderId</th><th>PaymentSequential</th><th>PaymentType</th><th>PaymentInstallments</th><th>PaymentValue</th></tr></table>"
                    },
                    "metadata": {}
                },
                {
                    "output_type": "display_data",
                    "data": {
                        "text/html": "(30 rows affected)"
                    },
                    "metadata": {}
                },
                {
                    "output_type": "display_data",
                    "data": {
                        "text/html": "Total execution time: 00:00:00.661"
                    },
                    "metadata": {}
                },
                {
                    "output_type": "execute_result",
                    "execution_count": 5,
                    "data": {
                        "application/vnd.dataresource+json": {
                            "schema": {
                                "fields": [
                                    {
                                        "name": "payment"
                                    },
                                    {
                                        "name": "payment_installments"
                                    }
                                ]
                            },
                            "data": [
                                {
                                    "0": "7274,88",
                                    "1": "1"
                                },
                                {
                                    "0": "6929,31",
                                    "1": "8"
                                },
                                {
                                    "0": "6922,21",
                                    "1": "1"
                                },
                                {
                                    "0": "6726,66",
                                    "1": "1"
                                },
                                {
                                    "0": "6081,54",
                                    "1": "1"
                                },
                                {
                                    "0": "4950,34",
                                    "1": "10"
                                },
                                {
                                    "0": "4809,44",
                                    "1": "5"
                                },
                                {
                                    "0": "4764,34",
                                    "1": "8"
                                },
                                {
                                    "0": "4681,78",
                                    "1": "8"
                                },
                                {
                                    "0": "4513,32",
                                    "1": "10"
                                },
                                {
                                    "0": "4445,50",
                                    "1": "1"
                                },
                                {
                                    "0": "4175,26",
                                    "1": "10"
                                },
                                {
                                    "0": "4163,51",
                                    "1": "1"
                                },
                                {
                                    "0": "4042,74",
                                    "1": "5"
                                },
                                {
                                    "0": "4016,91",
                                    "1": "8"
                                },
                                {
                                    "0": "3979,55",
                                    "1": "1"
                                },
                                {
                                    "0": "3899,00",
                                    "1": "10"
                                },
                                {
                                    "0": "3826,80",
                                    "1": "10"
                                },
                                {
                                    "0": "3792,59",
                                    "1": "8"
                                },
                                {
                                    "0": "3782,19",
                                    "1": "10"
                                },
                                {
                                    "0": "3736,22",
                                    "1": "10"
                                },
                                {
                                    "0": "3666,42",
                                    "1": "1"
                                },
                                {
                                    "0": "3602,47",
                                    "1": "1"
                                },
                                {
                                    "0": "3526,46",
                                    "1": "8"
                                },
                                {
                                    "0": "3406,47",
                                    "1": "1"
                                },
                                {
                                    "0": "3360,66",
                                    "1": "8"
                                },
                                {
                                    "0": "3358,24",
                                    "1": "5"
                                },
                                {
                                    "0": "3351,35",
                                    "1": "10"
                                },
                                {
                                    "0": "3256,14",
                                    "1": "3"
                                },
                                {
                                    "0": "3242,84",
                                    "1": "10"
                                }
                            ]
                        },
                        "text/html": "<table><tr><th>payment</th><th>payment_installments</th></tr><tr><td>7274,88</td><td>1</td></tr><tr><td>6929,31</td><td>8</td></tr><tr><td>6922,21</td><td>1</td></tr><tr><td>6726,66</td><td>1</td></tr><tr><td>6081,54</td><td>1</td></tr><tr><td>4950,34</td><td>10</td></tr><tr><td>4809,44</td><td>5</td></tr><tr><td>4764,34</td><td>8</td></tr><tr><td>4681,78</td><td>8</td></tr><tr><td>4513,32</td><td>10</td></tr><tr><td>4445,50</td><td>1</td></tr><tr><td>4175,26</td><td>10</td></tr><tr><td>4163,51</td><td>1</td></tr><tr><td>4042,74</td><td>5</td></tr><tr><td>4016,91</td><td>8</td></tr><tr><td>3979,55</td><td>1</td></tr><tr><td>3899,00</td><td>10</td></tr><tr><td>3826,80</td><td>10</td></tr><tr><td>3792,59</td><td>8</td></tr><tr><td>3782,19</td><td>10</td></tr><tr><td>3736,22</td><td>10</td></tr><tr><td>3666,42</td><td>1</td></tr><tr><td>3602,47</td><td>1</td></tr><tr><td>3526,46</td><td>8</td></tr><tr><td>3406,47</td><td>1</td></tr><tr><td>3360,66</td><td>8</td></tr><tr><td>3358,24</td><td>5</td></tr><tr><td>3351,35</td><td>10</td></tr><tr><td>3256,14</td><td>3</td></tr><tr><td>3242,84</td><td>10</td></tr></table>"
                    },
                    "metadata": {}
                }
            ],
            "execution_count": 5
        },
        {
            "cell_type": "code",
            "source": [
                "SELECT TOP 50 OrderId, SUM(PaymentValue) AS PaymentValue \r\n",
                "FROM dbo.OrderPayments\r\n",
                "GROUP BY OrderId\r\n",
                "ORDER BY PaymentValue DESC;"
            ],
            "metadata": {
                "azdata_cell_guid": "cc79feeb-a8d8-41ca-9c98-359aa1c82fec"
            },
            "outputs": [
                {
                    "output_type": "display_data",
                    "data": {
                        "text/html": "(50 rows affected)"
                    },
                    "metadata": {}
                },
                {
                    "output_type": "display_data",
                    "data": {
                        "text/html": "Total execution time: 00:00:01.031"
                    },
                    "metadata": {}
                },
                {
                    "output_type": "execute_result",
                    "execution_count": 7,
                    "data": {
                        "application/vnd.dataresource+json": {
                            "schema": {
                                "fields": [
                                    {
                                        "name": "OrderId"
                                    },
                                    {
                                        "name": "PaymentValue"
                                    }
                                ]
                            },
                            "data": [
                                {
                                    "0": "03caa2c0-8211-6e1d-31e6-7e9ae3700499",
                                    "1": "13664,08"
                                },
                                {
                                    "0": "736e1922-ae60-d0d6-a892-47b851902527",
                                    "1": "7274,88"
                                },
                                {
                                    "0": "0812eb90-2a67-711a-1cb7-42b3cdaa65ae",
                                    "1": "6929,31"
                                },
                                {
                                    "0": "fefacc66-af85-9508-bf1a-7934eab1e97f",
                                    "1": "6922,21"
                                },
                                {
                                    "0": "f5136e38-d1a1-4a4d-bd87-dff67da82701",
                                    "1": "6726,66"
                                },
                                {
                                    "0": "2cc90894-4504-6817-a753-9d90805e6e5a",
                                    "1": "6081,54"
                                },
                                {
                                    "0": "a96610ab-360d-42a2-e533-5a3998b4718a",
                                    "1": "4950,34"
                                },
                                {
                                    "0": "b4c4b76c-6428-08cb-e472-a32b86cddc95",
                                    "1": "4809,44"
                                },
                                {
                                    "0": "199af31a-fc78-c699-f0db-f71fb178d4d4",
                                    "1": "4764,34"
                                },
                                {
                                    "0": "8dbc85d1-4472-42f3-b127-dda390d56e19",
                                    "1": "4681,78"
                                },
                                {
                                    "0": "426a9742-b533-fc6f-ed17-d1fd6d143d7e",
                                    "1": "4513,32"
                                },
                                {
                                    "0": "d2f27048-7125-ddc4-1fd1-34c4003ad1d7",
                                    "1": "4445,50"
                                },
                                {
                                    "0": "80dfedb6-d17b-f235-39be-eef3c768f4d7",
                                    "1": "4194,76"
                                },
                                {
                                    "0": "68101694-e5c5-dc73-30c9-1e1bbc36214f",
                                    "1": "4175,26"
                                },
                                {
                                    "0": "b239ca7c-d485-940b-3188-2363b52e6674",
                                    "1": "4163,51"
                                },
                                {
                                    "0": "9a3966c2-3190-dbdb-aabe-d08e8429c006",
                                    "1": "4042,74"
                                },
                                {
                                    "0": "9de73f3e-6157-169a-d6c3-2b9f313c7dcb",
                                    "1": "4034,44"
                                },
                                {
                                    "0": "86c4eab1-5719-21a6-a6e2-48ed312f5a5a",
                                    "1": "4016,91"
                                },
                                {
                                    "0": "41b7766b-b1df-487d-17fb-9725b78ff509",
                                    "1": "3979,55"
                                },
                                {
                                    "0": "a53e05ec-d2ed-1f46-a2b8-e1f5828be7c6",
                                    "1": "3826,80"
                                },
                                {
                                    "0": "d3f66901-a674-3e15-f931-1547cc623b91",
                                    "1": "3792,59"
                                },
                                {
                                    "0": "fc20b8e2-82da-6f3f-bcdd-3a3cedecb723",
                                    "1": "3782,19"
                                },
                                {
                                    "0": "e85c92ee-6a3b-a1ef-47e4-1c23286314d9",
                                    "1": "3736,22"
                                },
                                {
                                    "0": "b15c7e97-2c74-6844-14fb-2e659fce916a",
                                    "1": "3666,42"
                                },
                                {
                                    "0": "df85c824-5235-00d4-066a-0dbdb5d95bed",
                                    "1": "3602,47"
                                },
                                {
                                    "0": "3a4b013e-0147-23cc-38c9-faa8ffdc6387",
                                    "1": "3526,46"
                                },
                                {
                                    "0": "43bdbd9d-c093-1d72-befd-f4765af6c442",
                                    "1": "3406,47"
                                },
                                {
                                    "0": "66b9c991-ee30-8f93-42f6-a7f63bb68251",
                                    "1": "3358,24"
                                },
                                {
                                    "0": "94fca829-66c0-5ba7-07f4-e7dc0c50aa3c",
                                    "1": "3351,35"
                                },
                                {
                                    "0": "f398a143-c0fe-171d-965d-b2096cf064cf",
                                    "1": "3297,40"
                                },
                                {
                                    "0": "cb418bb4-b611-5438-d20b-0141ed5bc9e0",
                                    "1": "3256,14"
                                },
                                {
                                    "0": "91234362-6f37-0ead-5ef2-e85a9d757e22",
                                    "1": "3242,84"
                                },
                                {
                                    "0": "1d54db60-1b41-7ccd-fd3b-7071955e6cc7",
                                    "1": "3209,72"
                                },
                                {
                                    "0": "4412d97c-b209-3633-afa8-5f11db46316c",
                                    "1": "3195,73"
                                },
                                {
                                    "0": "d7a2c0c1-ff66-b314-f3bf-166fb4157fd4",
                                    "1": "3184,55"
                                },
                                {
                                    "0": "53c71d39-5350-7c62-39ff-73917ed358c9",
                                    "1": "3184,34"
                                },
                                {
                                    "0": "03310aa8-23a6-6056-268a-3bab36e827fb",
                                    "1": "3184,34"
                                },
                                {
                                    "0": "7813842a-e95e-8c49-7fc0-233232ae815a",
                                    "1": "3184,34"
                                },
                                {
                                    "0": "31e50461-be69-57a7-4916-6e97af082d0a",
                                    "1": "3155,82"
                                },
                                {
                                    "0": "d9956b08-05e3-24db-3f2a-546ef216c10b",
                                    "1": "3126,50"
                                },
                                {
                                    "0": "0af28d87-5205-65eb-3b57-c9b2abe1a2cc",
                                    "1": "3126,50"
                                },
                                {
                                    "0": "81715239-1178-6efd-1d91-c66d69051fcd",
                                    "1": "3122,72"
                                },
                                {
                                    "0": "4160b644-7ad7-0e6d-73f7-221dd970bbe9",
                                    "1": "3076,13"
                                },
                                {
                                    "0": "79d3522a-0854-c853-a497-9ff2691abd91",
                                    "1": "3048,27"
                                },
                                {
                                    "0": "b0b0d328-5e59-abf2-f6c9-d7e1bf761323",
                                    "1": "3044,12"
                                },
                                {
                                    "0": "3c71011c-33cf-4ba9-5d18-787bdc0e94d3",
                                    "1": "3042,36"
                                },
                                {
                                    "0": "52e6988a-13f9-dd7d-567b-0816dba52a03",
                                    "1": "3041,73"
                                },
                                {
                                    "0": "bd2fef19-8085-db0b-586b-9c71aa2d35da",
                                    "1": "3024,08"
                                },
                                {
                                    "0": "e8fa22c3-673b-1dd1-7ea3-15021b1f0f61",
                                    "1": "3018,60"
                                },
                                {
                                    "0": "586992f5-0ed9-7898-737b-07970376d19c",
                                    "1": "3016,01"
                                }
                            ]
                        },
                        "text/html": "<table><tr><th>OrderId</th><th>PaymentValue</th></tr><tr><td>03caa2c0-8211-6e1d-31e6-7e9ae3700499</td><td>13664,08</td></tr><tr><td>736e1922-ae60-d0d6-a892-47b851902527</td><td>7274,88</td></tr><tr><td>0812eb90-2a67-711a-1cb7-42b3cdaa65ae</td><td>6929,31</td></tr><tr><td>fefacc66-af85-9508-bf1a-7934eab1e97f</td><td>6922,21</td></tr><tr><td>f5136e38-d1a1-4a4d-bd87-dff67da82701</td><td>6726,66</td></tr><tr><td>2cc90894-4504-6817-a753-9d90805e6e5a</td><td>6081,54</td></tr><tr><td>a96610ab-360d-42a2-e533-5a3998b4718a</td><td>4950,34</td></tr><tr><td>b4c4b76c-6428-08cb-e472-a32b86cddc95</td><td>4809,44</td></tr><tr><td>199af31a-fc78-c699-f0db-f71fb178d4d4</td><td>4764,34</td></tr><tr><td>8dbc85d1-4472-42f3-b127-dda390d56e19</td><td>4681,78</td></tr><tr><td>426a9742-b533-fc6f-ed17-d1fd6d143d7e</td><td>4513,32</td></tr><tr><td>d2f27048-7125-ddc4-1fd1-34c4003ad1d7</td><td>4445,50</td></tr><tr><td>80dfedb6-d17b-f235-39be-eef3c768f4d7</td><td>4194,76</td></tr><tr><td>68101694-e5c5-dc73-30c9-1e1bbc36214f</td><td>4175,26</td></tr><tr><td>b239ca7c-d485-940b-3188-2363b52e6674</td><td>4163,51</td></tr><tr><td>9a3966c2-3190-dbdb-aabe-d08e8429c006</td><td>4042,74</td></tr><tr><td>9de73f3e-6157-169a-d6c3-2b9f313c7dcb</td><td>4034,44</td></tr><tr><td>86c4eab1-5719-21a6-a6e2-48ed312f5a5a</td><td>4016,91</td></tr><tr><td>41b7766b-b1df-487d-17fb-9725b78ff509</td><td>3979,55</td></tr><tr><td>a53e05ec-d2ed-1f46-a2b8-e1f5828be7c6</td><td>3826,80</td></tr><tr><td>d3f66901-a674-3e15-f931-1547cc623b91</td><td>3792,59</td></tr><tr><td>fc20b8e2-82da-6f3f-bcdd-3a3cedecb723</td><td>3782,19</td></tr><tr><td>e85c92ee-6a3b-a1ef-47e4-1c23286314d9</td><td>3736,22</td></tr><tr><td>b15c7e97-2c74-6844-14fb-2e659fce916a</td><td>3666,42</td></tr><tr><td>df85c824-5235-00d4-066a-0dbdb5d95bed</td><td>3602,47</td></tr><tr><td>3a4b013e-0147-23cc-38c9-faa8ffdc6387</td><td>3526,46</td></tr><tr><td>43bdbd9d-c093-1d72-befd-f4765af6c442</td><td>3406,47</td></tr><tr><td>66b9c991-ee30-8f93-42f6-a7f63bb68251</td><td>3358,24</td></tr><tr><td>94fca829-66c0-5ba7-07f4-e7dc0c50aa3c</td><td>3351,35</td></tr><tr><td>f398a143-c0fe-171d-965d-b2096cf064cf</td><td>3297,40</td></tr><tr><td>cb418bb4-b611-5438-d20b-0141ed5bc9e0</td><td>3256,14</td></tr><tr><td>91234362-6f37-0ead-5ef2-e85a9d757e22</td><td>3242,84</td></tr><tr><td>1d54db60-1b41-7ccd-fd3b-7071955e6cc7</td><td>3209,72</td></tr><tr><td>4412d97c-b209-3633-afa8-5f11db46316c</td><td>3195,73</td></tr><tr><td>d7a2c0c1-ff66-b314-f3bf-166fb4157fd4</td><td>3184,55</td></tr><tr><td>53c71d39-5350-7c62-39ff-73917ed358c9</td><td>3184,34</td></tr><tr><td>03310aa8-23a6-6056-268a-3bab36e827fb</td><td>3184,34</td></tr><tr><td>7813842a-e95e-8c49-7fc0-233232ae815a</td><td>3184,34</td></tr><tr><td>31e50461-be69-57a7-4916-6e97af082d0a</td><td>3155,82</td></tr><tr><td>d9956b08-05e3-24db-3f2a-546ef216c10b</td><td>3126,50</td></tr><tr><td>0af28d87-5205-65eb-3b57-c9b2abe1a2cc</td><td>3126,50</td></tr><tr><td>81715239-1178-6efd-1d91-c66d69051fcd</td><td>3122,72</td></tr><tr><td>4160b644-7ad7-0e6d-73f7-221dd970bbe9</td><td>3076,13</td></tr><tr><td>79d3522a-0854-c853-a497-9ff2691abd91</td><td>3048,27</td></tr><tr><td>b0b0d328-5e59-abf2-f6c9-d7e1bf761323</td><td>3044,12</td></tr><tr><td>3c71011c-33cf-4ba9-5d18-787bdc0e94d3</td><td>3042,36</td></tr><tr><td>52e6988a-13f9-dd7d-567b-0816dba52a03</td><td>3041,73</td></tr><tr><td>bd2fef19-8085-db0b-586b-9c71aa2d35da</td><td>3024,08</td></tr><tr><td>e8fa22c3-673b-1dd1-7ea3-15021b1f0f61</td><td>3018,60</td></tr><tr><td>586992f5-0ed9-7898-737b-07970376d19c</td><td>3016,01</td></tr></table>"
                    },
                    "metadata": {}
                }
            ],
            "execution_count": 7
        },
        {
            "cell_type": "code",
            "source": [
                "WITH payments (OrderId, PaymentValue)\r\n",
                "AS ( \r\n",
                "SELECT OrderId, SUM(PaymentValue) AS PaymentValue \r\n",
                "FROM dbo.OrderPayments\r\n",
                "GROUP BY OrderId\r\n",
                "),\r\n",
                "orderitems (OrderId, ItemsValue, FreightValue, NumberOfItems)\r\n",
                "AS\r\n",
                "(\r\n",
                "SELECT OrderId, SUM(Price) AS ItemsValue, SUM(FreightValue) AS FreightValue, MAX(OrderItemId) NumberOfItems\r\n",
                "FROM dbo.OrderItems\r\n",
                "GROUP BY OrderId\r\n",
                ")\r\n",
                "SELECT TOP 100 o.OrderId,\r\n",
                "o.OrderApprovedAt,\r\n",
                "o.CustomerId,\r\n",
                "p.PaymentValue,\r\n",
                "i.ItemsValue,\r\n",
                "i.FreightValue,\r\n",
                "i.NumberOfItems\r\n",
                "FROM dbo.Orders AS o\r\n",
                "JOIN payments AS p \r\n",
                "ON p.OrderId = p.OrderId\r\n",
                "JOIN orderitems AS i \r\n",
                "ON p.OrderId = i.OrderId;"
            ],
            "metadata": {
                "azdata_cell_guid": "a487d6cc-0506-42eb-9b00-359dfb1cfefa"
            },
            "outputs": [
                {
                    "output_type": "display_data",
                    "data": {
                        "text/html": "(100 rows affected)"
                    },
                    "metadata": {}
                },
                {
                    "output_type": "display_data",
                    "data": {
                        "text/html": "Total execution time: 00:00:24.752"
                    },
                    "metadata": {}
                },
                {
                    "output_type": "execute_result",
                    "execution_count": 8,
                    "data": {
                        "application/vnd.dataresource+json": {
                            "schema": {
                                "fields": [
                                    {
                                        "name": "OrderId"
                                    },
                                    {
                                        "name": "OrderApprovedAt"
                                    },
                                    {
                                        "name": "CustomerId"
                                    },
                                    {
                                        "name": "PaymentValue"
                                    },
                                    {
                                        "name": "ItemsValue"
                                    },
                                    {
                                        "name": "FreightValue"
                                    },
                                    {
                                        "name": "NumberOfItems"
                                    }
                                ]
                            },
                            "data": [
                                {
                                    "0": "fd742725-35ad-3904-f7b2-0001968d5ad6",
                                    "1": "2018-06-12 19:27:06.000",
                                    "2": "04ef021a-9baf-0e95-bd76-ae8f731de1e6",
                                    "3": "87,64",
                                    "4": "69,90",
                                    "5": "17,74",
                                    "6": "1"
                                },
                                {
                                    "0": "d43fdae2-93f4-77cf-aa36-000252f3973f",
                                    "1": "2018-05-06 09:10:21.000",
                                    "2": "ab9c360a-f9fd-56c4-a270-822341c2d965",
                                    "3": "87,64",
                                    "4": "69,90",
                                    "5": "17,74",
                                    "6": "1"
                                },
                                {
                                    "0": "ee09e937-cddd-9928-e172-000410e19c57",
                                    "1": "2018-03-18 14:08:42.000",
                                    "2": "a005730a-6f53-0f59-3206-3b70c1ea4b88",
                                    "3": "87,64",
                                    "4": "69,90",
                                    "5": "17,74",
                                    "6": "1"
                                },
                                {
                                    "0": "39887bba-2005-d25e-7b74-00055ab2febb",
                                    "1": "2017-02-25 14:30:12.000",
                                    "2": "f2147db3-33aa-5fea-63f5-fbdd5a812eed",
                                    "3": "87,64",
                                    "4": "69,90",
                                    "5": "17,74",
                                    "6": "1"
                                },
                                {
                                    "0": "cc38f8f9-071f-47f5-57c4-0005c7884168",
                                    "1": "2018-06-24 12:55:13.000",
                                    "2": "2d27dca5-b552-a611-7268-124ecc3c55aa",
                                    "3": "87,64",
                                    "4": "69,90",
                                    "5": "17,74",
                                    "6": "1"
                                },
                                {
                                    "0": "a910935f-581c-2ed3-0ed2-00064dafbaab",
                                    "1": "2017-07-14 14:10:16.000",
                                    "2": "5d86e4c7-d9e9-44eb-aab0-65f2588f45f9",
                                    "3": "87,64",
                                    "4": "69,90",
                                    "5": "17,74",
                                    "6": "1"
                                },
                                {
                                    "0": "7d68f1da-2ad6-d6fa-877e-000788daf541",
                                    "1": "2018-07-05 16:33:22.000",
                                    "2": "f22bff5b-bd31-8b89-e516-98347cd1837d",
                                    "3": "87,64",
                                    "4": "69,90",
                                    "5": "17,74",
                                    "6": "1"
                                },
                                {
                                    "0": "e1128622-c7f0-329d-26b1-0007c562e1a5",
                                    "1": "2017-07-26 17:35:08.000",
                                    "2": "783477d3-a96f-32bb-2d86-99d56b5a21ac",
                                    "3": "87,64",
                                    "4": "69,90",
                                    "5": "17,74",
                                    "6": "1"
                                },
                                {
                                    "0": "4d7ca359-1e5d-c730-ad4e-00085ebe11c6",
                                    "1": "2018-04-24 20:55:46.000",
                                    "2": "a926cfc9-bc7b-0823-35de-50450f48eec9",
                                    "3": "87,64",
                                    "4": "69,90",
                                    "5": "17,74",
                                    "6": "1"
                                },
                                {
                                    "0": "9369e6a8-348c-5db6-2ce5-0008dfc39244",
                                    "1": "2018-05-04 15:51:23.000",
                                    "2": "932c7913-05bf-bb60-f2ca-6f11202fb48d",
                                    "3": "87,64",
                                    "4": "69,90",
                                    "5": "17,74",
                                    "6": "1"
                                },
                                {
                                    "0": "85cc29ec-1353-7a45-485f-0008fd8c1e0e",
                                    "1": "2018-01-24 18:37:40.000",
                                    "2": "44f0ee6c-3bf4-6e4e-a20a-eccfef9b5e6d",
                                    "3": "87,64",
                                    "4": "69,90",
                                    "5": "17,74",
                                    "6": "1"
                                },
                                {
                                    "0": "b32f3411-4b93-5df3-6807-0009548b3806",
                                    "1": "2017-06-19 15:30:20.000",
                                    "2": "cbfefd07-455c-3e3c-4ec7-7ceecfc1af67",
                                    "3": "87,64",
                                    "4": "69,90",
                                    "5": "17,74",
                                    "6": "1"
                                },
                                {
                                    "0": "5fdf8774-02c5-fd87-596c-00099933005c",
                                    "1": "2017-02-19 20:05:17.000",
                                    "2": "9a08e6c1-8d6d-3b86-1abe-914483f0d038",
                                    "3": "87,64",
                                    "4": "69,90",
                                    "5": "17,74",
                                    "6": "1"
                                },
                                {
                                    "0": "4974bc48-5d07-cad8-b6e5-000a345bcd50",
                                    "1": "2018-05-30 15:35:34.000",
                                    "2": "4bb97ff4-0d9e-2fec-efaa-62fbce588e34",
                                    "3": "87,64",
                                    "4": "69,90",
                                    "5": "17,74",
                                    "6": "1"
                                },
                                {
                                    "0": "7b8ad112-94a3-f23e-9695-000ab5f07a42",
                                    "1": "2018-07-31 12:44:33.000",
                                    "2": "0f6ff304-911a-a378-e19f-10b2bb990e9c",
                                    "3": "87,64",
                                    "4": "69,90",
                                    "5": "17,74",
                                    "6": "1"
                                },
                                {
                                    "0": "d3762703-e454-9c64-6c1f-000b5094abea",
                                    "1": "2017-10-28 20:50:18.000",
                                    "2": "e7688fef-5438-be57-1d0c-39bbb3e8e998",
                                    "3": "87,64",
                                    "4": "69,90",
                                    "5": "17,74",
                                    "6": "1"
                                },
                                {
                                    "0": "1e96a452-43ab-d1f2-da33-000b50e61c50",
                                    "1": "2018-01-18 10:56:12.000",
                                    "2": "8dac807f-68a0-cf98-69dd-eca081f5f809",
                                    "3": "87,64",
                                    "4": "69,90",
                                    "5": "17,74",
                                    "6": "1"
                                },
                                {
                                    "0": "3529da55-5e92-38ea-a0ac-000c0ee4fb05",
                                    "1": "2017-11-10 12:56:20.000",
                                    "2": "65d7c090-4b51-f5b4-32e7-1a14b25121dc",
                                    "3": "87,64",
                                    "4": "69,90",
                                    "5": "17,74",
                                    "6": "1"
                                },
                                {
                                    "0": "a4d63c74-eb13-3a70-0461-000c2e8df158",
                                    "1": "2017-04-24 19:15:12.000",
                                    "2": "0488f8e7-6b2d-deff-4d52-caa56df477ff",
                                    "3": "87,64",
                                    "4": "69,90",
                                    "5": "17,74",
                                    "6": "1"
                                },
                                {
                                    "0": "430d109e-d8e8-6fd6-925c-000c40c2570c",
                                    "1": "2017-09-01 02:24:51.000",
                                    "2": "e68365f0-fec5-a377-bd6f-49cb444e453c",
                                    "3": "87,64",
                                    "4": "69,90",
                                    "5": "17,74",
                                    "6": "1"
                                },
                                {
                                    "0": "4010af25-5873-d6e2-6073-000d24a8f52f",
                                    "1": "2017-02-23 16:50:26.000",
                                    "2": "132acb0e-b75c-9616-0db9-e064d80e42d6",
                                    "3": "87,64",
                                    "4": "69,90",
                                    "5": "17,74",
                                    "6": "1"
                                },
                                {
                                    "0": "9f36a6b1-1ec9-5b4f-8586-000d49dae422",
                                    "1": "2018-05-10 21:51:06.000",
                                    "2": "9d95d5b5-9bb3-5827-1f09-99a86f02c074",
                                    "3": "87,64",
                                    "4": "69,90",
                                    "5": "17,74",
                                    "6": "1"
                                },
                                {
                                    "0": "53d2ed65-a0e7-a076-1bd6-000d5dada878",
                                    "1": "2018-06-06 14:35:36.000",
                                    "2": "f5d32f2e-e3d4-caec-1870-de481c276bd8",
                                    "3": "87,64",
                                    "4": "69,90",
                                    "5": "17,74",
                                    "6": "1"
                                },
                                {
                                    "0": "008ce876-4db2-e397-e153-000e017475b6",
                                    "1": "2018-05-18 20:57:50.000",
                                    "2": "00fb957a-e14f-fd35-a321-1d8aa6d9cf9c",
                                    "3": "87,64",
                                    "4": "69,90",
                                    "5": "17,74",
                                    "6": "1"
                                },
                                {
                                    "0": "f633fefe-2dab-012e-cd55-0010242ccf0e",
                                    "1": "2018-07-19 19:03:17.000",
                                    "2": "7e18c084-4585-b81a-a93c-9c00204a06a1",
                                    "3": "87,64",
                                    "4": "69,90",
                                    "5": "17,74",
                                    "6": "1"
                                },
                                {
                                    "0": "3972df2f-ee67-1372-3d3c-001075f1a039",
                                    "1": "2017-09-09 05:15:24.000",
                                    "2": "b08fab27-d47a-1eb6-deda-07bfd965ad43",
                                    "3": "87,64",
                                    "4": "69,90",
                                    "5": "17,74",
                                    "6": "1"
                                },
                                {
                                    "0": "897fab07-04ed-a65c-6952-0010b02a3fee",
                                    "1": "2018-05-07 17:56:11.000",
                                    "2": "570d69ff-587d-c3a7-9d90-851c0bbc80a2",
                                    "3": "87,64",
                                    "4": "69,90",
                                    "5": "17,74",
                                    "6": "1"
                                },
                                {
                                    "0": "00e1426d-4c79-f2e0-2257-0012c1ff57ed",
                                    "1": "2018-03-22 19:08:14.000",
                                    "2": "e82abf2c-e2e1-afa2-6bf4-7670df5a04b5",
                                    "3": "87,64",
                                    "4": "69,90",
                                    "5": "17,74",
                                    "6": "1"
                                },
                                {
                                    "0": "98035d90-57b5-e230-20bd-00138e680409",
                                    "1": "2017-07-12 16:03:48.000",
                                    "2": "dd0256cb-773d-84d3-c382-5e046644ec87",
                                    "3": "87,64",
                                    "4": "69,90",
                                    "5": "17,74",
                                    "6": "1"
                                },
                                {
                                    "0": "081bfb81-1c30-ac2b-a75d-0013a7fc1d65",
                                    "1": "2017-07-15 14:43:23.000",
                                    "2": "8f730d34-6137-44f0-2c59-9cc33314c2f2",
                                    "3": "87,64",
                                    "4": "69,90",
                                    "5": "17,74",
                                    "6": "1"
                                },
                                {
                                    "0": "52c22e29-2217-edc0-1357-0013d1580fcf",
                                    "1": "2017-07-17 12:10:13.000",
                                    "2": "e1aa958a-ab84-16ba-3e6c-1dfd72d43b06",
                                    "3": "87,64",
                                    "4": "69,90",
                                    "5": "17,74",
                                    "6": "1"
                                },
                                {
                                    "0": "e230d9e9-b5c4-59f2-3e57-0014c1a255ff",
                                    "1": "2018-05-12 15:22:11.000",
                                    "2": "b56b1a9a-4dda-863e-4a6e-ac9a578ce5cd",
                                    "3": "87,64",
                                    "4": "69,90",
                                    "5": "17,74",
                                    "6": "1"
                                },
                                {
                                    "0": "f2d872bf-ea08-d627-b791-0014e94c7e3c",
                                    "1": "2017-03-03 16:22:21.000",
                                    "2": "07df1390-93b7-20d6-512c-49da2980e3ee",
                                    "3": "87,64",
                                    "4": "69,90",
                                    "5": "17,74",
                                    "6": "1"
                                },
                                {
                                    "0": "660aaf58-1bff-5796-57fa-00152ba11a7a",
                                    "1": "2018-04-15 18:31:05.000",
                                    "2": "927e342e-5416-289e-f96f-6097d6494235",
                                    "3": "87,64",
                                    "4": "69,90",
                                    "5": "17,74",
                                    "6": "1"
                                },
                                {
                                    "0": "4091c3d8-c635-7f7a-8b14-001559887fb7",
                                    "1": "2018-04-26 17:09:49.000",
                                    "2": "52aa9eb8-439f-57b8-9c33-d4fd29f85a56",
                                    "3": "87,64",
                                    "4": "69,90",
                                    "5": "17,74",
                                    "6": "1"
                                },
                                {
                                    "0": "be232325-c4a2-5099-b3bd-0015b73141cf",
                                    "1": "2017-06-06 18:55:14.000",
                                    "2": "b3460564-2384-ea6e-2724-601a2495a6e4",
                                    "3": "87,64",
                                    "4": "69,90",
                                    "5": "17,74",
                                    "6": "1"
                                },
                                {
                                    "0": "47cb859a-7f52-6319-e3da-0015c15c3b1f",
                                    "1": "2017-02-08 11:50:16.000",
                                    "2": "2e4abe9d-674b-4655-fc04-dc7daf05128a",
                                    "3": "87,64",
                                    "4": "69,90",
                                    "5": "17,74",
                                    "6": "1"
                                },
                                {
                                    "0": "0ad87ef8-9708-a3c8-f63a-0016074b24f4",
                                    "1": "2017-02-25 02:25:13.000",
                                    "2": "adf5412a-5dc7-ad4b-3b76-e30ca08ce400",
                                    "3": "87,64",
                                    "4": "69,90",
                                    "5": "17,74",
                                    "6": "1"
                                },
                                {
                                    "0": "a2ac268c-7f6b-b425-6209-0016bb6ffde1",
                                    "1": "2018-07-31 14:31:53.000",
                                    "2": "a2270b24-fe16-897f-bb01-7084c049cac4",
                                    "3": "87,64",
                                    "4": "69,90",
                                    "5": "17,74",
                                    "6": "1"
                                },
                                {
                                    "0": "ef82a720-5d24-d2a9-fb1e-00177ebf9132",
                                    "1": "2018-04-29 20:55:22.000",
                                    "2": "0e913f55-6483-a6b7-daf2-836a91ddd979",
                                    "3": "87,64",
                                    "4": "69,90",
                                    "5": "17,74",
                                    "6": "1"
                                },
                                {
                                    "0": "c88935c0-144e-f183-6842-0018e18f177a",
                                    "1": "2018-08-11 22:25:13.000",
                                    "2": "dcd5b458-3ea4-0a6e-a31c-583e964e7046",
                                    "3": "87,64",
                                    "4": "69,90",
                                    "5": "17,74",
                                    "6": "1"
                                },
                                {
                                    "0": "a64faadf-772c-dd71-47ed-00192cbf4ff2",
                                    "1": "2018-07-05 16:32:09.000",
                                    "2": "ba25a2f9-e943-b718-37db-565f2a3de188",
                                    "3": "87,64",
                                    "4": "69,90",
                                    "5": "17,74",
                                    "6": "1"
                                },
                                {
                                    "0": "fc7751d4-5cde-7470-9da5-0019543e755e",
                                    "1": "2017-04-28 20:25:12.000",
                                    "2": "0d936d4f-c643-0570-83df-630a57c0ff03",
                                    "3": "87,64",
                                    "4": "69,90",
                                    "5": "17,74",
                                    "6": "1"
                                },
                                {
                                    "0": "a4569e83-b396-f45f-5bad-001bce729da0",
                                    "1": "2017-10-24 16:42:49.000",
                                    "2": "5b59bcd0-e2d0-8bdf-0da7-566cc0636d57",
                                    "3": "87,64",
                                    "4": "69,90",
                                    "5": "17,74",
                                    "6": "1"
                                },
                                {
                                    "0": "b083ead7-4176-fd63-5def-001db256bf32",
                                    "1": "2017-11-14 03:50:36.000",
                                    "2": "2121a656-bfec-7def-d2e3-e1ff3f91355f",
                                    "3": "87,64",
                                    "4": "69,90",
                                    "5": "17,74",
                                    "6": "1"
                                },
                                {
                                    "0": "ee8efb00-01f7-69a8-8ab6-001e17de9e59",
                                    "1": "2018-03-23 02:15:57.000",
                                    "2": "cab750b4-24d8-1593-a983-35df56fb5560",
                                    "3": "87,64",
                                    "4": "69,90",
                                    "5": "17,74",
                                    "6": "1"
                                },
                                {
                                    "0": "ca4670b0-ef79-d382-1a94-001e51a0becd",
                                    "1": "2018-03-28 20:07:32.000",
                                    "2": "be9edc2e-40c0-3575-199b-64fa20e398e9",
                                    "3": "87,64",
                                    "4": "69,90",
                                    "5": "17,74",
                                    "6": "1"
                                },
                                {
                                    "0": "dcd83873-dcbe-aeea-50f6-001f418a1fc2",
                                    "1": "2017-11-12 16:15:35.000",
                                    "2": "69be6fb5-1415-0278-c7f1-cba56c328fb1",
                                    "3": "87,64",
                                    "4": "69,90",
                                    "5": "17,74",
                                    "6": "1"
                                },
                                {
                                    "0": "42a8e0f9-2866-4b27-f631-001fbddf0f26",
                                    "1": "2017-07-26 02:23:30.000",
                                    "2": "607344d7-dfc5-91c9-831b-f9e8d5a4391f",
                                    "3": "87,64",
                                    "4": "69,90",
                                    "5": "17,74",
                                    "6": "1"
                                },
                                {
                                    "0": "c2f98ca0-df77-3c12-e9a3-001fd986d24c",
                                    "1": "2018-08-14 13:44:20.000",
                                    "2": "93ae63a9-d45d-5def-4a2f-ecc134ce7876",
                                    "3": "87,64",
                                    "4": "69,90",
                                    "5": "17,74",
                                    "6": "1"
                                },
                                {
                                    "0": "253de8d0-0f83-3d7d-4d6d-002025a8d5fa",
                                    "1": "2018-04-17 09:31:25.000",
                                    "2": "c613a4fa-a025-2838-6e21-ca5f8ceaaf4f",
                                    "3": "87,64",
                                    "4": "69,90",
                                    "5": "17,74",
                                    "6": "1"
                                },
                                {
                                    "0": "2ecd94a0-ab2a-5092-7b7c-0020efb4b063",
                                    "1": "2018-02-11 13:55:22.000",
                                    "2": "94650d7d-a383-e068-577b-1660616d3372",
                                    "3": "87,64",
                                    "4": "69,90",
                                    "5": "17,74",
                                    "6": "1"
                                },
                                {
                                    "0": "56c9b97f-3103-1c70-ffb0-00219dc6f403",
                                    "1": "2017-11-07 03:31:04.000",
                                    "2": "7f0d5c5f-3133-9b90-635c-9bf99651dfa0",
                                    "3": "87,64",
                                    "4": "69,90",
                                    "5": "17,74",
                                    "6": "1"
                                },
                                {
                                    "0": "2a3251c9-5a3d-5c57-ed23-0021faa588a0",
                                    "1": "2018-03-25 10:47:51.000",
                                    "2": "114c08b8-59e2-7558-9938-f3af9b2c6773",
                                    "3": "87,64",
                                    "4": "69,90",
                                    "5": "17,74",
                                    "6": "1"
                                },
                                {
                                    "0": "910b8f72-8465-018e-9dfd-00228151f9ea",
                                    "1": "2017-12-19 03:30:14.000",
                                    "2": "eb850184-a02c-bdea-daae-b17f38c70bf7",
                                    "3": "87,64",
                                    "4": "69,90",
                                    "5": "17,74",
                                    "6": "1"
                                },
                                {
                                    "0": "ce6f24cc-b16a-f897-b765-0022beead374",
                                    "1": "2017-05-25 09:02:15.000",
                                    "2": "d1304197-e770-83b8-db36-4bd1a8a14766",
                                    "3": "87,64",
                                    "4": "69,90",
                                    "5": "17,74",
                                    "6": "1"
                                },
                                {
                                    "0": "74ebbb8c-3eef-6b29-921c-0022d89812f1",
                                    "1": "2017-04-26 21:35:10.000",
                                    "2": "74f7a6dc-5790-b5f9-8517-0bb3344e7101",
                                    "3": "87,64",
                                    "4": "69,90",
                                    "5": "17,74",
                                    "6": "1"
                                },
                                {
                                    "0": "f393b5ab-60df-cc6d-8c80-00240a1a230f",
                                    "1": "2017-12-16 01:56:18.000",
                                    "2": "77d4f556-ebda-0b4b-6afb-35ee72a5c902",
                                    "3": "87,64",
                                    "4": "69,90",
                                    "5": "17,74",
                                    "6": "1"
                                },
                                {
                                    "0": "2b8b7636-f69e-8dca-8785-0024171a19fa",
                                    "1": "2018-02-22 22:08:21.000",
                                    "2": "b126cd99-4c56-1b76-71ff-bee58a05db89",
                                    "3": "87,64",
                                    "4": "69,90",
                                    "5": "17,74",
                                    "6": "1"
                                },
                                {
                                    "0": "1f133ab6-b290-9667-0c6f-0024ffa95d3f",
                                    "1": "2018-06-16 15:19:09.000",
                                    "2": "49a2ba18-7dd2-a87e-c879-6a1763a218dd",
                                    "3": "87,64",
                                    "4": "69,90",
                                    "5": "17,74",
                                    "6": "1"
                                },
                                {
                                    "0": "5a40a4c4-13dc-da14-7caa-00259a1732de",
                                    "1": "2018-04-01 15:27:39.000",
                                    "2": "ac043877-b374-d2a7-2a12-14063b34b215",
                                    "3": "87,64",
                                    "4": "69,90",
                                    "5": "17,74",
                                    "6": "1"
                                },
                                {
                                    "0": "0db395d6-67c4-7936-5538-0026bad4a072",
                                    "1": "2018-01-29 15:18:33.000",
                                    "2": "28cfa447-1fab-1569-5744-e57ce3036694",
                                    "3": "87,64",
                                    "4": "69,90",
                                    "5": "17,74",
                                    "6": "1"
                                },
                                {
                                    "0": "78e0775b-7967-227a-9d6f-00277bed69e2",
                                    "1": "2018-04-06 03:08:29.000",
                                    "2": "3aabe94a-40f7-ea96-cbe2-9d76aff751de",
                                    "3": "87,64",
                                    "4": "69,90",
                                    "5": "17,74",
                                    "6": "1"
                                },
                                {
                                    "0": "b42b605e-d9b5-90d3-c826-00285db879e9",
                                    "1": "2018-02-05 07:28:50.000",
                                    "2": "2401c4ce-a7bb-ff53-85e3-a97035b00967",
                                    "3": "87,64",
                                    "4": "69,90",
                                    "5": "17,74",
                                    "6": "1"
                                },
                                {
                                    "0": "c9befd31-f563-27da-8202-00286183ceac",
                                    "1": "2017-11-26 17:32:41.000",
                                    "2": "8908bba0-1d8a-6480-99e6-7a38eea818f9",
                                    "3": "87,64",
                                    "4": "69,90",
                                    "5": "17,74",
                                    "6": "1"
                                },
                                {
                                    "0": "cd2f659f-a071-787c-2e90-002891bbea4b",
                                    "1": "2017-05-29 17:10:06.000",
                                    "2": "aebfaa38-bc67-7c5d-0f0d-937fff7ecfa0",
                                    "3": "87,64",
                                    "4": "69,90",
                                    "5": "17,74",
                                    "6": "1"
                                },
                                {
                                    "0": "a50baa42-9943-6459-4f0a-002918035aeb",
                                    "1": "2017-05-10 02:45:11.000",
                                    "2": "1e8b70cc-e882-bada-ff15-8c24c2b9eb24",
                                    "3": "87,64",
                                    "4": "69,90",
                                    "5": "17,74",
                                    "6": "1"
                                },
                                {
                                    "0": "b44f8d35-69ff-d7ae-6a83-002aaf061b98",
                                    "1": "2017-10-18 21:56:21.000",
                                    "2": "a990bc7a-8233-aecd-2b55-6bff362bb44f",
                                    "3": "87,64",
                                    "4": "69,90",
                                    "5": "17,74",
                                    "6": "1"
                                },
                                {
                                    "0": "c570fdfe-7c52-f1a1-5c7f-002b4dc46f6f",
                                    "1": "2018-08-20 19:35:09.000",
                                    "2": "5fb8f5b7-84dc-8f85-eaae-f76b91faf431",
                                    "3": "87,64",
                                    "4": "69,90",
                                    "5": "17,74",
                                    "6": "1"
                                },
                                {
                                    "0": "97ca549a-a4a8-d582-d149-002b880984f2",
                                    "1": "2017-09-26 09:24:25.000",
                                    "2": "c08baa0f-88dc-d77e-1e66-a267b58456dd",
                                    "3": "87,64",
                                    "4": "69,90",
                                    "5": "17,74",
                                    "6": "1"
                                },
                                {
                                    "0": "1a0a41ac-fcd4-a351-ae9f-002b942dce2c",
                                    "1": "2017-08-04 21:15:15.000",
                                    "2": "b941b9bd-5b0d-f6d5-bc88-72504b96b0e1",
                                    "3": "87,64",
                                    "4": "69,90",
                                    "5": "17,74",
                                    "6": "1"
                                },
                                {
                                    "0": "7319bf0d-ed2e-f22e-7388-002ce157a95a",
                                    "1": "2017-12-01 11:31:11.000",
                                    "2": "366099d1-fc91-479a-59fa-878693b55efc",
                                    "3": "87,64",
                                    "4": "69,90",
                                    "5": "17,74",
                                    "6": "1"
                                },
                                {
                                    "0": "a3a81e0b-3771-2587-44b5-002e1ab03ee6",
                                    "1": "2017-04-13 01:03:11.000",
                                    "2": "7f2da8c2-fd9a-07e4-742b-1e281dfb8afd",
                                    "3": "87,64",
                                    "4": "69,90",
                                    "5": "17,74",
                                    "6": "1"
                                },
                                {
                                    "0": "44de6d7b-8fcd-0cd8-db38-002f58d6c20d",
                                    "1": "2018-08-11 02:45:20.000",
                                    "2": "7db49ae8-2999-63bb-5031-da6c0c5de8ff",
                                    "3": "87,64",
                                    "4": "69,90",
                                    "5": "17,74",
                                    "6": "1"
                                },
                                {
                                    "0": "81e50431-98a4-4dde-b226-002ff55d8ad4",
                                    "1": "2017-01-09 00:45:09.000",
                                    "2": "853ba75a-0b42-3722-ccf2-70eea3b4cfe4",
                                    "3": "87,64",
                                    "4": "69,90",
                                    "5": "17,74",
                                    "6": "1"
                                },
                                {
                                    "0": "3edb5027-3f0f-ec7a-7e34-0030467076bc",
                                    "1": "2018-01-17 14:51:26.000",
                                    "2": "4c4584a8-2633-ac90-e58f-e2d141d7433e",
                                    "3": "87,64",
                                    "4": "69,90",
                                    "5": "17,74",
                                    "6": "1"
                                },
                                {
                                    "0": "2fc1313d-9148-9f3f-305f-00305b493ec5",
                                    "1": "2017-07-17 19:50:24.000",
                                    "2": "fd75c62e-a2fc-c2b2-3062-191d7c4fea23",
                                    "3": "87,64",
                                    "4": "69,90",
                                    "5": "17,74",
                                    "6": "1"
                                },
                                {
                                    "0": "08d0b596-c492-f5a5-041d-003063f18320",
                                    "1": "2017-09-10 22:45:14.000",
                                    "2": "b76200bb-cb6c-2d27-fe74-e809f361c52f",
                                    "3": "87,64",
                                    "4": "69,90",
                                    "5": "17,74",
                                    "6": "1"
                                },
                                {
                                    "0": "ac5222f8-3628-6b33-e724-0030ad79d7c9",
                                    "1": "2017-11-07 05:31:26.000",
                                    "2": "eb8707b8-661d-ab96-edd5-62cd748e3d25",
                                    "3": "87,64",
                                    "4": "69,90",
                                    "5": "17,74",
                                    "6": "1"
                                },
                                {
                                    "0": "3ab5ea69-81f6-7535-95fe-00318d111e5e",
                                    "1": "2017-05-23 21:43:03.000",
                                    "2": "d3efdecc-47d1-3cd2-948a-cb4f061eca57",
                                    "3": "87,64",
                                    "4": "69,90",
                                    "5": "17,74",
                                    "6": "1"
                                },
                                {
                                    "0": "dd4cb06a-82da-aa4a-3853-003208a89799",
                                    "1": "2017-09-09 06:35:28.000",
                                    "2": "2410195f-6521-6880-0561-2363835a2671",
                                    "3": "87,64",
                                    "4": "69,90",
                                    "5": "17,74",
                                    "6": "1"
                                },
                                {
                                    "0": "7173f9c6-26f3-e26e-9c4c-0033ebffe7d4",
                                    "1": "2018-07-14 21:03:59.000",
                                    "2": "f784737f-7606-86b4-020b-b4e8a2e7f178",
                                    "3": "87,64",
                                    "4": "69,90",
                                    "5": "17,74",
                                    "6": "1"
                                },
                                {
                                    "0": "896128ba-7022-5c31-8591-00341b20b186",
                                    "1": "2018-04-25 13:31:48.000",
                                    "2": "4988e02b-f544-8148-7f8a-f30a0c5ef7e3",
                                    "3": "87,64",
                                    "4": "69,90",
                                    "5": "17,74",
                                    "6": "1"
                                },
                                {
                                    "0": "d974607c-57ca-9157-67ed-00355b0a7bcb",
                                    "1": "2018-08-01 03:31:38.000",
                                    "2": "3e39b17a-a16a-496e-5562-65ba39aa2124",
                                    "3": "87,64",
                                    "4": "69,90",
                                    "5": "17,74",
                                    "6": "1"
                                },
                                {
                                    "0": "928d6bcb-2434-4911-f6d0-003585b91dab",
                                    "1": "2017-09-14 10:45:13.000",
                                    "2": "6bba23de-837c-f1e5-9f41-3f40a6541ff8",
                                    "3": "87,64",
                                    "4": "69,90",
                                    "5": "17,74",
                                    "6": "1"
                                },
                                {
                                    "0": "f66700bc-0daa-1c69-ee30-003597354134",
                                    "1": "2018-07-13 17:05:20.000",
                                    "2": "9947f153-5989-4bf8-da11-bc5d10c2c099",
                                    "3": "87,64",
                                    "4": "69,90",
                                    "5": "17,74",
                                    "6": "1"
                                },
                                {
                                    "0": "e412969c-1f26-4486-0cf8-0035bffa2b5e",
                                    "1": "2017-10-21 20:25:48.000",
                                    "2": "6f1eb4c3-7c00-902b-79f4-4527dfff1bb5",
                                    "3": "87,64",
                                    "4": "69,90",
                                    "5": "17,74",
                                    "6": "1"
                                },
                                {
                                    "0": "47b3fc54-2306-133e-109f-00371870c632",
                                    "1": "2017-07-14 02:25:32.000",
                                    "2": "eafab4c2-2c2d-62f6-d0f3-f82fd662131e",
                                    "3": "87,64",
                                    "4": "69,90",
                                    "5": "17,74",
                                    "6": "1"
                                },
                                {
                                    "0": "f4a4545d-a860-9ac9-3d74-003733142739",
                                    "1": "2018-01-23 22:53:22.000",
                                    "2": "633eee3b-9fb4-9d86-43ae-b2f11decd162",
                                    "3": "87,64",
                                    "4": "69,90",
                                    "5": "17,74",
                                    "6": "1"
                                },
                                {
                                    "0": "d2116792-f51c-05e6-3040-003857b5fb91",
                                    "1": "2017-06-26 16:15:17.000",
                                    "2": "d0e577fb-4794-cd81-f062-326261a4f75e",
                                    "3": "87,64",
                                    "4": "69,90",
                                    "5": "17,74",
                                    "6": "1"
                                },
                                {
                                    "0": "27cccab5-9c02-b5c7-42ec-003898dfabec",
                                    "1": "2018-07-28 23:31:04.000",
                                    "2": "08a678af-92ae-64c5-4771-6222a06447cf",
                                    "3": "87,64",
                                    "4": "69,90",
                                    "5": "17,74",
                                    "6": "1"
                                },
                                {
                                    "0": "f9d426c3-a20c-fd90-3644-0039c5430b7b",
                                    "1": "2018-03-29 13:07:34.000",
                                    "2": "2aa9afab-dfb7-6a0d-54d7-113451f6ba90",
                                    "3": "87,64",
                                    "4": "69,90",
                                    "5": "17,74",
                                    "6": "1"
                                },
                                {
                                    "0": "a1f33ae0-24b8-d5f3-2468-0039c8c26aca",
                                    "1": "2018-08-21 04:15:19.000",
                                    "2": "f5422e8b-0c2a-29cb-c1bd-48e0c0b9c523",
                                    "3": "87,64",
                                    "4": "69,90",
                                    "5": "17,74",
                                    "6": "1"
                                },
                                {
                                    "0": "f6951204-d4c5-a8b9-721e-0039ed0c894a",
                                    "1": "2017-11-25 22:33:50.000",
                                    "2": "d0e2c063-df03-f7b3-befd-1d87a12f80c4",
                                    "3": "87,64",
                                    "4": "69,90",
                                    "5": "17,74",
                                    "6": "1"
                                },
                                {
                                    "0": "8a739535-85d1-e530-96b1-003a5e2dfa4b",
                                    "1": "2018-03-05 15:49:42.000",
                                    "2": "2fb26b64-7f18-a969-975d-c6a002874457",
                                    "3": "87,64",
                                    "4": "69,90",
                                    "5": "17,74",
                                    "6": "1"
                                },
                                {
                                    "0": "855302e0-09db-afa8-6035-003b00a49cd2",
                                    "1": "2018-06-05 20:15:15.000",
                                    "2": "b94a3a62-951e-a503-58ba-1f0a6ed8f280",
                                    "3": "87,64",
                                    "4": "69,90",
                                    "5": "17,74",
                                    "6": "1"
                                },
                                {
                                    "0": "82984749-eb98-3f9f-558a-003b3fc693f7",
                                    "1": "2017-08-30 02:11:01.000",
                                    "2": "bcf2d3bd-55f6-749f-7ff6-8b3b8417462a",
                                    "3": "87,64",
                                    "4": "69,90",
                                    "5": "17,74",
                                    "6": "1"
                                },
                                {
                                    "0": "d70a8dce-003d-1e26-d1d5-003bb5839892",
                                    "1": "2018-07-16 17:00:36.000",
                                    "2": "0ab5cbb0-ac64-8b42-aaa0-2d47741e1d7b",
                                    "3": "87,64",
                                    "4": "69,90",
                                    "5": "17,74",
                                    "6": "1"
                                },
                                {
                                    "0": "f6e2898a-f2db-e458-2426-003c31aedaf1",
                                    "1": "2018-07-18 23:25:17.000",
                                    "2": "d9bd6d19-7334-8661-bd1f-dfa9ad00f0bb",
                                    "3": "87,64",
                                    "4": "69,90",
                                    "5": "17,74",
                                    "6": "1"
                                },
                                {
                                    "0": "6baca7e2-24a5-4a03-23eb-003e011c9b8a",
                                    "1": "2018-06-21 12:40:49.000",
                                    "2": "fe81bb32-c243-a86b-2f86-fbf053fe6140",
                                    "3": "87,64",
                                    "4": "69,90",
                                    "5": "17,74",
                                    "6": "1"
                                }
                            ]
                        },
                        "text/html": "<table><tr><th>OrderId</th><th>OrderApprovedAt</th><th>CustomerId</th><th>PaymentValue</th><th>ItemsValue</th><th>FreightValue</th><th>NumberOfItems</th></tr><tr><td>fd742725-35ad-3904-f7b2-0001968d5ad6</td><td>2018-06-12 19:27:06.000</td><td>04ef021a-9baf-0e95-bd76-ae8f731de1e6</td><td>87,64</td><td>69,90</td><td>17,74</td><td>1</td></tr><tr><td>d43fdae2-93f4-77cf-aa36-000252f3973f</td><td>2018-05-06 09:10:21.000</td><td>ab9c360a-f9fd-56c4-a270-822341c2d965</td><td>87,64</td><td>69,90</td><td>17,74</td><td>1</td></tr><tr><td>ee09e937-cddd-9928-e172-000410e19c57</td><td>2018-03-18 14:08:42.000</td><td>a005730a-6f53-0f59-3206-3b70c1ea4b88</td><td>87,64</td><td>69,90</td><td>17,74</td><td>1</td></tr><tr><td>39887bba-2005-d25e-7b74-00055ab2febb</td><td>2017-02-25 14:30:12.000</td><td>f2147db3-33aa-5fea-63f5-fbdd5a812eed</td><td>87,64</td><td>69,90</td><td>17,74</td><td>1</td></tr><tr><td>cc38f8f9-071f-47f5-57c4-0005c7884168</td><td>2018-06-24 12:55:13.000</td><td>2d27dca5-b552-a611-7268-124ecc3c55aa</td><td>87,64</td><td>69,90</td><td>17,74</td><td>1</td></tr><tr><td>a910935f-581c-2ed3-0ed2-00064dafbaab</td><td>2017-07-14 14:10:16.000</td><td>5d86e4c7-d9e9-44eb-aab0-65f2588f45f9</td><td>87,64</td><td>69,90</td><td>17,74</td><td>1</td></tr><tr><td>7d68f1da-2ad6-d6fa-877e-000788daf541</td><td>2018-07-05 16:33:22.000</td><td>f22bff5b-bd31-8b89-e516-98347cd1837d</td><td>87,64</td><td>69,90</td><td>17,74</td><td>1</td></tr><tr><td>e1128622-c7f0-329d-26b1-0007c562e1a5</td><td>2017-07-26 17:35:08.000</td><td>783477d3-a96f-32bb-2d86-99d56b5a21ac</td><td>87,64</td><td>69,90</td><td>17,74</td><td>1</td></tr><tr><td>4d7ca359-1e5d-c730-ad4e-00085ebe11c6</td><td>2018-04-24 20:55:46.000</td><td>a926cfc9-bc7b-0823-35de-50450f48eec9</td><td>87,64</td><td>69,90</td><td>17,74</td><td>1</td></tr><tr><td>9369e6a8-348c-5db6-2ce5-0008dfc39244</td><td>2018-05-04 15:51:23.000</td><td>932c7913-05bf-bb60-f2ca-6f11202fb48d</td><td>87,64</td><td>69,90</td><td>17,74</td><td>1</td></tr><tr><td>85cc29ec-1353-7a45-485f-0008fd8c1e0e</td><td>2018-01-24 18:37:40.000</td><td>44f0ee6c-3bf4-6e4e-a20a-eccfef9b5e6d</td><td>87,64</td><td>69,90</td><td>17,74</td><td>1</td></tr><tr><td>b32f3411-4b93-5df3-6807-0009548b3806</td><td>2017-06-19 15:30:20.000</td><td>cbfefd07-455c-3e3c-4ec7-7ceecfc1af67</td><td>87,64</td><td>69,90</td><td>17,74</td><td>1</td></tr><tr><td>5fdf8774-02c5-fd87-596c-00099933005c</td><td>2017-02-19 20:05:17.000</td><td>9a08e6c1-8d6d-3b86-1abe-914483f0d038</td><td>87,64</td><td>69,90</td><td>17,74</td><td>1</td></tr><tr><td>4974bc48-5d07-cad8-b6e5-000a345bcd50</td><td>2018-05-30 15:35:34.000</td><td>4bb97ff4-0d9e-2fec-efaa-62fbce588e34</td><td>87,64</td><td>69,90</td><td>17,74</td><td>1</td></tr><tr><td>7b8ad112-94a3-f23e-9695-000ab5f07a42</td><td>2018-07-31 12:44:33.000</td><td>0f6ff304-911a-a378-e19f-10b2bb990e9c</td><td>87,64</td><td>69,90</td><td>17,74</td><td>1</td></tr><tr><td>d3762703-e454-9c64-6c1f-000b5094abea</td><td>2017-10-28 20:50:18.000</td><td>e7688fef-5438-be57-1d0c-39bbb3e8e998</td><td>87,64</td><td>69,90</td><td>17,74</td><td>1</td></tr><tr><td>1e96a452-43ab-d1f2-da33-000b50e61c50</td><td>2018-01-18 10:56:12.000</td><td>8dac807f-68a0-cf98-69dd-eca081f5f809</td><td>87,64</td><td>69,90</td><td>17,74</td><td>1</td></tr><tr><td>3529da55-5e92-38ea-a0ac-000c0ee4fb05</td><td>2017-11-10 12:56:20.000</td><td>65d7c090-4b51-f5b4-32e7-1a14b25121dc</td><td>87,64</td><td>69,90</td><td>17,74</td><td>1</td></tr><tr><td>a4d63c74-eb13-3a70-0461-000c2e8df158</td><td>2017-04-24 19:15:12.000</td><td>0488f8e7-6b2d-deff-4d52-caa56df477ff</td><td>87,64</td><td>69,90</td><td>17,74</td><td>1</td></tr><tr><td>430d109e-d8e8-6fd6-925c-000c40c2570c</td><td>2017-09-01 02:24:51.000</td><td>e68365f0-fec5-a377-bd6f-49cb444e453c</td><td>87,64</td><td>69,90</td><td>17,74</td><td>1</td></tr><tr><td>4010af25-5873-d6e2-6073-000d24a8f52f</td><td>2017-02-23 16:50:26.000</td><td>132acb0e-b75c-9616-0db9-e064d80e42d6</td><td>87,64</td><td>69,90</td><td>17,74</td><td>1</td></tr><tr><td>9f36a6b1-1ec9-5b4f-8586-000d49dae422</td><td>2018-05-10 21:51:06.000</td><td>9d95d5b5-9bb3-5827-1f09-99a86f02c074</td><td>87,64</td><td>69,90</td><td>17,74</td><td>1</td></tr><tr><td>53d2ed65-a0e7-a076-1bd6-000d5dada878</td><td>2018-06-06 14:35:36.000</td><td>f5d32f2e-e3d4-caec-1870-de481c276bd8</td><td>87,64</td><td>69,90</td><td>17,74</td><td>1</td></tr><tr><td>008ce876-4db2-e397-e153-000e017475b6</td><td>2018-05-18 20:57:50.000</td><td>00fb957a-e14f-fd35-a321-1d8aa6d9cf9c</td><td>87,64</td><td>69,90</td><td>17,74</td><td>1</td></tr><tr><td>f633fefe-2dab-012e-cd55-0010242ccf0e</td><td>2018-07-19 19:03:17.000</td><td>7e18c084-4585-b81a-a93c-9c00204a06a1</td><td>87,64</td><td>69,90</td><td>17,74</td><td>1</td></tr><tr><td>3972df2f-ee67-1372-3d3c-001075f1a039</td><td>2017-09-09 05:15:24.000</td><td>b08fab27-d47a-1eb6-deda-07bfd965ad43</td><td>87,64</td><td>69,90</td><td>17,74</td><td>1</td></tr><tr><td>897fab07-04ed-a65c-6952-0010b02a3fee</td><td>2018-05-07 17:56:11.000</td><td>570d69ff-587d-c3a7-9d90-851c0bbc80a2</td><td>87,64</td><td>69,90</td><td>17,74</td><td>1</td></tr><tr><td>00e1426d-4c79-f2e0-2257-0012c1ff57ed</td><td>2018-03-22 19:08:14.000</td><td>e82abf2c-e2e1-afa2-6bf4-7670df5a04b5</td><td>87,64</td><td>69,90</td><td>17,74</td><td>1</td></tr><tr><td>98035d90-57b5-e230-20bd-00138e680409</td><td>2017-07-12 16:03:48.000</td><td>dd0256cb-773d-84d3-c382-5e046644ec87</td><td>87,64</td><td>69,90</td><td>17,74</td><td>1</td></tr><tr><td>081bfb81-1c30-ac2b-a75d-0013a7fc1d65</td><td>2017-07-15 14:43:23.000</td><td>8f730d34-6137-44f0-2c59-9cc33314c2f2</td><td>87,64</td><td>69,90</td><td>17,74</td><td>1</td></tr><tr><td>52c22e29-2217-edc0-1357-0013d1580fcf</td><td>2017-07-17 12:10:13.000</td><td>e1aa958a-ab84-16ba-3e6c-1dfd72d43b06</td><td>87,64</td><td>69,90</td><td>17,74</td><td>1</td></tr><tr><td>e230d9e9-b5c4-59f2-3e57-0014c1a255ff</td><td>2018-05-12 15:22:11.000</td><td>b56b1a9a-4dda-863e-4a6e-ac9a578ce5cd</td><td>87,64</td><td>69,90</td><td>17,74</td><td>1</td></tr><tr><td>f2d872bf-ea08-d627-b791-0014e94c7e3c</td><td>2017-03-03 16:22:21.000</td><td>07df1390-93b7-20d6-512c-49da2980e3ee</td><td>87,64</td><td>69,90</td><td>17,74</td><td>1</td></tr><tr><td>660aaf58-1bff-5796-57fa-00152ba11a7a</td><td>2018-04-15 18:31:05.000</td><td>927e342e-5416-289e-f96f-6097d6494235</td><td>87,64</td><td>69,90</td><td>17,74</td><td>1</td></tr><tr><td>4091c3d8-c635-7f7a-8b14-001559887fb7</td><td>2018-04-26 17:09:49.000</td><td>52aa9eb8-439f-57b8-9c33-d4fd29f85a56</td><td>87,64</td><td>69,90</td><td>17,74</td><td>1</td></tr><tr><td>be232325-c4a2-5099-b3bd-0015b73141cf</td><td>2017-06-06 18:55:14.000</td><td>b3460564-2384-ea6e-2724-601a2495a6e4</td><td>87,64</td><td>69,90</td><td>17,74</td><td>1</td></tr><tr><td>47cb859a-7f52-6319-e3da-0015c15c3b1f</td><td>2017-02-08 11:50:16.000</td><td>2e4abe9d-674b-4655-fc04-dc7daf05128a</td><td>87,64</td><td>69,90</td><td>17,74</td><td>1</td></tr><tr><td>0ad87ef8-9708-a3c8-f63a-0016074b24f4</td><td>2017-02-25 02:25:13.000</td><td>adf5412a-5dc7-ad4b-3b76-e30ca08ce400</td><td>87,64</td><td>69,90</td><td>17,74</td><td>1</td></tr><tr><td>a2ac268c-7f6b-b425-6209-0016bb6ffde1</td><td>2018-07-31 14:31:53.000</td><td>a2270b24-fe16-897f-bb01-7084c049cac4</td><td>87,64</td><td>69,90</td><td>17,74</td><td>1</td></tr><tr><td>ef82a720-5d24-d2a9-fb1e-00177ebf9132</td><td>2018-04-29 20:55:22.000</td><td>0e913f55-6483-a6b7-daf2-836a91ddd979</td><td>87,64</td><td>69,90</td><td>17,74</td><td>1</td></tr><tr><td>c88935c0-144e-f183-6842-0018e18f177a</td><td>2018-08-11 22:25:13.000</td><td>dcd5b458-3ea4-0a6e-a31c-583e964e7046</td><td>87,64</td><td>69,90</td><td>17,74</td><td>1</td></tr><tr><td>a64faadf-772c-dd71-47ed-00192cbf4ff2</td><td>2018-07-05 16:32:09.000</td><td>ba25a2f9-e943-b718-37db-565f2a3de188</td><td>87,64</td><td>69,90</td><td>17,74</td><td>1</td></tr><tr><td>fc7751d4-5cde-7470-9da5-0019543e755e</td><td>2017-04-28 20:25:12.000</td><td>0d936d4f-c643-0570-83df-630a57c0ff03</td><td>87,64</td><td>69,90</td><td>17,74</td><td>1</td></tr><tr><td>a4569e83-b396-f45f-5bad-001bce729da0</td><td>2017-10-24 16:42:49.000</td><td>5b59bcd0-e2d0-8bdf-0da7-566cc0636d57</td><td>87,64</td><td>69,90</td><td>17,74</td><td>1</td></tr><tr><td>b083ead7-4176-fd63-5def-001db256bf32</td><td>2017-11-14 03:50:36.000</td><td>2121a656-bfec-7def-d2e3-e1ff3f91355f</td><td>87,64</td><td>69,90</td><td>17,74</td><td>1</td></tr><tr><td>ee8efb00-01f7-69a8-8ab6-001e17de9e59</td><td>2018-03-23 02:15:57.000</td><td>cab750b4-24d8-1593-a983-35df56fb5560</td><td>87,64</td><td>69,90</td><td>17,74</td><td>1</td></tr><tr><td>ca4670b0-ef79-d382-1a94-001e51a0becd</td><td>2018-03-28 20:07:32.000</td><td>be9edc2e-40c0-3575-199b-64fa20e398e9</td><td>87,64</td><td>69,90</td><td>17,74</td><td>1</td></tr><tr><td>dcd83873-dcbe-aeea-50f6-001f418a1fc2</td><td>2017-11-12 16:15:35.000</td><td>69be6fb5-1415-0278-c7f1-cba56c328fb1</td><td>87,64</td><td>69,90</td><td>17,74</td><td>1</td></tr><tr><td>42a8e0f9-2866-4b27-f631-001fbddf0f26</td><td>2017-07-26 02:23:30.000</td><td>607344d7-dfc5-91c9-831b-f9e8d5a4391f</td><td>87,64</td><td>69,90</td><td>17,74</td><td>1</td></tr><tr><td>c2f98ca0-df77-3c12-e9a3-001fd986d24c</td><td>2018-08-14 13:44:20.000</td><td>93ae63a9-d45d-5def-4a2f-ecc134ce7876</td><td>87,64</td><td>69,90</td><td>17,74</td><td>1</td></tr><tr><td>253de8d0-0f83-3d7d-4d6d-002025a8d5fa</td><td>2018-04-17 09:31:25.000</td><td>c613a4fa-a025-2838-6e21-ca5f8ceaaf4f</td><td>87,64</td><td>69,90</td><td>17,74</td><td>1</td></tr><tr><td>2ecd94a0-ab2a-5092-7b7c-0020efb4b063</td><td>2018-02-11 13:55:22.000</td><td>94650d7d-a383-e068-577b-1660616d3372</td><td>87,64</td><td>69,90</td><td>17,74</td><td>1</td></tr><tr><td>56c9b97f-3103-1c70-ffb0-00219dc6f403</td><td>2017-11-07 03:31:04.000</td><td>7f0d5c5f-3133-9b90-635c-9bf99651dfa0</td><td>87,64</td><td>69,90</td><td>17,74</td><td>1</td></tr><tr><td>2a3251c9-5a3d-5c57-ed23-0021faa588a0</td><td>2018-03-25 10:47:51.000</td><td>114c08b8-59e2-7558-9938-f3af9b2c6773</td><td>87,64</td><td>69,90</td><td>17,74</td><td>1</td></tr><tr><td>910b8f72-8465-018e-9dfd-00228151f9ea</td><td>2017-12-19 03:30:14.000</td><td>eb850184-a02c-bdea-daae-b17f38c70bf7</td><td>87,64</td><td>69,90</td><td>17,74</td><td>1</td></tr><tr><td>ce6f24cc-b16a-f897-b765-0022beead374</td><td>2017-05-25 09:02:15.000</td><td>d1304197-e770-83b8-db36-4bd1a8a14766</td><td>87,64</td><td>69,90</td><td>17,74</td><td>1</td></tr><tr><td>74ebbb8c-3eef-6b29-921c-0022d89812f1</td><td>2017-04-26 21:35:10.000</td><td>74f7a6dc-5790-b5f9-8517-0bb3344e7101</td><td>87,64</td><td>69,90</td><td>17,74</td><td>1</td></tr><tr><td>f393b5ab-60df-cc6d-8c80-00240a1a230f</td><td>2017-12-16 01:56:18.000</td><td>77d4f556-ebda-0b4b-6afb-35ee72a5c902</td><td>87,64</td><td>69,90</td><td>17,74</td><td>1</td></tr><tr><td>2b8b7636-f69e-8dca-8785-0024171a19fa</td><td>2018-02-22 22:08:21.000</td><td>b126cd99-4c56-1b76-71ff-bee58a05db89</td><td>87,64</td><td>69,90</td><td>17,74</td><td>1</td></tr><tr><td>1f133ab6-b290-9667-0c6f-0024ffa95d3f</td><td>2018-06-16 15:19:09.000</td><td>49a2ba18-7dd2-a87e-c879-6a1763a218dd</td><td>87,64</td><td>69,90</td><td>17,74</td><td>1</td></tr><tr><td>5a40a4c4-13dc-da14-7caa-00259a1732de</td><td>2018-04-01 15:27:39.000</td><td>ac043877-b374-d2a7-2a12-14063b34b215</td><td>87,64</td><td>69,90</td><td>17,74</td><td>1</td></tr><tr><td>0db395d6-67c4-7936-5538-0026bad4a072</td><td>2018-01-29 15:18:33.000</td><td>28cfa447-1fab-1569-5744-e57ce3036694</td><td>87,64</td><td>69,90</td><td>17,74</td><td>1</td></tr><tr><td>78e0775b-7967-227a-9d6f-00277bed69e2</td><td>2018-04-06 03:08:29.000</td><td>3aabe94a-40f7-ea96-cbe2-9d76aff751de</td><td>87,64</td><td>69,90</td><td>17,74</td><td>1</td></tr><tr><td>b42b605e-d9b5-90d3-c826-00285db879e9</td><td>2018-02-05 07:28:50.000</td><td>2401c4ce-a7bb-ff53-85e3-a97035b00967</td><td>87,64</td><td>69,90</td><td>17,74</td><td>1</td></tr><tr><td>c9befd31-f563-27da-8202-00286183ceac</td><td>2017-11-26 17:32:41.000</td><td>8908bba0-1d8a-6480-99e6-7a38eea818f9</td><td>87,64</td><td>69,90</td><td>17,74</td><td>1</td></tr><tr><td>cd2f659f-a071-787c-2e90-002891bbea4b</td><td>2017-05-29 17:10:06.000</td><td>aebfaa38-bc67-7c5d-0f0d-937fff7ecfa0</td><td>87,64</td><td>69,90</td><td>17,74</td><td>1</td></tr><tr><td>a50baa42-9943-6459-4f0a-002918035aeb</td><td>2017-05-10 02:45:11.000</td><td>1e8b70cc-e882-bada-ff15-8c24c2b9eb24</td><td>87,64</td><td>69,90</td><td>17,74</td><td>1</td></tr><tr><td>b44f8d35-69ff-d7ae-6a83-002aaf061b98</td><td>2017-10-18 21:56:21.000</td><td>a990bc7a-8233-aecd-2b55-6bff362bb44f</td><td>87,64</td><td>69,90</td><td>17,74</td><td>1</td></tr><tr><td>c570fdfe-7c52-f1a1-5c7f-002b4dc46f6f</td><td>2018-08-20 19:35:09.000</td><td>5fb8f5b7-84dc-8f85-eaae-f76b91faf431</td><td>87,64</td><td>69,90</td><td>17,74</td><td>1</td></tr><tr><td>97ca549a-a4a8-d582-d149-002b880984f2</td><td>2017-09-26 09:24:25.000</td><td>c08baa0f-88dc-d77e-1e66-a267b58456dd</td><td>87,64</td><td>69,90</td><td>17,74</td><td>1</td></tr><tr><td>1a0a41ac-fcd4-a351-ae9f-002b942dce2c</td><td>2017-08-04 21:15:15.000</td><td>b941b9bd-5b0d-f6d5-bc88-72504b96b0e1</td><td>87,64</td><td>69,90</td><td>17,74</td><td>1</td></tr><tr><td>7319bf0d-ed2e-f22e-7388-002ce157a95a</td><td>2017-12-01 11:31:11.000</td><td>366099d1-fc91-479a-59fa-878693b55efc</td><td>87,64</td><td>69,90</td><td>17,74</td><td>1</td></tr><tr><td>a3a81e0b-3771-2587-44b5-002e1ab03ee6</td><td>2017-04-13 01:03:11.000</td><td>7f2da8c2-fd9a-07e4-742b-1e281dfb8afd</td><td>87,64</td><td>69,90</td><td>17,74</td><td>1</td></tr><tr><td>44de6d7b-8fcd-0cd8-db38-002f58d6c20d</td><td>2018-08-11 02:45:20.000</td><td>7db49ae8-2999-63bb-5031-da6c0c5de8ff</td><td>87,64</td><td>69,90</td><td>17,74</td><td>1</td></tr><tr><td>81e50431-98a4-4dde-b226-002ff55d8ad4</td><td>2017-01-09 00:45:09.000</td><td>853ba75a-0b42-3722-ccf2-70eea3b4cfe4</td><td>87,64</td><td>69,90</td><td>17,74</td><td>1</td></tr><tr><td>3edb5027-3f0f-ec7a-7e34-0030467076bc</td><td>2018-01-17 14:51:26.000</td><td>4c4584a8-2633-ac90-e58f-e2d141d7433e</td><td>87,64</td><td>69,90</td><td>17,74</td><td>1</td></tr><tr><td>2fc1313d-9148-9f3f-305f-00305b493ec5</td><td>2017-07-17 19:50:24.000</td><td>fd75c62e-a2fc-c2b2-3062-191d7c4fea23</td><td>87,64</td><td>69,90</td><td>17,74</td><td>1</td></tr><tr><td>08d0b596-c492-f5a5-041d-003063f18320</td><td>2017-09-10 22:45:14.000</td><td>b76200bb-cb6c-2d27-fe74-e809f361c52f</td><td>87,64</td><td>69,90</td><td>17,74</td><td>1</td></tr><tr><td>ac5222f8-3628-6b33-e724-0030ad79d7c9</td><td>2017-11-07 05:31:26.000</td><td>eb8707b8-661d-ab96-edd5-62cd748e3d25</td><td>87,64</td><td>69,90</td><td>17,74</td><td>1</td></tr><tr><td>3ab5ea69-81f6-7535-95fe-00318d111e5e</td><td>2017-05-23 21:43:03.000</td><td>d3efdecc-47d1-3cd2-948a-cb4f061eca57</td><td>87,64</td><td>69,90</td><td>17,74</td><td>1</td></tr><tr><td>dd4cb06a-82da-aa4a-3853-003208a89799</td><td>2017-09-09 06:35:28.000</td><td>2410195f-6521-6880-0561-2363835a2671</td><td>87,64</td><td>69,90</td><td>17,74</td><td>1</td></tr><tr><td>7173f9c6-26f3-e26e-9c4c-0033ebffe7d4</td><td>2018-07-14 21:03:59.000</td><td>f784737f-7606-86b4-020b-b4e8a2e7f178</td><td>87,64</td><td>69,90</td><td>17,74</td><td>1</td></tr><tr><td>896128ba-7022-5c31-8591-00341b20b186</td><td>2018-04-25 13:31:48.000</td><td>4988e02b-f544-8148-7f8a-f30a0c5ef7e3</td><td>87,64</td><td>69,90</td><td>17,74</td><td>1</td></tr><tr><td>d974607c-57ca-9157-67ed-00355b0a7bcb</td><td>2018-08-01 03:31:38.000</td><td>3e39b17a-a16a-496e-5562-65ba39aa2124</td><td>87,64</td><td>69,90</td><td>17,74</td><td>1</td></tr><tr><td>928d6bcb-2434-4911-f6d0-003585b91dab</td><td>2017-09-14 10:45:13.000</td><td>6bba23de-837c-f1e5-9f41-3f40a6541ff8</td><td>87,64</td><td>69,90</td><td>17,74</td><td>1</td></tr><tr><td>f66700bc-0daa-1c69-ee30-003597354134</td><td>2018-07-13 17:05:20.000</td><td>9947f153-5989-4bf8-da11-bc5d10c2c099</td><td>87,64</td><td>69,90</td><td>17,74</td><td>1</td></tr><tr><td>e412969c-1f26-4486-0cf8-0035bffa2b5e</td><td>2017-10-21 20:25:48.000</td><td>6f1eb4c3-7c00-902b-79f4-4527dfff1bb5</td><td>87,64</td><td>69,90</td><td>17,74</td><td>1</td></tr><tr><td>47b3fc54-2306-133e-109f-00371870c632</td><td>2017-07-14 02:25:32.000</td><td>eafab4c2-2c2d-62f6-d0f3-f82fd662131e</td><td>87,64</td><td>69,90</td><td>17,74</td><td>1</td></tr><tr><td>f4a4545d-a860-9ac9-3d74-003733142739</td><td>2018-01-23 22:53:22.000</td><td>633eee3b-9fb4-9d86-43ae-b2f11decd162</td><td>87,64</td><td>69,90</td><td>17,74</td><td>1</td></tr><tr><td>d2116792-f51c-05e6-3040-003857b5fb91</td><td>2017-06-26 16:15:17.000</td><td>d0e577fb-4794-cd81-f062-326261a4f75e</td><td>87,64</td><td>69,90</td><td>17,74</td><td>1</td></tr><tr><td>27cccab5-9c02-b5c7-42ec-003898dfabec</td><td>2018-07-28 23:31:04.000</td><td>08a678af-92ae-64c5-4771-6222a06447cf</td><td>87,64</td><td>69,90</td><td>17,74</td><td>1</td></tr><tr><td>f9d426c3-a20c-fd90-3644-0039c5430b7b</td><td>2018-03-29 13:07:34.000</td><td>2aa9afab-dfb7-6a0d-54d7-113451f6ba90</td><td>87,64</td><td>69,90</td><td>17,74</td><td>1</td></tr><tr><td>a1f33ae0-24b8-d5f3-2468-0039c8c26aca</td><td>2018-08-21 04:15:19.000</td><td>f5422e8b-0c2a-29cb-c1bd-48e0c0b9c523</td><td>87,64</td><td>69,90</td><td>17,74</td><td>1</td></tr><tr><td>f6951204-d4c5-a8b9-721e-0039ed0c894a</td><td>2017-11-25 22:33:50.000</td><td>d0e2c063-df03-f7b3-befd-1d87a12f80c4</td><td>87,64</td><td>69,90</td><td>17,74</td><td>1</td></tr><tr><td>8a739535-85d1-e530-96b1-003a5e2dfa4b</td><td>2018-03-05 15:49:42.000</td><td>2fb26b64-7f18-a969-975d-c6a002874457</td><td>87,64</td><td>69,90</td><td>17,74</td><td>1</td></tr><tr><td>855302e0-09db-afa8-6035-003b00a49cd2</td><td>2018-06-05 20:15:15.000</td><td>b94a3a62-951e-a503-58ba-1f0a6ed8f280</td><td>87,64</td><td>69,90</td><td>17,74</td><td>1</td></tr><tr><td>82984749-eb98-3f9f-558a-003b3fc693f7</td><td>2017-08-30 02:11:01.000</td><td>bcf2d3bd-55f6-749f-7ff6-8b3b8417462a</td><td>87,64</td><td>69,90</td><td>17,74</td><td>1</td></tr><tr><td>d70a8dce-003d-1e26-d1d5-003bb5839892</td><td>2018-07-16 17:00:36.000</td><td>0ab5cbb0-ac64-8b42-aaa0-2d47741e1d7b</td><td>87,64</td><td>69,90</td><td>17,74</td><td>1</td></tr><tr><td>f6e2898a-f2db-e458-2426-003c31aedaf1</td><td>2018-07-18 23:25:17.000</td><td>d9bd6d19-7334-8661-bd1f-dfa9ad00f0bb</td><td>87,64</td><td>69,90</td><td>17,74</td><td>1</td></tr><tr><td>6baca7e2-24a5-4a03-23eb-003e011c9b8a</td><td>2018-06-21 12:40:49.000</td><td>fe81bb32-c243-a86b-2f86-fbf053fe6140</td><td>87,64</td><td>69,90</td><td>17,74</td><td>1</td></tr></table>"
                    },
                    "metadata": {}
                }
            ],
            "execution_count": 8
        },
        {
            "cell_type": "code",
            "source": [
                "WITH\r\n",
                "orderitems (OrderId, ItemsValue, NumberOfItems)\r\n",
                "AS\r\n",
                "(\r\n",
                "SELECT OrderId, SUM(Price) AS ItemsValue, MAX(OrderItemId) NumberOfItems\r\n",
                "FROM dbo.OrderItems\r\n",
                "GROUP BY OrderId\r\n",
                "),\r\n",
                "customerInfo(CustomerId, FirstPurchaseAt)\r\n",
                "AS\r\n",
                "(\r\n",
                "    SELECT CustomerId, MIN(OrderApprovedAt) AS FirstPurchase\r\n",
                "    FROM dbo.Orders\r\n",
                "    GROUP By CustomerId\r\n",
                ")\r\n",
                "SELECT TOP 100 o.OrderId,\r\n",
                "o.OrderApprovedAt,\r\n",
                "o.CustomerId,\r\n",
                "i.ItemsValue,\r\n",
                "i.NumberOfItems,\r\n",
                "c.FirstPurchaseAt,\r\n",
                "DATEDIFF(month, c.FirstPurchaseAt, o.OrderApprovedAt) AS MonthsFromFirstPurchase\r\n",
                "FROM dbo.Orders AS o\r\n",
                "JOIN customerInfo AS c \r\n",
                "ON o.CustomerId = c.CustomerId\r\n",
                "JOIN orderitems AS i \r\n",
                "ON o.OrderId = i.OrderId\r\n",
                "ORDER BY MonthsFromFirstPurchase DESC;"
            ],
            "metadata": {
                "azdata_cell_guid": "65d0c1e3-4fa5-4c38-ae9b-fef10dc8cf80"
            },
            "outputs": [
                {
                    "output_type": "display_data",
                    "data": {
                        "text/html": "Warning: Null value is eliminated by an aggregate or other SET operation."
                    },
                    "metadata": {}
                },
                {
                    "output_type": "display_data",
                    "data": {
                        "text/html": "(100 rows affected)"
                    },
                    "metadata": {}
                },
                {
                    "output_type": "display_data",
                    "data": {
                        "text/html": "Total execution time: 00:00:00.937"
                    },
                    "metadata": {}
                },
                {
                    "output_type": "execute_result",
                    "execution_count": 19,
                    "data": {
                        "application/vnd.dataresource+json": {
                            "schema": {
                                "fields": [
                                    {
                                        "name": "OrderId"
                                    },
                                    {
                                        "name": "OrderApprovedAt"
                                    },
                                    {
                                        "name": "CustomerId"
                                    },
                                    {
                                        "name": "ItemsValue"
                                    },
                                    {
                                        "name": "NumberOfItems"
                                    },
                                    {
                                        "name": "FirstPurchaseAt"
                                    },
                                    {
                                        "name": "MonthsFromFirstPurchase"
                                    }
                                ]
                            },
                            "data": [
                                {
                                    "0": "ebf14459-7fc5-b016-fb40-5d0fea5c9e2d",
                                    "1": "2018-06-28 12:40:56.000",
                                    "2": "32ea3bde-dab8-35c3-aa6c-b68ce66565ef",
                                    "3": "25,99",
                                    "4": "1",
                                    "5": "2016-10-06 15:50:54.000",
                                    "6": "20"
                                },
                                {
                                    "0": "dcb36b51-1fca-c050-b97c-d5c05de84dc3",
                                    "1": "2018-06-12 23:31:02.000",
                                    "2": "ccafc1c3-f270-4105-21c3-c6f3b249870f",
                                    "3": "132,40",
                                    "4": "1",
                                    "5": "2016-10-07 10:13:16.000",
                                    "6": "20"
                                },
                                {
                                    "0": "2f53e1db-0b2a-1756-4ef1-2fe69d65a9df",
                                    "1": "2018-05-09 14:14:57.000",
                                    "2": "94e5ea5a-8c1b-f546-db27-39673060c43f",
                                    "3": "97,88",
                                    "4": "1",
                                    "5": "2016-10-06 15:59:50.000",
                                    "6": "19"
                                },
                                {
                                    "0": "b2947cf9-a8d3-0843-69df-cbe9663dd545",
                                    "1": "2018-08-25 04:05:18.000",
                                    "2": "d8f3c4f4-41a9-b59a-29f9-77df16724f38",
                                    "3": "38,00",
                                    "4": "1",
                                    "5": "2017-01-19 21:10:20.000",
                                    "6": "19"
                                },
                                {
                                    "0": "6d86a700-fbdf-ec90-9998-eefa9110f3e9",
                                    "1": "2018-05-04 11:51:35.000",
                                    "2": "87b3f231-7057-83eb-2217-e25851c0a45d",
                                    "3": "191,40",
                                    "4": "1",
                                    "5": "2016-10-09 13:57:01.000",
                                    "6": "19"
                                },
                                {
                                    "0": "b196564f-2fd7-9a80-ab1b-31dd8ba4e4fb",
                                    "1": "2018-06-06 21:32:06.000",
                                    "2": "24072811-9178-76a8-4c81-166f96aed0c1",
                                    "3": "254,90",
                                    "4": "1",
                                    "5": "2017-01-11 23:45:19.000",
                                    "6": "17"
                                },
                                {
                                    "0": "5997512f-ab61-ce97-8490-135668b02aa9",
                                    "1": "2018-07-24 16:55:26.000",
                                    "2": "a262442e-3ab8-9611-b448-77c7aaf77468",
                                    "3": "127,00",
                                    "4": "1",
                                    "5": "2017-02-17 18:35:21.000",
                                    "6": "17"
                                },
                                {
                                    "0": "57bc9b43-2f93-fd30-a3cc-83952ccbf267",
                                    "1": "2018-08-25 11:15:09.000",
                                    "2": "a1c61f85-6634-7ec4-4ea3-7d22854634a1",
                                    "3": "89,99",
                                    "4": "1",
                                    "5": "2017-03-19 08:36:36.000",
                                    "6": "17"
                                },
                                {
                                    "0": "e3d65100-7ef1-548b-71b4-285ca0f484e4",
                                    "1": "2018-08-11 12:55:26.000",
                                    "2": "97258e1c-1f77-f323-58ec-cd1c9ee5954d",
                                    "3": "110,00",
                                    "4": "1",
                                    "5": "2017-03-24 21:10:12.000",
                                    "6": "17"
                                },
                                {
                                    "0": "2e808069-3fae-bedb-3ba6-8531167c6313",
                                    "1": "2018-07-14 19:50:18.000",
                                    "2": "7e730184-1ddb-4064-c2f3-a31e4c154932",
                                    "3": "147,90",
                                    "4": "1",
                                    "5": "2017-02-15 13:10:39.000",
                                    "6": "17"
                                },
                                {
                                    "0": "6e1d72c4-9d6a-a8e6-a4c5-670c6ae13c72",
                                    "1": "2018-07-15 00:04:08.000",
                                    "2": "30b782a7-9466-0077-56f1-70cb5bd6bbd8",
                                    "3": "29,90",
                                    "4": "1",
                                    "5": "2017-02-20 21:25:20.000",
                                    "6": "17"
                                },
                                {
                                    "0": "d2b4a407-6a8c-b3ca-3b43-a1ee90b4a0e2",
                                    "1": "2018-06-21 21:18:17.000",
                                    "2": "408aee96-c756-32a9-2e50-79eee61da399",
                                    "3": "35,00",
                                    "4": "1",
                                    "5": "2017-01-31 15:20:16.000",
                                    "6": "17"
                                },
                                {
                                    "0": "876fd8c7-51a5-6ed9-82b5-a72dca56937f",
                                    "1": "2018-03-14 22:29:49.000",
                                    "2": "4e23e182-6902-ec9f-208e-8cc61329b494",
                                    "3": "98,00",
                                    "4": "1",
                                    "5": "2016-10-06 16:03:45.000",
                                    "6": "17"
                                },
                                {
                                    "0": "8b674647-8f6b-44e7-b760-97d1c2f4dbe6",
                                    "1": "2018-07-30 22:44:16.000",
                                    "2": "30b782a7-9466-0077-56f1-70cb5bd6bbd8",
                                    "3": "83,56",
                                    "4": "4",
                                    "5": "2017-02-20 21:25:20.000",
                                    "6": "17"
                                },
                                {
                                    "0": "fddaf324-39ea-b4df-416c-b63ef0a0ddda",
                                    "1": "2018-08-05 16:04:26.000",
                                    "2": "5eefb861-d492-1a3e-628b-bc65c50a480a",
                                    "3": "149,90",
                                    "4": "1",
                                    "5": "2017-03-07 03:55:24.000",
                                    "6": "17"
                                },
                                {
                                    "0": "72060954-7e1e-3b8a-c4b3-dc47ba846525",
                                    "1": "2018-07-31 22:40:26.000",
                                    "2": "8f6ce229-5bdb-ec03-cd50-e34b4bd7ba0a",
                                    "3": "51,00",
                                    "4": "1",
                                    "5": "2017-02-09 13:11:15.000",
                                    "6": "17"
                                },
                                {
                                    "0": "c94206a6-d669-8d58-52b7-e9e14bdc2e79",
                                    "1": "2018-06-25 12:15:25.000",
                                    "2": "18bc8709-4128-bbfe-943c-f88adcf72059",
                                    "3": "29,89",
                                    "4": "1",
                                    "5": "2017-01-27 01:05:27.000",
                                    "6": "17"
                                },
                                {
                                    "0": "12983204-2bc2-8981-55b5-ebf3b2058585",
                                    "1": "2018-08-16 10:25:47.000",
                                    "2": "1b6e96ed-99cb-8d13-5efe-220d761bbd67",
                                    "3": "35,80",
                                    "4": "2",
                                    "5": "2017-03-22 07:58:24.000",
                                    "6": "17"
                                },
                                {
                                    "0": "40e7e406-d2aa-df3f-b95b-04e41909b29a",
                                    "1": "2018-08-14 19:45:23.000",
                                    "2": "7f5dcde4-d292-354d-d5e6-968a27971126",
                                    "3": "120,00",
                                    "4": "1",
                                    "5": "2017-04-08 20:05:15.000",
                                    "6": "16"
                                },
                                {
                                    "0": "a1011d45-b3b4-42fc-2af9-0299beb134a2",
                                    "1": "2018-06-10 10:19:15.000",
                                    "2": "4658b26b-cea9-72ed-0b86-a5f8c61718be",
                                    "3": "251,80",
                                    "4": "2",
                                    "5": "2017-02-06 14:10:16.000",
                                    "6": "16"
                                },
                                {
                                    "0": "7f081049-d243-d9a5-1d42-35dfc310a73f",
                                    "1": "2018-08-20 12:10:18.000",
                                    "2": "2e49a3bb-eb76-297e-e0ff-49df39c2456c",
                                    "3": "99,00",
                                    "4": "1",
                                    "5": "2017-04-21 11:21:51.000",
                                    "6": "16"
                                },
                                {
                                    "0": "6f6adb62-39aa-4586-99f9-4784b3bb978a",
                                    "1": "2018-08-07 23:35:14.000",
                                    "2": "423d40b1-9363-8955-a782-839886648464",
                                    "3": "719,90",
                                    "4": "1",
                                    "5": "2017-04-22 21:50:16.000",
                                    "6": "16"
                                },
                                {
                                    "0": "1daef9ce-bfe7-01d5-500c-5ce43a271165",
                                    "1": "2018-07-17 12:45:10.000",
                                    "2": "1b7b7f96-31cd-4532-51d0-b328c9b38a2a",
                                    "3": "79,90",
                                    "4": "1",
                                    "5": "2017-03-22 12:27:15.000",
                                    "6": "16"
                                },
                                {
                                    "0": "2c494cef-88b9-08df-152b-7d6d69c8beba",
                                    "1": "2018-05-11 11:37:28.000",
                                    "2": "3af90f25-5e82-4d1d-53b3-584a4e89ad58",
                                    "3": "105,00",
                                    "4": "1",
                                    "5": "2017-01-28 19:31:32.000",
                                    "6": "16"
                                },
                                {
                                    "0": "8bfcb216-f3d8-db53-40f6-81b06b710f37",
                                    "1": "2018-08-20 23:09:34.000",
                                    "2": "e53fd557-5f14-1839-7aae-732c5755b6fc",
                                    "3": "56,00",
                                    "4": "1",
                                    "5": "2017-04-15 17:55:18.000",
                                    "6": "16"
                                },
                                {
                                    "0": "b69a7153-1e85-79d2-9897-92e5fcff085f",
                                    "1": "2018-05-24 00:19:28.000",
                                    "2": "fc19fe9a-c733-e36f-f822-7c29435c2030",
                                    "3": "58,90",
                                    "4": "1",
                                    "5": "2017-01-25 01:02:14.000",
                                    "6": "16"
                                },
                                {
                                    "0": "f0af25b5-5365-e27f-bd6a-93df45d9253f",
                                    "1": "2018-08-20 11:15:22.000",
                                    "2": "e53fd557-5f14-1839-7aae-732c5755b6fc",
                                    "3": "19,99",
                                    "4": "1",
                                    "5": "2017-04-15 17:55:18.000",
                                    "6": "16"
                                },
                                {
                                    "0": "c4c1257d-4377-61eb-f697-da82b5cca4e1",
                                    "1": "2018-07-24 10:31:48.000",
                                    "2": "4d9e1047-6407-7f7d-fae9-17c7cc803212",
                                    "3": "74,99",
                                    "4": "1",
                                    "5": "2017-03-21 13:29:54.000",
                                    "6": "16"
                                },
                                {
                                    "0": "05ec9565-bccc-2925-61de-c1d33bfefdfa",
                                    "1": "2018-08-05 11:30:16.000",
                                    "2": "b9badb10-0ff8-ecc1-6a40-3111209e3a06",
                                    "3": "49,00",
                                    "4": "1",
                                    "5": "2017-04-10 01:03:29.000",
                                    "6": "16"
                                },
                                {
                                    "0": "d37f6eeb-2d27-fc44-9e65-051940060719",
                                    "1": "2018-08-21 09:15:21.000",
                                    "2": "46ed126b-cf1d-f6e1-95db-c63d7c320983",
                                    "3": "29,90",
                                    "4": "1",
                                    "5": "2017-05-21 09:15:08.000",
                                    "6": "15"
                                },
                                {
                                    "0": "5a42abf0-eee6-5d3a-1e36-1aa49561a521",
                                    "1": "2018-08-15 03:10:18.000",
                                    "2": "313febe2-adc9-14a7-cb3f-6e903f8e13cf",
                                    "3": "79,60",
                                    "4": "4",
                                    "5": "2017-05-18 02:30:47.000",
                                    "6": "15"
                                },
                                {
                                    "0": "e7c5ccfc-34c2-62f8-f924-0ade57e01ed7",
                                    "1": "2018-08-05 12:50:11.000",
                                    "2": "8cfc5350-efe3-bce6-a0d6-f96fbaf2c3b4",
                                    "3": "94,99",
                                    "4": "1",
                                    "5": "2017-05-16 03:30:32.000",
                                    "6": "15"
                                },
                                {
                                    "0": "cc460964-8b8c-ff3e-a47a-04fc4380c25c",
                                    "1": "2018-08-07 17:25:17.000",
                                    "2": "4702ba5f-aa82-83e0-f6b6-a545cdaf8a9f",
                                    "3": "160,00",
                                    "4": "1",
                                    "5": "2017-05-17 04:05:19.000",
                                    "6": "15"
                                },
                                {
                                    "0": "9fdf7b5e-9590-65e5-c0d1-4fbc37b751d3",
                                    "1": "2018-01-06 15:31:49.000",
                                    "2": "1f98e346-7d2b-48df-b44f-c12b137d3447",
                                    "3": "298,60",
                                    "4": "1",
                                    "5": "2016-10-11 15:09:06.000",
                                    "6": "15"
                                },
                                {
                                    "0": "537716ea-f03b-0a19-04be-0663cbcdafa9",
                                    "1": "2018-08-03 14:30:19.000",
                                    "2": "c7819760-e703-7602-8f51-9e3b57e6c441",
                                    "3": "69,99",
                                    "4": "1",
                                    "5": "2017-05-15 21:05:16.000",
                                    "6": "15"
                                },
                                {
                                    "0": "d3582fd5-cccc-d9cb-229a-63dfb417c86f",
                                    "1": "2018-08-20 19:30:05.000",
                                    "2": "8d50f5ea-df50-201c-cdce-dfb9e2ac8455",
                                    "3": "23,40",
                                    "4": "1",
                                    "5": "2017-05-15 23:42:34.000",
                                    "6": "15"
                                },
                                {
                                    "0": "7a55d04b-91c3-854b-9cb2-444fccc8dcdf",
                                    "1": "2018-06-01 16:33:08.000",
                                    "2": "a4030b5e-97ff-c141-14e6-6d82df860f6f",
                                    "3": "28,90",
                                    "4": "1",
                                    "5": "2017-03-20 10:48:56.000",
                                    "6": "15"
                                },
                                {
                                    "0": "88a82da4-cb2e-b472-3c99-65285fe826c9",
                                    "1": "2018-08-10 13:50:19.000",
                                    "2": "71a92fd3-0875-01bc-fba6-e6e1ef7e8fd7",
                                    "3": "25,00",
                                    "4": "1",
                                    "5": "2017-05-10 13:30:16.000",
                                    "6": "15"
                                },
                                {
                                    "0": "1397417a-57ad-1bbf-e8d6-39df8cdee908",
                                    "1": "2018-07-02 18:31:03.000",
                                    "2": "5d323409-404d-ee6b-db0f-6cf9ef828dae",
                                    "3": "136,75",
                                    "4": "2",
                                    "5": "2017-04-27 13:05:38.000",
                                    "6": "15"
                                },
                                {
                                    "0": "9b21580d-9a14-0962-daa6-6b493fa50248",
                                    "1": "2018-08-07 04:44:41.000",
                                    "2": "0ef7b906-320b-21fe-4d39-f99496aaa2d8",
                                    "3": "69,99",
                                    "4": "1",
                                    "5": "2017-05-17 10:15:16.000",
                                    "6": "15"
                                },
                                {
                                    "0": "a1a6eada-e352-5820-10f4-49d8527b55f3",
                                    "1": "2018-08-18 12:50:37.000",
                                    "2": "8d50f5ea-df50-201c-cdce-dfb9e2ac8455",
                                    "3": "72,90",
                                    "4": "1",
                                    "5": "2017-05-15 23:42:34.000",
                                    "6": "15"
                                },
                                {
                                    "0": "6e10384d-6572-f58b-a12c-848b91299f39",
                                    "1": "2018-08-20 23:30:18.000",
                                    "2": "dc48b0a1-b0e6-abb6-586f-322c189f6b93",
                                    "3": "87,90",
                                    "4": "2",
                                    "5": "2017-05-18 14:02:46.000",
                                    "6": "15"
                                },
                                {
                                    "0": "70ee39a4-0074-e0c3-9dda-6d286a77d5c5",
                                    "1": "2018-06-27 08:29:48.000",
                                    "2": "4092bf29-0aa6-0e4f-2d4a-0dcc2f38c954",
                                    "3": "379,80",
                                    "4": "2",
                                    "5": "2017-03-29 02:10:41.000",
                                    "6": "15"
                                },
                                {
                                    "0": "adc2f0c9-fd83-8d82-0339-f8220c1adf08",
                                    "1": "2018-06-24 10:37:19.000",
                                    "2": "fb920961-e4d8-e55f-d9c3-57976a611765",
                                    "3": "17,90",
                                    "4": "1",
                                    "5": "2017-03-25 15:45:21.000",
                                    "6": "15"
                                },
                                {
                                    "0": "c1499ec4-70fb-fa0a-44ba-5d94f3a16ab2",
                                    "1": "2018-06-01 22:15:14.000",
                                    "2": "cb36d0f1-2c99-d079-35b7-06269045f613",
                                    "3": "79,90",
                                    "4": "1",
                                    "5": "2017-03-26 17:22:23.000",
                                    "6": "15"
                                },
                                {
                                    "0": "28cf0d3a-2917-f031-ecf4-715669a2dfad",
                                    "1": "2018-06-18 11:15:28.000",
                                    "2": "eeea20d9-3b0e-2214-11de-fcabab3c8949",
                                    "3": "58,90",
                                    "4": "1",
                                    "5": "2017-03-24 02:43:51.000",
                                    "6": "15"
                                },
                                {
                                    "0": "63feb2ae-0b83-6343-1638-61c5268b5e2e",
                                    "1": "2018-04-27 22:55:12.000",
                                    "2": "acf91aaa-6f33-7456-d3c5-06a5a494552c",
                                    "3": "89,90",
                                    "4": "1",
                                    "5": "2017-01-21 03:06:21.000",
                                    "6": "15"
                                },
                                {
                                    "0": "99044ba4-cee0-9a5f-d69a-8c9a25599f55",
                                    "1": "2018-05-09 00:14:09.000",
                                    "2": "7cf08f01-ab6a-6a13-65e1-613989a65158",
                                    "3": "117,00",
                                    "4": "1",
                                    "5": "2017-02-10 01:05:13.000",
                                    "6": "15"
                                },
                                {
                                    "0": "c2213109-a2cc-0e75-d555-85b7aaac6d97",
                                    "1": "2018-08-07 23:45:21.000",
                                    "2": "8d50f5ea-df50-201c-cdce-dfb9e2ac8455",
                                    "3": "26,99",
                                    "4": "1",
                                    "5": "2017-05-15 23:42:34.000",
                                    "6": "15"
                                },
                                {
                                    "0": "4de39e6e-d70e-6add-419c-d6560467478d",
                                    "1": "2018-07-18 17:30:19.000",
                                    "2": "e219a439-f6ca-99e3-2824-bcc7153969c9",
                                    "3": "75,00",
                                    "4": "1",
                                    "5": "2017-04-05 21:43:02.000",
                                    "6": "15"
                                },
                                {
                                    "0": "1c020c2a-20a5-2437-1e81-f9ef21eca0b6",
                                    "1": "2018-06-14 09:57:01.000",
                                    "2": "4e65032f-1f57-4189-fb79-3bac5a867bbc",
                                    "3": "43,20",
                                    "4": "1",
                                    "5": "2017-03-26 18:50:26.000",
                                    "6": "15"
                                },
                                {
                                    "0": "f66b8bf3-78bd-d2ac-ca86-04ef27039f1f",
                                    "1": "2018-08-09 08:35:17.000",
                                    "2": "4facc2e6-fbc2-bffa-b2fe-a92d2b4aa7e4",
                                    "3": "389,00",
                                    "4": "1",
                                    "5": "2017-06-18 23:30:11.000",
                                    "6": "14"
                                },
                                {
                                    "0": "2464a4f5-4814-d3de-6365-41955feeb947",
                                    "1": "2018-08-01 20:44:01.000",
                                    "2": "549a2453-0925-587e-2fad-db35f667e458",
                                    "3": "199,90",
                                    "4": "1",
                                    "5": "2017-06-18 10:10:16.000",
                                    "6": "14"
                                },
                                {
                                    "0": "8df8c319-9fb2-29a1-472b-0a47e3b106ae",
                                    "1": "2018-05-24 14:19:49.000",
                                    "2": "041caba6-a63a-ce58-1838-7698ea85cdb2",
                                    "3": "62,90",
                                    "4": "1",
                                    "5": "2017-03-15 21:50:14.000",
                                    "6": "14"
                                },
                                {
                                    "0": "112eb6f3-7f1b-9dab-bced-368fbbc6c9ef",
                                    "1": "2018-07-24 10:31:34.000",
                                    "2": "8d50f5ea-df50-201c-cdce-dfb9e2ac8455",
                                    "3": "99,00",
                                    "4": "1",
                                    "5": "2017-05-15 23:42:34.000",
                                    "6": "14"
                                },
                                {
                                    "0": "44809c64-bc4e-272b-0ffd-44dcaa3beb8c",
                                    "1": "2018-05-27 16:15:01.000",
                                    "2": "da8ac849-037c-7201-a41a-4db0b1fa963e",
                                    "3": "350,00",
                                    "4": "1",
                                    "5": "2017-03-28 08:35:11.000",
                                    "6": "14"
                                },
                                {
                                    "0": "26e3ef97-3522-7d94-c5e1-4a0a461d0ab5",
                                    "1": "2018-05-11 03:50:36.000",
                                    "2": "54e0a7cc-9c09-c591-bd18-6e4569c7bf30",
                                    "3": "95,00",
                                    "4": "1",
                                    "5": "2017-03-16 22:26:33.000",
                                    "6": "14"
                                },
                                {
                                    "0": "e90d8a86-7960-fe90-9ecb-460cb3a9e4d1",
                                    "1": "2018-08-13 18:35:26.000",
                                    "2": "cd6c68c5-fad1-5e0a-5a5c-1150546704e0",
                                    "3": "64,90",
                                    "4": "1",
                                    "5": "2017-06-11 17:25:10.000",
                                    "6": "14"
                                },
                                {
                                    "0": "d6e8c00f-e376-1c68-0d73-781f517b7e63",
                                    "1": "2018-07-05 18:35:13.000",
                                    "2": "aff7f8b5-669f-bc5d-6f60-97ce45e63b19",
                                    "3": "29,99",
                                    "4": "1",
                                    "5": "2017-05-17 14:42:23.000",
                                    "6": "14"
                                },
                                {
                                    "0": "44d14514-a061-27f7-2cd9-6745ed0eed21",
                                    "1": "2018-07-10 04:35:21.000",
                                    "2": "9b7fcfa0-5fb6-f8b8-8fea-3d74a6ba77d6",
                                    "3": "29,90",
                                    "4": "1",
                                    "5": "2017-05-22 10:39:14.000",
                                    "6": "14"
                                },
                                {
                                    "0": "57db3577-cc4d-6b5a-b2b9-849d29c3fc61",
                                    "1": "2018-04-07 21:30:12.000",
                                    "2": "fcd0ab79-592f-aab1-9e2b-f386cf69fbcd",
                                    "3": "48,90",
                                    "4": "1",
                                    "5": "2017-02-10 23:30:15.000",
                                    "6": "14"
                                },
                                {
                                    "0": "aeb70ca1-4a98-4230-b34a-6cbf48fe6d8a",
                                    "1": "2018-07-26 09:05:11.000",
                                    "2": "eb4520b1-6c32-518b-6615-f2d50f1be1bb",
                                    "3": "140,98",
                                    "4": "2",
                                    "5": "2017-05-16 13:10:13.000",
                                    "6": "14"
                                },
                                {
                                    "0": "94ca3861-9d7e-64f9-4fac-ac403a99682d",
                                    "1": "2018-07-30 16:05:13.000",
                                    "2": "0178b244-a5c2-81fb-2ade-54038dd4b161",
                                    "3": "118,98",
                                    "4": "3",
                                    "5": "2017-05-10 20:15:14.000",
                                    "6": "14"
                                },
                                {
                                    "0": "b16a844a-8a1b-4998-e150-5f65a65d1e6a",
                                    "1": "2018-05-02 12:14:49.000",
                                    "2": "12d8b5ed-6611-90a3-a081-83644dfc504d",
                                    "3": "109,80",
                                    "4": "2",
                                    "5": "2017-03-26 18:35:12.000",
                                    "6": "14"
                                },
                                {
                                    "0": "79581b07-0848-9f6f-9539-c0d29dc53bb7",
                                    "1": "2018-07-23 12:31:38.000",
                                    "2": "4041baa5-1d9e-ae8f-5955-ccd4f02bb044",
                                    "3": "79,90",
                                    "4": "1",
                                    "5": "2017-05-19 02:30:36.000",
                                    "6": "14"
                                },
                                {
                                    "0": "0ba4f7e8-9d30-4a02-edca-85087abfd14c",
                                    "1": "2018-08-13 23:04:09.000",
                                    "2": "4facc2e6-fbc2-bffa-b2fe-a92d2b4aa7e4",
                                    "3": "849,00",
                                    "4": "1",
                                    "5": "2017-06-18 23:30:11.000",
                                    "6": "14"
                                },
                                {
                                    "0": "0e93edf6-64c6-8e40-7889-c757350ef76a",
                                    "1": "2018-08-18 16:10:04.000",
                                    "2": "796214f3-f3b4-96b3-b116-986185984393",
                                    "3": "473,00",
                                    "4": "1",
                                    "5": "2017-06-13 04:05:25.000",
                                    "6": "14"
                                },
                                {
                                    "0": "e563afc4-7cb5-fafb-2ed8-869e9e822e38",
                                    "1": "2018-03-16 15:55:23.000",
                                    "2": "7588c20c-4573-69de-8caa-d958afc1cc06",
                                    "3": "48,00",
                                    "4": "2",
                                    "5": "2017-01-31 04:41:30.000",
                                    "6": "14"
                                },
                                {
                                    "0": "9804b558-05c8-c19a-fdf0-e9af3e494a0b",
                                    "1": "2018-06-03 14:10:18.000",
                                    "2": "8b4bb71a-7d37-d4c2-560e-0f0409a58905",
                                    "3": "72,90",
                                    "4": "1",
                                    "5": "2017-04-24 23:22:28.000",
                                    "6": "14"
                                },
                                {
                                    "0": "04492e6b-1fce-e531-7506-f927e0e89eb2",
                                    "1": "2018-07-17 01:15:13.000",
                                    "2": "31d332d2-0895-c5c0-baef-e55207a0fead",
                                    "3": "114,90",
                                    "4": "1",
                                    "5": "2017-05-14 22:10:16.000",
                                    "6": "14"
                                },
                                {
                                    "0": "a147b97f-47ab-bdb0-2f67-ea00da442cd8",
                                    "1": "2018-08-06 08:55:23.000",
                                    "2": "ee04cc9b-ca4c-9198-bec5-c54c2542dd3b",
                                    "3": "126,99",
                                    "4": "1",
                                    "5": "2017-06-20 15:55:21.000",
                                    "6": "14"
                                },
                                {
                                    "0": "d4575d5b-5261-6538-e99f-fe90f8931f81",
                                    "1": "2018-06-21 17:58:17.000",
                                    "2": "6f1b9f60-ea8e-e748-1403-53648c2d8d8f",
                                    "3": "184,90",
                                    "4": "1",
                                    "5": "2017-04-05 18:05:18.000",
                                    "6": "14"
                                },
                                {
                                    "0": "838f8e96-cf58-4a1d-8d22-eaf7143c7772",
                                    "1": "2018-07-05 16:27:55.000",
                                    "2": "8d50f5ea-df50-201c-cdce-dfb9e2ac8455",
                                    "3": "22,99",
                                    "4": "1",
                                    "5": "2017-05-15 23:42:34.000",
                                    "6": "14"
                                },
                                {
                                    "0": "3e6cbccd-0e3c-5e49-72f1-f1f178b81b08",
                                    "1": "2018-04-28 20:53:19.000",
                                    "2": "ece908ca-0502-def5-dd56-deca8a5c67d5",
                                    "3": "94,90",
                                    "4": "1",
                                    "5": "2017-02-25 18:50:17.000",
                                    "6": "14"
                                },
                                {
                                    "0": "ad40bc35-3ed6-f8f9-75fa-f818439c7de1",
                                    "1": "2018-08-04 06:10:08.000",
                                    "2": "46da36c3-df71-1885-2b77-0394d1ba2be5",
                                    "3": "52,90",
                                    "4": "1",
                                    "5": "2017-06-22 01:35:09.000",
                                    "6": "14"
                                },
                                {
                                    "0": "e21bb5b2-af08-7339-bd36-14d77a0053a1",
                                    "1": "2018-07-20 01:10:11.000",
                                    "2": "21559d7f-f0eb-ff72-0e5e-160184338fed",
                                    "3": "49,90",
                                    "4": "1",
                                    "5": "2017-06-11 06:35:15.000",
                                    "6": "13"
                                },
                                {
                                    "0": "c19e5e60-6043-fc8b-3302-3f0b377e2e55",
                                    "1": "2018-08-14 00:55:22.000",
                                    "2": "72421b30-e46c-895e-99e8-560a48a33fb6",
                                    "3": "62,70",
                                    "4": "1",
                                    "5": "2017-07-30 18:55:16.000",
                                    "6": "13"
                                },
                                {
                                    "0": "77d6b708-885d-2096-c60a-2c70d6339b47",
                                    "1": "2018-07-20 10:23:54.000",
                                    "2": "4facc2e6-fbc2-bffa-b2fe-a92d2b4aa7e4",
                                    "3": "299,90",
                                    "4": "1",
                                    "5": "2017-06-18 23:30:11.000",
                                    "6": "13"
                                },
                                {
                                    "0": "8e7c4bc6-f833-90fd-197e-3494442f1925",
                                    "1": "2018-08-01 23:45:08.000",
                                    "2": "e43c9920-2408-23d6-c97b-edc723c25281",
                                    "3": "83,90",
                                    "4": "1",
                                    "5": "2017-07-04 04:25:21.000",
                                    "6": "13"
                                },
                                {
                                    "0": "61b99e91-7a3d-a2c7-7c1a-3ef38cdf38de",
                                    "1": "2018-06-23 11:55:36.000",
                                    "2": "a0abd266-59c9-9146-90cb-d3320d39fd96",
                                    "3": "46,90",
                                    "4": "1",
                                    "5": "2017-05-27 14:15:16.000",
                                    "6": "13"
                                },
                                {
                                    "0": "3120b740-3aff-618e-67e9-457cd794c0ad",
                                    "1": "2018-02-06 17:15:39.000",
                                    "2": "60e6fe58-1610-db69-9ac0-3fec61f4d53f",
                                    "3": "199,00",
                                    "4": "1",
                                    "5": "2017-01-26 15:50:18.000",
                                    "6": "13"
                                },
                                {
                                    "0": "94fcdee9-4297-0d33-5d39-4f37a3b23ada",
                                    "1": "2018-03-20 03:10:42.000",
                                    "2": "3e665886-6cc6-36c1-762c-080ed56f44e6",
                                    "3": "179,00",
                                    "4": "1",
                                    "5": "2017-02-21 04:55:45.000",
                                    "6": "13"
                                },
                                {
                                    "0": "d3dd51ab-e467-d226-f8be-61f48388eba2",
                                    "1": "2018-07-25 11:30:19.000",
                                    "2": "8fdb3004-6559-b506-b2ea-1588cdfded0d",
                                    "3": "399,00",
                                    "4": "1",
                                    "5": "2017-06-25 23:22:52.000",
                                    "6": "13"
                                },
                                {
                                    "0": "10a0ce12-77f3-7432-4220-5061fccbb7c1",
                                    "1": "2018-03-17 11:35:27.000",
                                    "2": "4bbaf6f7-a10a-7e26-a877-7aa5cb6d5864",
                                    "3": "34,90",
                                    "4": "1",
                                    "5": "2017-02-05 19:01:52.000",
                                    "6": "13"
                                },
                                {
                                    "0": "0bd92af4-7823-9fae-0884-7d13e9fd8617",
                                    "1": "2018-04-19 09:52:37.000",
                                    "2": "1a328a66-4417-dc7c-bff0-ed7df49f5a3d",
                                    "3": "49,99",
                                    "4": "1",
                                    "5": "2017-03-11 17:38:51.000",
                                    "6": "13"
                                },
                                {
                                    "0": "f79d2206-d030-1d47-bc2a-623636ea53d1",
                                    "1": "2018-08-13 22:30:15.000",
                                    "2": "083ca1aa-470c-2802-3638-0973a48f77c6",
                                    "3": "82,00",
                                    "4": "1",
                                    "5": "2017-07-28 04:24:05.000",
                                    "6": "13"
                                },
                                {
                                    "0": "f0031384-d36f-f045-ee1e-866942d0fa7a",
                                    "1": "2018-08-23 00:24:27.000",
                                    "2": "dc813062-e0fc-2340-9cd2-55f7f53c7074",
                                    "3": "74,90",
                                    "4": "1",
                                    "5": "2017-07-01 04:30:09.000",
                                    "6": "13"
                                },
                                {
                                    "0": "50bfdb06-2780-7130-b8f9-89106c985a75",
                                    "1": "2018-08-07 10:05:15.000",
                                    "2": "f0ac405c-280f-ab1d-087b-8982e7801b54",
                                    "3": "63,00",
                                    "4": "1",
                                    "5": "2017-07-20 13:45:16.000",
                                    "6": "13"
                                },
                                {
                                    "0": "49e19ca0-7e42-bde0-8630-a08e50ad980e",
                                    "1": "2018-06-01 17:53:11.000",
                                    "2": "92024211-10f6-a19d-dcf0-b9b93602a0a1",
                                    "3": "109,90",
                                    "4": "1",
                                    "5": "2017-05-09 05:02:14.000",
                                    "6": "13"
                                },
                                {
                                    "0": "7b9bc6b7-6ad9-656c-a99e-8e1f2a6d249b",
                                    "1": "2018-07-19 14:05:22.000",
                                    "2": "d6db3091-e8c1-3023-bf1e-6d367b8c0847",
                                    "3": "68,50",
                                    "4": "1",
                                    "5": "2017-06-05 10:05:16.000",
                                    "6": "13"
                                },
                                {
                                    "0": "c7f9c9ed-8383-be0c-7514-a7672ffdfdbe",
                                    "1": "2018-08-16 16:10:25.000",
                                    "2": "73054307-19d7-1599-2b00-be82af4a6aa8",
                                    "3": "49,90",
                                    "4": "1",
                                    "5": "2017-07-12 11:10:16.000",
                                    "6": "13"
                                },
                                {
                                    "0": "a733dd75-6bea-7063-1950-8beaf3873a3c",
                                    "1": "2018-08-18 17:10:09.000",
                                    "2": "3fe3e628-c6c7-a15a-e964-16826a4c5952",
                                    "3": "249,00",
                                    "4": "1",
                                    "5": "2017-07-24 19:35:23.000",
                                    "6": "13"
                                },
                                {
                                    "0": "81a9ef6a-0791-099b-b585-9d0104f94dc9",
                                    "1": "2018-05-31 15:12:10.000",
                                    "2": "01f2285f-85a1-c603-eb7e-f755ad311769",
                                    "3": "252,00",
                                    "4": "1",
                                    "5": "2017-04-29 14:50:17.000",
                                    "6": "13"
                                },
                                {
                                    "0": "dff8b1cc-b6e6-1a78-5f9f-ad1cd48df4af",
                                    "1": "2017-11-11 16:30:50.000",
                                    "2": "4962136f-7559-81b8-3b03-f476e66eea7d",
                                    "3": "115,20",
                                    "4": "3",
                                    "5": "2016-10-10 01:55:38.000",
                                    "6": "13"
                                },
                                {
                                    "0": "fa4e2631-9fe4-d40d-c11c-b63c53be6355",
                                    "1": "2018-02-11 23:07:56.000",
                                    "2": "69e4074c-b536-8c15-3939-7e4ea570757a",
                                    "3": "49,90",
                                    "4": "1",
                                    "5": "2017-01-31 17:45:18.000",
                                    "6": "13"
                                },
                                {
                                    "0": "394961b2-b483-cbcf-be24-9c1634babac5",
                                    "1": "2018-02-15 19:06:19.000",
                                    "2": "5e0aa142-dc47-60e6-2a74-c1830cbf91b1",
                                    "3": "49,90",
                                    "4": "1",
                                    "5": "2017-01-20 01:30:17.000",
                                    "6": "13"
                                },
                                {
                                    "0": "f83a0ce6-6c45-7dfd-f564-dafa364ae1d4",
                                    "1": "2018-08-24 10:36:32.000",
                                    "2": "d08c2930-2907-086e-8fe8-23369542f3ae",
                                    "3": "29,80",
                                    "4": "2",
                                    "5": "2017-07-15 18:55:17.000",
                                    "6": "13"
                                },
                                {
                                    "0": "9eefad52-e5b3-7dc3-e94f-c823d63057b5",
                                    "1": "2018-04-13 09:52:08.000",
                                    "2": "2b5ffb4c-42d2-6e46-6ad5-75ecce365aa2",
                                    "3": "89,00",
                                    "4": "1",
                                    "5": "2017-03-13 16:32:40.000",
                                    "6": "13"
                                },
                                {
                                    "0": "4d2711a0-db9f-671c-10f8-ce62aeb438bb",
                                    "1": "2018-08-21 18:32:26.000",
                                    "2": "8f567321-ba12-101d-edc0-7c70b7021069",
                                    "3": "59,90",
                                    "4": "1",
                                    "5": "2017-07-14 18:43:51.000",
                                    "6": "13"
                                },
                                {
                                    "0": "bc29c5fc-e9c2-7180-7967-f2fe4cf289e5",
                                    "1": "2018-04-10 04:15:46.000",
                                    "2": "f3d7cb12-e7dc-54a4-24d9-35aae4426461",
                                    "3": "29,90",
                                    "4": "1",
                                    "5": "2017-03-30 02:11:01.000",
                                    "6": "13"
                                }
                            ]
                        },
                        "text/html": "<table><tr><th>OrderId</th><th>OrderApprovedAt</th><th>CustomerId</th><th>ItemsValue</th><th>NumberOfItems</th><th>FirstPurchaseAt</th><th>MonthsFromFirstPurchase</th></tr><tr><td>ebf14459-7fc5-b016-fb40-5d0fea5c9e2d</td><td>2018-06-28 12:40:56.000</td><td>32ea3bde-dab8-35c3-aa6c-b68ce66565ef</td><td>25,99</td><td>1</td><td>2016-10-06 15:50:54.000</td><td>20</td></tr><tr><td>dcb36b51-1fca-c050-b97c-d5c05de84dc3</td><td>2018-06-12 23:31:02.000</td><td>ccafc1c3-f270-4105-21c3-c6f3b249870f</td><td>132,40</td><td>1</td><td>2016-10-07 10:13:16.000</td><td>20</td></tr><tr><td>2f53e1db-0b2a-1756-4ef1-2fe69d65a9df</td><td>2018-05-09 14:14:57.000</td><td>94e5ea5a-8c1b-f546-db27-39673060c43f</td><td>97,88</td><td>1</td><td>2016-10-06 15:59:50.000</td><td>19</td></tr><tr><td>b2947cf9-a8d3-0843-69df-cbe9663dd545</td><td>2018-08-25 04:05:18.000</td><td>d8f3c4f4-41a9-b59a-29f9-77df16724f38</td><td>38,00</td><td>1</td><td>2017-01-19 21:10:20.000</td><td>19</td></tr><tr><td>6d86a700-fbdf-ec90-9998-eefa9110f3e9</td><td>2018-05-04 11:51:35.000</td><td>87b3f231-7057-83eb-2217-e25851c0a45d</td><td>191,40</td><td>1</td><td>2016-10-09 13:57:01.000</td><td>19</td></tr><tr><td>b196564f-2fd7-9a80-ab1b-31dd8ba4e4fb</td><td>2018-06-06 21:32:06.000</td><td>24072811-9178-76a8-4c81-166f96aed0c1</td><td>254,90</td><td>1</td><td>2017-01-11 23:45:19.000</td><td>17</td></tr><tr><td>5997512f-ab61-ce97-8490-135668b02aa9</td><td>2018-07-24 16:55:26.000</td><td>a262442e-3ab8-9611-b448-77c7aaf77468</td><td>127,00</td><td>1</td><td>2017-02-17 18:35:21.000</td><td>17</td></tr><tr><td>57bc9b43-2f93-fd30-a3cc-83952ccbf267</td><td>2018-08-25 11:15:09.000</td><td>a1c61f85-6634-7ec4-4ea3-7d22854634a1</td><td>89,99</td><td>1</td><td>2017-03-19 08:36:36.000</td><td>17</td></tr><tr><td>e3d65100-7ef1-548b-71b4-285ca0f484e4</td><td>2018-08-11 12:55:26.000</td><td>97258e1c-1f77-f323-58ec-cd1c9ee5954d</td><td>110,00</td><td>1</td><td>2017-03-24 21:10:12.000</td><td>17</td></tr><tr><td>2e808069-3fae-bedb-3ba6-8531167c6313</td><td>2018-07-14 19:50:18.000</td><td>7e730184-1ddb-4064-c2f3-a31e4c154932</td><td>147,90</td><td>1</td><td>2017-02-15 13:10:39.000</td><td>17</td></tr><tr><td>6e1d72c4-9d6a-a8e6-a4c5-670c6ae13c72</td><td>2018-07-15 00:04:08.000</td><td>30b782a7-9466-0077-56f1-70cb5bd6bbd8</td><td>29,90</td><td>1</td><td>2017-02-20 21:25:20.000</td><td>17</td></tr><tr><td>d2b4a407-6a8c-b3ca-3b43-a1ee90b4a0e2</td><td>2018-06-21 21:18:17.000</td><td>408aee96-c756-32a9-2e50-79eee61da399</td><td>35,00</td><td>1</td><td>2017-01-31 15:20:16.000</td><td>17</td></tr><tr><td>876fd8c7-51a5-6ed9-82b5-a72dca56937f</td><td>2018-03-14 22:29:49.000</td><td>4e23e182-6902-ec9f-208e-8cc61329b494</td><td>98,00</td><td>1</td><td>2016-10-06 16:03:45.000</td><td>17</td></tr><tr><td>8b674647-8f6b-44e7-b760-97d1c2f4dbe6</td><td>2018-07-30 22:44:16.000</td><td>30b782a7-9466-0077-56f1-70cb5bd6bbd8</td><td>83,56</td><td>4</td><td>2017-02-20 21:25:20.000</td><td>17</td></tr><tr><td>fddaf324-39ea-b4df-416c-b63ef0a0ddda</td><td>2018-08-05 16:04:26.000</td><td>5eefb861-d492-1a3e-628b-bc65c50a480a</td><td>149,90</td><td>1</td><td>2017-03-07 03:55:24.000</td><td>17</td></tr><tr><td>72060954-7e1e-3b8a-c4b3-dc47ba846525</td><td>2018-07-31 22:40:26.000</td><td>8f6ce229-5bdb-ec03-cd50-e34b4bd7ba0a</td><td>51,00</td><td>1</td><td>2017-02-09 13:11:15.000</td><td>17</td></tr><tr><td>c94206a6-d669-8d58-52b7-e9e14bdc2e79</td><td>2018-06-25 12:15:25.000</td><td>18bc8709-4128-bbfe-943c-f88adcf72059</td><td>29,89</td><td>1</td><td>2017-01-27 01:05:27.000</td><td>17</td></tr><tr><td>12983204-2bc2-8981-55b5-ebf3b2058585</td><td>2018-08-16 10:25:47.000</td><td>1b6e96ed-99cb-8d13-5efe-220d761bbd67</td><td>35,80</td><td>2</td><td>2017-03-22 07:58:24.000</td><td>17</td></tr><tr><td>40e7e406-d2aa-df3f-b95b-04e41909b29a</td><td>2018-08-14 19:45:23.000</td><td>7f5dcde4-d292-354d-d5e6-968a27971126</td><td>120,00</td><td>1</td><td>2017-04-08 20:05:15.000</td><td>16</td></tr><tr><td>a1011d45-b3b4-42fc-2af9-0299beb134a2</td><td>2018-06-10 10:19:15.000</td><td>4658b26b-cea9-72ed-0b86-a5f8c61718be</td><td>251,80</td><td>2</td><td>2017-02-06 14:10:16.000</td><td>16</td></tr><tr><td>7f081049-d243-d9a5-1d42-35dfc310a73f</td><td>2018-08-20 12:10:18.000</td><td>2e49a3bb-eb76-297e-e0ff-49df39c2456c</td><td>99,00</td><td>1</td><td>2017-04-21 11:21:51.000</td><td>16</td></tr><tr><td>6f6adb62-39aa-4586-99f9-4784b3bb978a</td><td>2018-08-07 23:35:14.000</td><td>423d40b1-9363-8955-a782-839886648464</td><td>719,90</td><td>1</td><td>2017-04-22 21:50:16.000</td><td>16</td></tr><tr><td>1daef9ce-bfe7-01d5-500c-5ce43a271165</td><td>2018-07-17 12:45:10.000</td><td>1b7b7f96-31cd-4532-51d0-b328c9b38a2a</td><td>79,90</td><td>1</td><td>2017-03-22 12:27:15.000</td><td>16</td></tr><tr><td>2c494cef-88b9-08df-152b-7d6d69c8beba</td><td>2018-05-11 11:37:28.000</td><td>3af90f25-5e82-4d1d-53b3-584a4e89ad58</td><td>105,00</td><td>1</td><td>2017-01-28 19:31:32.000</td><td>16</td></tr><tr><td>8bfcb216-f3d8-db53-40f6-81b06b710f37</td><td>2018-08-20 23:09:34.000</td><td>e53fd557-5f14-1839-7aae-732c5755b6fc</td><td>56,00</td><td>1</td><td>2017-04-15 17:55:18.000</td><td>16</td></tr><tr><td>b69a7153-1e85-79d2-9897-92e5fcff085f</td><td>2018-05-24 00:19:28.000</td><td>fc19fe9a-c733-e36f-f822-7c29435c2030</td><td>58,90</td><td>1</td><td>2017-01-25 01:02:14.000</td><td>16</td></tr><tr><td>f0af25b5-5365-e27f-bd6a-93df45d9253f</td><td>2018-08-20 11:15:22.000</td><td>e53fd557-5f14-1839-7aae-732c5755b6fc</td><td>19,99</td><td>1</td><td>2017-04-15 17:55:18.000</td><td>16</td></tr><tr><td>c4c1257d-4377-61eb-f697-da82b5cca4e1</td><td>2018-07-24 10:31:48.000</td><td>4d9e1047-6407-7f7d-fae9-17c7cc803212</td><td>74,99</td><td>1</td><td>2017-03-21 13:29:54.000</td><td>16</td></tr><tr><td>05ec9565-bccc-2925-61de-c1d33bfefdfa</td><td>2018-08-05 11:30:16.000</td><td>b9badb10-0ff8-ecc1-6a40-3111209e3a06</td><td>49,00</td><td>1</td><td>2017-04-10 01:03:29.000</td><td>16</td></tr><tr><td>d37f6eeb-2d27-fc44-9e65-051940060719</td><td>2018-08-21 09:15:21.000</td><td>46ed126b-cf1d-f6e1-95db-c63d7c320983</td><td>29,90</td><td>1</td><td>2017-05-21 09:15:08.000</td><td>15</td></tr><tr><td>5a42abf0-eee6-5d3a-1e36-1aa49561a521</td><td>2018-08-15 03:10:18.000</td><td>313febe2-adc9-14a7-cb3f-6e903f8e13cf</td><td>79,60</td><td>4</td><td>2017-05-18 02:30:47.000</td><td>15</td></tr><tr><td>e7c5ccfc-34c2-62f8-f924-0ade57e01ed7</td><td>2018-08-05 12:50:11.000</td><td>8cfc5350-efe3-bce6-a0d6-f96fbaf2c3b4</td><td>94,99</td><td>1</td><td>2017-05-16 03:30:32.000</td><td>15</td></tr><tr><td>cc460964-8b8c-ff3e-a47a-04fc4380c25c</td><td>2018-08-07 17:25:17.000</td><td>4702ba5f-aa82-83e0-f6b6-a545cdaf8a9f</td><td>160,00</td><td>1</td><td>2017-05-17 04:05:19.000</td><td>15</td></tr><tr><td>9fdf7b5e-9590-65e5-c0d1-4fbc37b751d3</td><td>2018-01-06 15:31:49.000</td><td>1f98e346-7d2b-48df-b44f-c12b137d3447</td><td>298,60</td><td>1</td><td>2016-10-11 15:09:06.000</td><td>15</td></tr><tr><td>537716ea-f03b-0a19-04be-0663cbcdafa9</td><td>2018-08-03 14:30:19.000</td><td>c7819760-e703-7602-8f51-9e3b57e6c441</td><td>69,99</td><td>1</td><td>2017-05-15 21:05:16.000</td><td>15</td></tr><tr><td>d3582fd5-cccc-d9cb-229a-63dfb417c86f</td><td>2018-08-20 19:30:05.000</td><td>8d50f5ea-df50-201c-cdce-dfb9e2ac8455</td><td>23,40</td><td>1</td><td>2017-05-15 23:42:34.000</td><td>15</td></tr><tr><td>7a55d04b-91c3-854b-9cb2-444fccc8dcdf</td><td>2018-06-01 16:33:08.000</td><td>a4030b5e-97ff-c141-14e6-6d82df860f6f</td><td>28,90</td><td>1</td><td>2017-03-20 10:48:56.000</td><td>15</td></tr><tr><td>88a82da4-cb2e-b472-3c99-65285fe826c9</td><td>2018-08-10 13:50:19.000</td><td>71a92fd3-0875-01bc-fba6-e6e1ef7e8fd7</td><td>25,00</td><td>1</td><td>2017-05-10 13:30:16.000</td><td>15</td></tr><tr><td>1397417a-57ad-1bbf-e8d6-39df8cdee908</td><td>2018-07-02 18:31:03.000</td><td>5d323409-404d-ee6b-db0f-6cf9ef828dae</td><td>136,75</td><td>2</td><td>2017-04-27 13:05:38.000</td><td>15</td></tr><tr><td>9b21580d-9a14-0962-daa6-6b493fa50248</td><td>2018-08-07 04:44:41.000</td><td>0ef7b906-320b-21fe-4d39-f99496aaa2d8</td><td>69,99</td><td>1</td><td>2017-05-17 10:15:16.000</td><td>15</td></tr><tr><td>a1a6eada-e352-5820-10f4-49d8527b55f3</td><td>2018-08-18 12:50:37.000</td><td>8d50f5ea-df50-201c-cdce-dfb9e2ac8455</td><td>72,90</td><td>1</td><td>2017-05-15 23:42:34.000</td><td>15</td></tr><tr><td>6e10384d-6572-f58b-a12c-848b91299f39</td><td>2018-08-20 23:30:18.000</td><td>dc48b0a1-b0e6-abb6-586f-322c189f6b93</td><td>87,90</td><td>2</td><td>2017-05-18 14:02:46.000</td><td>15</td></tr><tr><td>70ee39a4-0074-e0c3-9dda-6d286a77d5c5</td><td>2018-06-27 08:29:48.000</td><td>4092bf29-0aa6-0e4f-2d4a-0dcc2f38c954</td><td>379,80</td><td>2</td><td>2017-03-29 02:10:41.000</td><td>15</td></tr><tr><td>adc2f0c9-fd83-8d82-0339-f8220c1adf08</td><td>2018-06-24 10:37:19.000</td><td>fb920961-e4d8-e55f-d9c3-57976a611765</td><td>17,90</td><td>1</td><td>2017-03-25 15:45:21.000</td><td>15</td></tr><tr><td>c1499ec4-70fb-fa0a-44ba-5d94f3a16ab2</td><td>2018-06-01 22:15:14.000</td><td>cb36d0f1-2c99-d079-35b7-06269045f613</td><td>79,90</td><td>1</td><td>2017-03-26 17:22:23.000</td><td>15</td></tr><tr><td>28cf0d3a-2917-f031-ecf4-715669a2dfad</td><td>2018-06-18 11:15:28.000</td><td>eeea20d9-3b0e-2214-11de-fcabab3c8949</td><td>58,90</td><td>1</td><td>2017-03-24 02:43:51.000</td><td>15</td></tr><tr><td>63feb2ae-0b83-6343-1638-61c5268b5e2e</td><td>2018-04-27 22:55:12.000</td><td>acf91aaa-6f33-7456-d3c5-06a5a494552c</td><td>89,90</td><td>1</td><td>2017-01-21 03:06:21.000</td><td>15</td></tr><tr><td>99044ba4-cee0-9a5f-d69a-8c9a25599f55</td><td>2018-05-09 00:14:09.000</td><td>7cf08f01-ab6a-6a13-65e1-613989a65158</td><td>117,00</td><td>1</td><td>2017-02-10 01:05:13.000</td><td>15</td></tr><tr><td>c2213109-a2cc-0e75-d555-85b7aaac6d97</td><td>2018-08-07 23:45:21.000</td><td>8d50f5ea-df50-201c-cdce-dfb9e2ac8455</td><td>26,99</td><td>1</td><td>2017-05-15 23:42:34.000</td><td>15</td></tr><tr><td>4de39e6e-d70e-6add-419c-d6560467478d</td><td>2018-07-18 17:30:19.000</td><td>e219a439-f6ca-99e3-2824-bcc7153969c9</td><td>75,00</td><td>1</td><td>2017-04-05 21:43:02.000</td><td>15</td></tr><tr><td>1c020c2a-20a5-2437-1e81-f9ef21eca0b6</td><td>2018-06-14 09:57:01.000</td><td>4e65032f-1f57-4189-fb79-3bac5a867bbc</td><td>43,20</td><td>1</td><td>2017-03-26 18:50:26.000</td><td>15</td></tr><tr><td>f66b8bf3-78bd-d2ac-ca86-04ef27039f1f</td><td>2018-08-09 08:35:17.000</td><td>4facc2e6-fbc2-bffa-b2fe-a92d2b4aa7e4</td><td>389,00</td><td>1</td><td>2017-06-18 23:30:11.000</td><td>14</td></tr><tr><td>2464a4f5-4814-d3de-6365-41955feeb947</td><td>2018-08-01 20:44:01.000</td><td>549a2453-0925-587e-2fad-db35f667e458</td><td>199,90</td><td>1</td><td>2017-06-18 10:10:16.000</td><td>14</td></tr><tr><td>8df8c319-9fb2-29a1-472b-0a47e3b106ae</td><td>2018-05-24 14:19:49.000</td><td>041caba6-a63a-ce58-1838-7698ea85cdb2</td><td>62,90</td><td>1</td><td>2017-03-15 21:50:14.000</td><td>14</td></tr><tr><td>112eb6f3-7f1b-9dab-bced-368fbbc6c9ef</td><td>2018-07-24 10:31:34.000</td><td>8d50f5ea-df50-201c-cdce-dfb9e2ac8455</td><td>99,00</td><td>1</td><td>2017-05-15 23:42:34.000</td><td>14</td></tr><tr><td>44809c64-bc4e-272b-0ffd-44dcaa3beb8c</td><td>2018-05-27 16:15:01.000</td><td>da8ac849-037c-7201-a41a-4db0b1fa963e</td><td>350,00</td><td>1</td><td>2017-03-28 08:35:11.000</td><td>14</td></tr><tr><td>26e3ef97-3522-7d94-c5e1-4a0a461d0ab5</td><td>2018-05-11 03:50:36.000</td><td>54e0a7cc-9c09-c591-bd18-6e4569c7bf30</td><td>95,00</td><td>1</td><td>2017-03-16 22:26:33.000</td><td>14</td></tr><tr><td>e90d8a86-7960-fe90-9ecb-460cb3a9e4d1</td><td>2018-08-13 18:35:26.000</td><td>cd6c68c5-fad1-5e0a-5a5c-1150546704e0</td><td>64,90</td><td>1</td><td>2017-06-11 17:25:10.000</td><td>14</td></tr><tr><td>d6e8c00f-e376-1c68-0d73-781f517b7e63</td><td>2018-07-05 18:35:13.000</td><td>aff7f8b5-669f-bc5d-6f60-97ce45e63b19</td><td>29,99</td><td>1</td><td>2017-05-17 14:42:23.000</td><td>14</td></tr><tr><td>44d14514-a061-27f7-2cd9-6745ed0eed21</td><td>2018-07-10 04:35:21.000</td><td>9b7fcfa0-5fb6-f8b8-8fea-3d74a6ba77d6</td><td>29,90</td><td>1</td><td>2017-05-22 10:39:14.000</td><td>14</td></tr><tr><td>57db3577-cc4d-6b5a-b2b9-849d29c3fc61</td><td>2018-04-07 21:30:12.000</td><td>fcd0ab79-592f-aab1-9e2b-f386cf69fbcd</td><td>48,90</td><td>1</td><td>2017-02-10 23:30:15.000</td><td>14</td></tr><tr><td>aeb70ca1-4a98-4230-b34a-6cbf48fe6d8a</td><td>2018-07-26 09:05:11.000</td><td>eb4520b1-6c32-518b-6615-f2d50f1be1bb</td><td>140,98</td><td>2</td><td>2017-05-16 13:10:13.000</td><td>14</td></tr><tr><td>94ca3861-9d7e-64f9-4fac-ac403a99682d</td><td>2018-07-30 16:05:13.000</td><td>0178b244-a5c2-81fb-2ade-54038dd4b161</td><td>118,98</td><td>3</td><td>2017-05-10 20:15:14.000</td><td>14</td></tr><tr><td>b16a844a-8a1b-4998-e150-5f65a65d1e6a</td><td>2018-05-02 12:14:49.000</td><td>12d8b5ed-6611-90a3-a081-83644dfc504d</td><td>109,80</td><td>2</td><td>2017-03-26 18:35:12.000</td><td>14</td></tr><tr><td>79581b07-0848-9f6f-9539-c0d29dc53bb7</td><td>2018-07-23 12:31:38.000</td><td>4041baa5-1d9e-ae8f-5955-ccd4f02bb044</td><td>79,90</td><td>1</td><td>2017-05-19 02:30:36.000</td><td>14</td></tr><tr><td>0ba4f7e8-9d30-4a02-edca-85087abfd14c</td><td>2018-08-13 23:04:09.000</td><td>4facc2e6-fbc2-bffa-b2fe-a92d2b4aa7e4</td><td>849,00</td><td>1</td><td>2017-06-18 23:30:11.000</td><td>14</td></tr><tr><td>0e93edf6-64c6-8e40-7889-c757350ef76a</td><td>2018-08-18 16:10:04.000</td><td>796214f3-f3b4-96b3-b116-986185984393</td><td>473,00</td><td>1</td><td>2017-06-13 04:05:25.000</td><td>14</td></tr><tr><td>e563afc4-7cb5-fafb-2ed8-869e9e822e38</td><td>2018-03-16 15:55:23.000</td><td>7588c20c-4573-69de-8caa-d958afc1cc06</td><td>48,00</td><td>2</td><td>2017-01-31 04:41:30.000</td><td>14</td></tr><tr><td>9804b558-05c8-c19a-fdf0-e9af3e494a0b</td><td>2018-06-03 14:10:18.000</td><td>8b4bb71a-7d37-d4c2-560e-0f0409a58905</td><td>72,90</td><td>1</td><td>2017-04-24 23:22:28.000</td><td>14</td></tr><tr><td>04492e6b-1fce-e531-7506-f927e0e89eb2</td><td>2018-07-17 01:15:13.000</td><td>31d332d2-0895-c5c0-baef-e55207a0fead</td><td>114,90</td><td>1</td><td>2017-05-14 22:10:16.000</td><td>14</td></tr><tr><td>a147b97f-47ab-bdb0-2f67-ea00da442cd8</td><td>2018-08-06 08:55:23.000</td><td>ee04cc9b-ca4c-9198-bec5-c54c2542dd3b</td><td>126,99</td><td>1</td><td>2017-06-20 15:55:21.000</td><td>14</td></tr><tr><td>d4575d5b-5261-6538-e99f-fe90f8931f81</td><td>2018-06-21 17:58:17.000</td><td>6f1b9f60-ea8e-e748-1403-53648c2d8d8f</td><td>184,90</td><td>1</td><td>2017-04-05 18:05:18.000</td><td>14</td></tr><tr><td>838f8e96-cf58-4a1d-8d22-eaf7143c7772</td><td>2018-07-05 16:27:55.000</td><td>8d50f5ea-df50-201c-cdce-dfb9e2ac8455</td><td>22,99</td><td>1</td><td>2017-05-15 23:42:34.000</td><td>14</td></tr><tr><td>3e6cbccd-0e3c-5e49-72f1-f1f178b81b08</td><td>2018-04-28 20:53:19.000</td><td>ece908ca-0502-def5-dd56-deca8a5c67d5</td><td>94,90</td><td>1</td><td>2017-02-25 18:50:17.000</td><td>14</td></tr><tr><td>ad40bc35-3ed6-f8f9-75fa-f818439c7de1</td><td>2018-08-04 06:10:08.000</td><td>46da36c3-df71-1885-2b77-0394d1ba2be5</td><td>52,90</td><td>1</td><td>2017-06-22 01:35:09.000</td><td>14</td></tr><tr><td>e21bb5b2-af08-7339-bd36-14d77a0053a1</td><td>2018-07-20 01:10:11.000</td><td>21559d7f-f0eb-ff72-0e5e-160184338fed</td><td>49,90</td><td>1</td><td>2017-06-11 06:35:15.000</td><td>13</td></tr><tr><td>c19e5e60-6043-fc8b-3302-3f0b377e2e55</td><td>2018-08-14 00:55:22.000</td><td>72421b30-e46c-895e-99e8-560a48a33fb6</td><td>62,70</td><td>1</td><td>2017-07-30 18:55:16.000</td><td>13</td></tr><tr><td>77d6b708-885d-2096-c60a-2c70d6339b47</td><td>2018-07-20 10:23:54.000</td><td>4facc2e6-fbc2-bffa-b2fe-a92d2b4aa7e4</td><td>299,90</td><td>1</td><td>2017-06-18 23:30:11.000</td><td>13</td></tr><tr><td>8e7c4bc6-f833-90fd-197e-3494442f1925</td><td>2018-08-01 23:45:08.000</td><td>e43c9920-2408-23d6-c97b-edc723c25281</td><td>83,90</td><td>1</td><td>2017-07-04 04:25:21.000</td><td>13</td></tr><tr><td>61b99e91-7a3d-a2c7-7c1a-3ef38cdf38de</td><td>2018-06-23 11:55:36.000</td><td>a0abd266-59c9-9146-90cb-d3320d39fd96</td><td>46,90</td><td>1</td><td>2017-05-27 14:15:16.000</td><td>13</td></tr><tr><td>3120b740-3aff-618e-67e9-457cd794c0ad</td><td>2018-02-06 17:15:39.000</td><td>60e6fe58-1610-db69-9ac0-3fec61f4d53f</td><td>199,00</td><td>1</td><td>2017-01-26 15:50:18.000</td><td>13</td></tr><tr><td>94fcdee9-4297-0d33-5d39-4f37a3b23ada</td><td>2018-03-20 03:10:42.000</td><td>3e665886-6cc6-36c1-762c-080ed56f44e6</td><td>179,00</td><td>1</td><td>2017-02-21 04:55:45.000</td><td>13</td></tr><tr><td>d3dd51ab-e467-d226-f8be-61f48388eba2</td><td>2018-07-25 11:30:19.000</td><td>8fdb3004-6559-b506-b2ea-1588cdfded0d</td><td>399,00</td><td>1</td><td>2017-06-25 23:22:52.000</td><td>13</td></tr><tr><td>10a0ce12-77f3-7432-4220-5061fccbb7c1</td><td>2018-03-17 11:35:27.000</td><td>4bbaf6f7-a10a-7e26-a877-7aa5cb6d5864</td><td>34,90</td><td>1</td><td>2017-02-05 19:01:52.000</td><td>13</td></tr><tr><td>0bd92af4-7823-9fae-0884-7d13e9fd8617</td><td>2018-04-19 09:52:37.000</td><td>1a328a66-4417-dc7c-bff0-ed7df49f5a3d</td><td>49,99</td><td>1</td><td>2017-03-11 17:38:51.000</td><td>13</td></tr><tr><td>f79d2206-d030-1d47-bc2a-623636ea53d1</td><td>2018-08-13 22:30:15.000</td><td>083ca1aa-470c-2802-3638-0973a48f77c6</td><td>82,00</td><td>1</td><td>2017-07-28 04:24:05.000</td><td>13</td></tr><tr><td>f0031384-d36f-f045-ee1e-866942d0fa7a</td><td>2018-08-23 00:24:27.000</td><td>dc813062-e0fc-2340-9cd2-55f7f53c7074</td><td>74,90</td><td>1</td><td>2017-07-01 04:30:09.000</td><td>13</td></tr><tr><td>50bfdb06-2780-7130-b8f9-89106c985a75</td><td>2018-08-07 10:05:15.000</td><td>f0ac405c-280f-ab1d-087b-8982e7801b54</td><td>63,00</td><td>1</td><td>2017-07-20 13:45:16.000</td><td>13</td></tr><tr><td>49e19ca0-7e42-bde0-8630-a08e50ad980e</td><td>2018-06-01 17:53:11.000</td><td>92024211-10f6-a19d-dcf0-b9b93602a0a1</td><td>109,90</td><td>1</td><td>2017-05-09 05:02:14.000</td><td>13</td></tr><tr><td>7b9bc6b7-6ad9-656c-a99e-8e1f2a6d249b</td><td>2018-07-19 14:05:22.000</td><td>d6db3091-e8c1-3023-bf1e-6d367b8c0847</td><td>68,50</td><td>1</td><td>2017-06-05 10:05:16.000</td><td>13</td></tr><tr><td>c7f9c9ed-8383-be0c-7514-a7672ffdfdbe</td><td>2018-08-16 16:10:25.000</td><td>73054307-19d7-1599-2b00-be82af4a6aa8</td><td>49,90</td><td>1</td><td>2017-07-12 11:10:16.000</td><td>13</td></tr><tr><td>a733dd75-6bea-7063-1950-8beaf3873a3c</td><td>2018-08-18 17:10:09.000</td><td>3fe3e628-c6c7-a15a-e964-16826a4c5952</td><td>249,00</td><td>1</td><td>2017-07-24 19:35:23.000</td><td>13</td></tr><tr><td>81a9ef6a-0791-099b-b585-9d0104f94dc9</td><td>2018-05-31 15:12:10.000</td><td>01f2285f-85a1-c603-eb7e-f755ad311769</td><td>252,00</td><td>1</td><td>2017-04-29 14:50:17.000</td><td>13</td></tr><tr><td>dff8b1cc-b6e6-1a78-5f9f-ad1cd48df4af</td><td>2017-11-11 16:30:50.000</td><td>4962136f-7559-81b8-3b03-f476e66eea7d</td><td>115,20</td><td>3</td><td>2016-10-10 01:55:38.000</td><td>13</td></tr><tr><td>fa4e2631-9fe4-d40d-c11c-b63c53be6355</td><td>2018-02-11 23:07:56.000</td><td>69e4074c-b536-8c15-3939-7e4ea570757a</td><td>49,90</td><td>1</td><td>2017-01-31 17:45:18.000</td><td>13</td></tr><tr><td>394961b2-b483-cbcf-be24-9c1634babac5</td><td>2018-02-15 19:06:19.000</td><td>5e0aa142-dc47-60e6-2a74-c1830cbf91b1</td><td>49,90</td><td>1</td><td>2017-01-20 01:30:17.000</td><td>13</td></tr><tr><td>f83a0ce6-6c45-7dfd-f564-dafa364ae1d4</td><td>2018-08-24 10:36:32.000</td><td>d08c2930-2907-086e-8fe8-23369542f3ae</td><td>29,80</td><td>2</td><td>2017-07-15 18:55:17.000</td><td>13</td></tr><tr><td>9eefad52-e5b3-7dc3-e94f-c823d63057b5</td><td>2018-04-13 09:52:08.000</td><td>2b5ffb4c-42d2-6e46-6ad5-75ecce365aa2</td><td>89,00</td><td>1</td><td>2017-03-13 16:32:40.000</td><td>13</td></tr><tr><td>4d2711a0-db9f-671c-10f8-ce62aeb438bb</td><td>2018-08-21 18:32:26.000</td><td>8f567321-ba12-101d-edc0-7c70b7021069</td><td>59,90</td><td>1</td><td>2017-07-14 18:43:51.000</td><td>13</td></tr><tr><td>bc29c5fc-e9c2-7180-7967-f2fe4cf289e5</td><td>2018-04-10 04:15:46.000</td><td>f3d7cb12-e7dc-54a4-24d9-35aae4426461</td><td>29,90</td><td>1</td><td>2017-03-30 02:11:01.000</td><td>13</td></tr></table>"
                    },
                    "metadata": {}
                }
            ],
            "execution_count": 19
        },
        {
            "cell_type": "code",
            "source": [
                "DROP VIEW Analitics.OrdersSummary"
            ],
            "metadata": {
                "azdata_cell_guid": "3f495f70-6ad3-4afa-89de-146b691e35d7"
            },
            "outputs": [
                {
                    "output_type": "display_data",
                    "data": {
                        "text/html": "Commands completed successfully."
                    },
                    "metadata": {}
                },
                {
                    "output_type": "display_data",
                    "data": {
                        "text/html": "Total execution time: 00:00:00.075"
                    },
                    "metadata": {}
                }
            ],
            "execution_count": 27
        },
        {
            "cell_type": "code",
            "source": [
                "SELECT TOP 100 * FROM Analitics.OrdersSummary"
            ],
            "metadata": {
                "azdata_cell_guid": "4a4c79dd-0383-4960-aa92-f66060791828"
            },
            "outputs": [
                {
                    "output_type": "display_data",
                    "data": {
                        "text/html": "Warning: Null value is eliminated by an aggregate or other SET operation."
                    },
                    "metadata": {}
                },
                {
                    "output_type": "display_data",
                    "data": {
                        "text/html": "(100 rows affected)"
                    },
                    "metadata": {}
                },
                {
                    "output_type": "display_data",
                    "data": {
                        "text/html": "Total execution time: 00:00:00.394"
                    },
                    "metadata": {}
                },
                {
                    "output_type": "execute_result",
                    "execution_count": 14,
                    "data": {
                        "application/vnd.dataresource+json": {
                            "schema": {
                                "fields": [
                                    {
                                        "name": "OrderId"
                                    },
                                    {
                                        "name": "OrderApprovedAt"
                                    },
                                    {
                                        "name": "CustomerId"
                                    },
                                    {
                                        "name": "ItemsValue"
                                    },
                                    {
                                        "name": "NumberOfItems"
                                    },
                                    {
                                        "name": "FirstPurchaseAt"
                                    },
                                    {
                                        "name": "MonthsFromFirstPurchase"
                                    }
                                ]
                            },
                            "data": [
                                {
                                    "0": "2d89599c-5c8a-739b-f6d0-61f82bd09032",
                                    "1": "2018-08-10 11:10:18.000",
                                    "2": "2381aabb-8ad1-faa9-1c14-e6200ffab4a1",
                                    "3": "210,00",
                                    "4": "1",
                                    "5": "2018-08-10 11:10:18.000",
                                    "6": "0"
                                },
                                {
                                    "0": "86cd8ffe-3ecc-c020-7618-a3187a294ea1",
                                    "1": "2017-08-13 22:23:54.000",
                                    "2": "f4d0e76d-8ffc-faac-1e65-6e7ae4226e6d",
                                    "3": "28,90",
                                    "4": "1",
                                    "5": "2017-08-13 22:23:54.000",
                                    "6": "0"
                                },
                                {
                                    "0": "01cce117-5ac3-c4a4-50e3-a0f856d02734",
                                    "1": "2018-07-19 20:43:14.000",
                                    "2": "07fe3cee-4055-1d23-77a9-17fb4f377714",
                                    "3": "96,23",
                                    "4": "2",
                                    "5": "2018-07-19 20:43:14.000",
                                    "6": "0"
                                },
                                {
                                    "0": "070b4a62-1a6d-06dc-ff91-22e5c04b353a",
                                    "1": "2017-09-10 09:45:09.000",
                                    "2": "27c9fbc5-854c-a2ab-9c51-abdd4b520589",
                                    "3": "219,99",
                                    "4": "1",
                                    "5": "2017-09-10 09:45:09.000",
                                    "6": "0"
                                },
                                {
                                    "0": "7c1afefc-4a95-869d-89d5-7c14e8fb7cc5",
                                    "1": "2017-11-27 22:56:27.000",
                                    "2": "5a8ab184-2a96-dae9-af12-0723e2d051e4",
                                    "3": "233,00",
                                    "4": "1",
                                    "5": "2017-11-27 22:56:27.000",
                                    "6": "0"
                                },
                                {
                                    "0": "e68fc011-bb04-2df4-0be9-a8a5c437fc16",
                                    "1": "2018-02-21 12:05:32.000",
                                    "2": "d1552e74-40bc-770b-8937-1f4c8c55cea0",
                                    "3": "17,90",
                                    "4": "1",
                                    "5": "2018-02-21 12:05:32.000",
                                    "6": "0"
                                },
                                {
                                    "0": "f3bf8da6-fd4b-735f-8585-2c38ca15e90e",
                                    "1": "2018-03-06 09:55:33.000",
                                    "2": "03edfeca-37b8-0c84-9dc2-f7a76cd6ca64",
                                    "3": "239,90",
                                    "4": "1",
                                    "5": "2018-03-06 09:55:33.000",
                                    "6": "0"
                                },
                                {
                                    "0": "105a17b0-1506-4cf4-8113-e9593c2ad700",
                                    "1": "2017-11-27 15:26:27.000",
                                    "2": "1199ef97-a7ec-9785-fec8-93f207e601ef",
                                    "3": "99,00",
                                    "4": "1",
                                    "5": "2017-11-27 15:26:27.000",
                                    "6": "0"
                                },
                                {
                                    "0": "39444c43-57a5-4def-3a08-7956dbb17e62",
                                    "1": "2017-08-19 02:30:17.000",
                                    "2": "231a0b20-227b-9d5b-4967-016e775415d6",
                                    "3": "25,90",
                                    "4": "1",
                                    "5": "2017-08-19 02:30:17.000",
                                    "6": "0"
                                },
                                {
                                    "0": "e8c8faf5-a3bf-5f48-97ae-8ca83902afe8",
                                    "1": "2017-08-02 02:37:17.000",
                                    "2": "50aca4b5-709f-af74-f552-ee07798b4b52",
                                    "3": "144,94",
                                    "4": "1",
                                    "5": "2017-08-02 02:37:17.000",
                                    "6": "0"
                                },
                                {
                                    "0": "656eb4f0-ee43-85fd-32f5-eb22d296be75",
                                    "1": "2017-12-14 23:57:38.000",
                                    "2": "b9cf03cd-b382-59ec-f209-d86fa8dd180d",
                                    "3": "224,90",
                                    "4": "1",
                                    "5": "2017-12-14 23:57:38.000",
                                    "6": "0"
                                },
                                {
                                    "0": "0cfabecb-9098-1285-6ae6-d21400104334",
                                    "1": "2018-05-18 16:57:57.000",
                                    "2": "a14720d6-2153-eabc-4a7c-bbd84afbcda9",
                                    "3": "70,25",
                                    "4": "1",
                                    "5": "2018-05-18 16:57:57.000",
                                    "6": "0"
                                },
                                {
                                    "0": "a7a623c6-45c3-8ce1-4310-5be339a3781e",
                                    "1": "2017-11-07 10:06:40.000",
                                    "2": "66d37fee-8c1d-4294-327a-9d54a7404138",
                                    "3": "79,00",
                                    "4": "1",
                                    "5": "2017-11-07 10:06:40.000",
                                    "6": "0"
                                },
                                {
                                    "0": "1a0ce44b-1b78-ab7a-0abb-0bdf7062b2c4",
                                    "1": "2018-04-26 20:15:11.000",
                                    "2": "721f7a89-a56c-2899-6dd2-f82fb7e49506",
                                    "3": "69,90",
                                    "4": "1",
                                    "5": "2018-04-26 20:15:11.000",
                                    "6": "0"
                                },
                                {
                                    "0": "4638df54-5f7a-b35c-b2e4-ed4bcb490e17",
                                    "1": "2017-09-07 19:50:24.000",
                                    "2": "755bd86a-f457-2db6-80ae-4004e152298a",
                                    "3": "760,00",
                                    "4": "1",
                                    "5": "2017-09-07 19:50:24.000",
                                    "6": "0"
                                },
                                {
                                    "0": "49dc298f-34ef-5539-77f9-98818dbeb38f",
                                    "1": "2018-02-25 19:47:54.000",
                                    "2": "ce57886c-45ed-2f90-3d3b-45b0283f507e",
                                    "3": "144,99",
                                    "4": "1",
                                    "5": "2018-02-25 19:47:54.000",
                                    "6": "0"
                                },
                                {
                                    "0": "5ca376cf-f085-294d-9b8a-396d8c9834ea",
                                    "1": "2018-04-05 17:35:31.000",
                                    "2": "3f083a4f-3e9b-fc22-1ad5-93bb50f7e6d8",
                                    "3": "39,40",
                                    "4": "1",
                                    "5": "2018-04-05 17:35:31.000",
                                    "6": "0"
                                },
                                {
                                    "0": "f0e4f948-ae4b-ea31-9a1a-234026b3e22b",
                                    "1": "2017-09-23 02:25:36.000",
                                    "2": "559c99ed-25c0-bfe0-3e2e-037c3205e9b6",
                                    "3": "138,00",
                                    "4": "1",
                                    "5": "2017-09-23 02:25:36.000",
                                    "6": "0"
                                },
                                {
                                    "0": "da03317c-f4ac-20f6-1db6-a8c363cd4ea7",
                                    "1": "2017-08-20 07:04:49.000",
                                    "2": "5da4b51a-1142-dd1e-7604-5c6a951213fa",
                                    "3": "109,99",
                                    "4": "1",
                                    "5": "2017-08-20 07:04:49.000",
                                    "6": "0"
                                },
                                {
                                    "0": "201110a1-8965-fc0d-621e-bf10a2a69288",
                                    "1": "2018-02-16 07:47:01.000",
                                    "2": "d0f3363e-59cf-c2c4-5445-723f67505097",
                                    "3": "42,00",
                                    "4": "1",
                                    "5": "2018-02-16 07:47:01.000",
                                    "6": "0"
                                },
                                {
                                    "0": "500ec09d-88a6-867f-4a2e-b557319cfe46",
                                    "1": "2017-11-27 00:32:44.000",
                                    "2": "68921758-6d2c-f192-8819-9fab8413ce0e",
                                    "3": "89,90",
                                    "4": "1",
                                    "5": "2017-11-27 00:32:44.000",
                                    "6": "0"
                                },
                                {
                                    "0": "ceffc136-b56b-e2a9-062d-21d6b869a0a1",
                                    "1": "2018-04-16 18:14:57.000",
                                    "2": "cbda3bed-5f60-6046-e27b-ad0baaa72f4a",
                                    "3": "99,00",
                                    "4": "1",
                                    "5": "2018-04-16 18:14:57.000",
                                    "6": "0"
                                },
                                {
                                    "0": "4881a623-8632-d9b0-ffa3-d48763aa2b7d",
                                    "1": "2017-11-29 15:42:51.000",
                                    "2": "c8b74327-6cb7-ecd1-27e2-65d3faaf5e77",
                                    "3": "49,90",
                                    "4": "1",
                                    "5": "2017-11-29 15:42:51.000",
                                    "6": "0"
                                },
                                {
                                    "0": "5f8c2540-7710-ac05-d9b7-93cb61ff00be",
                                    "1": "2018-04-19 12:14:11.000",
                                    "2": "59a4828b-e780-0b59-03e0-49b4207fdd5c",
                                    "3": "110,00",
                                    "4": "1",
                                    "5": "2018-04-19 12:14:11.000",
                                    "6": "0"
                                },
                                {
                                    "0": "578b6349-77ea-194b-887e-f0cee6d501d1",
                                    "1": "2017-11-11 17:26:17.000",
                                    "2": "22a9edc0-3eef-113d-b3ad-4ba7f93016e8",
                                    "3": "114,90",
                                    "4": "1",
                                    "5": "2017-11-11 17:26:17.000",
                                    "6": "0"
                                },
                                {
                                    "0": "85485db1-f11c-b496-d2fb-d2def0d397a3",
                                    "1": "2018-02-24 23:15:27.000",
                                    "2": "74fe3d2b-1336-7281-29d9-d1c651c72c9d",
                                    "3": "40,80",
                                    "4": "1",
                                    "5": "2018-02-24 23:15:27.000",
                                    "6": "0"
                                },
                                {
                                    "0": "95eba7f9-1699-dbaf-0acd-3ab3f70785c1",
                                    "1": "2017-11-22 21:46:20.000",
                                    "2": "1c86c5db-4ce0-addb-c955-d9c10c2cb053",
                                    "3": "250,00",
                                    "4": "1",
                                    "5": "2017-11-22 21:46:20.000",
                                    "6": "0"
                                },
                                {
                                    "0": "d4c18b8b-2316-57cf-a6a0-a7553052430f",
                                    "1": "2017-08-23 00:32:28.000",
                                    "2": "060e0b81-f5dd-707b-e032-4b36479fffa6",
                                    "3": "159,90",
                                    "4": "1",
                                    "5": "2017-08-23 00:32:28.000",
                                    "6": "0"
                                },
                                {
                                    "0": "002f16b7-bc45-3003-1b7d-90f791b12d8a",
                                    "1": "2018-07-02 17:11:12.000",
                                    "2": "eb859d4b-5ab5-4b64-3d2c-0cedaca0c9fb",
                                    "3": "249,90",
                                    "4": "1",
                                    "5": "2018-07-02 17:11:12.000",
                                    "6": "0"
                                },
                                {
                                    "0": "e8c68bc8-849a-22ef-58e4-ee2a76e04dea",
                                    "1": "2017-04-15 12:55:32.000",
                                    "2": "bd275613-059e-73a3-43d6-6b16cea41903",
                                    "3": "399,00",
                                    "4": "1",
                                    "5": "2017-04-15 12:55:32.000",
                                    "6": "0"
                                },
                                {
                                    "0": "2f2df159-f26d-db73-d55e-e72372200d3e",
                                    "1": "2017-07-17 01:30:09.000",
                                    "2": "1d532194-f005-426a-dcdf-6d969640d56e",
                                    "3": "150,00",
                                    "4": "1",
                                    "5": "2017-07-17 01:30:09.000",
                                    "6": "0"
                                },
                                {
                                    "0": "70a77e8b-9d2c-0a63-5ad3-0ea479939cd4",
                                    "1": "2018-03-23 14:28:56.000",
                                    "2": "8240b20d-1e0a-04ed-761e-ce5c6f56bb52",
                                    "3": "204,75",
                                    "4": "2",
                                    "5": "2018-03-23 14:28:56.000",
                                    "6": "0"
                                },
                                {
                                    "0": "d8f4ac2b-5cf5-7765-7a21-65a7c75857ff",
                                    "1": "2017-11-27 11:15:03.000",
                                    "2": "4cfcf39c-95ad-546b-0b18-e931bc3e6d6a",
                                    "3": "119,90",
                                    "4": "1",
                                    "5": "2017-11-27 11:15:03.000",
                                    "6": "0"
                                },
                                {
                                    "0": "da47f3e1-d422-ef0a-cfa4-5d3a81f0085f",
                                    "1": "2017-12-05 10:30:46.000",
                                    "2": "4a88a750-280b-dba0-dd1f-167ae2b68bfd",
                                    "3": "52,50",
                                    "4": "1",
                                    "5": "2017-12-05 10:30:46.000",
                                    "6": "0"
                                },
                                {
                                    "0": "1ad01a79-3bf3-c9b8-c126-414f162a6a0d",
                                    "1": "2018-08-05 19:45:11.000",
                                    "2": "fd5974ce-5709-0624-17dd-51122ae7f102",
                                    "3": "109,00",
                                    "4": "2",
                                    "5": "2018-08-05 19:45:11.000",
                                    "6": "0"
                                },
                                {
                                    "0": "3c7a85be-c79a-a0e4-9a8c-03c3fbece2de",
                                    "1": "2018-08-15 21:05:17.000",
                                    "2": "e6d81f3f-b913-a50c-0c94-769669226eb1",
                                    "3": "89,00",
                                    "4": "1",
                                    "5": "2018-08-15 21:05:17.000",
                                    "6": "0"
                                },
                                {
                                    "0": "7704a0d9-2762-105c-0ba2-72c37a94b5ca",
                                    "1": "2018-05-11 10:17:33.000",
                                    "2": "557cd07f-bd89-2abd-b1dc-537a91ac9f00",
                                    "3": "99,00",
                                    "4": "1",
                                    "5": "2018-05-11 10:17:33.000",
                                    "6": "0"
                                },
                                {
                                    "0": "78ebe5bf-2d56-685f-5b1e-6895cfd941e2",
                                    "1": "2017-05-22 18:22:46.000",
                                    "2": "8dec6b22-ebdc-2dd9-cd60-d5503c916586",
                                    "3": "56,99",
                                    "4": "1",
                                    "5": "2017-05-22 18:22:46.000",
                                    "6": "0"
                                },
                                {
                                    "0": "fefacc66-af85-9508-bf1a-7934eab1e97f",
                                    "1": "2018-07-27 04:05:13.000",
                                    "2": "459bef48-6812-aa25-204b-e022145caa62",
                                    "3": "6729,00",
                                    "4": "1",
                                    "5": "2018-07-27 04:05:13.000",
                                    "6": "0"
                                },
                                {
                                    "0": "201164b8-9baf-9300-df72-f328a6e5842e",
                                    "1": "2018-08-07 07:25:10.000",
                                    "2": "23c39e7d-9bf1-5bba-b631-d325550e83dd",
                                    "3": "42,90",
                                    "4": "1",
                                    "5": "2018-08-07 07:25:10.000",
                                    "6": "0"
                                },
                                {
                                    "0": "6376db8b-0145-5ca1-b4a1-c3d89ad69316",
                                    "1": "2018-02-16 02:50:30.000",
                                    "2": "b4bd5b8e-ddca-5e0b-8e0a-80a3b4d5e9f9",
                                    "3": "130,99",
                                    "4": "1",
                                    "5": "2018-02-16 02:50:30.000",
                                    "6": "0"
                                },
                                {
                                    "0": "bf43c3dc-9e56-8e98-768c-d15b4d526f9f",
                                    "1": "2018-01-16 16:52:11.000",
                                    "2": "e2ab461b-bbd2-cda4-8146-aaaf21d6bd29",
                                    "3": "369,99",
                                    "4": "1",
                                    "5": "2018-01-16 16:52:11.000",
                                    "6": "0"
                                },
                                {
                                    "0": "09193718-59b3-1502-2806-8cde3b07c122",
                                    "1": "2018-06-04 21:12:49.000",
                                    "2": "1bcb0d37-872e-0be7-a8dd-956b475523dd",
                                    "3": "109,00",
                                    "4": "1",
                                    "5": "2018-06-04 21:12:49.000",
                                    "6": "0"
                                },
                                {
                                    "0": "1aabb89e-9499-9e16-f85a-4a0078935996",
                                    "1": "2017-06-21 12:55:28.000",
                                    "2": "498bb699-b0cc-38a1-bf43-7df5c4559ec8",
                                    "3": "525,00",
                                    "4": "1",
                                    "5": "2017-06-21 12:55:28.000",
                                    "6": "0"
                                },
                                {
                                    "0": "3f234a80-dabc-182e-34e4-c50189cbf28f",
                                    "1": "2017-04-12 02:35:14.000",
                                    "2": "89a84b94-c1be-2503-7c87-2789b4a49f29",
                                    "3": "24,90",
                                    "4": "1",
                                    "5": "2017-04-12 02:35:14.000",
                                    "6": "0"
                                },
                                {
                                    "0": "6288a287-42bf-3c6e-c3bd-2cb7012176bb",
                                    "1": "2017-04-14 18:42:06.000",
                                    "2": "4288386c-c177-e8d8-514a-2fc1ccfbf2a5",
                                    "3": "369,90",
                                    "4": "1",
                                    "5": "2017-04-14 18:42:06.000",
                                    "6": "0"
                                },
                                {
                                    "0": "863d4b42-822d-16c0-6f0e-216b19b8233f",
                                    "1": "2017-10-02 17:14:15.000",
                                    "2": "1496c48d-8753-b54d-0668-3c408d52c621",
                                    "3": "99,90",
                                    "4": "1",
                                    "5": "2017-10-02 17:14:15.000",
                                    "6": "0"
                                },
                                {
                                    "0": "34c71897-0b33-419e-d6d5-37a90366231b",
                                    "1": "2016-10-06 15:44:00.000",
                                    "2": "e8798977-c2a6-2ecf-8f2b-17fba406097f",
                                    "3": "119,99",
                                    "4": "1",
                                    "5": "2016-10-06 15:44:00.000",
                                    "6": "0"
                                },
                                {
                                    "0": "3f4d7520-85db-597c-c5c8-02381e0a2488",
                                    "1": "2017-12-14 02:12:33.000",
                                    "2": "26c4adad-5125-842e-6e66-63a163ab8136",
                                    "3": "119,90",
                                    "4": "1",
                                    "5": "2017-12-14 02:12:33.000",
                                    "6": "0"
                                },
                                {
                                    "0": "a4887ea2-ccd5-e379-4593-4525a9939e9c",
                                    "1": "2018-03-31 14:55:19.000",
                                    "2": "d5c9515a-662f-5a58-070f-1861f9a38e85",
                                    "3": "45,99",
                                    "4": "1",
                                    "5": "2018-03-31 14:55:19.000",
                                    "6": "0"
                                },
                                {
                                    "0": "c0a1dc99-f453-8797-2d7c-24cb3ffb3727",
                                    "1": "2017-06-30 14:45:07.000",
                                    "2": "84188947-35b3-f7de-55e3-8d1fff69b7d6",
                                    "3": "139,90",
                                    "4": "1",
                                    "5": "2017-06-30 14:45:07.000",
                                    "6": "0"
                                },
                                {
                                    "0": "3d08a848-29e3-1457-8aef-c90c376dc3d7",
                                    "1": "2018-06-12 21:24:49.000",
                                    "2": "3e2dfa26-943e-fe5c-f2f7-6a725b6675a7",
                                    "3": "1599,00",
                                    "4": "1",
                                    "5": "2018-06-12 21:24:49.000",
                                    "6": "0"
                                },
                                {
                                    "0": "3e4e46d0-c15b-2041-78fc-5dea7c9644de",
                                    "1": "2017-11-25 01:53:27.000",
                                    "2": "229e6da5-2cb0-af08-5f0b-397e7edd64d7",
                                    "3": "190,83",
                                    "4": "1",
                                    "5": "2017-11-25 01:53:27.000",
                                    "6": "0"
                                },
                                {
                                    "0": "819c0a8d-e9ef-dc8a-6886-525a06dc7967",
                                    "1": "2018-07-05 16:21:06.000",
                                    "2": "1799b452-e02f-1540-46e2-609416569aa9",
                                    "3": "27,90",
                                    "4": "1",
                                    "5": "2018-07-05 16:21:06.000",
                                    "6": "0"
                                },
                                {
                                    "0": "871bb786-0901-ad46-c75b-6082df7b2915",
                                    "1": "2018-06-17 20:17:42.000",
                                    "2": "b7d55bc9-c816-ba4e-e887-eca38e40c67b",
                                    "3": "85,00",
                                    "4": "1",
                                    "5": "2018-06-17 20:17:42.000",
                                    "6": "0"
                                },
                                {
                                    "0": "e8fd2006-8b9f-7e6e-c070-68bb7537f781",
                                    "1": "2017-08-10 21:35:26.000",
                                    "2": "fb931071-0003-399b-031a-dd3e55f34719",
                                    "3": "712,00",
                                    "4": "2",
                                    "5": "2017-08-10 21:35:26.000",
                                    "6": "0"
                                },
                                {
                                    "0": "1e183518-cf69-a3f4-7a8f-2de2105a1c16",
                                    "1": "2017-11-24 03:12:17.000",
                                    "2": "99eb3455-5f2b-022b-5c8c-f242b9802e78",
                                    "3": "60,00",
                                    "4": "3",
                                    "5": "2017-11-24 03:12:17.000",
                                    "6": "0"
                                },
                                {
                                    "0": "3a335d92-5050-9602-da8e-ebcf766e1ddb",
                                    "1": "2018-07-06 17:31:30.000",
                                    "2": "3bcd0ddf-751c-b954-2efe-9f6299fad626",
                                    "3": "149,00",
                                    "4": "1",
                                    "5": "2018-06-27 18:50:46.000",
                                    "6": "1"
                                },
                                {
                                    "0": "d5ee3e8f-7e55-a206-d8c5-23ce9f507e3c",
                                    "1": "2018-04-20 07:51:29.000",
                                    "2": "1744950b-2564-ec07-0ad6-b2844fe8d043",
                                    "3": "135,90",
                                    "4": "1",
                                    "5": "2018-04-20 07:51:29.000",
                                    "6": "0"
                                },
                                {
                                    "0": "fbaea27e-afbf-4ac5-6866-115c9096c490",
                                    "1": "2018-08-01 16:35:09.000",
                                    "2": "cdd89792-1554-0089-e7b4-c6e4d60dce81",
                                    "3": "79,00",
                                    "4": "1",
                                    "5": "2018-08-01 16:35:09.000",
                                    "6": "0"
                                },
                                {
                                    "0": "d775e0b3-f108-5ff4-6d9c-4c3d9b125e4c",
                                    "1": "2017-06-29 13:04:00.000",
                                    "2": "db348cda-4734-08bb-5a83-be2414c58114",
                                    "3": "194,90",
                                    "4": "1",
                                    "5": "2017-06-29 13:04:00.000",
                                    "6": "0"
                                },
                                {
                                    "0": "2a463210-d1a9-df13-8675-20674e9358dc",
                                    "1": "2017-09-09 04:50:06.000",
                                    "2": "90268bc0-fa50-4821-ccab-a5d9e8d0c07d",
                                    "3": "48,90",
                                    "4": "1",
                                    "5": "2017-09-09 04:50:06.000",
                                    "6": "0"
                                },
                                {
                                    "0": "5fb7dd02-36cf-e4fd-2c62-0959623e4619",
                                    "1": "2018-04-26 03:35:13.000",
                                    "2": "45cabbb0-0b49-a581-e077-56f58b367642",
                                    "3": "129,90",
                                    "4": "1",
                                    "5": "2018-04-26 03:35:13.000",
                                    "6": "0"
                                },
                                {
                                    "0": "88c58a28-309e-c405-8522-16aa601ae32e",
                                    "1": "2017-12-06 09:49:15.000",
                                    "2": "817dfd84-bc8d-5e4d-6e57-f5cc73369a0d",
                                    "3": "89,80",
                                    "4": "1",
                                    "5": "2017-12-06 09:49:15.000",
                                    "6": "0"
                                },
                                {
                                    "0": "eb9f60e1-7d14-840f-f128-c124a67fb158",
                                    "1": "2018-05-21 22:16:36.000",
                                    "2": "bf6455f8-8aec-02d9-164f-9a705a82861f",
                                    "3": "59,90",
                                    "4": "1",
                                    "5": "2018-05-21 22:16:36.000",
                                    "6": "0"
                                },
                                {
                                    "0": "dbb96df7-d9b7-5d3d-fde8-d10da0d65cde",
                                    "1": "2017-04-13 12:25:04.000",
                                    "2": "12d932c6-fba8-d8af-ac3c-06e8e6d494c9",
                                    "3": "129,99",
                                    "4": "1",
                                    "5": "2017-04-13 12:25:04.000",
                                    "6": "0"
                                },
                                {
                                    "0": "46b4a41b-a022-48ac-63e0-d85649595f7e",
                                    "1": "2017-05-16 23:35:21.000",
                                    "2": "8e89cddc-36cd-0e93-c89e-894c6b84126e",
                                    "3": "113,90",
                                    "4": "1",
                                    "5": "2017-05-16 23:35:21.000",
                                    "6": "0"
                                },
                                {
                                    "0": "782aa8c8-856a-043f-dd99-7f8b869fe76c",
                                    "1": "2018-03-08 21:09:09.000",
                                    "2": "a33dd267-4db8-9fc0-fd04-3b7f0b5fc645",
                                    "3": "56,00",
                                    "4": "1",
                                    "5": "2018-03-08 21:09:09.000",
                                    "6": "0"
                                },
                                {
                                    "0": "e219ad74-7ae4-defe-726a-e79c84ed3819",
                                    "1": "2017-06-19 00:43:14.000",
                                    "2": "06c5db39-fbbb-2349-c912-08f215c0fc5b",
                                    "3": "249,99",
                                    "4": "1",
                                    "5": "2017-06-19 00:43:14.000",
                                    "6": "0"
                                },
                                {
                                    "0": "f3d1583d-73ba-d757-e13d-4e25b24efb32",
                                    "1": "2017-04-08 17:10:18.000",
                                    "2": "c9c0c82a-f514-e815-fa47-534f71113ebe",
                                    "3": "975,00",
                                    "4": "1",
                                    "5": "2017-04-08 17:10:18.000",
                                    "6": "0"
                                },
                                {
                                    "0": "afb622d9-6607-d2d1-3ff0-a4e8ae16486f",
                                    "1": "2017-12-18 14:19:19.000",
                                    "2": "beec198c-8836-f014-94e3-8b0dcfab5257",
                                    "3": "35,00",
                                    "4": "1",
                                    "5": "2017-12-18 14:19:19.000",
                                    "6": "0"
                                },
                                {
                                    "0": "35b6b027-2ca6-6bd5-fef6-d110463c40cc",
                                    "1": "2018-05-09 12:35:20.000",
                                    "2": "b83f0f5c-1db1-7585-73c5-ef9dfddf7045",
                                    "3": "64,99",
                                    "4": "1",
                                    "5": "2018-05-09 12:35:20.000",
                                    "6": "0"
                                },
                                {
                                    "0": "58d21ad5-a9ab-4a46-2893-53de5219fefd",
                                    "1": "2017-07-07 15:05:13.000",
                                    "2": "8221a282-20f5-1f0e-773c-11bd688228af",
                                    "3": "19,90",
                                    "4": "1",
                                    "5": "2017-07-07 15:05:13.000",
                                    "6": "0"
                                },
                                {
                                    "0": "7529dd17-78a9-d75b-cd36-7a8ddc1e9d14",
                                    "1": "2017-10-01 21:07:02.000",
                                    "2": "fcf07074-dc08-9a40-acd7-c7d5e7e8cf6c",
                                    "3": "59,90",
                                    "4": "1",
                                    "5": "2017-10-01 21:07:02.000",
                                    "6": "0"
                                },
                                {
                                    "0": "c05a5def-efe1-3926-9bfc-13a22fbe8543",
                                    "1": "2018-07-06 18:55:13.000",
                                    "2": "65dc7b43-4112-b187-1ffb-a93a74a65b5d",
                                    "3": "119,00",
                                    "4": "1",
                                    "5": "2018-07-06 18:55:13.000",
                                    "6": "0"
                                },
                                {
                                    "0": "d65c179a-817b-e229-77e2-63fbc1a4fef4",
                                    "1": "2017-08-09 22:03:51.000",
                                    "2": "4e21dec7-323a-d0b0-39b1-39d47fae3374",
                                    "3": "75,00",
                                    "4": "1",
                                    "5": "2017-08-09 22:03:51.000",
                                    "6": "0"
                                },
                                {
                                    "0": "17d22657-f098-7dcb-5df8-abd4fa057f8c",
                                    "1": "2018-05-15 18:16:03.000",
                                    "2": "0551e29d-8742-2d88-feca-4626c030ccef",
                                    "3": "89,90",
                                    "4": "1",
                                    "5": "2018-05-15 18:16:03.000",
                                    "6": "0"
                                },
                                {
                                    "0": "6a189ed8-c568-1951-93d5-880d4c090de5",
                                    "1": "2017-09-13 03:25:56.000",
                                    "2": "c530c9b5-43cc-976d-3828-f21a69abdec4",
                                    "3": "50,00",
                                    "4": "1",
                                    "5": "2017-09-13 03:25:56.000",
                                    "6": "0"
                                },
                                {
                                    "0": "7433cbcc-7832-0550-9d66-a5260da5b574",
                                    "1": "2018-01-08 11:35:27.000",
                                    "2": "9afe194f-b833-f79e-300e-37e580171f22",
                                    "3": "99,90",
                                    "4": "1",
                                    "5": "2018-01-08 11:35:27.000",
                                    "6": "0"
                                },
                                {
                                    "0": "981222fe-88bb-eab3-9c6c-a1fa7bceba4c",
                                    "1": "2017-11-26 01:50:04.000",
                                    "2": "3041f5d6-5c4f-a516-eed1-325d7a8657af",
                                    "3": "83,30",
                                    "4": "1",
                                    "5": "2017-11-26 01:50:04.000",
                                    "6": "0"
                                },
                                {
                                    "0": "6f4f578d-c161-9bdd-cbc6-c56c9502eb74",
                                    "1": "2018-01-23 12:18:03.000",
                                    "2": "3dc30160-06ce-fe3f-43b3-e0fbf60fbd7f",
                                    "3": "249,99",
                                    "4": "1",
                                    "5": "2018-01-23 12:18:03.000",
                                    "6": "0"
                                },
                                {
                                    "0": "adeaede1-9791-cc3d-2eb6-f340a6249aa7",
                                    "1": "2017-07-03 15:24:26.000",
                                    "2": "1ae30e98-d81b-df99-1fa2-5b52b8142308",
                                    "3": "117,98",
                                    "4": "2",
                                    "5": "2017-07-03 15:23:59.000",
                                    "6": "0"
                                },
                                {
                                    "0": "cea2d134-06a9-f18e-04f5-d57fae9929da",
                                    "1": "2017-10-22 18:14:32.000",
                                    "2": "f94be679-3b27-53d7-cae8-3ebcd73efcc8",
                                    "3": "58,00",
                                    "4": "2",
                                    "5": "2017-10-22 18:14:32.000",
                                    "6": "0"
                                },
                                {
                                    "0": "e0f06a57-d717-562c-49f9-1cd309be4598",
                                    "1": "2018-01-27 18:15:28.000",
                                    "2": "4a42c348-c989-8dca-1caf-7bf599abe02c",
                                    "3": "155,00",
                                    "4": "2",
                                    "5": "2018-01-27 18:15:28.000",
                                    "6": "0"
                                },
                                {
                                    "0": "f3797626-48ae-96c1-d048-44ca3308df86",
                                    "1": "2018-08-03 14:43:51.000",
                                    "2": "66094cc3-2cda-c22a-0a76-8c903b4a08bb",
                                    "3": "77,90",
                                    "4": "1",
                                    "5": "2018-08-03 14:43:51.000",
                                    "6": "0"
                                },
                                {
                                    "0": "048fc26b-eee4-f076-edae-01e578a13fc8",
                                    "1": "2018-02-12 09:48:47.000",
                                    "2": "c79346a0-4ff9-e3c8-61f7-df7e50c6c523",
                                    "3": "26,90",
                                    "4": "1",
                                    "5": "2018-02-12 09:48:47.000",
                                    "6": "0"
                                },
                                {
                                    "0": "755062e6-c08c-f5b8-7a6e-b6a094eca92b",
                                    "1": "2017-05-16 18:30:17.000",
                                    "2": "f696cd78-b519-a805-532b-07bc317f8ae7",
                                    "3": "56,99",
                                    "4": "1",
                                    "5": "2017-05-16 18:30:17.000",
                                    "6": "0"
                                },
                                {
                                    "0": "8fee0f49-0cce-11cc-2dc7-92974e21b3d6",
                                    "1": "2018-04-17 13:51:29.000",
                                    "2": "9d0de98e-6804-a35e-0827-de58c2066702",
                                    "3": "49,00",
                                    "4": "1",
                                    "5": "2018-04-17 13:51:29.000",
                                    "6": "0"
                                },
                                {
                                    "0": "8b4a1a6f-0e8e-8695-feba-49f260195ee8",
                                    "1": "2018-02-16 12:26:46.000",
                                    "2": "a78da8d7-418a-a0b0-fd87-8582e1ce84bf",
                                    "3": "120,00",
                                    "4": "1",
                                    "5": "2018-02-16 12:26:46.000",
                                    "6": "0"
                                },
                                {
                                    "0": "3c0a028d-6a29-4443-cc9c-a066194db51d",
                                    "1": "2018-05-15 18:59:04.000",
                                    "2": "f405bb09-1115-b907-81b5-862127ebd175",
                                    "3": "134,99",
                                    "4": "1",
                                    "5": "2018-05-15 18:59:04.000",
                                    "6": "0"
                                },
                                {
                                    "0": "ac190835-077b-7979-03f6-73fa82dc753c",
                                    "1": "2017-11-11 03:06:47.000",
                                    "2": "c4a139f3-528d-3b37-d735-91fe47dea573",
                                    "3": "67,90",
                                    "4": "1",
                                    "5": "2017-11-11 03:06:47.000",
                                    "6": "0"
                                },
                                {
                                    "0": "e04cfa71-3960-b9fe-50d6-4e5082155c8b",
                                    "1": "2017-07-17 12:15:16.000",
                                    "2": "a8baa4a0-63ca-9dd1-04ec-d654e717ab1f",
                                    "3": "189,99",
                                    "4": "1",
                                    "5": "2017-07-17 12:15:16.000",
                                    "6": "0"
                                },
                                {
                                    "0": "0212767f-ce39-149b-fc2e-12d54be96f65",
                                    "1": "2017-06-13 04:43:01.000",
                                    "2": "a151a9b9-96e1-d747-65c7-07cbf9fe0379",
                                    "3": "329,00",
                                    "4": "1",
                                    "5": "2017-06-13 04:43:01.000",
                                    "6": "0"
                                },
                                {
                                    "0": "1d791267-fec7-d645-56bf-4bdbaa5416c2",
                                    "1": "2017-12-03 16:53:52.000",
                                    "2": "22d47c0d-3a0a-3d56-67b7-3a5f1d8bb20a",
                                    "3": "348,80",
                                    "4": "1",
                                    "5": "2017-12-03 16:53:52.000",
                                    "6": "0"
                                },
                                {
                                    "0": "1782119b-c21f-8f92-0e45-57c56091a68a",
                                    "1": "2018-06-21 14:00:00.000",
                                    "2": "c7620313-ad8f-336e-f1a8-6409c44858fb",
                                    "3": "799,60",
                                    "4": "4",
                                    "5": "2018-06-21 14:00:00.000",
                                    "6": "0"
                                },
                                {
                                    "0": "0ba11238-4339-1ede-0901-811438202c24",
                                    "1": "2018-04-30 14:32:42.000",
                                    "2": "f28f6019-fdc1-722c-540b-c9dbf7da7fc9",
                                    "3": "49,00",
                                    "4": "1",
                                    "5": "2018-04-30 14:32:42.000",
                                    "6": "0"
                                },
                                {
                                    "0": "40d3d467-b60d-0858-76c5-72510701fc47",
                                    "1": "2018-04-05 16:35:18.000",
                                    "2": "03863e6d-f8bc-eaf5-ca8f-00217eed7975",
                                    "3": "79,00",
                                    "4": "1",
                                    "5": "2018-04-05 16:35:18.000",
                                    "6": "0"
                                },
                                {
                                    "0": "a0e2544c-7da8-75c2-1ffe-5c1f59a0fc0e",
                                    "1": "2018-01-12 20:51:23.000",
                                    "2": "15268288-3da7-483c-8abf-ba23f6f51c1c",
                                    "3": "33,90",
                                    "4": "1",
                                    "5": "2018-01-12 20:51:23.000",
                                    "6": "0"
                                },
                                {
                                    "0": "b3424a1c-4c3a-f064-d347-2b285180bed0",
                                    "1": "2017-08-30 16:04:13.000",
                                    "2": "3a100431-b41b-505a-8de0-150f93a71198",
                                    "3": "99,00",
                                    "4": "1",
                                    "5": "2017-08-30 16:04:13.000",
                                    "6": "0"
                                },
                                {
                                    "0": "279e00e0-fbb2-8713-1056-b0612f84ab6d",
                                    "1": "2017-07-26 09:55:20.000",
                                    "2": "917ea6ff-2f71-da15-4c6f-b2ac2528af99",
                                    "3": "249,90",
                                    "4": "1",
                                    "5": "2017-07-26 09:55:20.000",
                                    "6": "0"
                                }
                            ]
                        },
                        "text/html": "<table><tr><th>OrderId</th><th>OrderApprovedAt</th><th>CustomerId</th><th>ItemsValue</th><th>NumberOfItems</th><th>FirstPurchaseAt</th><th>MonthsFromFirstPurchase</th></tr><tr><td>2d89599c-5c8a-739b-f6d0-61f82bd09032</td><td>2018-08-10 11:10:18.000</td><td>2381aabb-8ad1-faa9-1c14-e6200ffab4a1</td><td>210,00</td><td>1</td><td>2018-08-10 11:10:18.000</td><td>0</td></tr><tr><td>86cd8ffe-3ecc-c020-7618-a3187a294ea1</td><td>2017-08-13 22:23:54.000</td><td>f4d0e76d-8ffc-faac-1e65-6e7ae4226e6d</td><td>28,90</td><td>1</td><td>2017-08-13 22:23:54.000</td><td>0</td></tr><tr><td>01cce117-5ac3-c4a4-50e3-a0f856d02734</td><td>2018-07-19 20:43:14.000</td><td>07fe3cee-4055-1d23-77a9-17fb4f377714</td><td>96,23</td><td>2</td><td>2018-07-19 20:43:14.000</td><td>0</td></tr><tr><td>070b4a62-1a6d-06dc-ff91-22e5c04b353a</td><td>2017-09-10 09:45:09.000</td><td>27c9fbc5-854c-a2ab-9c51-abdd4b520589</td><td>219,99</td><td>1</td><td>2017-09-10 09:45:09.000</td><td>0</td></tr><tr><td>7c1afefc-4a95-869d-89d5-7c14e8fb7cc5</td><td>2017-11-27 22:56:27.000</td><td>5a8ab184-2a96-dae9-af12-0723e2d051e4</td><td>233,00</td><td>1</td><td>2017-11-27 22:56:27.000</td><td>0</td></tr><tr><td>e68fc011-bb04-2df4-0be9-a8a5c437fc16</td><td>2018-02-21 12:05:32.000</td><td>d1552e74-40bc-770b-8937-1f4c8c55cea0</td><td>17,90</td><td>1</td><td>2018-02-21 12:05:32.000</td><td>0</td></tr><tr><td>f3bf8da6-fd4b-735f-8585-2c38ca15e90e</td><td>2018-03-06 09:55:33.000</td><td>03edfeca-37b8-0c84-9dc2-f7a76cd6ca64</td><td>239,90</td><td>1</td><td>2018-03-06 09:55:33.000</td><td>0</td></tr><tr><td>105a17b0-1506-4cf4-8113-e9593c2ad700</td><td>2017-11-27 15:26:27.000</td><td>1199ef97-a7ec-9785-fec8-93f207e601ef</td><td>99,00</td><td>1</td><td>2017-11-27 15:26:27.000</td><td>0</td></tr><tr><td>39444c43-57a5-4def-3a08-7956dbb17e62</td><td>2017-08-19 02:30:17.000</td><td>231a0b20-227b-9d5b-4967-016e775415d6</td><td>25,90</td><td>1</td><td>2017-08-19 02:30:17.000</td><td>0</td></tr><tr><td>e8c8faf5-a3bf-5f48-97ae-8ca83902afe8</td><td>2017-08-02 02:37:17.000</td><td>50aca4b5-709f-af74-f552-ee07798b4b52</td><td>144,94</td><td>1</td><td>2017-08-02 02:37:17.000</td><td>0</td></tr><tr><td>656eb4f0-ee43-85fd-32f5-eb22d296be75</td><td>2017-12-14 23:57:38.000</td><td>b9cf03cd-b382-59ec-f209-d86fa8dd180d</td><td>224,90</td><td>1</td><td>2017-12-14 23:57:38.000</td><td>0</td></tr><tr><td>0cfabecb-9098-1285-6ae6-d21400104334</td><td>2018-05-18 16:57:57.000</td><td>a14720d6-2153-eabc-4a7c-bbd84afbcda9</td><td>70,25</td><td>1</td><td>2018-05-18 16:57:57.000</td><td>0</td></tr><tr><td>a7a623c6-45c3-8ce1-4310-5be339a3781e</td><td>2017-11-07 10:06:40.000</td><td>66d37fee-8c1d-4294-327a-9d54a7404138</td><td>79,00</td><td>1</td><td>2017-11-07 10:06:40.000</td><td>0</td></tr><tr><td>1a0ce44b-1b78-ab7a-0abb-0bdf7062b2c4</td><td>2018-04-26 20:15:11.000</td><td>721f7a89-a56c-2899-6dd2-f82fb7e49506</td><td>69,90</td><td>1</td><td>2018-04-26 20:15:11.000</td><td>0</td></tr><tr><td>4638df54-5f7a-b35c-b2e4-ed4bcb490e17</td><td>2017-09-07 19:50:24.000</td><td>755bd86a-f457-2db6-80ae-4004e152298a</td><td>760,00</td><td>1</td><td>2017-09-07 19:50:24.000</td><td>0</td></tr><tr><td>49dc298f-34ef-5539-77f9-98818dbeb38f</td><td>2018-02-25 19:47:54.000</td><td>ce57886c-45ed-2f90-3d3b-45b0283f507e</td><td>144,99</td><td>1</td><td>2018-02-25 19:47:54.000</td><td>0</td></tr><tr><td>5ca376cf-f085-294d-9b8a-396d8c9834ea</td><td>2018-04-05 17:35:31.000</td><td>3f083a4f-3e9b-fc22-1ad5-93bb50f7e6d8</td><td>39,40</td><td>1</td><td>2018-04-05 17:35:31.000</td><td>0</td></tr><tr><td>f0e4f948-ae4b-ea31-9a1a-234026b3e22b</td><td>2017-09-23 02:25:36.000</td><td>559c99ed-25c0-bfe0-3e2e-037c3205e9b6</td><td>138,00</td><td>1</td><td>2017-09-23 02:25:36.000</td><td>0</td></tr><tr><td>da03317c-f4ac-20f6-1db6-a8c363cd4ea7</td><td>2017-08-20 07:04:49.000</td><td>5da4b51a-1142-dd1e-7604-5c6a951213fa</td><td>109,99</td><td>1</td><td>2017-08-20 07:04:49.000</td><td>0</td></tr><tr><td>201110a1-8965-fc0d-621e-bf10a2a69288</td><td>2018-02-16 07:47:01.000</td><td>d0f3363e-59cf-c2c4-5445-723f67505097</td><td>42,00</td><td>1</td><td>2018-02-16 07:47:01.000</td><td>0</td></tr><tr><td>500ec09d-88a6-867f-4a2e-b557319cfe46</td><td>2017-11-27 00:32:44.000</td><td>68921758-6d2c-f192-8819-9fab8413ce0e</td><td>89,90</td><td>1</td><td>2017-11-27 00:32:44.000</td><td>0</td></tr><tr><td>ceffc136-b56b-e2a9-062d-21d6b869a0a1</td><td>2018-04-16 18:14:57.000</td><td>cbda3bed-5f60-6046-e27b-ad0baaa72f4a</td><td>99,00</td><td>1</td><td>2018-04-16 18:14:57.000</td><td>0</td></tr><tr><td>4881a623-8632-d9b0-ffa3-d48763aa2b7d</td><td>2017-11-29 15:42:51.000</td><td>c8b74327-6cb7-ecd1-27e2-65d3faaf5e77</td><td>49,90</td><td>1</td><td>2017-11-29 15:42:51.000</td><td>0</td></tr><tr><td>5f8c2540-7710-ac05-d9b7-93cb61ff00be</td><td>2018-04-19 12:14:11.000</td><td>59a4828b-e780-0b59-03e0-49b4207fdd5c</td><td>110,00</td><td>1</td><td>2018-04-19 12:14:11.000</td><td>0</td></tr><tr><td>578b6349-77ea-194b-887e-f0cee6d501d1</td><td>2017-11-11 17:26:17.000</td><td>22a9edc0-3eef-113d-b3ad-4ba7f93016e8</td><td>114,90</td><td>1</td><td>2017-11-11 17:26:17.000</td><td>0</td></tr><tr><td>85485db1-f11c-b496-d2fb-d2def0d397a3</td><td>2018-02-24 23:15:27.000</td><td>74fe3d2b-1336-7281-29d9-d1c651c72c9d</td><td>40,80</td><td>1</td><td>2018-02-24 23:15:27.000</td><td>0</td></tr><tr><td>95eba7f9-1699-dbaf-0acd-3ab3f70785c1</td><td>2017-11-22 21:46:20.000</td><td>1c86c5db-4ce0-addb-c955-d9c10c2cb053</td><td>250,00</td><td>1</td><td>2017-11-22 21:46:20.000</td><td>0</td></tr><tr><td>d4c18b8b-2316-57cf-a6a0-a7553052430f</td><td>2017-08-23 00:32:28.000</td><td>060e0b81-f5dd-707b-e032-4b36479fffa6</td><td>159,90</td><td>1</td><td>2017-08-23 00:32:28.000</td><td>0</td></tr><tr><td>002f16b7-bc45-3003-1b7d-90f791b12d8a</td><td>2018-07-02 17:11:12.000</td><td>eb859d4b-5ab5-4b64-3d2c-0cedaca0c9fb</td><td>249,90</td><td>1</td><td>2018-07-02 17:11:12.000</td><td>0</td></tr><tr><td>e8c68bc8-849a-22ef-58e4-ee2a76e04dea</td><td>2017-04-15 12:55:32.000</td><td>bd275613-059e-73a3-43d6-6b16cea41903</td><td>399,00</td><td>1</td><td>2017-04-15 12:55:32.000</td><td>0</td></tr><tr><td>2f2df159-f26d-db73-d55e-e72372200d3e</td><td>2017-07-17 01:30:09.000</td><td>1d532194-f005-426a-dcdf-6d969640d56e</td><td>150,00</td><td>1</td><td>2017-07-17 01:30:09.000</td><td>0</td></tr><tr><td>70a77e8b-9d2c-0a63-5ad3-0ea479939cd4</td><td>2018-03-23 14:28:56.000</td><td>8240b20d-1e0a-04ed-761e-ce5c6f56bb52</td><td>204,75</td><td>2</td><td>2018-03-23 14:28:56.000</td><td>0</td></tr><tr><td>d8f4ac2b-5cf5-7765-7a21-65a7c75857ff</td><td>2017-11-27 11:15:03.000</td><td>4cfcf39c-95ad-546b-0b18-e931bc3e6d6a</td><td>119,90</td><td>1</td><td>2017-11-27 11:15:03.000</td><td>0</td></tr><tr><td>da47f3e1-d422-ef0a-cfa4-5d3a81f0085f</td><td>2017-12-05 10:30:46.000</td><td>4a88a750-280b-dba0-dd1f-167ae2b68bfd</td><td>52,50</td><td>1</td><td>2017-12-05 10:30:46.000</td><td>0</td></tr><tr><td>1ad01a79-3bf3-c9b8-c126-414f162a6a0d</td><td>2018-08-05 19:45:11.000</td><td>fd5974ce-5709-0624-17dd-51122ae7f102</td><td>109,00</td><td>2</td><td>2018-08-05 19:45:11.000</td><td>0</td></tr><tr><td>3c7a85be-c79a-a0e4-9a8c-03c3fbece2de</td><td>2018-08-15 21:05:17.000</td><td>e6d81f3f-b913-a50c-0c94-769669226eb1</td><td>89,00</td><td>1</td><td>2018-08-15 21:05:17.000</td><td>0</td></tr><tr><td>7704a0d9-2762-105c-0ba2-72c37a94b5ca</td><td>2018-05-11 10:17:33.000</td><td>557cd07f-bd89-2abd-b1dc-537a91ac9f00</td><td>99,00</td><td>1</td><td>2018-05-11 10:17:33.000</td><td>0</td></tr><tr><td>78ebe5bf-2d56-685f-5b1e-6895cfd941e2</td><td>2017-05-22 18:22:46.000</td><td>8dec6b22-ebdc-2dd9-cd60-d5503c916586</td><td>56,99</td><td>1</td><td>2017-05-22 18:22:46.000</td><td>0</td></tr><tr><td>fefacc66-af85-9508-bf1a-7934eab1e97f</td><td>2018-07-27 04:05:13.000</td><td>459bef48-6812-aa25-204b-e022145caa62</td><td>6729,00</td><td>1</td><td>2018-07-27 04:05:13.000</td><td>0</td></tr><tr><td>201164b8-9baf-9300-df72-f328a6e5842e</td><td>2018-08-07 07:25:10.000</td><td>23c39e7d-9bf1-5bba-b631-d325550e83dd</td><td>42,90</td><td>1</td><td>2018-08-07 07:25:10.000</td><td>0</td></tr><tr><td>6376db8b-0145-5ca1-b4a1-c3d89ad69316</td><td>2018-02-16 02:50:30.000</td><td>b4bd5b8e-ddca-5e0b-8e0a-80a3b4d5e9f9</td><td>130,99</td><td>1</td><td>2018-02-16 02:50:30.000</td><td>0</td></tr><tr><td>bf43c3dc-9e56-8e98-768c-d15b4d526f9f</td><td>2018-01-16 16:52:11.000</td><td>e2ab461b-bbd2-cda4-8146-aaaf21d6bd29</td><td>369,99</td><td>1</td><td>2018-01-16 16:52:11.000</td><td>0</td></tr><tr><td>09193718-59b3-1502-2806-8cde3b07c122</td><td>2018-06-04 21:12:49.000</td><td>1bcb0d37-872e-0be7-a8dd-956b475523dd</td><td>109,00</td><td>1</td><td>2018-06-04 21:12:49.000</td><td>0</td></tr><tr><td>1aabb89e-9499-9e16-f85a-4a0078935996</td><td>2017-06-21 12:55:28.000</td><td>498bb699-b0cc-38a1-bf43-7df5c4559ec8</td><td>525,00</td><td>1</td><td>2017-06-21 12:55:28.000</td><td>0</td></tr><tr><td>3f234a80-dabc-182e-34e4-c50189cbf28f</td><td>2017-04-12 02:35:14.000</td><td>89a84b94-c1be-2503-7c87-2789b4a49f29</td><td>24,90</td><td>1</td><td>2017-04-12 02:35:14.000</td><td>0</td></tr><tr><td>6288a287-42bf-3c6e-c3bd-2cb7012176bb</td><td>2017-04-14 18:42:06.000</td><td>4288386c-c177-e8d8-514a-2fc1ccfbf2a5</td><td>369,90</td><td>1</td><td>2017-04-14 18:42:06.000</td><td>0</td></tr><tr><td>863d4b42-822d-16c0-6f0e-216b19b8233f</td><td>2017-10-02 17:14:15.000</td><td>1496c48d-8753-b54d-0668-3c408d52c621</td><td>99,90</td><td>1</td><td>2017-10-02 17:14:15.000</td><td>0</td></tr><tr><td>34c71897-0b33-419e-d6d5-37a90366231b</td><td>2016-10-06 15:44:00.000</td><td>e8798977-c2a6-2ecf-8f2b-17fba406097f</td><td>119,99</td><td>1</td><td>2016-10-06 15:44:00.000</td><td>0</td></tr><tr><td>3f4d7520-85db-597c-c5c8-02381e0a2488</td><td>2017-12-14 02:12:33.000</td><td>26c4adad-5125-842e-6e66-63a163ab8136</td><td>119,90</td><td>1</td><td>2017-12-14 02:12:33.000</td><td>0</td></tr><tr><td>a4887ea2-ccd5-e379-4593-4525a9939e9c</td><td>2018-03-31 14:55:19.000</td><td>d5c9515a-662f-5a58-070f-1861f9a38e85</td><td>45,99</td><td>1</td><td>2018-03-31 14:55:19.000</td><td>0</td></tr><tr><td>c0a1dc99-f453-8797-2d7c-24cb3ffb3727</td><td>2017-06-30 14:45:07.000</td><td>84188947-35b3-f7de-55e3-8d1fff69b7d6</td><td>139,90</td><td>1</td><td>2017-06-30 14:45:07.000</td><td>0</td></tr><tr><td>3d08a848-29e3-1457-8aef-c90c376dc3d7</td><td>2018-06-12 21:24:49.000</td><td>3e2dfa26-943e-fe5c-f2f7-6a725b6675a7</td><td>1599,00</td><td>1</td><td>2018-06-12 21:24:49.000</td><td>0</td></tr><tr><td>3e4e46d0-c15b-2041-78fc-5dea7c9644de</td><td>2017-11-25 01:53:27.000</td><td>229e6da5-2cb0-af08-5f0b-397e7edd64d7</td><td>190,83</td><td>1</td><td>2017-11-25 01:53:27.000</td><td>0</td></tr><tr><td>819c0a8d-e9ef-dc8a-6886-525a06dc7967</td><td>2018-07-05 16:21:06.000</td><td>1799b452-e02f-1540-46e2-609416569aa9</td><td>27,90</td><td>1</td><td>2018-07-05 16:21:06.000</td><td>0</td></tr><tr><td>871bb786-0901-ad46-c75b-6082df7b2915</td><td>2018-06-17 20:17:42.000</td><td>b7d55bc9-c816-ba4e-e887-eca38e40c67b</td><td>85,00</td><td>1</td><td>2018-06-17 20:17:42.000</td><td>0</td></tr><tr><td>e8fd2006-8b9f-7e6e-c070-68bb7537f781</td><td>2017-08-10 21:35:26.000</td><td>fb931071-0003-399b-031a-dd3e55f34719</td><td>712,00</td><td>2</td><td>2017-08-10 21:35:26.000</td><td>0</td></tr><tr><td>1e183518-cf69-a3f4-7a8f-2de2105a1c16</td><td>2017-11-24 03:12:17.000</td><td>99eb3455-5f2b-022b-5c8c-f242b9802e78</td><td>60,00</td><td>3</td><td>2017-11-24 03:12:17.000</td><td>0</td></tr><tr><td>3a335d92-5050-9602-da8e-ebcf766e1ddb</td><td>2018-07-06 17:31:30.000</td><td>3bcd0ddf-751c-b954-2efe-9f6299fad626</td><td>149,00</td><td>1</td><td>2018-06-27 18:50:46.000</td><td>1</td></tr><tr><td>d5ee3e8f-7e55-a206-d8c5-23ce9f507e3c</td><td>2018-04-20 07:51:29.000</td><td>1744950b-2564-ec07-0ad6-b2844fe8d043</td><td>135,90</td><td>1</td><td>2018-04-20 07:51:29.000</td><td>0</td></tr><tr><td>fbaea27e-afbf-4ac5-6866-115c9096c490</td><td>2018-08-01 16:35:09.000</td><td>cdd89792-1554-0089-e7b4-c6e4d60dce81</td><td>79,00</td><td>1</td><td>2018-08-01 16:35:09.000</td><td>0</td></tr><tr><td>d775e0b3-f108-5ff4-6d9c-4c3d9b125e4c</td><td>2017-06-29 13:04:00.000</td><td>db348cda-4734-08bb-5a83-be2414c58114</td><td>194,90</td><td>1</td><td>2017-06-29 13:04:00.000</td><td>0</td></tr><tr><td>2a463210-d1a9-df13-8675-20674e9358dc</td><td>2017-09-09 04:50:06.000</td><td>90268bc0-fa50-4821-ccab-a5d9e8d0c07d</td><td>48,90</td><td>1</td><td>2017-09-09 04:50:06.000</td><td>0</td></tr><tr><td>5fb7dd02-36cf-e4fd-2c62-0959623e4619</td><td>2018-04-26 03:35:13.000</td><td>45cabbb0-0b49-a581-e077-56f58b367642</td><td>129,90</td><td>1</td><td>2018-04-26 03:35:13.000</td><td>0</td></tr><tr><td>88c58a28-309e-c405-8522-16aa601ae32e</td><td>2017-12-06 09:49:15.000</td><td>817dfd84-bc8d-5e4d-6e57-f5cc73369a0d</td><td>89,80</td><td>1</td><td>2017-12-06 09:49:15.000</td><td>0</td></tr><tr><td>eb9f60e1-7d14-840f-f128-c124a67fb158</td><td>2018-05-21 22:16:36.000</td><td>bf6455f8-8aec-02d9-164f-9a705a82861f</td><td>59,90</td><td>1</td><td>2018-05-21 22:16:36.000</td><td>0</td></tr><tr><td>dbb96df7-d9b7-5d3d-fde8-d10da0d65cde</td><td>2017-04-13 12:25:04.000</td><td>12d932c6-fba8-d8af-ac3c-06e8e6d494c9</td><td>129,99</td><td>1</td><td>2017-04-13 12:25:04.000</td><td>0</td></tr><tr><td>46b4a41b-a022-48ac-63e0-d85649595f7e</td><td>2017-05-16 23:35:21.000</td><td>8e89cddc-36cd-0e93-c89e-894c6b84126e</td><td>113,90</td><td>1</td><td>2017-05-16 23:35:21.000</td><td>0</td></tr><tr><td>782aa8c8-856a-043f-dd99-7f8b869fe76c</td><td>2018-03-08 21:09:09.000</td><td>a33dd267-4db8-9fc0-fd04-3b7f0b5fc645</td><td>56,00</td><td>1</td><td>2018-03-08 21:09:09.000</td><td>0</td></tr><tr><td>e219ad74-7ae4-defe-726a-e79c84ed3819</td><td>2017-06-19 00:43:14.000</td><td>06c5db39-fbbb-2349-c912-08f215c0fc5b</td><td>249,99</td><td>1</td><td>2017-06-19 00:43:14.000</td><td>0</td></tr><tr><td>f3d1583d-73ba-d757-e13d-4e25b24efb32</td><td>2017-04-08 17:10:18.000</td><td>c9c0c82a-f514-e815-fa47-534f71113ebe</td><td>975,00</td><td>1</td><td>2017-04-08 17:10:18.000</td><td>0</td></tr><tr><td>afb622d9-6607-d2d1-3ff0-a4e8ae16486f</td><td>2017-12-18 14:19:19.000</td><td>beec198c-8836-f014-94e3-8b0dcfab5257</td><td>35,00</td><td>1</td><td>2017-12-18 14:19:19.000</td><td>0</td></tr><tr><td>35b6b027-2ca6-6bd5-fef6-d110463c40cc</td><td>2018-05-09 12:35:20.000</td><td>b83f0f5c-1db1-7585-73c5-ef9dfddf7045</td><td>64,99</td><td>1</td><td>2018-05-09 12:35:20.000</td><td>0</td></tr><tr><td>58d21ad5-a9ab-4a46-2893-53de5219fefd</td><td>2017-07-07 15:05:13.000</td><td>8221a282-20f5-1f0e-773c-11bd688228af</td><td>19,90</td><td>1</td><td>2017-07-07 15:05:13.000</td><td>0</td></tr><tr><td>7529dd17-78a9-d75b-cd36-7a8ddc1e9d14</td><td>2017-10-01 21:07:02.000</td><td>fcf07074-dc08-9a40-acd7-c7d5e7e8cf6c</td><td>59,90</td><td>1</td><td>2017-10-01 21:07:02.000</td><td>0</td></tr><tr><td>c05a5def-efe1-3926-9bfc-13a22fbe8543</td><td>2018-07-06 18:55:13.000</td><td>65dc7b43-4112-b187-1ffb-a93a74a65b5d</td><td>119,00</td><td>1</td><td>2018-07-06 18:55:13.000</td><td>0</td></tr><tr><td>d65c179a-817b-e229-77e2-63fbc1a4fef4</td><td>2017-08-09 22:03:51.000</td><td>4e21dec7-323a-d0b0-39b1-39d47fae3374</td><td>75,00</td><td>1</td><td>2017-08-09 22:03:51.000</td><td>0</td></tr><tr><td>17d22657-f098-7dcb-5df8-abd4fa057f8c</td><td>2018-05-15 18:16:03.000</td><td>0551e29d-8742-2d88-feca-4626c030ccef</td><td>89,90</td><td>1</td><td>2018-05-15 18:16:03.000</td><td>0</td></tr><tr><td>6a189ed8-c568-1951-93d5-880d4c090de5</td><td>2017-09-13 03:25:56.000</td><td>c530c9b5-43cc-976d-3828-f21a69abdec4</td><td>50,00</td><td>1</td><td>2017-09-13 03:25:56.000</td><td>0</td></tr><tr><td>7433cbcc-7832-0550-9d66-a5260da5b574</td><td>2018-01-08 11:35:27.000</td><td>9afe194f-b833-f79e-300e-37e580171f22</td><td>99,90</td><td>1</td><td>2018-01-08 11:35:27.000</td><td>0</td></tr><tr><td>981222fe-88bb-eab3-9c6c-a1fa7bceba4c</td><td>2017-11-26 01:50:04.000</td><td>3041f5d6-5c4f-a516-eed1-325d7a8657af</td><td>83,30</td><td>1</td><td>2017-11-26 01:50:04.000</td><td>0</td></tr><tr><td>6f4f578d-c161-9bdd-cbc6-c56c9502eb74</td><td>2018-01-23 12:18:03.000</td><td>3dc30160-06ce-fe3f-43b3-e0fbf60fbd7f</td><td>249,99</td><td>1</td><td>2018-01-23 12:18:03.000</td><td>0</td></tr><tr><td>adeaede1-9791-cc3d-2eb6-f340a6249aa7</td><td>2017-07-03 15:24:26.000</td><td>1ae30e98-d81b-df99-1fa2-5b52b8142308</td><td>117,98</td><td>2</td><td>2017-07-03 15:23:59.000</td><td>0</td></tr><tr><td>cea2d134-06a9-f18e-04f5-d57fae9929da</td><td>2017-10-22 18:14:32.000</td><td>f94be679-3b27-53d7-cae8-3ebcd73efcc8</td><td>58,00</td><td>2</td><td>2017-10-22 18:14:32.000</td><td>0</td></tr><tr><td>e0f06a57-d717-562c-49f9-1cd309be4598</td><td>2018-01-27 18:15:28.000</td><td>4a42c348-c989-8dca-1caf-7bf599abe02c</td><td>155,00</td><td>2</td><td>2018-01-27 18:15:28.000</td><td>0</td></tr><tr><td>f3797626-48ae-96c1-d048-44ca3308df86</td><td>2018-08-03 14:43:51.000</td><td>66094cc3-2cda-c22a-0a76-8c903b4a08bb</td><td>77,90</td><td>1</td><td>2018-08-03 14:43:51.000</td><td>0</td></tr><tr><td>048fc26b-eee4-f076-edae-01e578a13fc8</td><td>2018-02-12 09:48:47.000</td><td>c79346a0-4ff9-e3c8-61f7-df7e50c6c523</td><td>26,90</td><td>1</td><td>2018-02-12 09:48:47.000</td><td>0</td></tr><tr><td>755062e6-c08c-f5b8-7a6e-b6a094eca92b</td><td>2017-05-16 18:30:17.000</td><td>f696cd78-b519-a805-532b-07bc317f8ae7</td><td>56,99</td><td>1</td><td>2017-05-16 18:30:17.000</td><td>0</td></tr><tr><td>8fee0f49-0cce-11cc-2dc7-92974e21b3d6</td><td>2018-04-17 13:51:29.000</td><td>9d0de98e-6804-a35e-0827-de58c2066702</td><td>49,00</td><td>1</td><td>2018-04-17 13:51:29.000</td><td>0</td></tr><tr><td>8b4a1a6f-0e8e-8695-feba-49f260195ee8</td><td>2018-02-16 12:26:46.000</td><td>a78da8d7-418a-a0b0-fd87-8582e1ce84bf</td><td>120,00</td><td>1</td><td>2018-02-16 12:26:46.000</td><td>0</td></tr><tr><td>3c0a028d-6a29-4443-cc9c-a066194db51d</td><td>2018-05-15 18:59:04.000</td><td>f405bb09-1115-b907-81b5-862127ebd175</td><td>134,99</td><td>1</td><td>2018-05-15 18:59:04.000</td><td>0</td></tr><tr><td>ac190835-077b-7979-03f6-73fa82dc753c</td><td>2017-11-11 03:06:47.000</td><td>c4a139f3-528d-3b37-d735-91fe47dea573</td><td>67,90</td><td>1</td><td>2017-11-11 03:06:47.000</td><td>0</td></tr><tr><td>e04cfa71-3960-b9fe-50d6-4e5082155c8b</td><td>2017-07-17 12:15:16.000</td><td>a8baa4a0-63ca-9dd1-04ec-d654e717ab1f</td><td>189,99</td><td>1</td><td>2017-07-17 12:15:16.000</td><td>0</td></tr><tr><td>0212767f-ce39-149b-fc2e-12d54be96f65</td><td>2017-06-13 04:43:01.000</td><td>a151a9b9-96e1-d747-65c7-07cbf9fe0379</td><td>329,00</td><td>1</td><td>2017-06-13 04:43:01.000</td><td>0</td></tr><tr><td>1d791267-fec7-d645-56bf-4bdbaa5416c2</td><td>2017-12-03 16:53:52.000</td><td>22d47c0d-3a0a-3d56-67b7-3a5f1d8bb20a</td><td>348,80</td><td>1</td><td>2017-12-03 16:53:52.000</td><td>0</td></tr><tr><td>1782119b-c21f-8f92-0e45-57c56091a68a</td><td>2018-06-21 14:00:00.000</td><td>c7620313-ad8f-336e-f1a8-6409c44858fb</td><td>799,60</td><td>4</td><td>2018-06-21 14:00:00.000</td><td>0</td></tr><tr><td>0ba11238-4339-1ede-0901-811438202c24</td><td>2018-04-30 14:32:42.000</td><td>f28f6019-fdc1-722c-540b-c9dbf7da7fc9</td><td>49,00</td><td>1</td><td>2018-04-30 14:32:42.000</td><td>0</td></tr><tr><td>40d3d467-b60d-0858-76c5-72510701fc47</td><td>2018-04-05 16:35:18.000</td><td>03863e6d-f8bc-eaf5-ca8f-00217eed7975</td><td>79,00</td><td>1</td><td>2018-04-05 16:35:18.000</td><td>0</td></tr><tr><td>a0e2544c-7da8-75c2-1ffe-5c1f59a0fc0e</td><td>2018-01-12 20:51:23.000</td><td>15268288-3da7-483c-8abf-ba23f6f51c1c</td><td>33,90</td><td>1</td><td>2018-01-12 20:51:23.000</td><td>0</td></tr><tr><td>b3424a1c-4c3a-f064-d347-2b285180bed0</td><td>2017-08-30 16:04:13.000</td><td>3a100431-b41b-505a-8de0-150f93a71198</td><td>99,00</td><td>1</td><td>2017-08-30 16:04:13.000</td><td>0</td></tr><tr><td>279e00e0-fbb2-8713-1056-b0612f84ab6d</td><td>2017-07-26 09:55:20.000</td><td>917ea6ff-2f71-da15-4c6f-b2ac2528af99</td><td>249,90</td><td>1</td><td>2017-07-26 09:55:20.000</td><td>0</td></tr></table>"
                    },
                    "metadata": {}
                }
            ],
            "execution_count": 14
        },
        {
            "cell_type": "code",
            "source": [
                "SELECT TOP 10 * FROM Analitics.OrdersSummary\r\n",
                "WHERE MonthsFromFirstPurchase > 10\r\n",
                ""
            ],
            "metadata": {
                "azdata_cell_guid": "d99dd342-5019-426c-b704-8e48872f0311"
            },
            "outputs": [
                {
                    "output_type": "display_data",
                    "data": {
                        "text/html": "Warning: Null value is eliminated by an aggregate or other SET operation."
                    },
                    "metadata": {}
                },
                {
                    "output_type": "display_data",
                    "data": {
                        "text/html": "(10 rows affected)"
                    },
                    "metadata": {}
                },
                {
                    "output_type": "display_data",
                    "data": {
                        "text/html": "Total execution time: 00:00:00.229"
                    },
                    "metadata": {}
                },
                {
                    "output_type": "execute_result",
                    "execution_count": 35,
                    "data": {
                        "application/vnd.dataresource+json": {
                            "schema": {
                                "fields": [
                                    {
                                        "name": "OrderId"
                                    },
                                    {
                                        "name": "OrderApprovedAt"
                                    },
                                    {
                                        "name": "CustomerId"
                                    },
                                    {
                                        "name": "ItemsValue"
                                    },
                                    {
                                        "name": "NumberOfItems"
                                    },
                                    {
                                        "name": "FirstPurchaseAt"
                                    },
                                    {
                                        "name": "MonthsFromFirstPurchase"
                                    }
                                ]
                            },
                            "data": [
                                {
                                    "0": "6e1d72c4-9d6a-a8e6-a4c5-670c6ae13c72",
                                    "1": "2018-07-15 00:04:08.000",
                                    "2": "30b782a7-9466-0077-56f1-70cb5bd6bbd8",
                                    "3": "29,90",
                                    "4": "1",
                                    "5": "2017-02-20 21:25:20.000",
                                    "6": "17"
                                },
                                {
                                    "0": "e3d65100-7ef1-548b-71b4-285ca0f484e4",
                                    "1": "2018-08-11 12:55:26.000",
                                    "2": "97258e1c-1f77-f323-58ec-cd1c9ee5954d",
                                    "3": "110,00",
                                    "4": "1",
                                    "5": "2017-03-24 21:10:12.000",
                                    "6": "17"
                                },
                                {
                                    "0": "2d62a673-525d-6861-e6f5-f7ea6969c96c",
                                    "1": "2018-03-23 00:10:52.000",
                                    "2": "6f65f19c-2dcf-cab8-b76b-2fafb5b840e1",
                                    "3": "65,90",
                                    "4": "1",
                                    "5": "2017-02-06 23:05:18.000",
                                    "6": "13"
                                },
                                {
                                    "0": "bb03daf7-fc73-8a6f-ce90-8d083fd0f4aa",
                                    "1": "2018-03-13 14:31:44.000",
                                    "2": "12d8b5ed-6611-90a3-a081-83644dfc504d",
                                    "3": "259,90",
                                    "4": "1",
                                    "5": "2017-03-26 18:35:12.000",
                                    "6": "12"
                                },
                                {
                                    "0": "364f6a92-b4af-c67a-c310-4f92bec22ba8",
                                    "1": "2018-03-13 10:00:23.000",
                                    "2": "d05fdf65-460e-a1bf-8735-cd5843c3d97d",
                                    "3": "182,00",
                                    "4": "1",
                                    "5": "2017-03-09 17:08:32.000",
                                    "6": "12"
                                },
                                {
                                    "0": "277f0bb8-cf28-ee39-feee-7825b5578c34",
                                    "1": "2018-06-28 12:55:28.000",
                                    "2": "35b45b90-6d14-50b3-540d-c96692f58583",
                                    "3": "129,90",
                                    "4": "1",
                                    "5": "2017-06-10 18:22:37.000",
                                    "6": "12"
                                },
                                {
                                    "0": "0e93edf6-64c6-8e40-7889-c757350ef76a",
                                    "1": "2018-08-18 16:10:04.000",
                                    "2": "796214f3-f3b4-96b3-b116-986185984393",
                                    "3": "473,00",
                                    "4": "1",
                                    "5": "2017-06-13 04:05:25.000",
                                    "6": "14"
                                },
                                {
                                    "0": "3f04e710-beea-0fa7-c098-42c227f005ad",
                                    "1": "2018-08-04 04:15:34.000",
                                    "2": "525e9dbf-2f67-5f89-3b9f-695d5ecefb31",
                                    "3": "119,99",
                                    "4": "1",
                                    "5": "2017-09-13 12:30:19.000",
                                    "6": "11"
                                },
                                {
                                    "0": "1c020c2a-20a5-2437-1e81-f9ef21eca0b6",
                                    "1": "2018-06-14 09:57:01.000",
                                    "2": "4e65032f-1f57-4189-fb79-3bac5a867bbc",
                                    "3": "43,20",
                                    "4": "1",
                                    "5": "2017-03-26 18:50:26.000",
                                    "6": "15"
                                },
                                {
                                    "0": "c7dc7be6-7e85-7a6c-6455-7d42383dec8c",
                                    "1": "2018-07-25 14:04:40.000",
                                    "2": "77784ec0-16bf-bcc5-1d23-94d1632f0d3d",
                                    "3": "99,90",
                                    "4": "1",
                                    "5": "2017-08-18 05:30:06.000",
                                    "6": "11"
                                }
                            ]
                        },
                        "text/html": "<table><tr><th>OrderId</th><th>OrderApprovedAt</th><th>CustomerId</th><th>ItemsValue</th><th>NumberOfItems</th><th>FirstPurchaseAt</th><th>MonthsFromFirstPurchase</th></tr><tr><td>6e1d72c4-9d6a-a8e6-a4c5-670c6ae13c72</td><td>2018-07-15 00:04:08.000</td><td>30b782a7-9466-0077-56f1-70cb5bd6bbd8</td><td>29,90</td><td>1</td><td>2017-02-20 21:25:20.000</td><td>17</td></tr><tr><td>e3d65100-7ef1-548b-71b4-285ca0f484e4</td><td>2018-08-11 12:55:26.000</td><td>97258e1c-1f77-f323-58ec-cd1c9ee5954d</td><td>110,00</td><td>1</td><td>2017-03-24 21:10:12.000</td><td>17</td></tr><tr><td>2d62a673-525d-6861-e6f5-f7ea6969c96c</td><td>2018-03-23 00:10:52.000</td><td>6f65f19c-2dcf-cab8-b76b-2fafb5b840e1</td><td>65,90</td><td>1</td><td>2017-02-06 23:05:18.000</td><td>13</td></tr><tr><td>bb03daf7-fc73-8a6f-ce90-8d083fd0f4aa</td><td>2018-03-13 14:31:44.000</td><td>12d8b5ed-6611-90a3-a081-83644dfc504d</td><td>259,90</td><td>1</td><td>2017-03-26 18:35:12.000</td><td>12</td></tr><tr><td>364f6a92-b4af-c67a-c310-4f92bec22ba8</td><td>2018-03-13 10:00:23.000</td><td>d05fdf65-460e-a1bf-8735-cd5843c3d97d</td><td>182,00</td><td>1</td><td>2017-03-09 17:08:32.000</td><td>12</td></tr><tr><td>277f0bb8-cf28-ee39-feee-7825b5578c34</td><td>2018-06-28 12:55:28.000</td><td>35b45b90-6d14-50b3-540d-c96692f58583</td><td>129,90</td><td>1</td><td>2017-06-10 18:22:37.000</td><td>12</td></tr><tr><td>0e93edf6-64c6-8e40-7889-c757350ef76a</td><td>2018-08-18 16:10:04.000</td><td>796214f3-f3b4-96b3-b116-986185984393</td><td>473,00</td><td>1</td><td>2017-06-13 04:05:25.000</td><td>14</td></tr><tr><td>3f04e710-beea-0fa7-c098-42c227f005ad</td><td>2018-08-04 04:15:34.000</td><td>525e9dbf-2f67-5f89-3b9f-695d5ecefb31</td><td>119,99</td><td>1</td><td>2017-09-13 12:30:19.000</td><td>11</td></tr><tr><td>1c020c2a-20a5-2437-1e81-f9ef21eca0b6</td><td>2018-06-14 09:57:01.000</td><td>4e65032f-1f57-4189-fb79-3bac5a867bbc</td><td>43,20</td><td>1</td><td>2017-03-26 18:50:26.000</td><td>15</td></tr><tr><td>c7dc7be6-7e85-7a6c-6455-7d42383dec8c</td><td>2018-07-25 14:04:40.000</td><td>77784ec0-16bf-bcc5-1d23-94d1632f0d3d</td><td>99,90</td><td>1</td><td>2017-08-18 05:30:06.000</td><td>11</td></tr></table>"
                    },
                    "metadata": {}
                }
            ],
            "execution_count": 35
        },
        {
            "cell_type": "code",
            "source": [
                "-- Select rows from a Table or View '[OrdersSummary]' in schema '[dbo]'\r\n",
                "SELECT * FROM [Analitics].[OrdersSummary]\r\n",
                "WHERE CustomerId = '35b45b90-6d14-50b3-540d-c96692f58583'\r\n",
                "GO"
            ],
            "metadata": {
                "azdata_cell_guid": "10c2fa76-4bda-42d9-9ff4-32bd6f161ddd"
            },
            "outputs": [
                {
                    "output_type": "display_data",
                    "data": {
                        "text/html": "(2 rows affected)"
                    },
                    "metadata": {}
                },
                {
                    "output_type": "display_data",
                    "data": {
                        "text/html": "Total execution time: 00:00:01.042"
                    },
                    "metadata": {}
                },
                {
                    "output_type": "execute_result",
                    "execution_count": 36,
                    "data": {
                        "application/vnd.dataresource+json": {
                            "schema": {
                                "fields": [
                                    {
                                        "name": "OrderId"
                                    },
                                    {
                                        "name": "OrderApprovedAt"
                                    },
                                    {
                                        "name": "CustomerId"
                                    },
                                    {
                                        "name": "ItemsValue"
                                    },
                                    {
                                        "name": "NumberOfItems"
                                    },
                                    {
                                        "name": "FirstPurchaseAt"
                                    },
                                    {
                                        "name": "MonthsFromFirstPurchase"
                                    }
                                ]
                            },
                            "data": [
                                {
                                    "0": "277f0bb8-cf28-ee39-feee-7825b5578c34",
                                    "1": "2018-06-28 12:55:28.000",
                                    "2": "35b45b90-6d14-50b3-540d-c96692f58583",
                                    "3": "129,90",
                                    "4": "1",
                                    "5": "2017-06-10 18:22:37.000",
                                    "6": "12"
                                },
                                {
                                    "0": "6ee93b76-8b2e-ce27-8852-a25fecf3eb03",
                                    "1": "2017-06-10 18:22:37.000",
                                    "2": "35b45b90-6d14-50b3-540d-c96692f58583",
                                    "3": "207,94",
                                    "4": "2",
                                    "5": "2017-06-10 18:22:37.000",
                                    "6": "0"
                                }
                            ]
                        },
                        "text/html": "<table><tr><th>OrderId</th><th>OrderApprovedAt</th><th>CustomerId</th><th>ItemsValue</th><th>NumberOfItems</th><th>FirstPurchaseAt</th><th>MonthsFromFirstPurchase</th></tr><tr><td>277f0bb8-cf28-ee39-feee-7825b5578c34</td><td>2018-06-28 12:55:28.000</td><td>35b45b90-6d14-50b3-540d-c96692f58583</td><td>129,90</td><td>1</td><td>2017-06-10 18:22:37.000</td><td>12</td></tr><tr><td>6ee93b76-8b2e-ce27-8852-a25fecf3eb03</td><td>2017-06-10 18:22:37.000</td><td>35b45b90-6d14-50b3-540d-c96692f58583</td><td>207,94</td><td>2</td><td>2017-06-10 18:22:37.000</td><td>0</td></tr></table>"
                    },
                    "metadata": {}
                }
            ],
            "execution_count": 36
        },
        {
            "cell_type": "code",
            "source": [
                "SELECT YEAR(OrderApprovedAt) AS Year, MONTH(OrderApprovedAt) AS MONTH, \r\n",
                "SUM(ItemsValue) AS Sales, COUNT(OrderId) AS NumberOfOrders, \r\n",
                "TRY_CAST(AVG(ItemsValue) AS decimal(5,2)) AS AverageOrderValue, \r\n",
                "SUM(NumberOfItems) AS NumberOfItems,\r\n",
                "COUNT(DISTINCT CustomerId) AS NumberOfActiveCustomers, \r\n",
                "COUNT(DISTINCT CASE WHEN MonthsFromFirstPurchase > 0 THEN CustomerID ELSE NULL END) AS RetainedCustomersRatio\r\n",
                "FROM [Analitics].OrdersSummary\r\n",
                "WHERE  YEAR(OrderApprovedAt) >=2017\r\n",
                "GROUP BY YEAR(OrderApprovedAt), MONTH(OrderApprovedAt)\r\n",
                "ORDER BY [YEAR], [MONTH]\r\n",
                ""
            ],
            "metadata": {
                "azdata_cell_guid": "cf3b1d2b-92ed-45ac-8087-a924f0b14670"
            },
            "outputs": [
                {
                    "output_type": "display_data",
                    "data": {
                        "text/html": "Warning: Null value is eliminated by an aggregate or other SET operation."
                    },
                    "metadata": {}
                },
                {
                    "output_type": "display_data",
                    "data": {
                        "text/html": "(20 rows affected)"
                    },
                    "metadata": {}
                },
                {
                    "output_type": "display_data",
                    "data": {
                        "text/html": "Total execution time: 00:00:03.258"
                    },
                    "metadata": {}
                },
                {
                    "output_type": "execute_result",
                    "execution_count": 27,
                    "data": {
                        "application/vnd.dataresource+json": {
                            "schema": {
                                "fields": [
                                    {
                                        "name": "Year"
                                    },
                                    {
                                        "name": "MONTH"
                                    },
                                    {
                                        "name": "Sales"
                                    },
                                    {
                                        "name": "NumberOfOrders"
                                    },
                                    {
                                        "name": "AverageOrderValue"
                                    },
                                    {
                                        "name": "NumberOfItems"
                                    },
                                    {
                                        "name": "NumberOfActiveCustomers"
                                    },
                                    {
                                        "name": "RetainedCustomersRatio"
                                    }
                                ]
                            },
                            "data": [
                                {
                                    "0": "2017",
                                    "1": "1",
                                    "2": "106888,10",
                                    "3": "715",
                                    "4": "149,49",
                                    "5": "869",
                                    "6": "684",
                                    "7": "1"
                                },
                                {
                                    "0": "2017",
                                    "1": "2",
                                    "2": "234163,38",
                                    "3": "1638",
                                    "4": "142,96",
                                    "5": "1838",
                                    "6": "1615",
                                    "7": "4"
                                },
                                {
                                    "0": "2017",
                                    "1": "3",
                                    "2": "355372,21",
                                    "3": "2554",
                                    "4": "139,14",
                                    "5": "2918",
                                    "6": "2516",
                                    "7": "6"
                                },
                                {
                                    "0": "2017",
                                    "1": "4",
                                    "2": "338207,85",
                                    "3": "2278",
                                    "4": "148,47",
                                    "5": "2540",
                                    "6": "2249",
                                    "7": "19"
                                },
                                {
                                    "0": "2017",
                                    "1": "5",
                                    "2": "490696,21",
                                    "3": "3548",
                                    "4": "138,30",
                                    "5": "3999",
                                    "6": "3482",
                                    "7": "29"
                                },
                                {
                                    "0": "2017",
                                    "1": "6",
                                    "2": "425825,55",
                                    "3": "3143",
                                    "4": "135,48",
                                    "5": "3505",
                                    "6": "3084",
                                    "7": "41"
                                },
                                {
                                    "0": "2017",
                                    "1": "7",
                                    "2": "476556,89",
                                    "3": "3828",
                                    "4": "124,49",
                                    "5": "4364",
                                    "6": "3759",
                                    "7": "52"
                                },
                                {
                                    "0": "2017",
                                    "1": "8",
                                    "2": "555061,46",
                                    "3": "4217",
                                    "4": "131,62",
                                    "5": "4824",
                                    "6": "4137",
                                    "7": "59"
                                },
                                {
                                    "0": "2017",
                                    "1": "9",
                                    "2": "597240,93",
                                    "3": "4170",
                                    "4": "143,22",
                                    "5": "4757",
                                    "6": "4103",
                                    "7": "79"
                                },
                                {
                                    "0": "2017",
                                    "1": "10",
                                    "2": "652987,87",
                                    "3": "4441",
                                    "4": "147,04",
                                    "5": "5165",
                                    "6": "4380",
                                    "7": "88"
                                },
                                {
                                    "0": "2017",
                                    "1": "11",
                                    "2": "972604,18",
                                    "3": "7150",
                                    "4": "136,03",
                                    "5": "8323",
                                    "6": "7045",
                                    "7": "120"
                                },
                                {
                                    "0": "2017",
                                    "1": "12",
                                    "2": "747390,69",
                                    "3": "5675",
                                    "4": "131,70",
                                    "5": "6378",
                                    "6": "5608",
                                    "7": "120"
                                },
                                {
                                    "0": "2018",
                                    "1": "1",
                                    "2": "917667,20",
                                    "3": "6991",
                                    "4": "131,26",
                                    "5": "7931",
                                    "6": "6901",
                                    "7": "135"
                                },
                                {
                                    "0": "2018",
                                    "1": "2",
                                    "2": "819355,27",
                                    "3": "6536",
                                    "4": "125,36",
                                    "5": "7504",
                                    "6": "6380",
                                    "7": "113"
                                },
                                {
                                    "0": "2018",
                                    "1": "3",
                                    "2": "963604,25",
                                    "3": "7083",
                                    "4": "136,04",
                                    "5": "8107",
                                    "6": "6989",
                                    "7": "142"
                                },
                                {
                                    "0": "2018",
                                    "1": "4",
                                    "2": "953526,94",
                                    "3": "6639",
                                    "4": "143,63",
                                    "5": "7640",
                                    "6": "6586",
                                    "7": "165"
                                },
                                {
                                    "0": "2018",
                                    "1": "5",
                                    "2": "999867,28",
                                    "3": "6940",
                                    "4": "144,07",
                                    "5": "8041",
                                    "6": "6884",
                                    "7": "196"
                                },
                                {
                                    "0": "2018",
                                    "1": "6",
                                    "2": "859882,79",
                                    "3": "6097",
                                    "4": "141,03",
                                    "5": "7002",
                                    "6": "6060",
                                    "7": "189"
                                },
                                {
                                    "0": "2018",
                                    "1": "7",
                                    "2": "849818,11",
                                    "3": "6050",
                                    "4": "140,47",
                                    "5": "6830",
                                    "6": "5991",
                                    "7": "149"
                                },
                                {
                                    "0": "2018",
                                    "1": "8",
                                    "2": "862639,54",
                                    "3": "6504",
                                    "4": "132,63",
                                    "5": "7330",
                                    "6": "6459",
                                    "7": "175"
                                }
                            ]
                        },
                        "text/html": "<table><tr><th>Year</th><th>MONTH</th><th>Sales</th><th>NumberOfOrders</th><th>AverageOrderValue</th><th>NumberOfItems</th><th>NumberOfActiveCustomers</th><th>RetainedCustomersRatio</th></tr><tr><td>2017</td><td>1</td><td>106888,10</td><td>715</td><td>149,49</td><td>869</td><td>684</td><td>1</td></tr><tr><td>2017</td><td>2</td><td>234163,38</td><td>1638</td><td>142,96</td><td>1838</td><td>1615</td><td>4</td></tr><tr><td>2017</td><td>3</td><td>355372,21</td><td>2554</td><td>139,14</td><td>2918</td><td>2516</td><td>6</td></tr><tr><td>2017</td><td>4</td><td>338207,85</td><td>2278</td><td>148,47</td><td>2540</td><td>2249</td><td>19</td></tr><tr><td>2017</td><td>5</td><td>490696,21</td><td>3548</td><td>138,30</td><td>3999</td><td>3482</td><td>29</td></tr><tr><td>2017</td><td>6</td><td>425825,55</td><td>3143</td><td>135,48</td><td>3505</td><td>3084</td><td>41</td></tr><tr><td>2017</td><td>7</td><td>476556,89</td><td>3828</td><td>124,49</td><td>4364</td><td>3759</td><td>52</td></tr><tr><td>2017</td><td>8</td><td>555061,46</td><td>4217</td><td>131,62</td><td>4824</td><td>4137</td><td>59</td></tr><tr><td>2017</td><td>9</td><td>597240,93</td><td>4170</td><td>143,22</td><td>4757</td><td>4103</td><td>79</td></tr><tr><td>2017</td><td>10</td><td>652987,87</td><td>4441</td><td>147,04</td><td>5165</td><td>4380</td><td>88</td></tr><tr><td>2017</td><td>11</td><td>972604,18</td><td>7150</td><td>136,03</td><td>8323</td><td>7045</td><td>120</td></tr><tr><td>2017</td><td>12</td><td>747390,69</td><td>5675</td><td>131,70</td><td>6378</td><td>5608</td><td>120</td></tr><tr><td>2018</td><td>1</td><td>917667,20</td><td>6991</td><td>131,26</td><td>7931</td><td>6901</td><td>135</td></tr><tr><td>2018</td><td>2</td><td>819355,27</td><td>6536</td><td>125,36</td><td>7504</td><td>6380</td><td>113</td></tr><tr><td>2018</td><td>3</td><td>963604,25</td><td>7083</td><td>136,04</td><td>8107</td><td>6989</td><td>142</td></tr><tr><td>2018</td><td>4</td><td>953526,94</td><td>6639</td><td>143,63</td><td>7640</td><td>6586</td><td>165</td></tr><tr><td>2018</td><td>5</td><td>999867,28</td><td>6940</td><td>144,07</td><td>8041</td><td>6884</td><td>196</td></tr><tr><td>2018</td><td>6</td><td>859882,79</td><td>6097</td><td>141,03</td><td>7002</td><td>6060</td><td>189</td></tr><tr><td>2018</td><td>7</td><td>849818,11</td><td>6050</td><td>140,47</td><td>6830</td><td>5991</td><td>149</td></tr><tr><td>2018</td><td>8</td><td>862639,54</td><td>6504</td><td>132,63</td><td>7330</td><td>6459</td><td>175</td></tr></table>"
                    },
                    "metadata": {}
                }
            ],
            "execution_count": 27
        },
        {
            "cell_type": "code",
            "source": [
                "-- Select rows from a Table or View '[OrdersSummary]' in schema '[dbo]'\r\n",
                "SELECT COUNT(DISTINCT CASE WHEN MonthsFromFirstPurchase > 0 THEN CustomerID ELSE NULL END) AS NewCustomers\r\n",
                "FROM [Analitics].[OrdersSummary]\r\n",
                "GROUP BY YEAR(OrderApprovedAt)\r\n",
                "GO"
            ],
            "metadata": {
                "azdata_cell_guid": "5622af1d-00d4-431b-930c-9bee700a2c10"
            },
            "outputs": [
                {
                    "output_type": "display_data",
                    "data": {
                        "text/html": "Warning: Null value is eliminated by an aggregate or other SET operation."
                    },
                    "metadata": {}
                },
                {
                    "output_type": "display_data",
                    "data": {
                        "text/html": "(4 rows affected)"
                    },
                    "metadata": {}
                },
                {
                    "output_type": "display_data",
                    "data": {
                        "text/html": "Total execution time: 00:00:00.413"
                    },
                    "metadata": {}
                },
                {
                    "output_type": "execute_result",
                    "execution_count": 2,
                    "data": {
                        "application/vnd.dataresource+json": {
                            "schema": {
                                "fields": [
                                    {
                                        "name": "NewCustomers"
                                    }
                                ]
                            },
                            "data": [
                                {
                                    "0": "0"
                                },
                                {
                                    "0": "0"
                                },
                                {
                                    "0": "588"
                                },
                                {
                                    "0": "1218"
                                }
                            ]
                        },
                        "text/html": "<table><tr><th>NewCustomers</th></tr><tr><td>0</td></tr><tr><td>0</td></tr><tr><td>588</td></tr><tr><td>1218</td></tr></table>"
                    },
                    "metadata": {}
                }
            ],
            "execution_count": 2
        },
        {
            "cell_type": "code",
            "source": [
                "-- Select rows from a Table or VAnalitics '[OrdersSummary]' in schema '[dbo]'\r\n",
                "-- Select rows from a Table or View '[Orders]' in schema '[dbo]'\r\n",
                "SELECT DISTINCT OrderStatus FROM [dbo].[Orders]\r\n",
                "GO"
            ],
            "metadata": {
                "azdata_cell_guid": "cac72e3b-00d6-450a-b52d-19f668faf361"
            },
            "outputs": [
                {
                    "output_type": "display_data",
                    "data": {
                        "text/html": "(8 rows affected)"
                    },
                    "metadata": {}
                },
                {
                    "output_type": "display_data",
                    "data": {
                        "text/html": "Total execution time: 00:00:00.072"
                    },
                    "metadata": {}
                },
                {
                    "output_type": "execute_result",
                    "execution_count": 6,
                    "data": {
                        "application/vnd.dataresource+json": {
                            "schema": {
                                "fields": [
                                    {
                                        "name": "OrderStatus"
                                    }
                                ]
                            },
                            "data": [
                                {
                                    "0": "approved"
                                },
                                {
                                    "0": "delivered"
                                },
                                {
                                    "0": "created"
                                },
                                {
                                    "0": "invoiced"
                                },
                                {
                                    "0": "processing"
                                },
                                {
                                    "0": "unavailable"
                                },
                                {
                                    "0": "canceled"
                                },
                                {
                                    "0": "shipped"
                                }
                            ]
                        },
                        "text/html": "<table><tr><th>OrderStatus</th></tr><tr><td>approved</td></tr><tr><td>delivered</td></tr><tr><td>created</td></tr><tr><td>invoiced</td></tr><tr><td>processing</td></tr><tr><td>unavailable</td></tr><tr><td>canceled</td></tr><tr><td>shipped</td></tr></table>"
                    },
                    "metadata": {}
                }
            ],
            "execution_count": 6
        },
        {
            "cell_type": "code",
            "source": [
                "SELECT COUNT(*) FROM [dbo].Orders\r\n",
                "WHERE OrderStatus = 'delivered'\r\n",
                "GO"
            ],
            "metadata": {
                "azdata_cell_guid": "998e265b-7075-4efa-984d-c5919119bf5d"
            },
            "outputs": [
                {
                    "output_type": "display_data",
                    "data": {
                        "text/html": "(1 row affected)"
                    },
                    "metadata": {}
                },
                {
                    "output_type": "display_data",
                    "data": {
                        "text/html": "Total execution time: 00:00:00.049"
                    },
                    "metadata": {}
                },
                {
                    "output_type": "execute_result",
                    "execution_count": 9,
                    "data": {
                        "application/vnd.dataresource+json": {
                            "schema": {
                                "fields": [
                                    {
                                        "name": "(No column name)"
                                    }
                                ]
                            },
                            "data": [
                                {
                                    "0": "96478"
                                }
                            ]
                        },
                        "text/html": "<table><tr><th>(No column name)</th></tr><tr><td>96478</td></tr></table>"
                    },
                    "metadata": {}
                }
            ],
            "execution_count": 9
        },
        {
            "cell_type": "code",
            "source": [
                "-- Select rows from a Table or VAnalitics '[OrdersSummary]' in schema '[dbo]'\r\n",
                "SELECT COUNT(*) FROM [Analitics].[OrdersSummary]\r\n",
                "GO"
            ],
            "metadata": {
                "azdata_cell_guid": "549476cf-a222-4e1a-a044-768c8b51c77a"
            },
            "outputs": [
                {
                    "output_type": "display_data",
                    "data": {
                        "text/html": "(1 row affected)"
                    },
                    "metadata": {}
                },
                {
                    "output_type": "display_data",
                    "data": {
                        "text/html": "Total execution time: 00:00:00.256"
                    },
                    "metadata": {}
                },
                {
                    "output_type": "execute_result",
                    "execution_count": 11,
                    "data": {
                        "application/vnd.dataresource+json": {
                            "schema": {
                                "fields": [
                                    {
                                        "name": "(No column name)"
                                    }
                                ]
                            },
                            "data": [
                                {
                                    "0": "96478"
                                }
                            ]
                        },
                        "text/html": "<table><tr><th>(No column name)</th></tr><tr><td>96478</td></tr></table>"
                    },
                    "metadata": {}
                }
            ],
            "execution_count": 11
        },
        {
            "cell_type": "code",
            "source": [
                "EXEC dbo.CreateKPIMonthReport \r\n",
                "  @yearFrom = 2017, \r\n",
                "  @monthFrom = 1"
            ],
            "metadata": {
                "azdata_cell_guid": "f1b79b09-b4fb-4ad2-bdb6-7c907f2f9b32"
            },
            "outputs": [
                {
                    "output_type": "display_data",
                    "data": {
                        "text/html": "Warning: Null value is eliminated by an aggregate or other SET operation."
                    },
                    "metadata": {}
                },
                {
                    "output_type": "display_data",
                    "data": {
                        "text/html": "(20 rows affected)"
                    },
                    "metadata": {}
                },
                {
                    "output_type": "display_data",
                    "data": {
                        "text/html": "Total execution time: 00:00:02.995"
                    },
                    "metadata": {}
                }
            ],
            "execution_count": 33
        },
        {
            "cell_type": "code",
            "source": [
                "-- Select rows from a Table or VAnalitics '[MonthReport]' in schema '[dbo]'\r\n",
                "SELECT * FROM [Analitics].[MonthReport]\r\n",
                "GO"
            ],
            "metadata": {
                "azdata_cell_guid": "ced3cfb7-aa98-4414-844c-3fd344dbee27"
            },
            "outputs": [
                {
                    "output_type": "display_data",
                    "data": {
                        "text/html": "(20 rows affected)"
                    },
                    "metadata": {}
                },
                {
                    "output_type": "display_data",
                    "data": {
                        "text/html": "Total execution time: 00:00:00.037"
                    },
                    "metadata": {}
                },
                {
                    "output_type": "execute_result",
                    "execution_count": 34,
                    "data": {
                        "application/vnd.dataresource+json": {
                            "schema": {
                                "fields": [
                                    {
                                        "name": "Year"
                                    },
                                    {
                                        "name": "Month"
                                    },
                                    {
                                        "name": "Sales"
                                    },
                                    {
                                        "name": "NumberOfOrders"
                                    },
                                    {
                                        "name": "AverageOrderValue"
                                    },
                                    {
                                        "name": "NumberOfItems"
                                    },
                                    {
                                        "name": "NumberOfActiveCustomers"
                                    },
                                    {
                                        "name": "RetainedCustomers"
                                    }
                                ]
                            },
                            "data": [
                                {
                                    "0": "2017",
                                    "1": "1",
                                    "2": "106888",
                                    "3": "715",
                                    "4": "149,49",
                                    "5": "869",
                                    "6": "684",
                                    "7": "1"
                                },
                                {
                                    "0": "2017",
                                    "1": "2",
                                    "2": "234163",
                                    "3": "1638",
                                    "4": "142,96",
                                    "5": "1838",
                                    "6": "1615",
                                    "7": "4"
                                },
                                {
                                    "0": "2017",
                                    "1": "3",
                                    "2": "355372",
                                    "3": "2554",
                                    "4": "139,14",
                                    "5": "2918",
                                    "6": "2516",
                                    "7": "6"
                                },
                                {
                                    "0": "2017",
                                    "1": "4",
                                    "2": "338207",
                                    "3": "2278",
                                    "4": "148,47",
                                    "5": "2540",
                                    "6": "2249",
                                    "7": "19"
                                },
                                {
                                    "0": "2017",
                                    "1": "5",
                                    "2": "490696",
                                    "3": "3548",
                                    "4": "138,30",
                                    "5": "3999",
                                    "6": "3482",
                                    "7": "29"
                                },
                                {
                                    "0": "2017",
                                    "1": "6",
                                    "2": "425825",
                                    "3": "3143",
                                    "4": "135,48",
                                    "5": "3505",
                                    "6": "3084",
                                    "7": "41"
                                },
                                {
                                    "0": "2017",
                                    "1": "7",
                                    "2": "476556",
                                    "3": "3828",
                                    "4": "124,49",
                                    "5": "4364",
                                    "6": "3759",
                                    "7": "52"
                                },
                                {
                                    "0": "2017",
                                    "1": "8",
                                    "2": "555061",
                                    "3": "4217",
                                    "4": "131,62",
                                    "5": "4824",
                                    "6": "4137",
                                    "7": "59"
                                },
                                {
                                    "0": "2017",
                                    "1": "9",
                                    "2": "597240",
                                    "3": "4170",
                                    "4": "143,22",
                                    "5": "4757",
                                    "6": "4103",
                                    "7": "79"
                                },
                                {
                                    "0": "2017",
                                    "1": "10",
                                    "2": "652987",
                                    "3": "4441",
                                    "4": "147,04",
                                    "5": "5165",
                                    "6": "4380",
                                    "7": "88"
                                },
                                {
                                    "0": "2017",
                                    "1": "11",
                                    "2": "972604",
                                    "3": "7150",
                                    "4": "136,03",
                                    "5": "8323",
                                    "6": "7045",
                                    "7": "120"
                                },
                                {
                                    "0": "2017",
                                    "1": "12",
                                    "2": "747390",
                                    "3": "5675",
                                    "4": "131,70",
                                    "5": "6378",
                                    "6": "5608",
                                    "7": "120"
                                },
                                {
                                    "0": "2018",
                                    "1": "1",
                                    "2": "917667",
                                    "3": "6991",
                                    "4": "131,26",
                                    "5": "7931",
                                    "6": "6901",
                                    "7": "135"
                                },
                                {
                                    "0": "2018",
                                    "1": "2",
                                    "2": "819355",
                                    "3": "6536",
                                    "4": "125,36",
                                    "5": "7504",
                                    "6": "6380",
                                    "7": "113"
                                },
                                {
                                    "0": "2018",
                                    "1": "3",
                                    "2": "963604",
                                    "3": "7083",
                                    "4": "136,04",
                                    "5": "8107",
                                    "6": "6989",
                                    "7": "142"
                                },
                                {
                                    "0": "2018",
                                    "1": "4",
                                    "2": "953526",
                                    "3": "6639",
                                    "4": "143,63",
                                    "5": "7640",
                                    "6": "6586",
                                    "7": "165"
                                },
                                {
                                    "0": "2018",
                                    "1": "5",
                                    "2": "999867",
                                    "3": "6940",
                                    "4": "144,07",
                                    "5": "8041",
                                    "6": "6884",
                                    "7": "196"
                                },
                                {
                                    "0": "2018",
                                    "1": "6",
                                    "2": "859882",
                                    "3": "6097",
                                    "4": "141,03",
                                    "5": "7002",
                                    "6": "6060",
                                    "7": "189"
                                },
                                {
                                    "0": "2018",
                                    "1": "7",
                                    "2": "849818",
                                    "3": "6050",
                                    "4": "140,47",
                                    "5": "6830",
                                    "6": "5991",
                                    "7": "149"
                                },
                                {
                                    "0": "2018",
                                    "1": "8",
                                    "2": "862639",
                                    "3": "6504",
                                    "4": "132,63",
                                    "5": "7330",
                                    "6": "6459",
                                    "7": "175"
                                }
                            ]
                        },
                        "text/html": "<table><tr><th>Year</th><th>Month</th><th>Sales</th><th>NumberOfOrders</th><th>AverageOrderValue</th><th>NumberOfItems</th><th>NumberOfActiveCustomers</th><th>RetainedCustomers</th></tr><tr><td>2017</td><td>1</td><td>106888</td><td>715</td><td>149,49</td><td>869</td><td>684</td><td>1</td></tr><tr><td>2017</td><td>2</td><td>234163</td><td>1638</td><td>142,96</td><td>1838</td><td>1615</td><td>4</td></tr><tr><td>2017</td><td>3</td><td>355372</td><td>2554</td><td>139,14</td><td>2918</td><td>2516</td><td>6</td></tr><tr><td>2017</td><td>4</td><td>338207</td><td>2278</td><td>148,47</td><td>2540</td><td>2249</td><td>19</td></tr><tr><td>2017</td><td>5</td><td>490696</td><td>3548</td><td>138,30</td><td>3999</td><td>3482</td><td>29</td></tr><tr><td>2017</td><td>6</td><td>425825</td><td>3143</td><td>135,48</td><td>3505</td><td>3084</td><td>41</td></tr><tr><td>2017</td><td>7</td><td>476556</td><td>3828</td><td>124,49</td><td>4364</td><td>3759</td><td>52</td></tr><tr><td>2017</td><td>8</td><td>555061</td><td>4217</td><td>131,62</td><td>4824</td><td>4137</td><td>59</td></tr><tr><td>2017</td><td>9</td><td>597240</td><td>4170</td><td>143,22</td><td>4757</td><td>4103</td><td>79</td></tr><tr><td>2017</td><td>10</td><td>652987</td><td>4441</td><td>147,04</td><td>5165</td><td>4380</td><td>88</td></tr><tr><td>2017</td><td>11</td><td>972604</td><td>7150</td><td>136,03</td><td>8323</td><td>7045</td><td>120</td></tr><tr><td>2017</td><td>12</td><td>747390</td><td>5675</td><td>131,70</td><td>6378</td><td>5608</td><td>120</td></tr><tr><td>2018</td><td>1</td><td>917667</td><td>6991</td><td>131,26</td><td>7931</td><td>6901</td><td>135</td></tr><tr><td>2018</td><td>2</td><td>819355</td><td>6536</td><td>125,36</td><td>7504</td><td>6380</td><td>113</td></tr><tr><td>2018</td><td>3</td><td>963604</td><td>7083</td><td>136,04</td><td>8107</td><td>6989</td><td>142</td></tr><tr><td>2018</td><td>4</td><td>953526</td><td>6639</td><td>143,63</td><td>7640</td><td>6586</td><td>165</td></tr><tr><td>2018</td><td>5</td><td>999867</td><td>6940</td><td>144,07</td><td>8041</td><td>6884</td><td>196</td></tr><tr><td>2018</td><td>6</td><td>859882</td><td>6097</td><td>141,03</td><td>7002</td><td>6060</td><td>189</td></tr><tr><td>2018</td><td>7</td><td>849818</td><td>6050</td><td>140,47</td><td>6830</td><td>5991</td><td>149</td></tr><tr><td>2018</td><td>8</td><td>862639</td><td>6504</td><td>132,63</td><td>7330</td><td>6459</td><td>175</td></tr></table>"
                    },
                    "metadata": {}
                }
            ],
            "execution_count": 34
        },
        {
            "cell_type": "code",
            "source": [
                "SELECT MAX(OrderDeliveredCustomerDate)\r\n",
                "FROM dbo.Orders"
            ],
            "metadata": {
                "azdata_cell_guid": "fef7a280-f0e4-4296-a826-51eabc63a205"
            },
            "outputs": [
                {
                    "output_type": "display_data",
                    "data": {
                        "text/html": "Warning: Null value is eliminated by an aggregate or other SET operation."
                    },
                    "metadata": {}
                },
                {
                    "output_type": "display_data",
                    "data": {
                        "text/html": "(1 row affected)"
                    },
                    "metadata": {}
                },
                {
                    "output_type": "display_data",
                    "data": {
                        "text/html": "Total execution time: 00:00:00.059"
                    },
                    "metadata": {}
                },
                {
                    "output_type": "execute_result",
                    "metadata": {},
                    "execution_count": 10,
                    "data": {
                        "application/vnd.dataresource+json": {
                            "schema": {
                                "fields": [
                                    {
                                        "name": "(No column name)"
                                    }
                                ]
                            },
                            "data": [
                                {
                                    "0": "2018-10-17 13:22:46.000"
                                }
                            ]
                        },
                        "text/html": [
                            "<table>",
                            "<tr><th>(No column name)</th></tr>",
                            "<tr><td>2018-10-17 13:22:46.000</td></tr>",
                            "</table>"
                        ]
                    }
                }
            ],
            "execution_count": 10
        },
        {
            "cell_type": "code",
            "source": [
                "SELECT TOP 1000 SellerId, COUNT(Id) Frequency, SUM(Price) MonetaryValue, DATEDIFF(day, MAX(OrderDeliveredCustomerDate), '2018-08-31') Recency\r\n",
                "FROM dbo.OrderItems as i \r\n",
                "JOIN dbo.Orders AS o \r\n",
                "ON i.OrderId = o.OrderId\r\n",
                "GROUP BY i.SellerId\r\n",
                "ORDER BY MonetaryValue DESC"
            ],
            "metadata": {
                "azdata_cell_guid": "1dd167b1-2600-4e4f-b230-0ed7d3a73253"
            },
            "outputs": [
                {
                    "output_type": "display_data",
                    "data": {
                        "text/html": "Warning: Null value is eliminated by an aggregate or other SET operation."
                    },
                    "metadata": {}
                },
                {
                    "output_type": "display_data",
                    "data": {
                        "text/html": "(1000 rows affected)"
                    },
                    "metadata": {}
                },
                {
                    "output_type": "display_data",
                    "data": {
                        "text/html": "Total execution time: 00:00:00.357"
                    },
                    "metadata": {}
                },
                {
                    "output_type": "execute_result",
                    "metadata": {},
                    "execution_count": 9,
                    "data": {
                        "application/vnd.dataresource+json": {
                            "schema": {
                                "fields": [
                                    {
                                        "name": "SellerId"
                                    },
                                    {
                                        "name": "Frequency"
                                    },
                                    {
                                        "name": "MonetaryValue"
                                    },
                                    {
                                        "name": "Recency"
                                    }
                                ]
                            },
                            "data": [
                                {
                                    "0": "4869f7a5-dfa2-77a7-dca6-462dcf3b52b2",
                                    "1": "1156",
                                    "2": "229472,63",
                                    "3": "-13"
                                },
                                {
                                    "0": "53243585-a1d6-dc26-4302-1fd1853d8905",
                                    "1": "410",
                                    "2": "222776,05",
                                    "3": "-10"
                                },
                                {
                                    "0": "4a3ca931-5b74-4ce9-f8e9-374361493884",
                                    "1": "1987",
                                    "2": "200472,92",
                                    "3": "0"
                                },
                                {
                                    "0": "fa1c13f2-614d-7b5c-4749-cbc52fecda94",
                                    "1": "586",
                                    "2": "194042,03",
                                    "3": "1"
                                },
                                {
                                    "0": "7c67e144-8b00-f6e9-69d3-65cea6b010ab",
                                    "1": "1364",
                                    "2": "187923,89",
                                    "3": "1"
                                },
                                {
                                    "0": "7e93a43e-f30c-4f03-f38b-393420bc753a",
                                    "1": "340",
                                    "2": "176431,87",
                                    "3": "36"
                                },
                                {
                                    "0": "da8622b1-4eb1-7ae2-831f-4ac5b9dab84a",
                                    "1": "1551",
                                    "2": "160236,57",
                                    "3": "0"
                                },
                                {
                                    "0": "7a67c85e-85bb-2ce8-582c-35f2203ad736",
                                    "1": "1171",
                                    "2": "141745,53",
                                    "3": "-19"
                                },
                                {
                                    "0": "1025f0e2-d44d-7041-d6cf-58b6550e0bfa",
                                    "1": "1428",
                                    "2": "138968,55",
                                    "3": "-3"
                                },
                                {
                                    "0": "955fee92-16a6-5b61-7aa5-c0531780ce60",
                                    "1": "1499",
                                    "2": "135171,70",
                                    "3": "1"
                                },
                                {
                                    "0": "46dc3b2c-c098-0fb8-ec44-634e21d2718e",
                                    "1": "542",
                                    "2": "128111,19",
                                    "3": "7"
                                },
                                {
                                    "0": "6560211a-19b4-7992-c366-6cc44a7e94c0",
                                    "1": "2033",
                                    "2": "123304,83",
                                    "3": "-14"
                                },
                                {
                                    "0": "620c87c1-71fb-2a6d-d6e8-bb4dec959fc6",
                                    "1": "798",
                                    "2": "114774,50",
                                    "3": "1"
                                },
                                {
                                    "0": "7d13fca1-5225-3586-21be-4086e1eb0964",
                                    "1": "578",
                                    "2": "113628,97",
                                    "3": "-5"
                                },
                                {
                                    "0": "5dceca12-9747-e92f-f8ef-7a997dc4f8ca",
                                    "1": "346",
                                    "2": "112155,53",
                                    "3": "58"
                                },
                                {
                                    "0": "1f50f920-176f-a81d-ab99-4f9023523100",
                                    "1": "1931",
                                    "2": "106939,21",
                                    "3": "1"
                                },
                                {
                                    "0": "cc419e06-50a3-c5ba-7718-9a1882b7556a",
                                    "1": "1775",
                                    "2": "104288,42",
                                    "3": "1"
                                },
                                {
                                    "0": "a1043baf-d471-dff5-36d0-c462352beb48",
                                    "1": "770",
                                    "2": "101901,16",
                                    "3": "1"
                                },
                                {
                                    "0": "3d871de0-142c-e09b-7081-e2b9d1733cb1",
                                    "1": "1147",
                                    "2": "94914,20",
                                    "3": "0"
                                },
                                {
                                    "0": "edb1ef5e-36e0-c8cd-84eb-3c9b003e486d",
                                    "1": "175",
                                    "2": "79284,55",
                                    "3": "7"
                                },
                                {
                                    "0": "ccc4bbb5-f32a-6ab2-b706-6a4130f114e3",
                                    "1": "192",
                                    "2": "74004,62",
                                    "3": "-19"
                                },
                                {
                                    "0": "f7ba60f8-c3f9-9e7e-e404-2fdef03b70c4",
                                    "1": "230",
                                    "2": "68395,00",
                                    "3": "1"
                                },
                                {
                                    "0": "fe2032da-b1a6-1af8-7942-48c8196565c9",
                                    "1": "306",
                                    "2": "65959,61",
                                    "3": "3"
                                },
                                {
                                    "0": "8581055c-e74a-f1da-ba16-4fdbd55a40de",
                                    "1": "435",
                                    "2": "64925,30",
                                    "3": "121"
                                },
                                {
                                    "0": "cca3071e-3e9b-b7d1-2640-c9fbe2301306",
                                    "1": "830",
                                    "2": "64009,89",
                                    "3": "3"
                                },
                                {
                                    "0": "04308b1e-e57b-6625-f47d-f1d56f00eedf",
                                    "1": "94",
                                    "2": "60130,60",
                                    "3": "-3"
                                },
                                {
                                    "0": "522620dc-b18a-6b31-cd7b-df73665113a9",
                                    "1": "180",
                                    "2": "57168,49",
                                    "3": "18"
                                },
                                {
                                    "0": "17e34d82-24d2-7a54-1263-c4c64b11a56b",
                                    "1": "268",
                                    "2": "56363,24",
                                    "3": "1"
                                },
                                {
                                    "0": "7ddcbb64-b5bc-1ef3-6ca8-c151f6ec77df",
                                    "1": "343",
                                    "2": "55578,57",
                                    "3": "72"
                                },
                                {
                                    "0": "de722cd6-dad9-50a9-2b7d-4f82673f8833",
                                    "1": "379",
                                    "2": "55426,10",
                                    "3": "2"
                                },
                                {
                                    "0": "37be5a7c-7511-66fb-c5f8-ccba4119e043",
                                    "1": "281",
                                    "2": "55350,55",
                                    "3": "80"
                                },
                                {
                                    "0": "218d46b8-6c18-81d0-22bc-e9c68a7d4b15",
                                    "1": "427",
                                    "2": "55093,28",
                                    "3": "1"
                                },
                                {
                                    "0": "25c5c91f-6360-7446-a97b-143d2d535d31",
                                    "1": "269",
                                    "2": "54679,22",
                                    "3": "142"
                                },
                                {
                                    "0": "f5a590cf-3625-1cf1-162e-a35bef76fe84",
                                    "1": "122",
                                    "2": "53201,78",
                                    "3": "3"
                                },
                                {
                                    "0": "ceaec554-8eef-c6e2-3e66-07c5435102e7",
                                    "1": "211",
                                    "2": "52917,18",
                                    "3": "-27"
                                },
                                {
                                    "0": "b2ba3715-d723-d245-138f-291a6fe42594",
                                    "1": "363",
                                    "2": "51676,88",
                                    "3": "3"
                                },
                                {
                                    "0": "966cb476-0537-b140-4cae-dd472cc610a5",
                                    "1": "75",
                                    "2": "51286,05",
                                    "3": "15"
                                },
                                {
                                    "0": "e882b2a2-5a10-b9c0-57cc-49695f222c19",
                                    "1": "58",
                                    "2": "51057,54",
                                    "3": "8"
                                },
                                {
                                    "0": "2bf6a2c1-e71b-bd29-a4ad-64e6d3c3629f",
                                    "1": "31",
                                    "2": "50628,90",
                                    "3": "8"
                                },
                                {
                                    "0": "f8db351d-8c4c-4c22-c683-5c19a46f01b0",
                                    "1": "724",
                                    "2": "50525,60",
                                    "3": "0"
                                },
                                {
                                    "0": "17f51e71-9870-1186-712e-53a39c564617",
                                    "1": "61",
                                    "2": "48019,00",
                                    "3": "11"
                                },
                                {
                                    "0": "81602554-18d5-aaa7-dbdc-9f4c64ebda44",
                                    "1": "431",
                                    "2": "47017,69",
                                    "3": "2"
                                },
                                {
                                    "0": "77530e97-72f5-7a62-c906-e1c21538ab82",
                                    "1": "389",
                                    "2": "46610,40",
                                    "3": "3"
                                },
                                {
                                    "0": "4e922959-ae96-0d38-9249-c378d1c939f5",
                                    "1": "454",
                                    "2": "46030,37",
                                    "3": "1"
                                },
                                {
                                    "0": "c826c40d-7b19-f62a-09e2-d7c5e7295ee2",
                                    "1": "373",
                                    "2": "45643,74",
                                    "3": "2"
                                },
                                {
                                    "0": "850f4f8a-f5ea-8728-7ac6-8de36e29107f",
                                    "1": "192",
                                    "2": "45355,36",
                                    "3": "56"
                                },
                                {
                                    "0": "b33e7c55-446e-abf8-fe1a-42d037ac7d6d",
                                    "1": "155",
                                    "2": "44985,17",
                                    "3": "9"
                                },
                                {
                                    "0": "ba90964c-ff9b-9e0e-6f32-b23b82465f7b",
                                    "1": "38",
                                    "2": "44212,50",
                                    "3": "14"
                                },
                                {
                                    "0": "eeb6de78-f791-5960-0292-e314a77cbd18",
                                    "1": "84",
                                    "2": "43739,84",
                                    "3": "3"
                                },
                                {
                                    "0": "4d6d651b-d768-4af3-fffa-bd5f08d12e5a",
                                    "1": "395",
                                    "2": "43587,40",
                                    "3": "1"
                                },
                                {
                                    "0": "e9779976-487b-77c6-d4ac-45f75ec7afe9",
                                    "1": "750",
                                    "2": "43162,95",
                                    "3": "-3"
                                },
                                {
                                    "0": "c3cfdc64-8177-fdbb-bb35-635a37472c53",
                                    "1": "307",
                                    "2": "43048,18",
                                    "3": "0"
                                },
                                {
                                    "0": "b839e417-95b7-f3ad-94cc-2014a52f6796",
                                    "1": "36",
                                    "2": "42829,00",
                                    "3": "2"
                                },
                                {
                                    "0": "2eb70248-d66e-0e3e-f836-59f71b244378",
                                    "1": "212",
                                    "2": "42628,61",
                                    "3": "18"
                                },
                                {
                                    "0": "d91fb3b7-d041-e83b-64a0-0a3edfb37e4f",
                                    "1": "536",
                                    "2": "40889,74",
                                    "3": "-3"
                                },
                                {
                                    "0": "17a053fc-b14b-d219-540c-bde0df490be0",
                                    "1": "149",
                                    "2": "40703,14",
                                    "3": "8"
                                },
                                {
                                    "0": "391fc663-1aeb-cf30-0480-4e51b40bcf1e",
                                    "1": "613",
                                    "2": "39951,95",
                                    "3": "1"
                                },
                                {
                                    "0": "834f3294-fba9-f932-f56e-dc879193f925",
                                    "1": "66",
                                    "2": "39907,50",
                                    "3": "11"
                                },
                                {
                                    "0": "712e6ed8-aa4a-a1fa-65da-b41fed5737e4",
                                    "1": "87",
                                    "2": "39815,00",
                                    "3": "83"
                                },
                                {
                                    "0": "634964b1-7796-e643-04ca-df1ad3050fb7",
                                    "1": "326",
                                    "2": "39465,10",
                                    "3": "-3"
                                },
                                {
                                    "0": "7142540d-d4c9-1e22-37ac-b7e911c4eba2",
                                    "1": "331",
                                    "2": "37373,56",
                                    "3": "2"
                                },
                                {
                                    "0": "ea8482cd-71df-3c19-69d7-b9473ff13abc",
                                    "1": "1203",
                                    "2": "37177,52",
                                    "3": "1"
                                },
                                {
                                    "0": "c3867b46-66c7-d768-6762-7c2f7fb22e21",
                                    "1": "259",
                                    "2": "37153,40",
                                    "3": "32"
                                },
                                {
                                    "0": "7178f9f4-dd81-dcef-02f6-2acdf8151e01",
                                    "1": "216",
                                    "2": "37070,40",
                                    "3": "2"
                                },
                                {
                                    "0": "c70c1b0d-8ca8-6052-f45a-432a38b73958",
                                    "1": "338",
                                    "2": "36537,37",
                                    "3": "1"
                                },
                                {
                                    "0": "59417c56-835d-d8e2-e72f-91f809cd4092",
                                    "1": "18",
                                    "2": "36459,00",
                                    "3": "324"
                                },
                                {
                                    "0": "06a2c3af-7b3a-ee5d-6917-1b0e14f0ee87",
                                    "1": "405",
                                    "2": "36408,95",
                                    "3": "1"
                                },
                                {
                                    "0": "7299e27e-d73d-2ad9-86de-7f7c77d919fa",
                                    "1": "361",
                                    "2": "34725,43",
                                    "3": "1"
                                },
                                {
                                    "0": "e9bc59e7-b60f-c306-3eb2-290deda4cced",
                                    "1": "269",
                                    "2": "34343,06",
                                    "3": "1"
                                },
                                {
                                    "0": "dbc22125-167c-298e-f99d-a25668e1011f",
                                    "1": "429",
                                    "2": "33776,78",
                                    "3": "1"
                                },
                                {
                                    "0": "9c0e69c7-bf26-1967-5bba-df47b43f655a",
                                    "1": "206",
                                    "2": "33702,78",
                                    "3": "85"
                                },
                                {
                                    "0": "76d5af76-d027-1110-f9af-36c92573f765",
                                    "1": "159",
                                    "2": "33461,60",
                                    "3": "17"
                                },
                                {
                                    "0": "1835b56c-e799-e6a4-dc4e-ddc053f04066",
                                    "1": "558",
                                    "2": "33344,21",
                                    "3": "1"
                                },
                                {
                                    "0": "5c243662-ce92-d845-73bf-aff24c3e3700",
                                    "1": "100",
                                    "2": "32862,02",
                                    "3": "186"
                                },
                                {
                                    "0": "2528513d-d952-19a6-013d-4d05176e391a",
                                    "1": "167",
                                    "2": "32689,10",
                                    "3": "3"
                                },
                                {
                                    "0": "855668e0-971d-4dfd-7bef-1b6a4133b41b",
                                    "1": "327",
                                    "2": "32208,16",
                                    "3": "3"
                                },
                                {
                                    "0": "70eea00b-476a-3148-17ce-fde4aad4f89a",
                                    "1": "114",
                                    "2": "31994,65",
                                    "3": "1"
                                },
                                {
                                    "0": "7681ef14-2fd2-c190-48da-7430856b5588",
                                    "1": "77",
                                    "2": "31941,81",
                                    "3": "3"
                                },
                                {
                                    "0": "e59aa562-b9f8-076d-d550-fcddf0e73491",
                                    "1": "84",
                                    "2": "31574,30",
                                    "3": "4"
                                },
                                {
                                    "0": "88460e8e-bdec-bfec-b5f9-601833981930",
                                    "1": "302",
                                    "2": "31546,55",
                                    "3": "-17"
                                },
                                {
                                    "0": "0241d4d5-d36f-10f8-0c64-4447315af0bd",
                                    "1": "246",
                                    "2": "31397,70",
                                    "3": "-32"
                                },
                                {
                                    "0": "87142160-b413-53c4-e5fc-a2360caf6f92",
                                    "1": "339",
                                    "2": "31095,98",
                                    "3": "3"
                                },
                                {
                                    "0": "70a12e78-e608-ac31-179a-ea7f8422044b",
                                    "1": "328",
                                    "2": "30858,53",
                                    "3": "3"
                                },
                                {
                                    "0": "53e4c6e0-f431-2d4d-2107-a8c9cddf45cd",
                                    "1": "522",
                                    "2": "30148,95",
                                    "3": "1"
                                },
                                {
                                    "0": "d23019c8-4ffa-e2d5-ef22-70367b8605fc",
                                    "1": "39",
                                    "2": "29205,10",
                                    "3": "1"
                                },
                                {
                                    "0": "900ba814-c251-a692-506d-7834c1218441",
                                    "1": "88",
                                    "2": "29099,69",
                                    "3": "1"
                                },
                                {
                                    "0": "1554a685-3018-2680-ad5c-8b042c3ab563",
                                    "1": "269",
                                    "2": "29052,53",
                                    "3": "4"
                                },
                                {
                                    "0": "0b90b6df-587e-b836-08a6-4ea8b390cf07",
                                    "1": "210",
                                    "2": "28592,32",
                                    "3": "4"
                                },
                                {
                                    "0": "7e1fb0a3-ebfb-01ff-b3a7-dae98bf3238d",
                                    "1": "174",
                                    "2": "27349,53",
                                    "3": "2"
                                },
                                {
                                    "0": "59b22a78-efb7-9a47-9797-9612b885db36",
                                    "1": "133",
                                    "2": "27184,50",
                                    "3": "1"
                                },
                                {
                                    "0": "d1c281d3-ae14-9232-351c-d8c8cc885f0d",
                                    "1": "240",
                                    "2": "26942,60",
                                    "3": "4"
                                },
                                {
                                    "0": "b32be169-5eb7-ec5f-10f7-2d9610a12527",
                                    "1": "46",
                                    "2": "26874,00",
                                    "3": "13"
                                },
                                {
                                    "0": "12b9676b-00f6-0f3b-700e-83af21824c0e",
                                    "1": "135",
                                    "2": "26774,00",
                                    "3": "1"
                                },
                                {
                                    "0": "a3a38f4a-ffed-601e-b87a-97788c949667",
                                    "1": "263",
                                    "2": "26533,32",
                                    "3": "1"
                                },
                                {
                                    "0": "de23c3b9-8a88-8882-89c6-f5cc1209054a",
                                    "1": "181",
                                    "2": "26399,67",
                                    "3": "2"
                                },
                                {
                                    "0": "9f505651-f4a6-abe9-01a5-6cdc21508025",
                                    "1": "430",
                                    "2": "26361,82",
                                    "3": "-21"
                                },
                                {
                                    "0": "16090f2c-a825-584b-5a14-7ab24aa30c86",
                                    "1": "410",
                                    "2": "25716,44",
                                    "3": "1"
                                },
                                {
                                    "0": "a416b6a8-46a1-1724-3930-25641d4edd5e",
                                    "1": "181",
                                    "2": "25670,72",
                                    "3": "-1"
                                },
                                {
                                    "0": "b94cc9f1-0ddc-85e4-ba73-a6f7974e7101",
                                    "1": "39",
                                    "2": "25346,10",
                                    "3": "53"
                                },
                                {
                                    "0": "c003204e-1ab0-16df-a150-abc119207b24",
                                    "1": "202",
                                    "2": "25108,09",
                                    "3": "-17"
                                },
                                {
                                    "0": "001cca7a-e9ae-17fb-1cae-d9dfb1094831",
                                    "1": "239",
                                    "2": "25080,03",
                                    "3": "42"
                                },
                                {
                                    "0": "1900267e-848c-eeba-8fa3-2d80c1a5f5a8",
                                    "1": "529",
                                    "2": "24982,53",
                                    "3": "-3"
                                },
                                {
                                    "0": "1c68394e-931a-64f9-0ea2-36c5ea590300",
                                    "1": "171",
                                    "2": "24832,75",
                                    "3": "11"
                                },
                                {
                                    "0": "b1b39487-01c5-c724-4549-5bd161b83a4c",
                                    "1": "18",
                                    "2": "24699,19",
                                    "3": "368"
                                },
                                {
                                    "0": "f62d7bb4-a613-ec75-8a03-342d46b580b2",
                                    "1": "32",
                                    "2": "24665,00",
                                    "3": "11"
                                },
                                {
                                    "0": "dc4a0fc8-96dc-34b0-d5bf-ec8438291c80",
                                    "1": "249",
                                    "2": "24180,77",
                                    "3": "4"
                                },
                                {
                                    "0": "b37c4c02-bda3-161a-7546-a4e6d222d5b2",
                                    "1": "15",
                                    "2": "24075,00",
                                    "3": "36"
                                },
                                {
                                    "0": "710e3548-e02b-c1d2-831d-fc4f1b5b14d4",
                                    "1": "142",
                                    "2": "23979,11",
                                    "3": "6"
                                },
                                {
                                    "0": "2b3e4a2a-3ea8-e019-38ca-bda2a3e5cc79",
                                    "1": "54",
                                    "2": "23629,15",
                                    "3": "30"
                                },
                                {
                                    "0": "1a3df491-d1c4-f158-9fc2-b934ada68bf2",
                                    "1": "178",
                                    "2": "23302,70",
                                    "3": "13"
                                },
                                {
                                    "0": "40db9e9a-a57f-7bb1-51bc-da6b0f9bdbb7",
                                    "1": "12",
                                    "2": "23168,00",
                                    "3": "2"
                                },
                                {
                                    "0": "612170e3-4b97-004b-3ba3-7eae81836b4c",
                                    "1": "110",
                                    "2": "23065,02",
                                    "3": "3"
                                },
                                {
                                    "0": "897060da-8b9a-21f6-5530-4d50fd935913",
                                    "1": "430",
                                    "2": "23023,92",
                                    "3": "59"
                                },
                                {
                                    "0": "8444e55c-1f13-cd5c-1798-51e5ca5ebd00",
                                    "1": "109",
                                    "2": "22873,21",
                                    "3": "15"
                                },
                                {
                                    "0": "7b0df942-f464-35ba-bab0-5d49b744b2c4",
                                    "1": "32",
                                    "2": "22600,63",
                                    "3": "65"
                                },
                                {
                                    "0": "7ad32824-caee-8208-7b3e-2e5f33b1bf32",
                                    "1": "184",
                                    "2": "22505,10",
                                    "3": "1"
                                },
                                {
                                    "0": "744dac40-8745-240a-2c25-28fb1b6028f3",
                                    "1": "84",
                                    "2": "22490,60",
                                    "3": "10"
                                },
                                {
                                    "0": "06e5eefc-71ec-47ae-763c-5c6f8db7064f",
                                    "1": "95",
                                    "2": "22188,56",
                                    "3": "3"
                                },
                                {
                                    "0": "f45122a9-ab94-eb4f-3f89-53578bc0c560",
                                    "1": "200",
                                    "2": "22078,29",
                                    "3": "3"
                                },
                                {
                                    "0": "05ff92fe-db5b-e479-20fe-a08e501238b9",
                                    "1": "62",
                                    "2": "21992,78",
                                    "3": "14"
                                },
                                {
                                    "0": "ff69aa92-bb6b-1bf9-b8b7-a51c2ed9cf8b",
                                    "1": "20",
                                    "2": "21940,80",
                                    "3": "67"
                                },
                                {
                                    "0": "8f2ce03f-928b-567e-3d56-181ae20ae952",
                                    "1": "175",
                                    "2": "21712,90",
                                    "3": "-3"
                                },
                                {
                                    "0": "59fb871b-f6f4-522a-87ba-567b42dafecf",
                                    "1": "128",
                                    "2": "21708,57",
                                    "3": "133"
                                },
                                {
                                    "0": "d2374cbc-bb3c-a4ab-1086-534108cc3ab7",
                                    "1": "631",
                                    "2": "21223,92",
                                    "3": "3"
                                },
                                {
                                    "0": "48162d54-8f5b-1b11-b9d2-9d1e01f75a61",
                                    "1": "91",
                                    "2": "20510,14",
                                    "3": "2"
                                },
                                {
                                    "0": "729f0699-3dac-8e86-0d4f-02d7088ca48a",
                                    "1": "115",
                                    "2": "20485,08",
                                    "3": "-3"
                                },
                                {
                                    "0": "00ee6830-8b45-bc5e-2660-cd833c3f81cc",
                                    "1": "172",
                                    "2": "20260,00",
                                    "3": "16"
                                },
                                {
                                    "0": "bfd27a96-6d91-cfaa-fdb2-5d076585f0da",
                                    "1": "118",
                                    "2": "19921,00",
                                    "3": "52"
                                },
                                {
                                    "0": "004c9cd9-d87a-3c30-c522-c48c4fc07416",
                                    "1": "170",
                                    "2": "19712,71",
                                    "3": "97"
                                },
                                {
                                    "0": "d650b663-c3b5-f6fb-392b-6326366efa9a",
                                    "1": "60",
                                    "2": "19242,90",
                                    "3": "-3"
                                },
                                {
                                    "0": "821fb029-fc6e-495c-a4f0-8a35d51e53a5",
                                    "1": "29",
                                    "2": "19187,42",
                                    "3": "4"
                                },
                                {
                                    "0": "f457c460-70d0-2cad-d8a6-8551231220dd",
                                    "1": "234",
                                    "2": "19093,00",
                                    "3": "42"
                                },
                                {
                                    "0": "2a5b78b4-1cd0-5bae-ac8d-f54c6606b92c",
                                    "1": "60",
                                    "2": "19025,36",
                                    "3": "14"
                                },
                                {
                                    "0": "dc317f34-1ab0-e22f-39ac-bd9dbf9b4a1f",
                                    "1": "58",
                                    "2": "18988,40",
                                    "3": "52"
                                },
                                {
                                    "0": "96493fab-2fbb-13a1-4d0c-0e8772eef5c3",
                                    "1": "64",
                                    "2": "18969,00",
                                    "3": "67"
                                },
                                {
                                    "0": "44073f8b-7e41-514d-e3b7-815dd0237f4f",
                                    "1": "153",
                                    "2": "18729,64",
                                    "3": "17"
                                },
                                {
                                    "0": "cd68562d-3f44-870c-0892-2d380acae552",
                                    "1": "132",
                                    "2": "18569,70",
                                    "3": "137"
                                },
                                {
                                    "0": "0dd18406-1fb0-eaa7-ca37-932c68ab91c5",
                                    "1": "193",
                                    "2": "18446,92",
                                    "3": "8"
                                },
                                {
                                    "0": "527801b5-52d0-077f-fd17-0872eb49683b",
                                    "1": "92",
                                    "2": "17942,80",
                                    "3": "1"
                                },
                                {
                                    "0": "a888faf2-d1ba-ecec-a6ba-f9c3d603ee1f",
                                    "1": "55",
                                    "2": "17765,80",
                                    "3": "86"
                                },
                                {
                                    "0": "9de4643a-8dbd-e634-fe55-621059d92273",
                                    "1": "81",
                                    "2": "17560,34",
                                    "3": "170"
                                },
                                {
                                    "0": "8b321bb6-6939-2f51-63d0-4c59e235e066",
                                    "1": "1018",
                                    "2": "17535,69",
                                    "3": "3"
                                },
                                {
                                    "0": "c72de06d-7274-8d1a-0dfb-2125be43ba63",
                                    "1": "22",
                                    "2": "17522,00",
                                    "3": "4"
                                },
                                {
                                    "0": "165fc07b-eebd-cb61-90fb-a8a06db2a449",
                                    "1": "64",
                                    "2": "17481,40",
                                    "3": "4"
                                },
                                {
                                    "0": "0c8380b6-2e38-e8a1-e6ad-beba7eb9688c",
                                    "1": "220",
                                    "2": "17348,79",
                                    "3": "1"
                                },
                                {
                                    "0": "1e8b33f1-8b4f-7598-d87f-5cbee2282cc2",
                                    "1": "140",
                                    "2": "17309,06",
                                    "3": "1"
                                },
                                {
                                    "0": "94144541-854e-298c-2d97-6cb893b81343",
                                    "1": "76",
                                    "2": "17286,28",
                                    "3": "179"
                                },
                                {
                                    "0": "54a1852d-1b8f-1031-2c55-e906355666ee",
                                    "1": "204",
                                    "2": "17226,44",
                                    "3": "4"
                                },
                                {
                                    "0": "abe42c5d-0369-5b42-57b5-c6cbf4e6784e",
                                    "1": "50",
                                    "2": "17159,00",
                                    "3": "14"
                                },
                                {
                                    "0": "41b39e28-db00-5d97-31d9-d485a83b4c38",
                                    "1": "231",
                                    "2": "17112,55",
                                    "3": "7"
                                },
                                {
                                    "0": "4a3ccda3-8b21-2970-5f3f-b522db62ca31",
                                    "1": "78",
                                    "2": "17062,59",
                                    "3": "7"
                                },
                                {
                                    "0": "76d64c4a-ca3a-7baf-218b-f93ef7fa768d",
                                    "1": "69",
                                    "2": "16911,80",
                                    "3": "1"
                                },
                                {
                                    "0": "c3acdfac-4e3e-97ff-8752-9454fbc03642",
                                    "1": "12",
                                    "2": "16788,00",
                                    "3": "2"
                                },
                                {
                                    "0": "86ccac0b-8350-3733-2a59-6a33b6949ee1",
                                    "1": "210",
                                    "2": "16619,93",
                                    "3": "27"
                                },
                                {
                                    "0": "8ae52024-7981-aa06-bc94-abddf5f46d34",
                                    "1": "65",
                                    "2": "16320,99",
                                    "3": "6"
                                },
                                {
                                    "0": "7aa4334b-e125-fcdd-2ba6-4b3180029f14",
                                    "1": "240",
                                    "2": "16234,81",
                                    "3": "209"
                                },
                                {
                                    "0": "ef0ace09-169a-c090-589d-85746e3e036f",
                                    "1": "140",
                                    "2": "16223,30",
                                    "3": "3"
                                },
                                {
                                    "0": "fa40cc5b-9345-74b6-2717-c68f3d678b6d",
                                    "1": "340",
                                    "2": "16055,87",
                                    "3": "71"
                                },
                                {
                                    "0": "1f1bb1f0-8598-8350-5541-bdd6606193e5",
                                    "1": "29",
                                    "2": "16040,84",
                                    "3": "25"
                                },
                                {
                                    "0": "0adac9fb-d9a2-b63c-ccaa-c4f8756c1ca8",
                                    "1": "142",
                                    "2": "15960,95",
                                    "3": "7"
                                },
                                {
                                    "0": "4b9750c8-ad28-220f-e670-2d4ecb7c898f",
                                    "1": "222",
                                    "2": "15915,30",
                                    "3": "1"
                                },
                                {
                                    "0": "2a84855f-d20a-f891-be03-bc5924d2b453",
                                    "1": "168",
                                    "2": "15819,10",
                                    "3": "-12"
                                },
                                {
                                    "0": "229c3efb-fb0e-a205-8de4-ccdfbc3d784a",
                                    "1": "148",
                                    "2": "15744,00",
                                    "3": "8"
                                },
                                {
                                    "0": "f9244d45-189d-3a36-0549-9abddeade7d5",
                                    "1": "21",
                                    "2": "15731,43",
                                    "3": "6"
                                },
                                {
                                    "0": "d921b68b-f747-894b-e13a-97ae52b0f386",
                                    "1": "77",
                                    "2": "15645,80",
                                    "3": "4"
                                },
                                {
                                    "0": "6061155a-ddc1-e54b-4cfb-51c1c2a32ad8",
                                    "1": "33",
                                    "2": "15633,40",
                                    "3": "1"
                                },
                                {
                                    "0": "c3384751-5fa6-305c-e6fe-b1e818569f13",
                                    "1": "128",
                                    "2": "15519,85",
                                    "3": "-6"
                                },
                                {
                                    "0": "85d9eb9d-dc5d-00ca-9336-a2219c97bb13",
                                    "1": "522",
                                    "2": "15415,24",
                                    "3": "1"
                                },
                                {
                                    "0": "213b25e6-f546-6193-9f11-710a6fddb871",
                                    "1": "194",
                                    "2": "15379,50",
                                    "3": "-12"
                                },
                                {
                                    "0": "e5a38146-df06-2eda-f55c-38afa99e42dc",
                                    "1": "125",
                                    "2": "15360,07",
                                    "3": "4"
                                },
                                {
                                    "0": "c847e075-3018-70dd-144a-116762eaff9a",
                                    "1": "43",
                                    "2": "15348,70",
                                    "3": "207"
                                },
                                {
                                    "0": "ce248b21-cb2a-dc36-282e-de306b7660e5",
                                    "1": "66",
                                    "2": "15230,06",
                                    "3": "16"
                                },
                                {
                                    "0": "79ebd9a6-1bac-3eaf-8828-05ed4ecfa12a",
                                    "1": "143",
                                    "2": "15092,79",
                                    "3": "3"
                                },
                                {
                                    "0": "75d34ebb-1bd0-bd7d-de40-dd507b8169c3",
                                    "1": "72",
                                    "2": "15048,28",
                                    "3": "193"
                                },
                                {
                                    "0": "e2a1ac9b-f33e-5549-a2a4-f834e70df2f8",
                                    "1": "5",
                                    "2": "14999,45",
                                    "3": "413"
                                },
                                {
                                    "0": "01fdefa7-697d-26ad-920e-9e0346d4bd1b",
                                    "1": "131",
                                    "2": "14921,43",
                                    "3": "2"
                                },
                                {
                                    "0": "1b4c3a6f-5306-8f0b-6944-d2d005c9fc89",
                                    "1": "117",
                                    "2": "14760,30",
                                    "3": "23"
                                },
                                {
                                    "0": "a5cba26a-62b8-b4d0-145b-68b841e62e7f",
                                    "1": "55",
                                    "2": "14737,84",
                                    "3": "1"
                                },
                                {
                                    "0": "87b740da-f17b-5d1b-e335-a64164ec6842",
                                    "1": "13",
                                    "2": "14699,87",
                                    "3": "150"
                                },
                                {
                                    "0": "4c2b2301-73bb-36f9-b240-f2b8ac11786e",
                                    "1": "346",
                                    "2": "14592,27",
                                    "3": "2"
                                },
                                {
                                    "0": "080199a1-81c4-6c65-7dc5-aa235411be3b",
                                    "1": "83",
                                    "2": "14504,20",
                                    "3": "4"
                                },
                                {
                                    "0": "8e6d7754-bc7e-0f22-c96d-255ebda59eba",
                                    "1": "130",
                                    "2": "14497,27",
                                    "3": "2"
                                },
                                {
                                    "0": "cf8ab161-6079-e279-3aa2-9d524df01bb1",
                                    "1": "9",
                                    "2": "14391,00",
                                    "3": "162"
                                },
                                {
                                    "0": "5cf13acc-ae32-22c7-0a9c-ac40818ae839",
                                    "1": "156",
                                    "2": "14383,20",
                                    "3": "1"
                                },
                                {
                                    "0": "a6bd7d1c-cdac-48c6-b33b-28596b7eb122",
                                    "1": "16",
                                    "2": "14368,61",
                                    "3": "31"
                                },
                                {
                                    "0": "66922902-710d-126a-0e7d-26b0e3805106",
                                    "1": "156",
                                    "2": "14362,30",
                                    "3": "4"
                                },
                                {
                                    "0": "aba1721a-889e-04de-cc91-0aa13b768ef4",
                                    "1": "92",
                                    "2": "14103,30",
                                    "3": "2"
                                },
                                {
                                    "0": "f08a5b9d-d676-7129-688d-001acafc21e5",
                                    "1": "18",
                                    "2": "14069,63",
                                    "3": "203"
                                },
                                {
                                    "0": "3b152885-45f8-928d-3e65-a8f949a28291",
                                    "1": "121",
                                    "2": "14061,79",
                                    "3": "8"
                                },
                                {
                                    "0": "c6bda72e-4dbf-5c58-66b1-3cb1810c6d03",
                                    "1": "59",
                                    "2": "14059,38",
                                    "3": "1"
                                },
                                {
                                    "0": "2e90cb16-77d3-5cfe-24ee-f47d441b7c87",
                                    "1": "137",
                                    "2": "13894,71",
                                    "3": "-1"
                                },
                                {
                                    "0": "a6738210-11d0-cec2-8146-ea42f5ab767f",
                                    "1": "146",
                                    "2": "13863,69",
                                    "3": "1"
                                },
                                {
                                    "0": "d94a40fd-4235-1c25-9927-028d163af842",
                                    "1": "110",
                                    "2": "13823,80",
                                    "3": "14"
                                },
                                {
                                    "0": "05f51e13-da97-1396-48b8-125c31e5f51b",
                                    "1": "63",
                                    "2": "13769,01",
                                    "3": "156"
                                },
                                {
                                    "0": "440dd6ab-2443-15c6-3213-0ecfb63827b1",
                                    "1": "95",
                                    "2": "13696,90",
                                    "3": "7"
                                },
                                {
                                    "0": "b8bc237b-a378-8b23-da09-c0f1f3a3288c",
                                    "1": "47",
                                    "2": "13685,71",
                                    "3": "51"
                                },
                                {
                                    "0": "6039e272-94dc-7581-1c0d-8a39069f52c0",
                                    "1": "75",
                                    "2": "13670,70",
                                    "3": "1"
                                },
                                {
                                    "0": "1f9ab470-8f30-56ed-e071-24aad39a2554",
                                    "1": "79",
                                    "2": "13602,73",
                                    "3": "80"
                                },
                                {
                                    "0": "6d66611d-7c44-cc30-ce35-1abc49a68421",
                                    "1": "176",
                                    "2": "13593,40",
                                    "3": "1"
                                },
                                {
                                    "0": "240b9776-d844-d375-3566-8549a396af32",
                                    "1": "36",
                                    "2": "13592,08",
                                    "3": "-6"
                                },
                                {
                                    "0": "610f72e4-07cd-d7ca-aa2f-8167b0163fd8",
                                    "1": "17",
                                    "2": "13585,16",
                                    "3": "1"
                                },
                                {
                                    "0": "289cdb32-5fb7-e7f8-91c3-8608bf9e0962",
                                    "1": "126",
                                    "2": "13544,95",
                                    "3": "2"
                                },
                                {
                                    "0": "0b35c634-5210-43bf-4b47-e21547b99ab5",
                                    "1": "78",
                                    "2": "13533,65",
                                    "3": "10"
                                },
                                {
                                    "0": "a3e9a2c7-0048-0d9b-b01f-ba070ba80a0e",
                                    "1": "144",
                                    "2": "13440,80",
                                    "3": "3"
                                },
                                {
                                    "0": "d05ae8f7-a5bd-1d2a-690a-44cd079e4e27",
                                    "1": "81",
                                    "2": "13436,00",
                                    "3": "8"
                                },
                                {
                                    "0": "34d1ca11-b242-c0fe-e2c8-34ae8d788566",
                                    "1": "41",
                                    "2": "13422,24",
                                    "3": "20"
                                },
                                {
                                    "0": "1ca7077d-890b-907f-89be-8c954a02686a",
                                    "1": "137",
                                    "2": "13341,57",
                                    "3": "121"
                                },
                                {
                                    "0": "8cc6a0e5-738e-61a8-7b03-c78b2ba9db4b",
                                    "1": "26",
                                    "2": "13312,40",
                                    "3": "443"
                                },
                                {
                                    "0": "669ae818-80e0-8f26-9a64-487cfb287169",
                                    "1": "186",
                                    "2": "13248,87",
                                    "3": "15"
                                },
                                {
                                    "0": "5d378b73-ab7d-d6f0-418d-743e5dcb0bd1",
                                    "1": "7",
                                    "2": "13243,00",
                                    "3": "163"
                                },
                                {
                                    "0": "ad97a199-2363-54e5-3fcd-91a5a913e9a2",
                                    "1": "18",
                                    "2": "13205,90",
                                    "3": "29"
                                },
                                {
                                    "0": "c31eff83-34d6-b304-7ed3-4bebd4d62c36",
                                    "1": "123",
                                    "2": "13191,50",
                                    "3": "4"
                                },
                                {
                                    "0": "e8b3a3a3-8279-a82f-0e5d-006d5e5b7d2c",
                                    "1": "92",
                                    "2": "13154,70",
                                    "3": "143"
                                },
                                {
                                    "0": "6edacfd9-f907-4789-dad6-d62ba7950b9c",
                                    "1": "219",
                                    "2": "13147,10",
                                    "3": "-5"
                                },
                                {
                                    "0": "99eaacc9-e604-6db1-c82b-163c5f84869f",
                                    "1": "70",
                                    "2": "13139,17",
                                    "3": "150"
                                },
                                {
                                    "0": "9e622925-0fed-be05-838f-ef417b74e7fb",
                                    "1": "78",
                                    "2": "13132,20",
                                    "3": "1"
                                },
                                {
                                    "0": "431af27f-296b-c651-9d89-0aa5a05fdb11",
                                    "1": "125",
                                    "2": "13109,50",
                                    "3": "22"
                                },
                                {
                                    "0": "d50d79cb-34e3-8265-a864-9c383dcffd48",
                                    "1": "70",
                                    "2": "13012,42",
                                    "3": "11"
                                },
                                {
                                    "0": "530ec610-9d11-eaaf-8799-9465c6afee01",
                                    "1": "104",
                                    "2": "12983,81",
                                    "3": "4"
                                },
                                {
                                    "0": "6e386f64-c84e-482f-0b9a-bf960797ee1b",
                                    "1": "30",
                                    "2": "12938,30",
                                    "3": "7"
                                },
                                {
                                    "0": "e24fc9fc-d865-784f-b257-05606fe3dfe7",
                                    "1": "56",
                                    "2": "12936,00",
                                    "3": "127"
                                },
                                {
                                    "0": "039e6ad9-dae7-9614-4930-83e241147386",
                                    "1": "5",
                                    "2": "12925,00",
                                    "3": "48"
                                },
                                {
                                    "0": "c60b801f-2d52-c7f7-f91d-e00870882a75",
                                    "1": "41",
                                    "2": "12913,50",
                                    "3": "1"
                                },
                                {
                                    "0": "cfb1a033-7436-68a1-9231-6f3c6d1d2671",
                                    "1": "184",
                                    "2": "12803,64",
                                    "3": "14"
                                },
                                {
                                    "0": "ac350871-9a1d-8f5b-7614-b798f70af136",
                                    "1": "104",
                                    "2": "12775,84",
                                    "3": "17"
                                },
                                {
                                    "0": "ed4acab3-8528-488b-65a9-a9c603ff024a",
                                    "1": "40",
                                    "2": "12759,45",
                                    "3": "23"
                                },
                                {
                                    "0": "7202e2ba-2057-9a9b-d1ac-b29e61fe71f6",
                                    "1": "55",
                                    "2": "12750,50",
                                    "3": "3"
                                },
                                {
                                    "0": "2b1a40c1-daab-c6ca-280c-4b815c101841",
                                    "1": "35",
                                    "2": "12732,60",
                                    "3": "66"
                                },
                                {
                                    "0": "c66dccfb-3f10-9511-246d-a627dd5a2498",
                                    "1": "45",
                                    "2": "12708,55",
                                    "3": "1"
                                },
                                {
                                    "0": "2e1c9f22-be26-9ef4-643f-826c9e650a52",
                                    "1": "173",
                                    "2": "12687,68",
                                    "3": "2"
                                },
                                {
                                    "0": "00fc707a-aaad-2d31-347c-f883cd2dfe10",
                                    "1": "135",
                                    "2": "12684,90",
                                    "3": "70"
                                },
                                {
                                    "0": "b372ee76-8ed6-9e46-ca8c-dbd267aa7a38",
                                    "1": "69",
                                    "2": "12630,00",
                                    "3": "2"
                                },
                                {
                                    "0": "66e0557e-cc2b-4dbe-a057-e93f215f68d8",
                                    "1": "31",
                                    "2": "12480,00",
                                    "3": "160"
                                },
                                {
                                    "0": "a7f13822-ceb9-66b0-76af-67121f87b063",
                                    "1": "86",
                                    "2": "12477,64",
                                    "3": "346"
                                },
                                {
                                    "0": "2138ccb8-5b11-a4ec-1e37-afbd1c8eda1f",
                                    "1": "429",
                                    "2": "12357,03",
                                    "3": "1"
                                },
                                {
                                    "0": "056b4ada-5bbc-2c50-cc78-42547dda6b51",
                                    "1": "66",
                                    "2": "12333,39",
                                    "3": "2"
                                },
                                {
                                    "0": "d6b1ce66-b035-a475-f00c-017792ff9769",
                                    "1": "108",
                                    "2": "12277,40",
                                    "3": "1"
                                },
                                {
                                    "0": "48436dad-e18a-c8b2-bce0-89ec2a041202",
                                    "1": "151",
                                    "2": "12271,71",
                                    "3": "8"
                                },
                                {
                                    "0": "c510bc17-18f0-f296-1eaa-42a23330681a",
                                    "1": "13",
                                    "2": "12251,00",
                                    "3": "15"
                                },
                                {
                                    "0": "fbc14c0c-f935-05ef-89f6-4665ffa4a7b5",
                                    "1": "18",
                                    "2": "12227,82",
                                    "3": "10"
                                },
                                {
                                    "0": "c8b0e2b0-a709-5e5d-8219-575d5e7e1181",
                                    "1": "85",
                                    "2": "12170,21",
                                    "3": "4"
                                },
                                {
                                    "0": "70c27847-eca8-195c-983e-d7e798c56743",
                                    "1": "98",
                                    "2": "12077,52",
                                    "3": "1"
                                },
                                {
                                    "0": "ff063b02-2a9a-0aab-91ba-d2c9088760b7",
                                    "1": "96",
                                    "2": "12076,50",
                                    "3": "8"
                                },
                                {
                                    "0": "e26901d5-ab43-4ce9-2fd9-b5c256820a4e",
                                    "1": "221",
                                    "2": "11990,90",
                                    "3": "346"
                                },
                                {
                                    "0": "701938c4-5070-5b8a-e65f-c923b70f35c7",
                                    "1": "112",
                                    "2": "11983,28",
                                    "3": "123"
                                },
                                {
                                    "0": "c4f7fee5-b0db-50e8-7766-f5a4d1b1b758",
                                    "1": "9",
                                    "2": "11961,83",
                                    "3": "120"
                                },
                                {
                                    "0": "12863947-3a13-9ac0-f3e5-f5ade55873a5",
                                    "1": "560",
                                    "2": "11908,85",
                                    "3": "3"
                                },
                                {
                                    "0": "d71d863e-5ef3-0d94-e440-c11be17dcd8f",
                                    "1": "36",
                                    "2": "11900,90",
                                    "3": "103"
                                },
                                {
                                    "0": "8b8cfc83-05aa-441e-4239-358c9f6f2485",
                                    "1": "15",
                                    "2": "11892,00",
                                    "3": "135"
                                },
                                {
                                    "0": "7901646f-dd36-a55f-564f-faf2dbccaaf7",
                                    "1": "27",
                                    "2": "11857,08",
                                    "3": "4"
                                },
                                {
                                    "0": "09f952a5-f58d-2285-b037-2551ae8f9b01",
                                    "1": "56",
                                    "2": "11821,50",
                                    "3": "1"
                                },
                                {
                                    "0": "adbc2665-8d6c-7b4b-6219-f9d934598091",
                                    "1": "92",
                                    "2": "11806,40",
                                    "3": "4"
                                },
                                {
                                    "0": "0be8ff43-f22e-456b-4e03-71b2245e4d01",
                                    "1": "180",
                                    "2": "11805,50",
                                    "3": "-13"
                                },
                                {
                                    "0": "72c5da29-406b-4234-927b-81855e7b64f6",
                                    "1": "31",
                                    "2": "11798,69",
                                    "3": "1"
                                },
                                {
                                    "0": "ce7d1888-639e-6fb0-6b27-49cbfdac1ff7",
                                    "1": "84",
                                    "2": "11793,89",
                                    "3": "7"
                                },
                                {
                                    "0": "23d7c96d-4a11-60db-1c72-6b248601b25a",
                                    "1": "55",
                                    "2": "11766,94",
                                    "3": "11"
                                },
                                {
                                    "0": "d1b65fc7-debc-3361-ea86-b5f14c68d2e2",
                                    "1": "41",
                                    "2": "11703,07",
                                    "3": "72"
                                },
                                {
                                    "0": "bba3293d-6f5d-5af2-f415-e004e8b93ae3",
                                    "1": "17",
                                    "2": "11702,10",
                                    "3": "59"
                                },
                                {
                                    "0": "25e6ffe9-76bd-7561-8acc-fe16cefcbd0d",
                                    "1": "117",
                                    "2": "11691,61",
                                    "3": "62"
                                },
                                {
                                    "0": "c4d51195-486d-c781-5318-76a7d00453d8",
                                    "1": "17",
                                    "2": "11468,98",
                                    "3": "65"
                                },
                                {
                                    "0": "80e6699f-e291-50b3-72a0-c8a1ebf7dcc8",
                                    "1": "100",
                                    "2": "11441,56",
                                    "3": "105"
                                },
                                {
                                    "0": "b4f8921f-cc4f-f77b-66be-a6dda43dcd51",
                                    "1": "20",
                                    "2": "11395,05",
                                    "3": "2"
                                },
                                {
                                    "0": "cab85505-710c-7cb9-b720-bceb52b01cee",
                                    "1": "209",
                                    "2": "11389,10",
                                    "3": "-25"
                                },
                                {
                                    "0": "1d8dbc4f-3237-8d71-5c71-7c1c1fc57bae",
                                    "1": "98",
                                    "2": "11315,89",
                                    "3": "60"
                                },
                                {
                                    "0": "813348c9-9646-9b40-f2e0-28d5429d3495",
                                    "1": "202",
                                    "2": "11205,83",
                                    "3": "111"
                                },
                                {
                                    "0": "6cd68b3e-d6d5-9aaa-9fec-e558ad360c0a",
                                    "1": "157",
                                    "2": "11188,57",
                                    "3": "116"
                                },
                                {
                                    "0": "5a8e7d50-03a1-f221-f9e1-d6e411de7c23",
                                    "1": "181",
                                    "2": "11171,90",
                                    "3": "1"
                                },
                                {
                                    "0": "ccb83a79-4700-270f-de70-898fe9ff368b",
                                    "1": "12",
                                    "2": "11062,00",
                                    "3": "363"
                                },
                                {
                                    "0": "8d956fec-2e43-37af-fcb5-20f56fd8cbfd",
                                    "1": "228",
                                    "2": "11015,19",
                                    "3": "1"
                                },
                                {
                                    "0": "6973a06f-484a-acf4-00ec-e213dbf3d946",
                                    "1": "115",
                                    "2": "11011,05",
                                    "3": "67"
                                },
                                {
                                    "0": "95e03ca3-d414-6e40-1198-5981aeb959b9",
                                    "1": "193",
                                    "2": "11009,96",
                                    "3": "9"
                                },
                                {
                                    "0": "7ea5bfa6-c340-f58f-8e71-fc1f0412b0d6",
                                    "1": "104",
                                    "2": "11002,89",
                                    "3": "14"
                                },
                                {
                                    "0": "54965bbe-3e4f-07ae-045b-90b0b8541f52",
                                    "1": "86",
                                    "2": "10961,30",
                                    "3": "49"
                                },
                                {
                                    "0": "82e0a475-a88c-c959-5229-d8029273f045",
                                    "1": "80",
                                    "2": "10930,02",
                                    "3": "217"
                                },
                                {
                                    "0": "dd2bdf85-5a91-7273-4fbc-3744021ae9b9",
                                    "1": "113",
                                    "2": "10816,70",
                                    "3": "187"
                                },
                                {
                                    "0": "0ea22c1c-fbdc-755f-86b9-b54b39c16043",
                                    "1": "269",
                                    "2": "10711,70",
                                    "3": "3"
                                },
                                {
                                    "0": "ce27a3cc-3c8c-c1ea-79d1-1e561e9bebb6",
                                    "1": "164",
                                    "2": "10682,65",
                                    "3": "1"
                                },
                                {
                                    "0": "c9c7905c-ffc4-ef9f-f9f1-13554423e671",
                                    "1": "139",
                                    "2": "10657,18",
                                    "3": "3"
                                },
                                {
                                    "0": "bd23da73-5481-3347-129d-751591d1a6e2",
                                    "1": "90",
                                    "2": "10544,30",
                                    "3": "10"
                                },
                                {
                                    "0": "f3b80352-b986-ab4d-1057-a4b724be19d0",
                                    "1": "92",
                                    "2": "10505,10",
                                    "3": "15"
                                },
                                {
                                    "0": "f262cbc1-c910-c839-59f8-49465454ddd3",
                                    "1": "207",
                                    "2": "10482,83",
                                    "3": "3"
                                },
                                {
                                    "0": "c864036f-eaab-8c16-59f6-5ea4faebe1da",
                                    "1": "58",
                                    "2": "10454,20",
                                    "3": "17"
                                },
                                {
                                    "0": "b499c00f-28f4-b706-9ff6-550af8c1348a",
                                    "1": "187",
                                    "2": "10327,13",
                                    "3": "1"
                                },
                                {
                                    "0": "ea566164-622c-6b43-9516-ab18062c42cd",
                                    "1": "52",
                                    "2": "10309,42",
                                    "3": "2"
                                },
                                {
                                    "0": "33a6f4b1-e7cd-c205-511e-76ba1b6e0186",
                                    "1": "126",
                                    "2": "10295,01",
                                    "3": "1"
                                },
                                {
                                    "0": "9d5a9018-aee5-6acb-367b-a9c3f05d1d6a",
                                    "1": "79",
                                    "2": "10292,31",
                                    "3": "151"
                                },
                                {
                                    "0": "06532f10-2827-04ef-4c69-168b914b77be",
                                    "1": "9",
                                    "2": "10220,50",
                                    "3": "367"
                                },
                                {
                                    "0": "1c5e4e49-b907-9480-255b-49d50aac1aa9",
                                    "1": "12",
                                    "2": "10173,11",
                                    "3": "21"
                                },
                                {
                                    "0": "7b1222c3-624a-a89b-9558-b50a2594188c",
                                    "1": "22",
                                    "2": "10103,52",
                                    "3": "52"
                                },
                                {
                                    "0": "5058e8c1-e826-5397-4541-e83690655b4a",
                                    "1": "78",
                                    "2": "10022,82",
                                    "3": "8"
                                },
                                {
                                    "0": "0df3984f-9dfb-3d49-ac63-66acbd3bbb85",
                                    "1": "89",
                                    "2": "10021,49",
                                    "3": "56"
                                },
                                {
                                    "0": "5343d064-9eca-2a98-3820-bfe93fc4d17e",
                                    "1": "111",
                                    "2": "10000,64",
                                    "3": "25"
                                },
                                {
                                    "0": "054694fa-03fe-82ce-c4b7-551487331d74",
                                    "1": "22",
                                    "2": "9983,10",
                                    "3": "128"
                                },
                                {
                                    "0": "9d4db00d-65d7-7606-44ac-0c14edb5fd86",
                                    "1": "100",
                                    "2": "9979,70",
                                    "3": "8"
                                },
                                {
                                    "0": "961dff0a-659b-4561-3343-72337dd897d9",
                                    "1": "4",
                                    "2": "9946,00",
                                    "3": "429"
                                },
                                {
                                    "0": "5882820e-f11c-4c06-8eea-0677a7a879b4",
                                    "1": "14",
                                    "2": "9925,50",
                                    "3": "31"
                                },
                                {
                                    "0": "4830e406-4073-4fc1-c52c-d21127c341d4",
                                    "1": "219",
                                    "2": "9843,47",
                                    "3": "2"
                                },
                                {
                                    "0": "ef506c96-320a-beed-fb89-4c34db06f478",
                                    "1": "340",
                                    "2": "9771,43",
                                    "3": "4"
                                },
                                {
                                    "0": "17ca9b9e-9b9e-f8fd-b529-001b49ebb50f",
                                    "1": "129",
                                    "2": "9754,83",
                                    "3": "2"
                                },
                                {
                                    "0": "7040e82f-899a-04d1-b434-b795a43b4617",
                                    "1": "228",
                                    "2": "9738,20",
                                    "3": "1"
                                },
                                {
                                    "0": "ca3bd7cd-9f14-9df7-5950-150d010fe4a2",
                                    "1": "138",
                                    "2": "9731,85",
                                    "3": "20"
                                },
                                {
                                    "0": "7b07b3c7-487f-0ea8-25fc-6df75abd658b",
                                    "1": "98",
                                    "2": "9731,85",
                                    "3": "1"
                                },
                                {
                                    "0": "01cf7e3d-2149-4c41-fb86-034f2e714fa1",
                                    "1": "67",
                                    "2": "9729,36",
                                    "3": "178"
                                },
                                {
                                    "0": "17306570-e772-e771-8c92-a562d33f5f1d",
                                    "1": "32",
                                    "2": "9669,80",
                                    "3": "125"
                                },
                                {
                                    "0": "e96498ed-8daa-a3e9-c23f-7a62da76591c",
                                    "1": "34",
                                    "2": "9619,09",
                                    "3": "23"
                                },
                                {
                                    "0": "31344c16-881c-08a8-a72c-6d2eb29918c1",
                                    "1": "43",
                                    "2": "9615,70",
                                    "3": "2"
                                },
                                {
                                    "0": "e7df4cd2-9ab5-abab-70fb-0783ddb53987",
                                    "1": "24",
                                    "2": "9608,70",
                                    "3": "1"
                                },
                                {
                                    "0": "73a63f72-308a-a20a-46f4-b1632018f196",
                                    "1": "41",
                                    "2": "9606,80",
                                    "3": "22"
                                },
                                {
                                    "0": "b2ac621f-0d03-2243-4d04-a12b078b9369",
                                    "1": "30",
                                    "2": "9575,50",
                                    "3": "4"
                                },
                                {
                                    "0": "1c129092-bf23-f28a-5930-387c980c0dfc",
                                    "1": "220",
                                    "2": "9553,62",
                                    "3": "14"
                                },
                                {
                                    "0": "36a968b5-4469-5394-e4e9-d7572688598f",
                                    "1": "162",
                                    "2": "9482,87",
                                    "3": "2"
                                },
                                {
                                    "0": "3db66a85-6d18-a9cb-a7c9-241fc5221c50",
                                    "1": "97",
                                    "2": "9478,30",
                                    "3": "4"
                                },
                                {
                                    "0": "270297ea-d4c6-5a6c-d259-3960d2af6b21",
                                    "1": "20",
                                    "2": "9422,40",
                                    "3": "9"
                                },
                                {
                                    "0": "81a1104d-f0f0-8b59-c68a-a5b03cfe398e",
                                    "1": "73",
                                    "2": "9420,88",
                                    "3": "127"
                                },
                                {
                                    "0": "066a6914-e1eb-f3ea-95a2-16c73a986b91",
                                    "1": "74",
                                    "2": "9410,38",
                                    "3": "10"
                                },
                                {
                                    "0": "cb8bcce2-48bb-1fb2-74ba-762d8b971456",
                                    "1": "69",
                                    "2": "9402,20",
                                    "3": "9"
                                },
                                {
                                    "0": "a00824eb-9093-d40e-589b-940ec45c4eb0",
                                    "1": "3",
                                    "2": "9399,97",
                                    "3": "140"
                                },
                                {
                                    "0": "5b815461-0ebb-21fb-90eb-587365e673df",
                                    "1": "41",
                                    "2": "9397,54",
                                    "3": "25"
                                },
                                {
                                    "0": "3c487ae8-f8d7-542b-eff5-788e2e0aea83",
                                    "1": "33",
                                    "2": "9385,70",
                                    "3": "2"
                                },
                                {
                                    "0": "aaed1309-3747-18fd-d995-ee4c58c9dfcd",
                                    "1": "112",
                                    "2": "9376,95",
                                    "3": "18"
                                },
                                {
                                    "0": "8b28d096-6340-3566-7e82-63d57ba3368c",
                                    "1": "155",
                                    "2": "9375,70",
                                    "3": "30"
                                },
                                {
                                    "0": "05feb94f-19d0-94d4-b0f9-281f0b1d4c99",
                                    "1": "6",
                                    "2": "9353,00",
                                    "3": "179"
                                },
                                {
                                    "0": "048c2757-5353-28e0-d7da-c690ad3c0aae",
                                    "1": "51",
                                    "2": "9264,78",
                                    "3": "3"
                                },
                                {
                                    "0": "aafe3660-0ce6-04f2-05b8-6b5084d3d767",
                                    "1": "131",
                                    "2": "9251,40",
                                    "3": "2"
                                },
                                {
                                    "0": "624f4ece-8da4-aafb-7769-9233d480f8ef",
                                    "1": "55",
                                    "2": "9205,00",
                                    "3": "2"
                                },
                                {
                                    "0": "dd7ddc04-e1b6-c2c6-1435-2b383efe2d36",
                                    "1": "143",
                                    "2": "9178,51",
                                    "3": "16"
                                },
                                {
                                    "0": "4e7c18b9-8d84-e05c-bae3-ff0ff03846c2",
                                    "1": "89",
                                    "2": "9177,90",
                                    "3": "38"
                                },
                                {
                                    "0": "6c12e406-90c3-35db-c2f6-8a4134d30dc1",
                                    "1": "18",
                                    "2": "9139,20",
                                    "3": "21"
                                },
                                {
                                    "0": "f80edd2c-5aaa-505c-c4b0-a3b219abf4b8",
                                    "1": "128",
                                    "2": "9108,20",
                                    "3": "2"
                                },
                                {
                                    "0": "8e8a7ce9-f2f9-70dc-00e2-acf6f6e199f6",
                                    "1": "66",
                                    "2": "9101,00",
                                    "3": "6"
                                },
                                {
                                    "0": "0db783cf-cd3b-7399-8abc-6e10e59a102f",
                                    "1": "137",
                                    "2": "9077,40",
                                    "3": "138"
                                },
                                {
                                    "0": "06df0c10-d34e-459d-9672-bc77388742eb",
                                    "1": "30",
                                    "2": "9070,00",
                                    "3": "21"
                                },
                                {
                                    "0": "fffd5413-c070-0ac8-20c7-069d66d98c89",
                                    "1": "61",
                                    "2": "9062,30",
                                    "3": "1"
                                },
                                {
                                    "0": "9b013e03-b2ab-7865-05a1-d3b5c0756754",
                                    "1": "225",
                                    "2": "9027,40",
                                    "3": "1"
                                },
                                {
                                    "0": "5f2684da-b12e-59f8-3bef-73ae57724e45",
                                    "1": "74",
                                    "2": "9000,87",
                                    "3": "1"
                                },
                                {
                                    "0": "403aa869-1252-7d73-0337-ffcb0fb096ab",
                                    "1": "11",
                                    "2": "8959,89",
                                    "3": "277"
                                },
                                {
                                    "0": "f27e33c6-d29b-5138-fa99-67bcd445b6d5",
                                    "1": "98",
                                    "2": "8888,30",
                                    "3": "1"
                                },
                                {
                                    "0": "32b8764b-4ef6-28b5-3608-fc34011fcc13",
                                    "1": "38",
                                    "2": "8884,00",
                                    "3": "2"
                                },
                                {
                                    "0": "d03698c2-efd0-4a54-9382-afa6623e27fb",
                                    "1": "21",
                                    "2": "8865,47",
                                    "3": "23"
                                },
                                {
                                    "0": "2089a6d6-4099-9f9b-9141-ac719b2af596",
                                    "1": "44",
                                    "2": "8830,82",
                                    "3": "60"
                                },
                                {
                                    "0": "1da3aeb7-0d79-89d1-e6d9-b0e887f97c23",
                                    "1": "328",
                                    "2": "8823,52",
                                    "3": "1"
                                },
                                {
                                    "0": "a49928bc-df77-c55c-6d6e-05e09a9b4ca5",
                                    "1": "106",
                                    "2": "8816,70",
                                    "3": "84"
                                },
                                {
                                    "0": "562fc2f2-c286-3ab7-e79a-9e4388a58a14",
                                    "1": "270",
                                    "2": "8814,20",
                                    "3": "0"
                                },
                                {
                                    "0": "af4a0e4c-fe1d-9c26-b671-2b1be25a72e5",
                                    "1": "26",
                                    "2": "8757,98",
                                    "3": "143"
                                },
                                {
                                    "0": "18a349e7-5d30-7f4b-4cc6-46a691ed4216",
                                    "1": "148",
                                    "2": "8711,53",
                                    "3": "1"
                                },
                                {
                                    "0": "6d803cb7-9cc3-1c41-c4c7-89a75933b3c7",
                                    "1": "66",
                                    "2": "8711,40",
                                    "3": "77"
                                },
                                {
                                    "0": "6c7d50c2-4b3c-cd2f-d83b-44d8bb34e073",
                                    "1": "128",
                                    "2": "8699,34",
                                    "3": "9"
                                },
                                {
                                    "0": "b1a81260-566c-1bac-3114-a6d124413f27",
                                    "1": "54",
                                    "2": "8684,69",
                                    "3": "6"
                                },
                                {
                                    "0": "9596c870-880d-9000-12f2-e8e6e30d06d7",
                                    "1": "24",
                                    "2": "8606,25",
                                    "3": "16"
                                },
                                {
                                    "0": "db295674-5b3a-8e9f-3785-c99f34b5d25e",
                                    "1": "48",
                                    "2": "8599,00",
                                    "3": "2"
                                },
                                {
                                    "0": "259f7b5e-6e48-2c23-0e5b-faa670b6bb8f",
                                    "1": "165",
                                    "2": "8526,04",
                                    "3": "1"
                                },
                                {
                                    "0": "93dc8770-3c04-6b60-3023-e75222018b45",
                                    "1": "36",
                                    "2": "8517,35",
                                    "3": "-41"
                                },
                                {
                                    "0": "cbd996ad-3c1b-7dc7-1fd0-e5f5df9087e2",
                                    "1": "196",
                                    "2": "8411,04",
                                    "3": "0"
                                },
                                {
                                    "0": "b18dc380-845b-2403-8cfc-48006478f099",
                                    "1": "54",
                                    "2": "8353,30",
                                    "3": "21"
                                },
                                {
                                    "0": "6c177e38-df6d-3f34-182b-1f1d427231bf",
                                    "1": "56",
                                    "2": "8341,89",
                                    "3": "1"
                                },
                                {
                                    "0": "7d456afc-6602-2682-9370-f3173d14520c",
                                    "1": "91",
                                    "2": "8338,25",
                                    "3": "8"
                                },
                                {
                                    "0": "fcb5ace8-bcc9-2f75-707d-c0f01a27d269",
                                    "1": "73",
                                    "2": "8318,63",
                                    "3": "8"
                                },
                                {
                                    "0": "784ba75d-d9d2-0200-c4ca-ed3d7a77141a",
                                    "1": "24",
                                    "2": "8295,13",
                                    "3": "217"
                                },
                                {
                                    "0": "30780969-83cf-766a-32a0-6257648502d1",
                                    "1": "64",
                                    "2": "8285,42",
                                    "3": "107"
                                },
                                {
                                    "0": "26d8a1c7-c75d-5130-4579-8992ead43aa2",
                                    "1": "38",
                                    "2": "8244,12",
                                    "3": "10"
                                },
                                {
                                    "0": "b92e3c8f-9738-272f-f7c5-9e111e108d7c",
                                    "1": "70",
                                    "2": "8231,09",
                                    "3": "16"
                                },
                                {
                                    "0": "4371b634-e0ef-c0e2-2b09-b52907d9d469",
                                    "1": "112",
                                    "2": "8194,00",
                                    "3": "14"
                                },
                                {
                                    "0": "397c4d0c-005b-6f41-f900-98ac724e28cb",
                                    "1": "5",
                                    "2": "8177,00",
                                    "3": "17"
                                },
                                {
                                    "0": "67883baa-ae61-34ee-81b2-71a542613728",
                                    "1": "19",
                                    "2": "8167,90",
                                    "3": "8"
                                },
                                {
                                    "0": "86bb7c4b-535e-49a5-41ba-f3266b1c95b1",
                                    "1": "16",
                                    "2": "8162,40",
                                    "3": "156"
                                },
                                {
                                    "0": "fdb90952-04a3-34cd-8872-252ffec6f2db",
                                    "1": "61",
                                    "2": "8156,00",
                                    "3": "85"
                                },
                                {
                                    "0": "52d76513-f0c4-d97f-3b99-570e2c94ee31",
                                    "1": "28",
                                    "2": "8153,10",
                                    "3": "9"
                                },
                                {
                                    "0": "33a17d60-c643-9335-1ebf-1ef860f4e0f2",
                                    "1": "47",
                                    "2": "8152,48",
                                    "3": "6"
                                },
                                {
                                    "0": "4bfc7a4a-1cf8-d4d2-121c-27422d9e50b5",
                                    "1": "40",
                                    "2": "8124,40",
                                    "3": "7"
                                },
                                {
                                    "0": "8fb79102-2c1f-c890-9664-f48ab7dc636d",
                                    "1": "5",
                                    "2": "8119,95",
                                    "3": "32"
                                },
                                {
                                    "0": "972d0f9c-f61b-499a-4812-cf0bfa3ad3c4",
                                    "1": "88",
                                    "2": "8089,29",
                                    "3": "1"
                                },
                                {
                                    "0": "750303a2-0e9c-56b2-a6bc-45cdce0b897d",
                                    "1": "57",
                                    "2": "8085,00",
                                    "3": "3"
                                },
                                {
                                    "0": "a2e87407-4c87-7c5a-05ab-ae80ad6e488f",
                                    "1": "46",
                                    "2": "8071,98",
                                    "3": "1"
                                },
                                {
                                    "0": "6bd69102-ab48-df50-0790-a8cecfc285c2",
                                    "1": "5",
                                    "2": "8070,00",
                                    "3": "105"
                                },
                                {
                                    "0": "5656537e-5888-03a5-55b8-eb41f07a944b",
                                    "1": "188",
                                    "2": "8065,93",
                                    "3": "1"
                                },
                                {
                                    "0": "7a241947-449c-c45d-bfda-4f9d0798d9d0",
                                    "1": "72",
                                    "2": "8027,63",
                                    "3": "18"
                                },
                                {
                                    "0": "54065e9a-ef7e-9e9c-2dc2-3b7594db021a",
                                    "1": "14",
                                    "2": "8003,00",
                                    "3": "403"
                                },
                                {
                                    "0": "b1fc4f64-df5a-0e8b-6913-ab38803c57a9",
                                    "1": "121",
                                    "2": "7994,74",
                                    "3": "14"
                                },
                                {
                                    "0": "90303766-0cf8-48a7-1716-6eb7a06d616e",
                                    "1": "60",
                                    "2": "7991,51",
                                    "3": "-1"
                                },
                                {
                                    "0": "ebd2d609-05fb-5827-1fac-ef5596b620d3",
                                    "1": "88",
                                    "2": "7941,72",
                                    "3": "2"
                                },
                                {
                                    "0": "bbf9ad41-dca6-603e-614e-fcdad7aab8c4",
                                    "1": "14",
                                    "2": "7846,00",
                                    "3": "58"
                                },
                                {
                                    "0": "989becdc-e12e-bc39-863c-2bceab6f3ca1",
                                    "1": "18",
                                    "2": "7840,88",
                                    "3": "7"
                                },
                                {
                                    "0": "725c32fa-80c2-faac-c4fc-88450d27314e",
                                    "1": "93",
                                    "2": "7838,88",
                                    "3": "13"
                                },
                                {
                                    "0": "8476243f-9244-2881-ddd5-b578975cf115",
                                    "1": "12",
                                    "2": "7838,00",
                                    "3": "9"
                                },
                                {
                                    "0": "0432ead4-2b6c-8a0b-df68-154add917fdf",
                                    "1": "90",
                                    "2": "7792,10",
                                    "3": "30"
                                },
                                {
                                    "0": "d51e0a40-3fe2-e689-ece6-c73359d96e12",
                                    "1": "26",
                                    "2": "7790,00",
                                    "3": "22"
                                },
                                {
                                    "0": "2dee2ce6-0de9-709b-1a24-083217181a1f",
                                    "1": "55",
                                    "2": "7784,50",
                                    "3": "53"
                                },
                                {
                                    "0": "7008613e-a464-bad5-cb9b-83456e1e6a8f",
                                    "1": "156",
                                    "2": "7777,00",
                                    "3": "2"
                                },
                                {
                                    "0": "7bac63f6-603d-382c-c8d0-832eb6c100a8",
                                    "1": "19",
                                    "2": "7751,95",
                                    "3": "23"
                                },
                                {
                                    "0": "5b925e1d-006e-9476-d738-aa200751b73b",
                                    "1": "63",
                                    "2": "7748,50",
                                    "3": "7"
                                },
                                {
                                    "0": "6fd52c52-8dcb-38be-2eea-044946b811f8",
                                    "1": "84",
                                    "2": "7743,02",
                                    "3": "11"
                                },
                                {
                                    "0": "e5a34388-91c0-bfdb-9394-643f95273d8e",
                                    "1": "255",
                                    "2": "7738,35",
                                    "3": "121"
                                },
                                {
                                    "0": "257e61d3-251f-b5ef-b9da-adddbc2cf7ca",
                                    "1": "12",
                                    "2": "7729,00",
                                    "3": "11"
                                },
                                {
                                    "0": "b410bdd3-6d5d-b7a6-5dcd-42b7ead933b8",
                                    "1": "44",
                                    "2": "7726,90",
                                    "3": "4"
                                },
                                {
                                    "0": "42bde9fe-f835-393b-b8a8-849cb6b7f245",
                                    "1": "40",
                                    "2": "7703,00",
                                    "3": "3"
                                },
                                {
                                    "0": "3bb548e3-cb7f-70f2-8e3f-11ee9dce0e59",
                                    "1": "53",
                                    "2": "7690,02",
                                    "3": "8"
                                },
                                {
                                    "0": "058fd0aa-2bfd-b227-4e05-e1ae971dabb6",
                                    "1": "64",
                                    "2": "7667,90",
                                    "3": "77"
                                },
                                {
                                    "0": "08633c14-ef2d-b992-c11f-840f04fad4cd",
                                    "1": "97",
                                    "2": "7644,30",
                                    "3": "2"
                                },
                                {
                                    "0": "4e17c65a-516f-69d0-23a2-ae78b84f28d6",
                                    "1": "74",
                                    "2": "7639,26",
                                    "3": "2"
                                },
                                {
                                    "0": "52f976b1-7ea7-f2f0-87f5-6dcc419328f6",
                                    "1": "6",
                                    "2": "7630,00",
                                    "3": "32"
                                },
                                {
                                    "0": "640e21a7-d01d-f761-4a3b-4923e990d40c",
                                    "1": "137",
                                    "2": "7598,88",
                                    "3": "-47"
                                },
                                {
                                    "0": "4aba391b-c3b8-8717-ce08-eb11e44937b2",
                                    "1": "30",
                                    "2": "7595,87",
                                    "3": "17"
                                },
                                {
                                    "0": "6a51fc55-6dab-5f76-6ced-6fbc860bc613",
                                    "1": "33",
                                    "2": "7577,67",
                                    "3": "3"
                                },
                                {
                                    "0": "8a432f4e-5b47-1f8d-a497-d7dc517666e2",
                                    "1": "106",
                                    "2": "7555,00",
                                    "3": "1"
                                },
                                {
                                    "0": "062ce95f-a2ad-4dfa-edfc-79260130565f",
                                    "1": "60",
                                    "2": "7521,00",
                                    "3": "325"
                                },
                                {
                                    "0": "0bae85eb-84b9-fb3b-d773-911e89288d54",
                                    "1": "146",
                                    "2": "7482,21",
                                    "3": "3"
                                },
                                {
                                    "0": "c26a2be5-b53b-7db6-b276-280da212a779",
                                    "1": "18",
                                    "2": "7482,00",
                                    "3": "18"
                                },
                                {
                                    "0": "87e24fc7-0522-59b1-f7f6-07d61c10d8be",
                                    "1": "8",
                                    "2": "7473,49",
                                    "3": "2"
                                },
                                {
                                    "0": "bd0389da-23d8-9b72-6abf-911cccc54596",
                                    "1": "90",
                                    "2": "7472,16",
                                    "3": "4"
                                },
                                {
                                    "0": "a420f60f-f1aa-9acc-80d0-e42959f2b313",
                                    "1": "69",
                                    "2": "7443,30",
                                    "3": "13"
                                },
                                {
                                    "0": "8648b1e8-9e9b-349e-32d3-741b30ec737e",
                                    "1": "103",
                                    "2": "7442,55",
                                    "3": "3"
                                },
                                {
                                    "0": "512d298a-c2a9-6d19-31b6-bd30aa21f61d",
                                    "1": "12",
                                    "2": "7401,94",
                                    "3": "8"
                                },
                                {
                                    "0": "e0a36631-5b1b-726b-6c78-32d664c0f530",
                                    "1": "51",
                                    "2": "7400,09",
                                    "3": "4"
                                },
                                {
                                    "0": "f25e2390-5208-4705-e17a-982bc600ab2a",
                                    "1": "8",
                                    "2": "7380,00",
                                    "3": "14"
                                },
                                {
                                    "0": "381c83fd-ca33-2ea6-afd8-96da20bf6e4a",
                                    "1": "46",
                                    "2": "7355,80",
                                    "3": "15"
                                },
                                {
                                    "0": "b3476778-12ea-483b-0f52-8eaf8cbc09b7",
                                    "1": "21",
                                    "2": "7288,99",
                                    "3": "58"
                                },
                                {
                                    "0": "febab027-5244-b9a4-9a62-3f0bd613ca2f",
                                    "1": "129",
                                    "2": "7272,42",
                                    "3": "2"
                                },
                                {
                                    "0": "aced59e9-b31e-f866-a94f-9e7f29d8d418",
                                    "1": "67",
                                    "2": "7268,50",
                                    "3": "1"
                                },
                                {
                                    "0": "e333046c-e651-7bd8-bb51-0291d44f0130",
                                    "1": "74",
                                    "2": "7268,00",
                                    "3": "0"
                                },
                                {
                                    "0": "0873d9f8-f361-23f8-d910-f4760e788cfb",
                                    "1": "6",
                                    "2": "7265,59",
                                    "3": "8"
                                },
                                {
                                    "0": "cee48807-215b-30a1-2ca2-ca10ffb5f250",
                                    "1": "40",
                                    "2": "7212,23",
                                    "3": "4"
                                },
                                {
                                    "0": "d624126b-9206-f595-fb3f-bb6ba03b28a8",
                                    "1": "28",
                                    "2": "7198,80",
                                    "3": "8"
                                },
                                {
                                    "0": "ade45994-b717-ccee-3334-92330fbf037b",
                                    "1": "10",
                                    "2": "7196,00",
                                    "3": "7"
                                },
                                {
                                    "0": "dbb9b48c-841a-0e39-e21f-98e1a6b2ec3e",
                                    "1": "118",
                                    "2": "7186,85",
                                    "3": "56"
                                },
                                {
                                    "0": "d13e50ea-a47b-4cbe-9eb8-1465865d8cfc",
                                    "1": "69",
                                    "2": "7155,05",
                                    "3": "1"
                                },
                                {
                                    "0": "a4b6b9b9-92b4-6e9e-f863-637af96e04bc",
                                    "1": "14",
                                    "2": "7147,00",
                                    "3": "415"
                                },
                                {
                                    "0": "cc63f0dd-2acb-a93f-fed4-fe9f8e0321fa",
                                    "1": "63",
                                    "2": "7096,71",
                                    "3": "1"
                                },
                                {
                                    "0": "7722b1df-1b0e-383e-0003-97b2c11e3e19",
                                    "1": "145",
                                    "2": "7094,09",
                                    "3": "1"
                                },
                                {
                                    "0": "014c0679-dd34-0a0e-3388-72e7ec85666a",
                                    "1": "15",
                                    "2": "7058,00",
                                    "3": "49"
                                },
                                {
                                    "0": "f1fd5ab1-181f-827f-fad9-98c1a5de7d74",
                                    "1": "15",
                                    "2": "7045,99",
                                    "3": "11"
                                },
                                {
                                    "0": "dd55f1bb-7887-14a4-0e79-54c3be6df745",
                                    "1": "37",
                                    "2": "7041,76",
                                    "3": "35"
                                },
                                {
                                    "0": "679769a9-8cfc-c6da-877c-8486ff1c13f3",
                                    "1": "21",
                                    "2": "7029,00",
                                    "3": "1"
                                },
                                {
                                    "0": "ff4ea69c-2a72-9e83-e63c-7579e4ef8170",
                                    "1": "9",
                                    "2": "7017,00",
                                    "3": "456"
                                },
                                {
                                    "0": "6fa9202c-1049-1e47-2dff-d59a3e82b2a3",
                                    "1": "3",
                                    "2": "7014,24",
                                    "3": "7"
                                },
                                {
                                    "0": "b8630e11-2143-7d41-cb08-e3c749c2c2e2",
                                    "1": "12",
                                    "2": "6988,00",
                                    "3": "18"
                                },
                                {
                                    "0": "d98eec89-afa3-380e-1446-3da2aabaea72",
                                    "1": "183",
                                    "2": "6968,53",
                                    "3": "3"
                                },
                                {
                                    "0": "bacb1f0e-d56a-d241-98f5-810d2b3fe9a5",
                                    "1": "42",
                                    "2": "6940,45",
                                    "3": "207"
                                },
                                {
                                    "0": "1da366ca-de6d-8276-e7d8-beea7af5d4bf",
                                    "1": "49",
                                    "2": "6917,59",
                                    "3": "234"
                                },
                                {
                                    "0": "30829ded-4523-ab92-24b9-3bc49a62c95f",
                                    "1": "31",
                                    "2": "6911,71",
                                    "3": "3"
                                },
                                {
                                    "0": "d9bd9481-1c33-38dc-eb41-81f3dbc0c73e",
                                    "1": "61",
                                    "2": "6911,02",
                                    "3": "3"
                                },
                                {
                                    "0": "ad781527-c93d-00d8-9a11-eecd9dcad7c1",
                                    "1": "44",
                                    "2": "6899,57",
                                    "3": "88"
                                },
                                {
                                    "0": "e3b4998c-7a49-8169-dc7b-ce44e6bb6277",
                                    "1": "3",
                                    "2": "6897,90",
                                    "3": "546"
                                },
                                {
                                    "0": "1127b7f2-5946-83f2-510f-1c2c834a486b",
                                    "1": "132",
                                    "2": "6851,33",
                                    "3": "4"
                                },
                                {
                                    "0": "b3b17aab-11f2-7302-3a5f-22ca52e1eb70",
                                    "1": "13",
                                    "2": "6850,00",
                                    "3": "74"
                                },
                                {
                                    "0": "58f1a619-7ed8-6354-3e01-36bdedb3fce2",
                                    "1": "45",
                                    "2": "6833,00",
                                    "3": "3"
                                },
                                {
                                    "0": "8e6cc767-478e-dae9-41d9-bd9eb778d77a",
                                    "1": "114",
                                    "2": "6830,58",
                                    "3": "59"
                                },
                                {
                                    "0": "5b678826-48fe-bfb6-e122-5e6ad7164f6b",
                                    "1": "30",
                                    "2": "6813,48",
                                    "3": "11"
                                },
                                {
                                    "0": "ececbfcf-f980-4a2d-6b40-f589df8eef2b",
                                    "1": "104",
                                    "2": "6792,40",
                                    "3": "1"
                                },
                                {
                                    "0": "33dd941c-2785-4f76-25b9-68cc6195a552",
                                    "1": "5",
                                    "2": "6787,50",
                                    "3": "15"
                                },
                                {
                                    "0": "40d54b51-e962-dbe0-9cab-bcfd33298dee",
                                    "1": "31",
                                    "2": "6785,56",
                                    "3": "3"
                                },
                                {
                                    "0": "63b464db-f392-c7b8-0d12-d932fa7cafed",
                                    "1": "39",
                                    "2": "6781,00",
                                    "3": "210"
                                },
                                {
                                    "0": "a63bfbaa-882c-8f45-4289-1b4e2246cc7f",
                                    "1": "7",
                                    "2": "6772,00",
                                    "3": "2"
                                },
                                {
                                    "0": "ff1fb4c4-04b2-efe6-8b03-350a8dc24122",
                                    "1": "49",
                                    "2": "6771,00",
                                    "3": "7"
                                },
                                {
                                    "0": "aac29b1b-9977-6be7-3c30-49939652091d",
                                    "1": "138",
                                    "2": "6755,91",
                                    "3": "17"
                                },
                                {
                                    "0": "54219883-e72a-ad86-9adf-b2a54b7bfa0f",
                                    "1": "5",
                                    "2": "6750,00",
                                    "3": "42"
                                },
                                {
                                    "0": "3340ef19-13fb-70d2-8420-f6ceb685c339",
                                    "1": "42",
                                    "2": "6731,15",
                                    "3": "256"
                                },
                                {
                                    "0": "455c5640-e8c5-bd1b-2ee8-5c0158f85727",
                                    "1": "8",
                                    "2": "6729,50",
                                    "3": "87"
                                },
                                {
                                    "0": "80ceebb4-ee9b-31af-b6c6-a916a574a1e2",
                                    "1": "1",
                                    "2": "6729,00",
                                    "3": "16"
                                },
                                {
                                    "0": "abe021b0-1ba9-9224-5271-b9aa422032df",
                                    "1": "2",
                                    "2": "6720,00",
                                    "3": "448"
                                },
                                {
                                    "0": "31ae0774-c17f-abd0-6ff7-07cc5bde005f",
                                    "1": "11",
                                    "2": "6719,85",
                                    "3": "3"
                                },
                                {
                                    "0": "e5e33c0d-8e7e-002f-398f-5dc4cbbb338f",
                                    "1": "29",
                                    "2": "6698,70",
                                    "3": "15"
                                },
                                {
                                    "0": "83e197e9-5a1b-babc-8c75-e883ed016c47",
                                    "1": "55",
                                    "2": "6693,69",
                                    "3": "182"
                                },
                                {
                                    "0": "fa1a9dec-3a99-40c0-7268-4a46728bf1fc",
                                    "1": "60",
                                    "2": "6674,00",
                                    "3": "4"
                                },
                                {
                                    "0": "33c51922-b6e3-c16b-24a8-f28e5833c99d",
                                    "1": "20",
                                    "2": "6657,87",
                                    "3": "18"
                                },
                                {
                                    "0": "b4ffb71f-0cb1-b1c3-d63f-ad021ecf93e1",
                                    "1": "165",
                                    "2": "6656,09",
                                    "3": "3"
                                },
                                {
                                    "0": "751bdc4d-83a4-66c7-206c-d42e8f426b03",
                                    "1": "71",
                                    "2": "6648,93",
                                    "3": "22"
                                },
                                {
                                    "0": "516e7738-bd8f-735a-c19a-010ee5450d8d",
                                    "1": "84",
                                    "2": "6643,09",
                                    "3": "1"
                                },
                                {
                                    "0": "5670f4db-5b62-c43d-542e-1b2d56b0cf7c",
                                    "1": "22",
                                    "2": "6630,09",
                                    "3": "7"
                                },
                                {
                                    "0": "5d0363b3-3554-b373-851f-c1622e4d5f3c",
                                    "1": "95",
                                    "2": "6610,79",
                                    "3": "2"
                                },
                                {
                                    "0": "609e1a9a-6c25-3991-9b82-05cf7c4e6ff0",
                                    "1": "130",
                                    "2": "6595,23",
                                    "3": "2"
                                },
                                {
                                    "0": "92eb0f42-c219-42b6-5523-62b9b114707d",
                                    "1": "365",
                                    "2": "6548,63",
                                    "3": "1"
                                },
                                {
                                    "0": "11305281-b50f-ff20-ae8b-b473f8e11876",
                                    "1": "40",
                                    "2": "6528,70",
                                    "3": "2"
                                },
                                {
                                    "0": "282f23a9-769b-2690-c5dd-a22e316f9941",
                                    "1": "110",
                                    "2": "6505,08",
                                    "3": "1"
                                },
                                {
                                    "0": "ee27a8f1-5b1d-ded4-d213-a468ba4eb391",
                                    "1": "1",
                                    "2": "6499,00",
                                    "3": "452"
                                },
                                {
                                    "0": "4c03b9dd-4c11-ee2c-b35c-96c49efc9420",
                                    "1": "48",
                                    "2": "6458,60",
                                    "3": "316"
                                },
                                {
                                    "0": "34056b8b-55c1-775a-22af-2331670a799c",
                                    "1": "78",
                                    "2": "6455,40",
                                    "3": "2"
                                },
                                {
                                    "0": "6f892e20-a171-e98e-fe17-fdb971ff319b",
                                    "1": "53",
                                    "2": "6438,70",
                                    "3": "255"
                                },
                                {
                                    "0": "8a32e327-fe2c-1b35-1160-9d81aaf9f042",
                                    "1": "180",
                                    "2": "6429,01",
                                    "3": "182"
                                },
                                {
                                    "0": "7dc8c42c-c750-eeaf-ea6c-85712ffee9bf",
                                    "1": "50",
                                    "2": "6409,68",
                                    "3": "1"
                                },
                                {
                                    "0": "376a8917-62bb-decb-c02b-4b6adec3fdda",
                                    "1": "58",
                                    "2": "6406,23",
                                    "3": "109"
                                },
                                {
                                    "0": "dbdd0ec7-3a48-1797-1d96-2698f2fea022",
                                    "1": "16",
                                    "2": "6384,00",
                                    "3": "2"
                                },
                                {
                                    "0": "4b5f66b7-adcf-57f1-ecc0-d3c07dd6b177",
                                    "1": "38",
                                    "2": "6381,78",
                                    "3": "25"
                                },
                                {
                                    "0": "02f623a8-eb24-6f3c-5f7c-2f96462654e6",
                                    "1": "44",
                                    "2": "6378,00",
                                    "3": "-8"
                                },
                                {
                                    "0": "57e63271-1dec-9ec1-4ca7-546769483e7e",
                                    "1": "65",
                                    "2": "6350,06",
                                    "3": "18"
                                },
                                {
                                    "0": "670c26e0-f1bf-8d05-7627-1d5cfaec6d2b",
                                    "1": "87",
                                    "2": "6341,60",
                                    "3": "17"
                                },
                                {
                                    "0": "f4c4daa8-6e30-c7e5-a553-a8d518ac03a5",
                                    "1": "20",
                                    "2": "6301,91",
                                    "3": "280"
                                },
                                {
                                    "0": "dee656f0-f566-ed1a-a85b-d137c943f08f",
                                    "1": "95",
                                    "2": "6271,98",
                                    "3": "3"
                                },
                                {
                                    "0": "bd4889b5-e913-3b35-b66e-42a8665cea5c",
                                    "1": "42",
                                    "2": "6271,90",
                                    "3": "35"
                                },
                                {
                                    "0": "6b243f80-ed07-b10f-0e8a-a0f21a205f3c",
                                    "1": "89",
                                    "2": "6260,10",
                                    "3": "1"
                                },
                                {
                                    "0": "2fdde51a-d3e1-2f29-7da6-56d4fbd5d0b5",
                                    "1": "10",
                                    "2": "6252,00",
                                    "3": "305"
                                },
                                {
                                    "0": "ea67327e-2448-7bdf-ac5f-bfa37ea124df",
                                    "1": "34",
                                    "2": "6250,18",
                                    "3": "-11"
                                },
                                {
                                    "0": "2528744c-5ef5-d955-adc3-18720a94d2e7",
                                    "1": "5",
                                    "2": "6245,00",
                                    "3": "52"
                                },
                                {
                                    "0": "f12ff17a-d8bb-f01e-c5c3-3b17e506649b",
                                    "1": "29",
                                    "2": "6241,00",
                                    "3": "81"
                                },
                                {
                                    "0": "eb3071b9-f0b0-ddaa-2df5-ea130f09f26b",
                                    "1": "11",
                                    "2": "6230,00",
                                    "3": "99"
                                },
                                {
                                    "0": "b19f3ca2-ea47-5913-750f-25a5c37c8d8f",
                                    "1": "24",
                                    "2": "6202,91",
                                    "3": "10"
                                },
                                {
                                    "0": "cfa5ab0e-4d3f-c212-fd0b-3410e7081c62",
                                    "1": "21",
                                    "2": "6180,80",
                                    "3": "3"
                                },
                                {
                                    "0": "9baf5cb7-7970-f539-089d-09a38bcec5c3",
                                    "1": "33",
                                    "2": "6129,67",
                                    "3": "10"
                                },
                                {
                                    "0": "dfc5fb72-59bb-2b59-9ca5-65e6e9448f0f",
                                    "1": "34",
                                    "2": "6124,63",
                                    "3": "8"
                                },
                                {
                                    "0": "ba143b05-f011-0f0d-c71a-d71b4466ce92",
                                    "1": "86",
                                    "2": "6110,58",
                                    "3": "2"
                                },
                                {
                                    "0": "2c9e548b-e185-21d1-c43c-de1c582c6de8",
                                    "1": "174",
                                    "2": "6109,44",
                                    "3": "2"
                                },
                                {
                                    "0": "d6b664fa-0667-064c-6d76-394e7848d790",
                                    "1": "6",
                                    "2": "6080,00",
                                    "3": "100"
                                },
                                {
                                    "0": "6a8b085f-816a-1f75-f92d-bac6eb545f8f",
                                    "1": "135",
                                    "2": "6018,97",
                                    "3": "2"
                                },
                                {
                                    "0": "bba74270-a877-3272-7b5a-3b4fd9ac1c39",
                                    "1": "41",
                                    "2": "6001,59",
                                    "3": "70"
                                },
                                {
                                    "0": "37515688-008a-7a40-ac93-e3b2e4ab203f",
                                    "1": "240",
                                    "2": "5986,60",
                                    "3": "16"
                                },
                                {
                                    "0": "688756f7-17c4-62a2-06ad-854c5027a64a",
                                    "1": "101",
                                    "2": "5966,54",
                                    "3": "1"
                                },
                                {
                                    "0": "f84a00e6-0c73-a49e-7e85-1c9bdca3a5bb",
                                    "1": "99",
                                    "2": "5949,94",
                                    "3": "28"
                                },
                                {
                                    "0": "91f848e9-f4be-368f-4318-775aac733370",
                                    "1": "73",
                                    "2": "5932,60",
                                    "3": "386"
                                },
                                {
                                    "0": "b14db04a-a788-1970-e83f-fa9426897925",
                                    "1": "111",
                                    "2": "5898,60",
                                    "3": "1"
                                },
                                {
                                    "0": "0691148a-ee60-ca47-977c-187804f935ae",
                                    "1": "53",
                                    "2": "5868,51",
                                    "3": "1"
                                },
                                {
                                    "0": "f4649062-4488-d3ff-7ce7-8613913a7711",
                                    "1": "91",
                                    "2": "5802,85",
                                    "3": "-10"
                                },
                                {
                                    "0": "02d35243-ea2e-4973-35cd-0f076b45675d",
                                    "1": "16",
                                    "2": "5794,00",
                                    "3": "14"
                                },
                                {
                                    "0": "e8b42252-84fb-b02d-16f2-00513f1f395d",
                                    "1": "31",
                                    "2": "5788,52",
                                    "3": "8"
                                },
                                {
                                    "0": "0bf0150d-5b9d-60d9-cd29-06003332f085",
                                    "1": "62",
                                    "2": "5774,60",
                                    "3": "36"
                                },
                                {
                                    "0": "05d2173d-43ea-568a-a054-0eba70d2ca76",
                                    "1": "66",
                                    "2": "5759,66",
                                    "3": "9"
                                },
                                {
                                    "0": "3ade81da-b5a1-72b8-8e18-71c28ae05260",
                                    "1": "32",
                                    "2": "5751,60",
                                    "3": "1"
                                },
                                {
                                    "0": "b4a476fb-d28d-e64b-1e34-7abf9089366a",
                                    "1": "38",
                                    "2": "5724,04",
                                    "3": "58"
                                },
                                {
                                    "0": "080102cd-0a76-b09e-0dcf-55fcacc60e05",
                                    "1": "130",
                                    "2": "5716,78",
                                    "3": "1"
                                },
                                {
                                    "0": "96163520-88dc-f83a-7c06-637f4ebf1c80",
                                    "1": "98",
                                    "2": "5703,00",
                                    "3": "1"
                                },
                                {
                                    "0": "94e93ce8-77be-27a5-1511-8dbfd2c2be41",
                                    "1": "35",
                                    "2": "5674,57",
                                    "3": "347"
                                },
                                {
                                    "0": "e2aee089-2199-b1d9-2530-e371abd825bf",
                                    "1": "41",
                                    "2": "5662,57",
                                    "3": "16"
                                },
                                {
                                    "0": "52ac6f92-0b72-80e4-c6d3-0dd94de6259b",
                                    "1": "7",
                                    "2": "5657,30",
                                    "3": "87"
                                },
                                {
                                    "0": "8c16d1f3-2a54-d928-97cc-437244442e1b",
                                    "1": "118",
                                    "2": "5642,60",
                                    "3": "2"
                                },
                                {
                                    "0": "67bf6941-ba2f-1fa1-d02c-375766bc3e53",
                                    "1": "22",
                                    "2": "5610,00",
                                    "3": "1"
                                },
                                {
                                    "0": "d63c73ef-d41e-b002-280e-7ec831424edb",
                                    "1": "2",
                                    "2": "5598,00",
                                    "3": "86"
                                },
                                {
                                    "0": "45ba18c2-10d4-2734-ec52-c0c1c574e9ee",
                                    "1": "41",
                                    "2": "5589,13",
                                    "3": "3"
                                },
                                {
                                    "0": "817245bc-c3ba-dd82-bbd2-22e0366951a6",
                                    "1": "45",
                                    "2": "5580,50",
                                    "3": "39"
                                },
                                {
                                    "0": "f181738b-150d-f1f3-7cb0-bd72e705b193",
                                    "1": "37",
                                    "2": "5529,70",
                                    "3": "4"
                                },
                                {
                                    "0": "04aa0a1c-5ce6-b222-0034-03a3e11c3cc0",
                                    "1": "17",
                                    "2": "5518,00",
                                    "3": "197"
                                },
                                {
                                    "0": "916c9de0-b5ad-9573-46ee-eb12f332687e",
                                    "1": "28",
                                    "2": "5480,25",
                                    "3": "34"
                                },
                                {
                                    "0": "cc3d1411-6804-f720-9f38-84f6367f1152",
                                    "1": "30",
                                    "2": "5477,80",
                                    "3": "4"
                                },
                                {
                                    "0": "4917cee8-d902-e134-28c3-ec4b1ca6f315",
                                    "1": "33",
                                    "2": "5421,90",
                                    "3": "4"
                                },
                                {
                                    "0": "575df70b-de3f-9f2b-30bf-8d2e9910d725",
                                    "1": "34",
                                    "2": "5410,05",
                                    "3": "2"
                                },
                                {
                                    "0": "3f0e48d2-0901-8b46-6fcd-3bb4ccfeb520",
                                    "1": "10",
                                    "2": "5399,00",
                                    "3": "214"
                                },
                                {
                                    "0": "c4af8633-0efa-7a26-2077-2227d2d670c9",
                                    "1": "4",
                                    "2": "5396,00",
                                    "3": "70"
                                },
                                {
                                    "0": "23c38deb-affe-4a25-a30f-dbd9b586a13f",
                                    "1": "46",
                                    "2": "5382,18",
                                    "3": "10"
                                },
                                {
                                    "0": "3be63455-3519-fb65-36a0-3e1358e9fdc7",
                                    "1": "99",
                                    "2": "5370,95",
                                    "3": "2"
                                },
                                {
                                    "0": "b6d44737-c043-3287-08f6-749c2dbe50bd",
                                    "1": "80",
                                    "2": "5369,60",
                                    "3": "18"
                                },
                                {
                                    "0": "83deb69e-889c-f80f-82be-1dc6d5f2d486",
                                    "1": "42",
                                    "2": "5363,01",
                                    "3": "1"
                                },
                                {
                                    "0": "2a261b5b-644f-a05f-4f27-00eb93544f2c",
                                    "1": "82",
                                    "2": "5355,00",
                                    "3": "25"
                                },
                                {
                                    "0": "e62b2d6a-c105-70a0-35a3-0bafcf01d263",
                                    "1": "71",
                                    "2": "5340,39",
                                    "3": "8"
                                },
                                {
                                    "0": "0cbcee27-c791-afa0-cdcb-08587a2013a8",
                                    "1": "41",
                                    "2": "5324,15",
                                    "3": "35"
                                },
                                {
                                    "0": "c35affa6-5afd-2501-5128-5c5917fc1c8a",
                                    "1": "9",
                                    "2": "5279,91",
                                    "3": "59"
                                },
                                {
                                    "0": "e06f09ec-0a4a-ca21-0779-cf1cfc63cf19",
                                    "1": "31",
                                    "2": "5279,49",
                                    "3": "234"
                                },
                                {
                                    "0": "02ecc2a1-9303-f05e-59ce-133fd923fff7",
                                    "1": "24",
                                    "2": "5264,19",
                                    "3": "2"
                                },
                                {
                                    "0": "e9c6969d-40e6-a3d2-d0f9-0013165c2b98",
                                    "1": "10",
                                    "2": "5239,98",
                                    "3": "84"
                                },
                                {
                                    "0": "5bffbafb-b22d-af6d-3bfc-216a46db8708",
                                    "1": "23",
                                    "2": "5239,70",
                                    "3": "422"
                                },
                                {
                                    "0": "4d0041cd-be51-b461-7d95-c70b19decc74",
                                    "1": "8",
                                    "2": "5235,20",
                                    "3": "27"
                                },
                                {
                                    "0": "099095b0-50cf-e8eb-1ddf-f5317587e96e",
                                    "1": "20",
                                    "2": "5193,83",
                                    "3": "8"
                                },
                                {
                                    "0": "b39d7fe2-63ef-4696-05db-b32608aee0af",
                                    "1": "49",
                                    "2": "5193,10",
                                    "3": "1"
                                },
                                {
                                    "0": "f67efa3f-0b67-6110-2a7f-8c6b7b571f5d",
                                    "1": "32",
                                    "2": "5188,68",
                                    "3": "132"
                                },
                                {
                                    "0": "f680f85b-ee2d-2535-56ac-91be391d2c82",
                                    "1": "54",
                                    "2": "5183,92",
                                    "3": "3"
                                },
                                {
                                    "0": "5b179e9e-8cc7-ab6f-d113-a46ca584da81",
                                    "1": "36",
                                    "2": "5173,50",
                                    "3": "339"
                                },
                                {
                                    "0": "822bad9b-c42b-5121-3ba5-22fe87b7ab5d",
                                    "1": "18",
                                    "2": "5160,00",
                                    "3": "66"
                                },
                                {
                                    "0": "709e16e2-b25c-7474-d980-076c6bfc4806",
                                    "1": "80",
                                    "2": "5151,90",
                                    "3": "1"
                                },
                                {
                                    "0": "d566c37f-a119-d5e6-6c4e-9052e83ee4ea",
                                    "1": "73",
                                    "2": "5145,70",
                                    "3": "1"
                                },
                                {
                                    "0": "afe00671-31b7-3e40-875c-9b6c10bd2e21",
                                    "1": "46",
                                    "2": "5130,40",
                                    "3": "55"
                                },
                                {
                                    "0": "835f0f78-10c7-6831-d6c7-d24c7a646d4d",
                                    "1": "50",
                                    "2": "5130,00",
                                    "3": "179"
                                },
                                {
                                    "0": "fad44952-7137-6483-6814-be105382aee5",
                                    "1": "32",
                                    "2": "5129,00",
                                    "3": "10"
                                },
                                {
                                    "0": "f84fa566-034f-5e8e-880a-07ec624c56af",
                                    "1": "102",
                                    "2": "5093,79",
                                    "3": "7"
                                },
                                {
                                    "0": "f7496d65-9ca9-fdaf-323c-0aae84176632",
                                    "1": "27",
                                    "2": "5087,57",
                                    "3": "4"
                                },
                                {
                                    "0": "9674754b-5a0c-b32b-638c-ec001178f799",
                                    "1": "97",
                                    "2": "5069,92",
                                    "3": "1"
                                },
                                {
                                    "0": "e0878efa-0e0b-7e53-13ac-0b43bc04c081",
                                    "1": "29",
                                    "2": "5065,30",
                                    "3": "168"
                                },
                                {
                                    "0": "e067ad2c-1c0b-4875-8eb1-b5228bcf7a68",
                                    "1": "61",
                                    "2": "5042,55",
                                    "3": "3"
                                },
                                {
                                    "0": "3df020b7-2d3d-44b3-af9d-110fa3940b65",
                                    "1": "101",
                                    "2": "5039,90",
                                    "3": "4"
                                },
                                {
                                    "0": "3ab971ce-7183-9580-d2ae-5b4e40fe8044",
                                    "1": "38",
                                    "2": "5002,90",
                                    "3": "4"
                                },
                                {
                                    "0": "1bb2bdb9-5f48-41f1-bba2-c0d2cd83d3c9",
                                    "1": "85",
                                    "2": "5002,71",
                                    "3": "9"
                                },
                                {
                                    "0": "4bf2f4ee-5407-98a6-1f96-36d12cd9cc80",
                                    "1": "30",
                                    "2": "4995,56",
                                    "3": "14"
                                },
                                {
                                    "0": "45213867-cefb-f2cd-4c61-77e10216a951",
                                    "1": "14",
                                    "2": "4955,42",
                                    "3": "318"
                                },
                                {
                                    "0": "dbd66278-cbfe-1aa1-000f-90a217ca4695",
                                    "1": "99",
                                    "2": "4928,90",
                                    "3": "3"
                                },
                                {
                                    "0": "e9d99831-abad-7445-8942-f21e16f33f92",
                                    "1": "149",
                                    "2": "4922,48",
                                    "3": "2"
                                },
                                {
                                    "0": "9df57502-09b8-3567-ec14-4eb299d7d634",
                                    "1": "11",
                                    "2": "4917,00",
                                    "3": "29"
                                },
                                {
                                    "0": "503c1de0-8ae8-1a2d-86f1-7951b204db55",
                                    "1": "22",
                                    "2": "4906,99",
                                    "3": "30"
                                },
                                {
                                    "0": "822b6391-2576-852a-ea9a-8436d72317b7",
                                    "1": "9",
                                    "2": "4905,69",
                                    "3": "569"
                                },
                                {
                                    "0": "d66c305a-faec-317e-bee5-52073a674429",
                                    "1": "47",
                                    "2": "4886,46",
                                    "3": "449"
                                },
                                {
                                    "0": "abcd2cb3-7d46-c2c8-fb1b-f071c859fc5b",
                                    "1": "52",
                                    "2": "4880,22",
                                    "3": "10"
                                },
                                {
                                    "0": "f789d2c4-f2c2-eb38-fc43-73e7a4b35264",
                                    "1": "49",
                                    "2": "4864,24",
                                    "3": "3"
                                },
                                {
                                    "0": "0d85bbda-9889-ce1f-7e63-778d24f346eb",
                                    "1": "58",
                                    "2": "4845,20",
                                    "3": "130"
                                },
                                {
                                    "0": "45d33f71-5e24-d15a-6ccf-5c17b3a23e3c",
                                    "1": "61",
                                    "2": "4838,23",
                                    "3": "7"
                                },
                                {
                                    "0": "1336efc6-1c31-6ddf-92c8-99eb817f7cae",
                                    "1": "85",
                                    "2": "4837,31",
                                    "3": "8"
                                },
                                {
                                    "0": "9add47bf-45ce-8e8c-7db6-b9cf670b1e09",
                                    "1": "45",
                                    "2": "4829,24",
                                    "3": "8"
                                },
                                {
                                    "0": "4c498c73-45e8-9aeb-ad65-1544829beca0",
                                    "1": "48",
                                    "2": "4819,76",
                                    "3": "11"
                                },
                                {
                                    "0": "ce69a802-1d18-961d-d2a4-0269b7c2c293",
                                    "1": "19",
                                    "2": "4818,00",
                                    "3": "6"
                                },
                                {
                                    "0": "8f580d36-c1e9-d6fb-ce95-283403c7d447",
                                    "1": "8",
                                    "2": "4813,25",
                                    "3": "8"
                                },
                                {
                                    "0": "c12b92bf-1c35-0f3e-6bf8-8d3596219c86",
                                    "1": "17",
                                    "2": "4808,78",
                                    "3": "8"
                                },
                                {
                                    "0": "f6122bc8-4774-df1b-372b-db3bb88ddb9f",
                                    "1": "3",
                                    "2": "4799,87",
                                    "3": "158"
                                },
                                {
                                    "0": "2a7dc43c-ecab-f234-0307-8e2188437d1d",
                                    "1": "54",
                                    "2": "4795,91",
                                    "3": "81"
                                },
                                {
                                    "0": "fcdd8200-84f1-7e99-8242-7971e4e9d47f",
                                    "1": "27",
                                    "2": "4783,99",
                                    "3": "4"
                                },
                                {
                                    "0": "dfa0c4c6-229a-b200-a4a1-336b4d7128ff",
                                    "1": "86",
                                    "2": "4777,10",
                                    "3": "2"
                                },
                                {
                                    "0": "7e3f87d1-6fb3-53f4-08d4-67e74fbd8014",
                                    "1": "94",
                                    "2": "4754,99",
                                    "3": "2"
                                },
                                {
                                    "0": "b2479f94-4e1b-90cf-8a5d-e1bbfde284d6",
                                    "1": "131",
                                    "2": "4752,51",
                                    "3": "2"
                                },
                                {
                                    "0": "acce39e8-3233-8deb-b07b-02385cde5967",
                                    "1": "44",
                                    "2": "4748,10",
                                    "3": "1"
                                },
                                {
                                    "0": "0176f73c-c119-5f36-7f7b-32db1e5b3aa8",
                                    "1": "39",
                                    "2": "4733,10",
                                    "3": "8"
                                },
                                {
                                    "0": "30a2f535-bb48-308f-991d-0b9ad4a8c4bb",
                                    "1": "87",
                                    "2": "4731,30",
                                    "3": "31"
                                },
                                {
                                    "0": "0307f756-5ff8-5b29-9b6e-5ef162b1b1a9",
                                    "1": "7",
                                    "2": "4728,80",
                                    "3": "448"
                                },
                                {
                                    "0": "06579cb2-53ec-d5a3-a12a-9e6eb6bf8f47",
                                    "1": "72",
                                    "2": "4727,20",
                                    "3": "15"
                                },
                                {
                                    "0": "ad420dd0-c4f9-2f8a-f951-ac24b86d0cf5",
                                    "1": "46",
                                    "2": "4705,29",
                                    "3": "1"
                                },
                                {
                                    "0": "582d4f86-75b9-4572-2eda-7c0cb61ba4c7",
                                    "1": "71",
                                    "2": "4702,96",
                                    "3": "21"
                                },
                                {
                                    "0": "c004e5ea-1573-7026-ceca-ee0447e00b75",
                                    "1": "2",
                                    "2": "4700,00",
                                    "3": "-12"
                                },
                                {
                                    "0": "c9a06ece-156b-b057-372c-68718ec8909b",
                                    "1": "14",
                                    "2": "4688,90",
                                    "3": "564"
                                },
                                {
                                    "0": "537eb890-efff-034a-8867-9788b647c564",
                                    "1": "173",
                                    "2": "4679,70",
                                    "3": "1"
                                },
                                {
                                    "0": "968268a6-86aa-05d1-f529-fb07dff08130",
                                    "1": "12",
                                    "2": "4677,29",
                                    "3": "14"
                                },
                                {
                                    "0": "8931a84a-914b-3fe9-b1dd-aa4d704947ca",
                                    "1": "32",
                                    "2": "4668,30",
                                    "3": "32"
                                },
                                {
                                    "0": "1a932caa-d4f9-d804-097d-7f8e615baed1",
                                    "1": "30",
                                    "2": "4661,00",
                                    "3": "7"
                                },
                                {
                                    "0": "ef990a83-bbea-832f-36eb-e81376335aa8",
                                    "1": "44",
                                    "2": "4642,59",
                                    "3": "-5"
                                },
                                {
                                    "0": "a3dd39f5-83bc-80bd-8c59-01c95878921e",
                                    "1": "37",
                                    "2": "4607,81",
                                    "3": "128"
                                },
                                {
                                    "0": "31da954d-c085-5f24-95c6-310f70a2f931",
                                    "1": "30",
                                    "2": "4583,00",
                                    "3": "7"
                                },
                                {
                                    "0": "2addf05f-476d-0637-8644-54e93ba673d5",
                                    "1": "12",
                                    "2": "4552,00",
                                    "3": "155"
                                },
                                {
                                    "0": "c68fb906-c8f4-b4b9-46d8-386bfa6e5467",
                                    "1": "48",
                                    "2": "4541,16",
                                    "3": "28"
                                },
                                {
                                    "0": "834f8533-b2ec-b659-8dd0-04ff3de7203a",
                                    "1": "47",
                                    "2": "4538,29",
                                    "3": "7"
                                },
                                {
                                    "0": "1fe5540d-7c1c-37a5-95fe-fbacd5570d9e",
                                    "1": "25",
                                    "2": "4537,60",
                                    "3": "2"
                                },
                                {
                                    "0": "37dd29b3-6c45-8d82-f74a-953c40c43645",
                                    "1": "8",
                                    "2": "4536,99",
                                    "3": "86"
                                },
                                {
                                    "0": "13fa2a6c-6b9d-0f43-cb58-8d7c82117a12",
                                    "1": "10",
                                    "2": "4528,00",
                                    "3": "303"
                                },
                                {
                                    "0": "c840d3fd-bba0-7904-04fd-ae73d253b253",
                                    "1": "14",
                                    "2": "4522,28",
                                    "3": "49"
                                },
                                {
                                    "0": "180c3376-aff0-e43d-d578-8709df48a843",
                                    "1": "10",
                                    "2": "4513,00",
                                    "3": "205"
                                },
                                {
                                    "0": "6288c69c-4ce6-38e5-9925-e59193f98b16",
                                    "1": "22",
                                    "2": "4506,28",
                                    "3": "18"
                                },
                                {
                                    "0": "b5619278-0764-5834-b59e-f0d16ba55a24",
                                    "1": "95",
                                    "2": "4501,99",
                                    "3": "-21"
                                },
                                {
                                    "0": "fc906263-ca50-83d0-9dce-42fe02247800",
                                    "1": "119",
                                    "2": "4497,70",
                                    "3": "239"
                                },
                                {
                                    "0": "55d3daac-7c40-4d59-e51c-2aa2f4dc5a23",
                                    "1": "28",
                                    "2": "4480,60",
                                    "3": "9"
                                },
                                {
                                    "0": "2ff97219-cb86-22ea-f3cd-89b7d9c09824",
                                    "1": "96",
                                    "2": "4476,90",
                                    "3": "1"
                                },
                                {
                                    "0": "e81e1f9c-3e76-2e62-0f3f-b60a51499e16",
                                    "1": "18",
                                    "2": "4465,99",
                                    "3": "104"
                                },
                                {
                                    "0": "4d600e08-ecbe-0825-8c79-e536c5a42fee",
                                    "1": "8",
                                    "2": "4465,34",
                                    "3": "526"
                                },
                                {
                                    "0": "bbad7e51-8d7a-f88a-0897-397ffdca1979",
                                    "1": "85",
                                    "2": "4462,22",
                                    "3": "8"
                                },
                                {
                                    "0": "8bd0f31c-f0a6-14c6-58f6-763bd02dea69",
                                    "1": "35",
                                    "2": "4455,34",
                                    "3": "8"
                                },
                                {
                                    "0": "b90e8916-71cf-fd95-57f3-3a97dc523645",
                                    "1": "39",
                                    "2": "4449,00",
                                    "3": "4"
                                },
                                {
                                    "0": "2e3be8a9-87a3-0d75-44db-bda6861cc14e",
                                    "1": "19",
                                    "2": "4430,84",
                                    "3": "36"
                                },
                                {
                                    "0": "d379f449-f2a3-b271-bc01-c0782020f705",
                                    "1": "29",
                                    "2": "4423,06",
                                    "3": "1"
                                },
                                {
                                    "0": "0ef83d7d-83ed-97cd-2a00-49ac8be5f88a",
                                    "1": "55",
                                    "2": "4421,01",
                                    "3": "1"
                                },
                                {
                                    "0": "f021c962-aaba-8ef6-eb52-7a9c2c8394d1",
                                    "1": "5",
                                    "2": "4398,50",
                                    "3": "380"
                                },
                                {
                                    "0": "beadbee3-0901-a7f6-1d03-1b6b686095ad",
                                    "1": "68",
                                    "2": "4373,98",
                                    "3": "4"
                                },
                                {
                                    "0": "15aac934-c58d-8867-85ac-1b17953ea898",
                                    "1": "26",
                                    "2": "4353,90",
                                    "3": "56"
                                },
                                {
                                    "0": "eed78ac1-7f7f-795a-19a7-09745f00cd4e",
                                    "1": "56",
                                    "2": "4349,50",
                                    "3": "37"
                                },
                                {
                                    "0": "a3f0b55d-e503-3873-83c7-b1de3ad7f678",
                                    "1": "26",
                                    "2": "4348,40",
                                    "3": "88"
                                },
                                {
                                    "0": "c5003674-2499-4318-b9e7-79ff1ae9a330",
                                    "1": "9",
                                    "2": "4346,40",
                                    "3": "255"
                                },
                                {
                                    "0": "65febd49-fd28-ec95-5651-299159b1f527",
                                    "1": "40",
                                    "2": "4319,70",
                                    "3": "4"
                                },
                                {
                                    "0": "23613d49-c3ac-2bd3-0225-9e55c06c050c",
                                    "1": "80",
                                    "2": "4293,00",
                                    "3": "1"
                                },
                                {
                                    "0": "9803a40e-82e4-5418-ab7f-b84091af5231",
                                    "1": "18",
                                    "2": "4278,75",
                                    "3": "2"
                                },
                                {
                                    "0": "282c7480-173b-b9c0-1dd4-1cc739fec010",
                                    "1": "8",
                                    "2": "4274,20",
                                    "3": "346"
                                },
                                {
                                    "0": "cc5a78bb-ad32-776d-c4e3-af205218368c",
                                    "1": "38",
                                    "2": "4269,18",
                                    "3": "3"
                                },
                                {
                                    "0": "1fdc5748-83ef-3b33-ad41-562d93f3a74a",
                                    "1": "18",
                                    "2": "4251,00",
                                    "3": "36"
                                },
                                {
                                    "0": "43f8c995-0d11-ecd0-3a03-04a49e010da6",
                                    "1": "41",
                                    "2": "4249,59",
                                    "3": "88"
                                },
                                {
                                    "0": "9b158575-2613-ec34-2d03-bbab9997ec48",
                                    "1": "3",
                                    "2": "4248,98",
                                    "3": "9"
                                },
                                {
                                    "0": "6ec1a01e-8665-84bb-679e-b9b098345919",
                                    "1": "32",
                                    "2": "4248,91",
                                    "3": "3"
                                },
                                {
                                    "0": "3c03b12b-ab54-d8b3-7d79-d914bfdb1aa0",
                                    "1": "43",
                                    "2": "4236,34",
                                    "3": "2"
                                },
                                {
                                    "0": "98dac663-5aee-4995-d501-a3972e047414",
                                    "1": "195",
                                    "2": "4235,85",
                                    "3": "1"
                                },
                                {
                                    "0": "8b9d6eec-4a7e-b7d0-f9d5-79ce0b38324d",
                                    "1": "53",
                                    "2": "4232,54",
                                    "3": "1"
                                },
                                {
                                    "0": "8a130737-016f-8381-39d3-1878787a39c9",
                                    "1": "62",
                                    "2": "4222,03",
                                    "3": "28"
                                },
                                {
                                    "0": "6b3bd31a-d8fc-da4b-2635-ec9f3ff2ecdf",
                                    "1": "43",
                                    "2": "4198,90",
                                    "3": "9"
                                },
                                {
                                    "0": "8bb48dc1-9fcc-aa86-13b6-229bf7f452a2",
                                    "1": "95",
                                    "2": "4190,72",
                                    "3": "29"
                                },
                                {
                                    "0": "891071be-6ba8-27b5-9126-4c90c2ae8a63",
                                    "1": "98",
                                    "2": "4177,28",
                                    "3": "3"
                                },
                                {
                                    "0": "cac4c8e7-b1ca-6252-d8f2-0b2fc1a2e4af",
                                    "1": "83",
                                    "2": "4168,18",
                                    "3": "-19"
                                },
                                {
                                    "0": "5c030029-b591-6fed-0986-310385ec9009",
                                    "1": "10",
                                    "2": "4164,40",
                                    "3": "4"
                                },
                                {
                                    "0": "bccf933e-006e-9b94-a618-4af782963e77",
                                    "1": "46",
                                    "2": "4162,74",
                                    "3": "4"
                                },
                                {
                                    "0": "f76a3b13-49b6-df1e-e875-d1f3fa4340f0",
                                    "1": "24",
                                    "2": "4160,79",
                                    "3": "8"
                                },
                                {
                                    "0": "cd6efc47-efaa-bf13-4f8b-db654e10b4f1",
                                    "1": "32",
                                    "2": "4158,55",
                                    "3": "11"
                                },
                                {
                                    "0": "6fc26fe1-10fe-ebd8-0a43-3e1f012a84f9",
                                    "1": "72",
                                    "2": "4150,87",
                                    "3": "7"
                                },
                                {
                                    "0": "d20b021d-3efd-f267-a402-c402a48ea64b",
                                    "1": "106",
                                    "2": "4140,17",
                                    "3": "23"
                                },
                                {
                                    "0": "681fce91-4360-217d-b477-84ae28905a96",
                                    "1": "24",
                                    "2": "4127,33",
                                    "3": "23"
                                },
                                {
                                    "0": "42b729f8-5972-8f50-7949-9127a9c2ef37",
                                    "1": "132",
                                    "2": "4118,86",
                                    "3": "2"
                                },
                                {
                                    "0": "e883aa81-2c37-a741-3226-856f4579fe91",
                                    "1": "29",
                                    "2": "4097,10",
                                    "3": "6"
                                },
                                {
                                    "0": "2a167ca7-3899-c850-01a8-37d8fb4962f6",
                                    "1": "3",
                                    "2": "4097,00",
                                    "3": "34"
                                },
                                {
                                    "0": "382229d1-e840-115f-fe3d-bf5ff460e417",
                                    "1": "49",
                                    "2": "4096,96",
                                    "3": "1"
                                },
                                {
                                    "0": "951e8cef-368f-09bb-3f3d-03c00ca4702c",
                                    "1": "71",
                                    "2": "4092,29",
                                    "3": "1"
                                },
                                {
                                    "0": "99002261-c568-a84c-ce14-d43fcffb43ea",
                                    "1": "36",
                                    "2": "4088,00",
                                    "3": "1"
                                },
                                {
                                    "0": "b17b679f-4f5c-e2e0-3ce6-968c62648246",
                                    "1": "57",
                                    "2": "4084,75",
                                    "3": "88"
                                },
                                {
                                    "0": "2199e7fe-213c-1621-3bf5-d6a7eadc9a5d",
                                    "1": "31",
                                    "2": "4078,29",
                                    "3": "8"
                                },
                                {
                                    "0": "ec887996-0bd2-221d-5c32-f8e12f7da711",
                                    "1": "36",
                                    "2": "4062,40",
                                    "3": "123"
                                },
                                {
                                    "0": "d5ba419e-26d2-46a0-7194-37cf37d9b46d",
                                    "1": "35",
                                    "2": "4061,40",
                                    "3": "4"
                                },
                                {
                                    "0": "f35b3c61-3c4f-7b22-75f4-185d0a3c59ec",
                                    "1": "9",
                                    "2": "4047,25",
                                    "3": "81"
                                },
                                {
                                    "0": "a0415d9b-25ed-e3c4-b1e4-77e9916ffc03",
                                    "1": "10",
                                    "2": "4044,10",
                                    "3": "224"
                                },
                                {
                                    "0": "715bbd5b-a4e6-b74c-b0d2-f29eb45058b0",
                                    "1": "64",
                                    "2": "4043,30",
                                    "3": "4"
                                },
                                {
                                    "0": "3c7c4a49-ec3c-6550-8090-89c6a2ca9370",
                                    "1": "160",
                                    "2": "4033,64",
                                    "3": "8"
                                },
                                {
                                    "0": "e70053bf-73d1-b586-3932-e53a9fa47496",
                                    "1": "7",
                                    "2": "4025,00",
                                    "3": "21"
                                },
                                {
                                    "0": "55a5b51f-93f2-b70e-a513-f5a047b0262a",
                                    "1": "41",
                                    "2": "4002,30",
                                    "3": "324"
                                },
                                {
                                    "0": "cb41bfbc-bda0-aea3-54a8-34ab222f9a59",
                                    "1": "12",
                                    "2": "4002,00",
                                    "3": "42"
                                },
                                {
                                    "0": "6b333a05-bf18-8ef3-e1f1-662a86bd9855",
                                    "1": "13",
                                    "2": "3990,91",
                                    "3": "10"
                                },
                                {
                                    "0": "1b938a7e-c6ac-5061-a66a-3766e0e75f90",
                                    "1": "33",
                                    "2": "3987,60",
                                    "3": "7"
                                },
                                {
                                    "0": "bede5609-5ba3-3c42-038f-b85f707b8a42",
                                    "1": "2",
                                    "2": "3973,90",
                                    "3": "251"
                                },
                                {
                                    "0": "50c99756-9500-9e5e-6473-912e83a6d1da",
                                    "1": "68",
                                    "2": "3964,40",
                                    "3": "28"
                                },
                                {
                                    "0": "bf3c6d2a-28b2-b550-1e6c-15448982dcc9",
                                    "1": "43",
                                    "2": "3956,50",
                                    "3": "105"
                                },
                                {
                                    "0": "3f995f07-c49d-0d55-a99d-5c54957f7d81",
                                    "1": "43",
                                    "2": "3955,70",
                                    "3": "9"
                                },
                                {
                                    "0": "81f89e42-2672-13cb-94da-7ddc301651da",
                                    "1": "52",
                                    "2": "3955,00",
                                    "3": "0"
                                },
                                {
                                    "0": "d12c926d-74ce-ff0a-90a2-1184466ce161",
                                    "1": "99",
                                    "2": "3944,18",
                                    "3": "103"
                                },
                                {
                                    "0": "11bfa663-3277-7660-bd06-40ee84d47006",
                                    "1": "102",
                                    "2": "3925,87",
                                    "3": "3"
                                },
                                {
                                    "0": "fde0cc9e-a29c-8ccf-c0a2-c22256a58c71",
                                    "1": "35",
                                    "2": "3922,00",
                                    "3": "8"
                                },
                                {
                                    "0": "232a6014-e7b1-0cba-61c6-c2b2ea6bb4b0",
                                    "1": "36",
                                    "2": "3919,87",
                                    "3": "38"
                                },
                                {
                                    "0": "7f152321-c60a-266e-dc53-af1925ef96c1",
                                    "1": "20",
                                    "2": "3919,80",
                                    "3": "20"
                                },
                                {
                                    "0": "d673a59a-ac7a-70d8-b01e-6902bf090a11",
                                    "1": "84",
                                    "2": "3908,94",
                                    "3": "4"
                                },
                                {
                                    "0": "79ed7553-14cf-e6df-0dae-f2c6cd3022cd",
                                    "1": "25",
                                    "2": "3907,50",
                                    "3": "17"
                                },
                                {
                                    "0": "3361277d-c30b-7ccc-db0c-286b24219756",
                                    "1": "42",
                                    "2": "3905,05",
                                    "3": "6"
                                },
                                {
                                    "0": "f00e21b1-e91a-7965-3163-b7fd8f293ff1",
                                    "1": "31",
                                    "2": "3900,09",
                                    "3": "260"
                                },
                                {
                                    "0": "271c58a1-d139-c45e-af33-16107c6d3a3b",
                                    "1": "29",
                                    "2": "3897,52",
                                    "3": "4"
                                },
                                {
                                    "0": "6a0cbc8a-f2e8-abd1-bdfb-777943d174c6",
                                    "1": "35",
                                    "2": "3894,05",
                                    "3": "50"
                                },
                                {
                                    "0": "14d79857-02e7-2162-bbf1-3b6beb74ab2b",
                                    "1": "38",
                                    "2": "3887,00",
                                    "3": "2"
                                },
                                {
                                    "0": "02f58373-40d7-eb4f-653d-676c7256523a",
                                    "1": "30",
                                    "2": "3883,05",
                                    "3": "17"
                                },
                                {
                                    "0": "80904905-73c6-c0aa-343a-7231ebcb8c86",
                                    "1": "26",
                                    "2": "3871,12",
                                    "3": "1"
                                },
                                {
                                    "0": "42fa4ee7-240e-9b8e-b457-6358ec142ba7",
                                    "1": "22",
                                    "2": "3845,70",
                                    "3": "49"
                                },
                                {
                                    "0": "7d76b645-482b-e4a3-3237-4e8223836592",
                                    "1": "187",
                                    "2": "3843,93",
                                    "3": "8"
                                },
                                {
                                    "0": "8ed8ea9a-57c8-62f2-c18c-2fe41f601d56",
                                    "1": "19",
                                    "2": "3831,90",
                                    "3": "76"
                                },
                                {
                                    "0": "13d058e4-eeac-2ce8-2176-60b2f8a05812",
                                    "1": "23",
                                    "2": "3829,77",
                                    "3": "29"
                                },
                                {
                                    "0": "3f3486b6-1f45-078d-4f31-ee5e43d8c5bb",
                                    "1": "40",
                                    "2": "3829,73",
                                    "3": "2"
                                },
                                {
                                    "0": "6860153b-69cc-696d-5dcf-e1cdaaafcf62",
                                    "1": "84",
                                    "2": "3827,63",
                                    "3": "3"
                                },
                                {
                                    "0": "f0b47fbb-c6de-e9aa-fe41-5a6e33051b3f",
                                    "1": "86",
                                    "2": "3795,91",
                                    "3": "1"
                                },
                                {
                                    "0": "2e13c710-26e1-a39b-a5cc-1b86dcb679aa",
                                    "1": "28",
                                    "2": "3793,00",
                                    "3": "3"
                                },
                                {
                                    "0": "38874e32-7ce9-4d11-390b-96eb42d61928",
                                    "1": "6",
                                    "2": "3779,94",
                                    "3": "290"
                                },
                                {
                                    "0": "5d9dc90a-686a-8fdd-acff-ab6bab5653a3",
                                    "1": "12",
                                    "2": "3761,94",
                                    "3": "10"
                                },
                                {
                                    "0": "edf96ef9-3ed5-9508-4bbc-bd9224bd2894",
                                    "1": "28",
                                    "2": "3757,00",
                                    "3": "10"
                                },
                                {
                                    "0": "2d2c62be-f4c8-ba0d-d74e-0e228e808539",
                                    "1": "16",
                                    "2": "3749,00",
                                    "3": "3"
                                },
                                {
                                    "0": "1d0997ff-06b5-24ce-9289-ffd75114ecd3",
                                    "1": "3",
                                    "2": "3747,00",
                                    "3": "248"
                                },
                                {
                                    "0": "3c4e0452-bff7-a2a7-8817-9488d3d77032",
                                    "1": "36",
                                    "2": "3746,40",
                                    "3": "155"
                                },
                                {
                                    "0": "eb4df17a-ed01-d918-c65f-0f8d650900c0",
                                    "1": "11",
                                    "2": "3739,87",
                                    "3": "8"
                                },
                                {
                                    "0": "602044f2-c161-90c2-c6e4-5eb35c2e21cb",
                                    "1": "57",
                                    "2": "3739,16",
                                    "3": "2"
                                },
                                {
                                    "0": "0509040e-a3fe-5007-1181-bbc359eb7738",
                                    "1": "98",
                                    "2": "3737,95",
                                    "3": "23"
                                },
                                {
                                    "0": "77e4abfd-739a-ed9c-4648-0f90f81c0eb4",
                                    "1": "18",
                                    "2": "3736,99",
                                    "3": "10"
                                },
                                {
                                    "0": "8f119a0a-ee85-c0c8-fc53-4629734e94fd",
                                    "1": "83",
                                    "2": "3733,68",
                                    "3": "11"
                                },
                                {
                                    "0": "66dc1b16-32bd-6a3e-5085-10c5b3492107",
                                    "1": "42",
                                    "2": "3721,39",
                                    "3": "10"
                                },
                                {
                                    "0": "23a0ffca-143a-15b9-b5bb-db7d552f626a",
                                    "1": "24",
                                    "2": "3718,51",
                                    "3": "7"
                                },
                                {
                                    "0": "822166ed-1e47-908f-7cfb-49946d03c726",
                                    "1": "108",
                                    "2": "3714,83",
                                    "3": "29"
                                },
                                {
                                    "0": "ec80e49e-6974-5ab6-c14f-984bf2149423",
                                    "1": "12",
                                    "2": "3709,00",
                                    "3": "7"
                                },
                                {
                                    "0": "99a54764-c341-d5dc-80b4-a8fac4eba3fb",
                                    "1": "67",
                                    "2": "3708,76",
                                    "3": "1"
                                },
                                {
                                    "0": "a44fb5a4-4710-5f84-69bd-f16bf9159f25",
                                    "1": "19",
                                    "2": "3706,10",
                                    "3": "18"
                                },
                                {
                                    "0": "f3da5b2f-f499-efb8-d4a6-d371d175d7dd",
                                    "1": "84",
                                    "2": "3702,29",
                                    "3": "48"
                                },
                                {
                                    "0": "520b493b-5780-9f44-6cb0-a233bb3e25c7",
                                    "1": "73",
                                    "2": "3698,90",
                                    "3": "247"
                                },
                                {
                                    "0": "c0563dd5-88b7-75f2-e377-47ef6ad6c92c",
                                    "1": "28",
                                    "2": "3697,20",
                                    "3": "1"
                                },
                                {
                                    "0": "4559697a-8f7e-6372-27c2-eeaed843baff",
                                    "1": "42",
                                    "2": "3696,00",
                                    "3": "59"
                                },
                                {
                                    "0": "38e679b9-e006-4cd9-4c6f-035707344dae",
                                    "1": "30",
                                    "2": "3694,51",
                                    "3": "207"
                                },
                                {
                                    "0": "5f5b43b2-bffa-8656-e4bc-6efeb13cc649",
                                    "1": "29",
                                    "2": "3677,20",
                                    "3": "57"
                                },
                                {
                                    "0": "b1fecf4d-a1fa-2689-bccf-fa0121953643",
                                    "1": "20",
                                    "2": "3669,64",
                                    "3": "452"
                                },
                                {
                                    "0": "2745f798-279e-0ed0-33ad-dcc1474776d7",
                                    "1": "32",
                                    "2": "3668,53",
                                    "3": "87"
                                },
                                {
                                    "0": "c731d18c-ea9b-f687-ffee-82a241c25b11",
                                    "1": "26",
                                    "2": "3662,00",
                                    "3": "1"
                                },
                                {
                                    "0": "df560393-f3a5-1e74-553a-b94004ba5c87",
                                    "1": "29",
                                    "2": "3661,18",
                                    "3": "151"
                                },
                                {
                                    "0": "33ac3e28-642a-b8bd-a860-a2f693000e78",
                                    "1": "35",
                                    "2": "3661,03",
                                    "3": "37"
                                },
                                {
                                    "0": "8b2492b7-ff44-6883-9593-fafeed55bad9",
                                    "1": "45",
                                    "2": "3660,08",
                                    "3": "28"
                                },
                                {
                                    "0": "56642bcb-7990-0e77-7d68-e91915cb4267",
                                    "1": "56",
                                    "2": "3657,64",
                                    "3": "32"
                                },
                                {
                                    "0": "7f2617c5-8d5d-0680-6987-308b45654351",
                                    "1": "23",
                                    "2": "3656,80",
                                    "3": "64"
                                },
                                {
                                    "0": "5d3bb114-74a0-6bdc-23fb-9e89f1164ee0",
                                    "1": "32",
                                    "2": "3654,60",
                                    "3": "14"
                                },
                                {
                                    "0": "e49c26c3-edfa-46d2-27d5-121a6b6e4d37",
                                    "1": "36",
                                    "2": "3654,25",
                                    "3": "31"
                                },
                                {
                                    "0": "f97e2b06-50c2-0682-27e1-d366140eb62f",
                                    "1": "21",
                                    "2": "3654,00",
                                    "3": "4"
                                },
                                {
                                    "0": "6bb0724e-df0b-62fb-91ac-404873a97241",
                                    "1": "18",
                                    "2": "3653,00",
                                    "3": "120"
                                },
                                {
                                    "0": "40682277-7a0b-9eb5-c50e-442dd4cd3ec5",
                                    "1": "47",
                                    "2": "3648,08",
                                    "3": "3"
                                },
                                {
                                    "0": "ed4311e6-7deb-d72b-8610-a5347a743087",
                                    "1": "26",
                                    "2": "3636,00",
                                    "3": "1"
                                },
                                {
                                    "0": "1eade46f-ba20-122d-c4ae-fb379f8c636b",
                                    "1": "75",
                                    "2": "3635,37",
                                    "3": "31"
                                },
                                {
                                    "0": "96804ea3-9d96-eb90-8e7c-3afdb671bb9e",
                                    "1": "40",
                                    "2": "3610,70",
                                    "3": "116"
                                },
                                {
                                    "0": "21e83881-401b-92b4-9fb0-9a16d3852291",
                                    "1": "15",
                                    "2": "3588,05",
                                    "3": "205"
                                },
                                {
                                    "0": "3364a91e-c4d5-6c98-e441-74de954b94f6",
                                    "1": "6",
                                    "2": "3579,94",
                                    "3": "352"
                                },
                                {
                                    "0": "3c010235-b734-5c92-f125-d14ee232a76b",
                                    "1": "15",
                                    "2": "3578,00",
                                    "3": "3"
                                },
                                {
                                    "0": "3d8fa2f5-b647-373c-8620-330c4e077a9f",
                                    "1": "48",
                                    "2": "3571,73",
                                    "3": "8"
                                },
                                {
                                    "0": "f2336e11-3377-dd21-c744-d9c4fc8293a9",
                                    "1": "4",
                                    "2": "3563,00",
                                    "3": "326"
                                },
                                {
                                    "0": "218f9917-54f3-60af-9c2d-aa5e0b8e990c",
                                    "1": "17",
                                    "2": "3554,32",
                                    "3": "2"
                                },
                                {
                                    "0": "585175ec-331e-a177-fa47-199e39a6170a",
                                    "1": "1",
                                    "2": "3549,00",
                                    "3": "548"
                                },
                                {
                                    "0": "71039d19-d430-3bf9-054d-69e9a9236699",
                                    "1": "38",
                                    "2": "3537,20",
                                    "3": "18"
                                },
                                {
                                    "0": "276677b5-d087-86d5-dce7-c2149dcce48b",
                                    "1": "47",
                                    "2": "3522,00",
                                    "3": "14"
                                },
                                {
                                    "0": "6750d711-53f0-0fc5-8829-af2a8ef1bcf1",
                                    "1": "6",
                                    "2": "3514,00",
                                    "3": "374"
                                },
                                {
                                    "0": "e7d5b006-eb62-4f13-0744-97221eb37807",
                                    "1": "63",
                                    "2": "3478,93",
                                    "3": "35"
                                },
                                {
                                    "0": "244b0468-0fdb-ded0-acf5-aebd9c92b44a",
                                    "1": "3",
                                    "2": "3477,70",
                                    "3": "212"
                                },
                                {
                                    "0": "8ff38bc3-969e-67c3-6c48-343a07090f66",
                                    "1": "8",
                                    "2": "3472,00",
                                    "3": "324"
                                },
                                {
                                    "0": "ed46f1eb-4a63-8113-deb2-a1137b5f22e9",
                                    "1": "4",
                                    "2": "3470,00",
                                    "3": "1"
                                },
                                {
                                    "0": "bce6a5ec-f98e-99fd-2a88-68b15c51f04b",
                                    "1": "15",
                                    "2": "3464,90",
                                    "3": "-1"
                                },
                                {
                                    "0": "f0837c8d-7143-4931-d9e3-8e7b79234797",
                                    "1": "23",
                                    "2": "3446,90",
                                    "3": "10"
                                },
                                {
                                    "0": "994f04b3-718c-2bab-35c2-adfa8afecd2a",
                                    "1": "57",
                                    "2": "3445,70",
                                    "3": "29"
                                },
                                {
                                    "0": "1b8356da-bde1-d35e-17ce-f975c3f82730",
                                    "1": "61",
                                    "2": "3426,39",
                                    "3": "283"
                                },
                                {
                                    "0": "c394e193-cda3-b422-5ff2-094d32184849",
                                    "1": "12",
                                    "2": "3419,88",
                                    "3": "101"
                                },
                                {
                                    "0": "4677a543-7afd-a5fa-7140-b927b07be1cc",
                                    "1": "11",
                                    "2": "3415,70",
                                    "3": "7"
                                },
                                {
                                    "0": "f4db9b37-944b-cb88-73e6-b456ee190bbf",
                                    "1": "22",
                                    "2": "3409,78",
                                    "3": "10"
                                },
                                {
                                    "0": "827f8f69-dfa5-29c5-6190-1c4f2e0f332f",
                                    "1": "104",
                                    "2": "3408,39",
                                    "3": "140"
                                },
                                {
                                    "0": "070d1653-98b5-53f3-b4b8-51c216b8a358",
                                    "1": "39",
                                    "2": "3393,16",
                                    "3": "1"
                                },
                                {
                                    "0": "cfd7ddab-722b-902f-7ac5-b5f3ba6d723d",
                                    "1": "13",
                                    "2": "3385,03",
                                    "3": "14"
                                },
                                {
                                    "0": "960945e1-a953-5cbc-0cd6-ddd35fbe7ae8",
                                    "1": "29",
                                    "2": "3381,73",
                                    "3": "3"
                                },
                                {
                                    "0": "2d50d628-2f8a-a225-7819-a77bfaa0efe0",
                                    "1": "45",
                                    "2": "3353,48",
                                    "3": "2"
                                },
                                {
                                    "0": "db4350fd-57ae-3008-2dec-7acbaacc17f9",
                                    "1": "146",
                                    "2": "3331,31",
                                    "3": "7"
                                },
                                {
                                    "0": "6481e965-7481-6ead-5797-5da2c0f6d80d",
                                    "1": "43",
                                    "2": "3324,90",
                                    "3": "30"
                                },
                                {
                                    "0": "6b90f847-357d-8981-edd7-9a1eb1bf0acb",
                                    "1": "47",
                                    "2": "3322,08",
                                    "3": "0"
                                },
                                {
                                    "0": "8c3b533c-63cc-a562-40f9-4f1e3a6b18ef",
                                    "1": "8",
                                    "2": "3312,16",
                                    "3": "407"
                                },
                                {
                                    "0": "a2b5b610-5ea5-9423-0063-1d2e76f4ffe0",
                                    "1": "16",
                                    "2": "3286,69",
                                    "3": "3"
                                },
                                {
                                    "0": "54c04bdb-5ec4-6762-f8f0-8c7e8f86ed4a",
                                    "1": "19",
                                    "2": "3281,66",
                                    "3": "-10"
                                },
                                {
                                    "0": "5b51032e-ddd2-42ad-c84c-38acab88f23d",
                                    "1": "14",
                                    "2": "3280,00",
                                    "3": "69"
                                },
                                {
                                    "0": "643214e6-2b87-0443-ccbe-55ab29a4dccf",
                                    "1": "68",
                                    "2": "3270,13",
                                    "3": "3"
                                },
                                {
                                    "0": "52562a9f-449c-3dc3-d53f-5f5b9ed74903",
                                    "1": "14",
                                    "2": "3266,60",
                                    "3": "127"
                                },
                                {
                                    "0": "aeb36d67-f141-4f23-4d42-a29e27cf1f17",
                                    "1": "4",
                                    "2": "3263,80",
                                    "3": "21"
                                },
                                {
                                    "0": "594f9aaa-48e5-bf43-1f01-1ddc5669b0d5",
                                    "1": "38",
                                    "2": "3248,80",
                                    "3": "1"
                                },
                                {
                                    "0": "a938325a-4b35-7fd2-3a6a-4d5bb126408e",
                                    "1": "25",
                                    "2": "3231,00",
                                    "3": "7"
                                },
                                {
                                    "0": "c64a2aec-32cc-408a-8a4c-6d7c46017f91",
                                    "1": "9",
                                    "2": "3221,50",
                                    "3": "177"
                                },
                                {
                                    "0": "afa6714a-cee0-29b2-dfdf-357e5579cc03",
                                    "1": "17",
                                    "2": "3220,76",
                                    "3": "7"
                                },
                                {
                                    "0": "95f83f51-203c-6266-48c8-75dd41874c7f",
                                    "1": "67",
                                    "2": "3217,46",
                                    "3": "4"
                                },
                                {
                                    "0": "4c18691b-6037-662b-e2df-78a765d98ab5",
                                    "1": "67",
                                    "2": "3195,52",
                                    "3": "1"
                                },
                                {
                                    "0": "bb7a14e2-29b1-c951-5671-9c3d9552eeee",
                                    "1": "11",
                                    "2": "3190,10",
                                    "3": "84"
                                },
                                {
                                    "0": "d57e18d5-f73c-7ccb-7f73-39b61166898d",
                                    "1": "63",
                                    "2": "3187,70",
                                    "3": "4"
                                },
                                {
                                    "0": "e48b04bf-1aa1-ef71-1cae-beb7aede6180",
                                    "1": "25",
                                    "2": "3187,10",
                                    "3": "25"
                                },
                                {
                                    "0": "e89c4adb-e7b1-d081-9dbb-636e16461cf1",
                                    "1": "25",
                                    "2": "3181,30",
                                    "3": "8"
                                },
                                {
                                    "0": "5c6d4016-c2a2-88f0-74fa-0848a2b653d2",
                                    "1": "35",
                                    "2": "3159,00",
                                    "3": "4"
                                },
                                {
                                    "0": "870d0118-f7a9-d859-60f2-9ad89d5d989a",
                                    "1": "61",
                                    "2": "3157,20",
                                    "3": "1"
                                },
                                {
                                    "0": "c8b3445d-737d-e6be-fde0-c88ede534a5e",
                                    "1": "36",
                                    "2": "3149,04",
                                    "3": "60"
                                },
                                {
                                    "0": "5bc24d98-9e71-e93c-33e5-0a7782431b0e",
                                    "1": "17",
                                    "2": "3148,00",
                                    "3": "2"
                                },
                                {
                                    "0": "f3260068-1595-6455-b285-9abd58fe7e39",
                                    "1": "30",
                                    "2": "3147,16",
                                    "3": "18"
                                },
                                {
                                    "0": "3cfa1358-a6ca-a965-2787-21344c8d76f2",
                                    "1": "5",
                                    "2": "3140,28",
                                    "3": "72"
                                },
                                {
                                    "0": "b1ac6ea7-895b-c3dd-6f0f-6f4abbdd2821",
                                    "1": "41",
                                    "2": "3139,00",
                                    "3": "245"
                                },
                                {
                                    "0": "238fac59-4e17-0b59-c6d2-28f5a4f4f1d9",
                                    "1": "30",
                                    "2": "3126,00",
                                    "3": "6"
                                },
                                {
                                    "0": "430315b7-bb4b-6e4b-3c97-8f9dfa9b0558",
                                    "1": "21",
                                    "2": "3118,40",
                                    "3": "15"
                                },
                                {
                                    "0": "3bdff180-c7e1-f655-1a64-3b99c265a120",
                                    "1": "61",
                                    "2": "3114,90",
                                    "3": "113"
                                },
                                {
                                    "0": "5b351361-9771-0e16-ac5e-7b7c2bd4ea85",
                                    "1": "9",
                                    "2": "3104,20",
                                    "3": "117"
                                },
                                {
                                    "0": "08cdbae1-23ff-67ca-4e36-d9d641ce0119",
                                    "1": "6",
                                    "2": "3098,99",
                                    "3": "18"
                                },
                                {
                                    "0": "f61c63d1-3f7c-d800-549d-5acdd390ae72",
                                    "1": "26",
                                    "2": "3072,30",
                                    "3": "7"
                                },
                                {
                                    "0": "bd697db5-6ff8-e7c9-cd1a-beb7f72029b2",
                                    "1": "22",
                                    "2": "3069,78",
                                    "3": "1"
                                },
                                {
                                    "0": "aae3bfea-0555-32c5-7fb4-53ed3ec80b30",
                                    "1": "50",
                                    "2": "3057,92",
                                    "3": "99"
                                },
                                {
                                    "0": "612a743d-294c-2788-4fb7-b80d2b19ba35",
                                    "1": "3",
                                    "2": "3057,70",
                                    "3": "1"
                                },
                                {
                                    "0": "d9e8c084-b68f-e958-861d-8f2c21202e6b",
                                    "1": "12",
                                    "2": "3050,00",
                                    "3": "38"
                                },
                                {
                                    "0": "b8555308-bfdb-4ca1-ed54-325a58da9a97",
                                    "1": "28",
                                    "2": "3047,20",
                                    "3": "1"
                                },
                                {
                                    "0": "0ebd97a1-0643-3a45-a4ae-be57c1799778",
                                    "1": "32",
                                    "2": "3046,80",
                                    "3": "36"
                                },
                                {
                                    "0": "9646c351-3289-980f-1722-6a2fc4720dbd",
                                    "1": "78",
                                    "2": "3039,30",
                                    "3": "28"
                                },
                                {
                                    "0": "4da0e408-c99d-2fdc-2126-dc9fce518060",
                                    "1": "54",
                                    "2": "3026,00",
                                    "3": "8"
                                },
                                {
                                    "0": "d17f467e-4bf6-08a5-10c2-0d82f4ba3b6b",
                                    "1": "12",
                                    "2": "3021,66",
                                    "3": "8"
                                },
                                {
                                    "0": "4c854574-2faa-f58f-afd5-fd14d25d75cf",
                                    "1": "4",
                                    "2": "3020,00",
                                    "3": "98"
                                },
                                {
                                    "0": "55f7a331-9d80-f7fd-f078-b8f03e6725fe",
                                    "1": "22",
                                    "2": "3013,78",
                                    "3": "3"
                                },
                                {
                                    "0": "f4aba7c0-bca5-1484-c30a-b7bdc34bcdd1",
                                    "1": "117",
                                    "2": "3009,79",
                                    "3": "387"
                                },
                                {
                                    "0": "49e7217c-fe4e-4271-91c3-78ec626d8737",
                                    "1": "14",
                                    "2": "3002,70",
                                    "3": "78"
                                },
                                {
                                    "0": "c9aafcd0-621b-2207-c10e-32c649cada4d",
                                    "1": "52",
                                    "2": "2997,25",
                                    "3": "8"
                                },
                                {
                                    "0": "5bc55dbe-2f12-b6af-6d83-ed46023e0dc8",
                                    "1": "21",
                                    "2": "2992,10",
                                    "3": "3"
                                },
                                {
                                    "0": "8cbac7e1-2637-ed9c-ffa1-8c7875207478",
                                    "1": "82",
                                    "2": "2990,98",
                                    "3": "1"
                                },
                                {
                                    "0": "0c7533c7-1df8-61ec-58ad-7ff999ed0e8d",
                                    "1": "73",
                                    "2": "2989,30",
                                    "3": "30"
                                },
                                {
                                    "0": "974cf2cb-8f4b-7add-9870-9c30df02fe10",
                                    "1": "33",
                                    "2": "2982,67",
                                    "3": "3"
                                },
                                {
                                    "0": "2156f267-1501-a810-34d7-d07f217609d0",
                                    "1": "22",
                                    "2": "2981,50",
                                    "3": "14"
                                },
                                {
                                    "0": "fce62094-ffe6-a400-9188-ec44e681dfdd",
                                    "1": "11",
                                    "2": "2969,70",
                                    "3": "149"
                                },
                                {
                                    "0": "432c37c9-dfba-8711-72ec-162e20118b8c",
                                    "1": "57",
                                    "2": "2968,87",
                                    "3": "123"
                                },
                                {
                                    "0": "b4948913-78bd-8f45-60ab-e576c52deacd",
                                    "1": "22",
                                    "2": "2958,90",
                                    "3": "4"
                                },
                                {
                                    "0": "e908c0f3-646e-8b60-3757-34a350d95d71",
                                    "1": "1",
                                    "2": "2951,00",
                                    "3": "486"
                                },
                                {
                                    "0": "dd58ee93-286b-0821-5655-74c570e9e1dc",
                                    "1": "2",
                                    "2": "2948,00",
                                    "3": "479"
                                },
                                {
                                    "0": "1996942d-c085-d777-3ba7-7a529b163cd0",
                                    "1": "10",
                                    "2": "2943,51",
                                    "3": "8"
                                },
                                {
                                    "0": "60562ab0-0b80-5428-0520-d390c8c0045c",
                                    "1": "17",
                                    "2": "2943,00",
                                    "3": "17"
                                },
                                {
                                    "0": "cb5df0dc-b9e2-80b1-780e-9d589889f2c7",
                                    "1": "19",
                                    "2": "2934,72",
                                    "3": "424"
                                },
                                {
                                    "0": "be9a160a-9011-f627-c3e1-21d076c1ec7b",
                                    "1": "7",
                                    "2": "2934,00",
                                    "3": "295"
                                },
                                {
                                    "0": "f44b6f77-5a2b-3903-80e0-e30b5c9d3eee",
                                    "1": "10",
                                    "2": "2930,00",
                                    "3": "2"
                                },
                                {
                                    "0": "606ce776-8fea-c12c-5e8b-d58db8b08f0f",
                                    "1": "5",
                                    "2": "2916,60",
                                    "3": "17"
                                },
                                {
                                    "0": "a6fe7de3-d16f-6149-ffe2-80349a8535a0",
                                    "1": "52",
                                    "2": "2904,80",
                                    "3": "4"
                                },
                                {
                                    "0": "b1204cfd-a1d4-9486-79db-3cfc0d3cb95c",
                                    "1": "11",
                                    "2": "2903,70",
                                    "3": "29"
                                },
                                {
                                    "0": "20d83f3e-f0e6-925f-d74b-fd59170babf7",
                                    "1": "54",
                                    "2": "2903,60",
                                    "3": "1"
                                },
                                {
                                    "0": "d3dcf060-4eab-f022-4fbd-5948b5e02f69",
                                    "1": "9",
                                    "2": "2902,30",
                                    "3": "25"
                                },
                                {
                                    "0": "4305fe92-735c-8a43-d154-ff6dd2b8d927",
                                    "1": "21",
                                    "2": "2885,90",
                                    "3": "3"
                                },
                                {
                                    "0": "1771297a-c436-903d-1dd6-b0e9279aa505",
                                    "1": "36",
                                    "2": "2881,27",
                                    "3": "7"
                                },
                                {
                                    "0": "cb3dd9ce-6626-8c7a-3ca7-241ac70ab58c",
                                    "1": "52",
                                    "2": "2879,76",
                                    "3": "120"
                                },
                                {
                                    "0": "1987cd4b-e10f-e09e-e504-54f9c354d1c6",
                                    "1": "16",
                                    "2": "2877,70",
                                    "3": "143"
                                },
                                {
                                    "0": "b335c59a-b742-f751-a85d-b9c411a86739",
                                    "1": "35",
                                    "2": "2873,34",
                                    "3": "240"
                                },
                                {
                                    "0": "4342d4b2-ba6b-1614-68c6-3a7e7cfce593",
                                    "1": "20",
                                    "2": "2867,10",
                                    "3": "30"
                                },
                                {
                                    "0": "977f9f63-dd36-0c2a-32ec-e2f93ad6d306",
                                    "1": "25",
                                    "2": "2858,87",
                                    "3": "6"
                                },
                                {
                                    "0": "2a1348e9-addc-1af5-aaa6-19b1a3679d6b",
                                    "1": "55",
                                    "2": "2843,00",
                                    "3": "24"
                                },
                                {
                                    "0": "fec62752-5347-1ace-26d2-09bbaa64cd0f",
                                    "1": "10",
                                    "2": "2840,00",
                                    "3": "35"
                                },
                                {
                                    "0": "491a5ada-3aa1-6784-14e9-90262c4bbdc1",
                                    "1": "2",
                                    "2": "2840,00",
                                    "3": "506"
                                },
                                {
                                    "0": "d32e3909-cfb7-14fb-2a6c-b092c85b9c5f",
                                    "1": "11",
                                    "2": "2827,90",
                                    "3": "115"
                                },
                                {
                                    "0": "730937bf-88cb-151e-b2eb-849f642fc213",
                                    "1": "26",
                                    "2": "2821,20",
                                    "3": "3"
                                },
                                {
                                    "0": "1838dd9b-8977-065a-cf51-d95e0053ea7a",
                                    "1": "67",
                                    "2": "2820,30",
                                    "3": "24"
                                },
                                {
                                    "0": "dd533b42-9f38-0718-b70a-d9922c294bae",
                                    "1": "45",
                                    "2": "2819,77",
                                    "3": "232"
                                },
                                {
                                    "0": "f593898e-c748-b7a8-cb81-fc04edafd98a",
                                    "1": "23",
                                    "2": "2813,04",
                                    "3": "157"
                                },
                                {
                                    "0": "5f1dc280-29d2-c244-352a-68107ec2b542",
                                    "1": "78",
                                    "2": "2807,30",
                                    "3": "70"
                                },
                                {
                                    "0": "3fd1e727-ba94-cfe1-22d1-65e176ce7967",
                                    "1": "38",
                                    "2": "2805,20",
                                    "3": "123"
                                },
                                {
                                    "0": "820cc752-a266-cdc6-c1a1-e61dd4583330",
                                    "1": "15",
                                    "2": "2802,80",
                                    "3": "106"
                                },
                                {
                                    "0": "df56d7b4-0d43-7f88-407c-5f78b63bc328",
                                    "1": "25",
                                    "2": "2791,28",
                                    "3": "149"
                                },
                                {
                                    "0": "f7ccf836-d21b-2fb1-de37-564105216cc1",
                                    "1": "74",
                                    "2": "2787,40",
                                    "3": "4"
                                },
                                {
                                    "0": "62c50c1a-f4df-dc41-49d2-5c5222043d39",
                                    "1": "19",
                                    "2": "2785,72",
                                    "3": "480"
                                },
                                {
                                    "0": "ae7ab174-effd-ead6-c241-e547e4ca13f0",
                                    "1": "7",
                                    "2": "2778,60",
                                    "3": "11"
                                },
                                {
                                    "0": "a17f621c-590e-a0fa-b3d5-d883e1630ec6",
                                    "1": "80",
                                    "2": "2778,58",
                                    "3": "135"
                                },
                                {
                                    "0": "8d79c8a0-4e42-d722-a750-97ce5cbcf2ef",
                                    "1": "28",
                                    "2": "2777,72",
                                    "3": "149"
                                },
                                {
                                    "0": "f125f3a3-10c2-e5f8-22d1-16147de1e474",
                                    "1": "22",
                                    "2": "2761,40",
                                    "3": "6"
                                },
                                {
                                    "0": "8f54d64f-28a9-9355-0aa7-943f12572959",
                                    "1": "16",
                                    "2": "2755,50",
                                    "3": "9"
                                },
                                {
                                    "0": "a1474fd4-6fd3-4301-68f7-ec202da39408",
                                    "1": "14",
                                    "2": "2752,50",
                                    "3": "296"
                                },
                                {
                                    "0": "1444c08e-64d5-5fb3-c25f-0f09c07ffcf2",
                                    "1": "1",
                                    "2": "2749,00",
                                    "3": "115"
                                },
                                {
                                    "0": "05257715-1711-aec5-c744-fe12e66db3e1",
                                    "1": "4",
                                    "2": "2748,00",
                                    "3": "295"
                                },
                                {
                                    "0": "f805b96f-a705-ba79-95a2-21f1749dc141",
                                    "1": "7",
                                    "2": "2744,44",
                                    "3": "155"
                                },
                                {
                                    "0": "3b872fd4-747f-01cc-5620-6f2934198618",
                                    "1": "27",
                                    "2": "2726,74",
                                    "3": "1"
                                },
                                {
                                    "0": "5cbbd5a2-99ca-b112-b7bf-23862255e43e",
                                    "1": "38",
                                    "2": "2726,06",
                                    "3": "7"
                                },
                                {
                                    "0": "458d868c-9642-f55f-18f0-4e951a3fdde6",
                                    "1": "2",
                                    "2": "2718,00",
                                    "3": "374"
                                },
                                {
                                    "0": "33576ec5-412f-b590-5d87-6f12f33bfde6",
                                    "1": "32",
                                    "2": "2718,00",
                                    "3": "50"
                                },
                                {
                                    "0": "78744a20-ee2f-80ba-64f6-804c25def2b8",
                                    "1": "6",
                                    "2": "2715,00",
                                    "3": "4"
                                },
                                {
                                    "0": "fe26f3ec-b51a-15e6-d833-5cd92da42562",
                                    "1": "7",
                                    "2": "2708,96",
                                    "3": "186"
                                },
                                {
                                    "0": "d93844a9-c55b-a7ce-3533-88bcf849ea56",
                                    "1": "14",
                                    "2": "2708,50",
                                    "3": "109"
                                },
                                {
                                    "0": "51702dc2-a3e1-06c7-6dbf-f722b5bf0726",
                                    "1": "14",
                                    "2": "2705,10",
                                    "3": "102"
                                },
                                {
                                    "0": "e99e927c-81e3-f517-39c9-4fcdfca9f10f",
                                    "1": "25",
                                    "2": "2702,83",
                                    "3": "141"
                                },
                                {
                                    "0": "31561f32-5664-a8a7-aba4-c8d0c3a9b3db",
                                    "1": "38",
                                    "2": "2702,19",
                                    "3": "9"
                                },
                                {
                                    "0": "82bd0703-a4ae-fd6b-599e-5bfdaed378fb",
                                    "1": "24",
                                    "2": "2692,28",
                                    "3": "359"
                                },
                                {
                                    "0": "850913d5-9ce3-1715-6b00-f3705f1c3edb",
                                    "1": "34",
                                    "2": "2690,00",
                                    "3": "25"
                                },
                                {
                                    "0": "0015a82c-2db0-00af-6aaa-f3ae2ecb0532",
                                    "1": "3",
                                    "2": "2685,00",
                                    "3": "308"
                                },
                                {
                                    "0": "ffa6adaf-b71b-807d-c131-59e26431354c",
                                    "1": "18",
                                    "2": "2669,90",
                                    "3": "9"
                                },
                                {
                                    "0": "d93919c9-44be-9cff-128f-6c9cb899eacb",
                                    "1": "33",
                                    "2": "2666,70",
                                    "3": "32"
                                },
                                {
                                    "0": "9c068d10-aca3-8e85-c502-02e17b4a7e88",
                                    "1": "17",
                                    "2": "2658,90",
                                    "3": "3"
                                },
                                {
                                    "0": "d25aa0aa-acb3-70e9-12f8-cf6efeba38b3",
                                    "1": "21",
                                    "2": "2658,45",
                                    "3": "10"
                                },
                                {
                                    "0": "6f229cc5-08fc-6915-ed5c-499efd93baa4",
                                    "1": "14",
                                    "2": "2654,80",
                                    "3": "14"
                                },
                                {
                                    "0": "0885aaf1-1679-5758-dfeb-5f1032487bcd",
                                    "1": "30",
                                    "2": "2648,00",
                                    "3": "3"
                                },
                                {
                                    "0": "4e8dacf3-d38f-281a-e26c-3e0321d92d88",
                                    "1": "15",
                                    "2": "2644,95",
                                    "3": "509"
                                },
                                {
                                    "0": "bc302730-ea8c-f49b-5c74-f579febb5bbf",
                                    "1": "11",
                                    "2": "2640,90",
                                    "3": "24"
                                },
                                {
                                    "0": "f1b93673-5023-75d4-9178-0bb49d615dbc",
                                    "1": "10",
                                    "2": "2638,93",
                                    "3": "1"
                                },
                                {
                                    "0": "1b7e5006-cb25-dd23-ce86-86691013b121",
                                    "1": "11",
                                    "2": "2636,74",
                                    "3": "17"
                                },
                                {
                                    "0": "ccf8813e-5a7d-6c84-d865-cd38bfc2b130",
                                    "1": "26",
                                    "2": "2635,50",
                                    "3": "2"
                                },
                                {
                                    "0": "ea6b12bf-9ffe-2bac-3460-2ec631d97a47",
                                    "1": "11",
                                    "2": "2625,80",
                                    "3": "438"
                                },
                                {
                                    "0": "9906e7aa-42a3-c067-b7c9-a564d01c4320",
                                    "1": "16",
                                    "2": "2619,00",
                                    "3": "7"
                                },
                                {
                                    "0": "8ab42aa5-8097-fd46-68d6-0cc648225d5f",
                                    "1": "26",
                                    "2": "2616,75",
                                    "3": "20"
                                },
                                {
                                    "0": "a369d693-961c-b93b-61ca-2cc518872a85",
                                    "1": "18",
                                    "2": "2597,00",
                                    "3": "35"
                                },
                                {
                                    "0": "fdaaf5bf-da82-b7b8-0535-610c831b8d09",
                                    "1": "15",
                                    "2": "2588,90",
                                    "3": "114"
                                },
                                {
                                    "0": "cd06602b-43d8-800b-d0af-ad514919d35c",
                                    "1": "53",
                                    "2": "2588,07",
                                    "3": "20"
                                },
                                {
                                    "0": "244c2f1b-ff6a-fe1f-2eaf-9bfe9b2aed38",
                                    "1": "27",
                                    "2": "2580,00",
                                    "3": "195"
                                },
                                {
                                    "0": "2c4c47cb-51ac-d5ea-5db5-e0ae0e26542a",
                                    "1": "15",
                                    "2": "2575,90",
                                    "3": "24"
                                },
                                {
                                    "0": "04aba032-7915-7f6d-4e0f-e8ccaf21963c",
                                    "1": "16",
                                    "2": "2575,90",
                                    "3": "1"
                                },
                                {
                                    "0": "b76dba6c-951a-b00d-c4ed-f0a1aa88037e",
                                    "1": "169",
                                    "2": "2574,78",
                                    "3": "-20"
                                },
                                {
                                    "0": "41ab63a9-1b8b-264e-8c87-80368bf1dd5b",
                                    "1": "13",
                                    "2": "2571,95",
                                    "3": "36"
                                },
                                {
                                    "0": "1ce3ae5a-3998-04d1-a87e-706f8a813c3e",
                                    "1": "44",
                                    "2": "2563,00",
                                    "3": "4"
                                },
                                {
                                    "0": "f1c1ac3f-3efc-07e6-59c0-35008e615e66",
                                    "1": "14",
                                    "2": "2561,96",
                                    "3": "322"
                                },
                                {
                                    "0": "323ce52b-5b81-df2c-d804-b017b7f09aa7",
                                    "1": "30",
                                    "2": "2554,20",
                                    "3": "18"
                                },
                                {
                                    "0": "157c3e4b-42f8-1ac4-a44e-8b1ca2fe9876",
                                    "1": "31",
                                    "2": "2548,50",
                                    "3": "11"
                                },
                                {
                                    "0": "bb5bd94c-8f59-cc05-0072-d2930c869cac",
                                    "1": "17",
                                    "2": "2543,87",
                                    "3": "67"
                                },
                                {
                                    "0": "fe49ee02-9e61-e789-a1f3-a5525f57ba8d",
                                    "1": "17",
                                    "2": "2527,59",
                                    "3": "161"
                                },
                                {
                                    "0": "cce6ab8d-1682-639f-e45a-b70234f1665f",
                                    "1": "66",
                                    "2": "2522,70",
                                    "3": "254"
                                },
                                {
                                    "0": "47efca56-3408-aae1-9bb7-206c2d969ea9",
                                    "1": "12",
                                    "2": "2522,00",
                                    "3": "2"
                                },
                                {
                                    "0": "ede0c036-4559-8cdf-c63c-a8237acbe73d",
                                    "1": "50",
                                    "2": "2518,37",
                                    "3": "88"
                                },
                                {
                                    "0": "318f287a-62ab-7ac1-0b70-3ac37435a231",
                                    "1": "62",
                                    "2": "2517,48",
                                    "3": "2"
                                },
                                {
                                    "0": "3d39fbf2-2a66-5714-baf6-2fae36029e23",
                                    "1": "8",
                                    "2": "2504,20",
                                    "3": "266"
                                },
                                {
                                    "0": "de0c7882-4586-e9a5-f5f0-4fd84e25df39",
                                    "1": "16",
                                    "2": "2489,30",
                                    "3": "9"
                                },
                                {
                                    "0": "cea72905-4f15-7f58-70bd-d321a958d994",
                                    "1": "26",
                                    "2": "2482,10",
                                    "3": "16"
                                },
                                {
                                    "0": "6989574b-d97d-9773-f10d-232b6c07da59",
                                    "1": "7",
                                    "2": "2478,40",
                                    "3": "31"
                                },
                                {
                                    "0": "5eeb9c75-6d97-80b9-6283-e5a2ac6da334",
                                    "1": "9",
                                    "2": "2471,00",
                                    "3": "39"
                                },
                                {
                                    "0": "c2d70ce2-c5d0-a2eb-75e7-8668236e6dc8",
                                    "1": "15",
                                    "2": "2470,90",
                                    "3": "1"
                                },
                                {
                                    "0": "3a734b71-5d33-3a25-88a3-d54a0c9b8746",
                                    "1": "24",
                                    "2": "2463,52",
                                    "3": "211"
                                },
                                {
                                    "0": "1c40343c-c5d1-8c2d-8248-ac2f3366de34",
                                    "1": "22",
                                    "2": "2461,41",
                                    "3": "3"
                                },
                                {
                                    "0": "fa74b2f3-287d-296e-9fbd-2cc80f2d1cf1",
                                    "1": "11",
                                    "2": "2459,89",
                                    "3": "204"
                                },
                                {
                                    "0": "a0869268-0c77-d30a-0b42-80da5df01c5a",
                                    "1": "17",
                                    "2": "2433,00",
                                    "3": "211"
                                },
                                {
                                    "0": "5160d230-7576-4e18-e07c-1f4a87fad743",
                                    "1": "39",
                                    "2": "2429,00",
                                    "3": "266"
                                },
                                {
                                    "0": "efcd8d21-04f1-a05d-028a-f7bad20d974b",
                                    "1": "51",
                                    "2": "2424,78",
                                    "3": "2"
                                },
                                {
                                    "0": "ed859002-ad59-dbf8-cf36-02696a6c3000",
                                    "1": "13",
                                    "2": "2421,70",
                                    "3": "582"
                                },
                                {
                                    "0": "4b0fdb52-6525-f989-0eb1-45bf1534640e",
                                    "1": "20",
                                    "2": "2419,00",
                                    "3": "2"
                                },
                                {
                                    "0": "888faa8b-fb0b-159c-37de-6d898b961c31",
                                    "1": "23",
                                    "2": "2418,30",
                                    "3": "3"
                                },
                                {
                                    "0": "d06d019f-72a0-4e54-97a0-b64190af170c",
                                    "1": "17",
                                    "2": "2415,93",
                                    "3": "4"
                                },
                                {
                                    "0": "d3f39f05-462b-79a4-562d-35893a28f159",
                                    "1": "38",
                                    "2": "2411,30",
                                    "3": "70"
                                },
                                {
                                    "0": "1354d516-53f6-4534-9064-725ed204e85e",
                                    "1": "20",
                                    "2": "2410,00",
                                    "3": "7"
                                },
                                {
                                    "0": "76833248-bbc0-e65a-0293-ec62023e4396",
                                    "1": "2",
                                    "2": "2399,98",
                                    "3": "269"
                                },
                                {
                                    "0": "0bb738e4-d789-e63e-2267-697c42d35a2d",
                                    "1": "31",
                                    "2": "2388,30",
                                    "3": "85"
                                },
                                {
                                    "0": "6bbcb892-4baf-70b7-fe2f-e2097e8cd407",
                                    "1": "11",
                                    "2": "2382,50",
                                    "3": "13"
                                },
                                {
                                    "0": "acadd4d3-6859-671c-b635-527c6c977533",
                                    "1": "12",
                                    "2": "2381,00",
                                    "3": "15"
                                },
                                {
                                    "0": "cfe94489-ddd3-37d1-e29e-12f2a7205d10",
                                    "1": "24",
                                    "2": "2376,00",
                                    "3": "7"
                                },
                                {
                                    "0": "8a87611c-0884-9ffe-ecca-b52aa798b6c7",
                                    "1": "14",
                                    "2": "2369,80",
                                    "3": "563"
                                },
                                {
                                    "0": "120476eb-7a04-c149-d147-72edaf5d9bf2",
                                    "1": "6",
                                    "2": "2368,80",
                                    "3": "11"
                                },
                                {
                                    "0": "f615fe7e-fbef-0f4f-08fd-3086bc7a3e60",
                                    "1": "24",
                                    "2": "2359,27",
                                    "3": "316"
                                },
                                {
                                    "0": "4978a02e-a9c8-be7a-9b54-80680f40334e",
                                    "1": "19",
                                    "2": "2356,61",
                                    "3": "24"
                                },
                                {
                                    "0": "8603f003-8fe0-e52f-edd3-382d266723de",
                                    "1": "10",
                                    "2": "2355,00",
                                    "3": "181"
                                },
                                {
                                    "0": "3504c0cb-71d7-fa48-d967-e0e4c94d59d9",
                                    "1": "53",
                                    "2": "2349,94",
                                    "3": "286"
                                },
                                {
                                    "0": "4391ea5c-5990-5021-76a1-dcda44a2373d",
                                    "1": "5",
                                    "2": "2349,00",
                                    "3": "87"
                                },
                                {
                                    "0": "5a93f3ab-0ef4-c84e-d5e1-b5dbf23978bc",
                                    "1": "44",
                                    "2": "2338,25",
                                    "3": "136"
                                },
                                {
                                    "0": "34f563c8-2a85-b99a-e9e6-d60db5fc2e28",
                                    "1": "8",
                                    "2": "2332,30",
                                    "3": "15"
                                },
                                {
                                    "0": "8bdd8e3f-d58b-afa4-8af7-6b2c5fd71974",
                                    "1": "11",
                                    "2": "2324,82",
                                    "3": "22"
                                },
                                {
                                    "0": "1d458720-3296-c8f4-ad13-4dc286fa6db0",
                                    "1": "43",
                                    "2": "2323,30",
                                    "3": "1"
                                },
                                {
                                    "0": "df91910b-6a03-bb2e-3358-fa6a35e32f6f",
                                    "1": "14",
                                    "2": "2312,10",
                                    "3": "8"
                                },
                                {
                                    "0": "daeb5653-dd96-c1b1-1860-f72209795012",
                                    "1": "41",
                                    "2": "2305,90",
                                    "3": "16"
                                },
                                {
                                    "0": "fd386aa7-bed2-af3c-7035-c65506c9b4a3",
                                    "1": "76",
                                    "2": "2304,15",
                                    "3": "1"
                                },
                                {
                                    "0": "6338ea67-c410-78a4-6ad9-9cc009654956",
                                    "1": "44",
                                    "2": "2286,09",
                                    "3": "4"
                                },
                                {
                                    "0": "9a84ba99-f536-7fdb-d459-8363496f1ea2",
                                    "1": "16",
                                    "2": "2284,98",
                                    "3": "49"
                                },
                                {
                                    "0": "7238a95b-b63e-f7e4-9838-9fb863b834a1",
                                    "1": "15",
                                    "2": "2265,70",
                                    "3": "10"
                                },
                                {
                                    "0": "e8f6dc8e-6a1d-cde8-9d20-e3995c8d90b3",
                                    "1": "48",
                                    "2": "2256,34",
                                    "3": "259"
                                },
                                {
                                    "0": "8fe8786e-e000-001a-b51d-030dfd4a7bf1",
                                    "1": "5",
                                    "2": "2255,00",
                                    "3": "64"
                                },
                                {
                                    "0": "655220df-3326-2c7e-0c49-49a147366f94",
                                    "1": "15",
                                    "2": "2245,00",
                                    "3": "108"
                                },
                                {
                                    "0": "7b8e8ec3-5bad-4b0e-f7e3-963650b0a87b",
                                    "1": "5",
                                    "2": "2244,28",
                                    "3": "29"
                                },
                                {
                                    "0": "1b1ae47a-313a-825a-7ccc-eb8e2e30fa9d",
                                    "1": "11",
                                    "2": "2243,90",
                                    "3": "102"
                                },
                                {
                                    "0": "3e8bd881-d924-66e6-3ba9-e3e809cd3c50",
                                    "1": "10",
                                    "2": "2242,28",
                                    "3": "119"
                                },
                                {
                                    "0": "5abb8ea0-23c7-7787-f2c1-5da891c8d384",
                                    "1": "13",
                                    "2": "2241,00",
                                    "3": "226"
                                },
                                {
                                    "0": "54583ab3-7948-9add-547f-e47b628db589",
                                    "1": "10",
                                    "2": "2240,00",
                                    "3": "1"
                                },
                                {
                                    "0": "e5f9e61c-eb5f-523c-c966-e0f34095032f",
                                    "1": "4",
                                    "2": "2238,00",
                                    "3": "161"
                                },
                                {
                                    "0": "cac876b3-7d3a-bcd6-bd76-caca30277996",
                                    "1": "33",
                                    "2": "2229,77",
                                    "3": "31"
                                },
                                {
                                    "0": "b83cedfb-587e-7911-540e-3f576d6917ce",
                                    "1": "25",
                                    "2": "2224,95",
                                    "3": "108"
                                },
                                {
                                    "0": "b74d1c09-cb38-0e1d-03a6-f859c6f4224b",
                                    "1": "39",
                                    "2": "2221,60",
                                    "3": "18"
                                },
                                {
                                    "0": "fb89df7f-89fd-1b8f-03fa-2acca1ba7364",
                                    "1": "25",
                                    "2": "2220,00",
                                    "3": "3"
                                },
                                {
                                    "0": "3a4127e1-ba72-08ea-3704-4c5092aae170",
                                    "1": "6",
                                    "2": "2219,60",
                                    "3": "35"
                                },
                                {
                                    "0": "747e73c0-1a45-93d4-cf60-dcf970fd2689",
                                    "1": "3",
                                    "2": "2217,99",
                                    "3": "115"
                                },
                                {
                                    "0": "77a515ca-a363-2715-1d1c-c6c32a9f00e1",
                                    "1": "26",
                                    "2": "2217,39",
                                    "3": "1"
                                },
                                {
                                    "0": "abbf6046-bbdf-1028-606a-5bc7f00c99e7",
                                    "1": "7",
                                    "2": "2217,15",
                                    "3": "106"
                                },
                                {
                                    "0": "f214d28e-8d8e-3ef0-6874-8498ccc2f813",
                                    "1": "59",
                                    "2": "2212,41",
                                    "3": "4"
                                },
                                {
                                    "0": "4992e76a-42cb-3aad-7a70-47e0d3d7e729",
                                    "1": "74",
                                    "2": "2211,10",
                                    "3": "8"
                                },
                                {
                                    "0": "e5475dca-b1e0-7b63-d7f6-e902d8f5eda8",
                                    "1": "19",
                                    "2": "2192,00",
                                    "3": "17"
                                },
                                {
                                    "0": "91f0eec2-3d4a-61d7-d7ca-eefa3f0ad1ca",
                                    "1": "11",
                                    "2": "2190,80",
                                    "3": "25"
                                },
                                {
                                    "0": "0725b8c0-f3f9-06e5-8f70-cbe76b7c748c",
                                    "1": "37",
                                    "2": "2190,30",
                                    "3": "10"
                                },
                                {
                                    "0": "14a08204-d03b-b6b6-bde8-029f801ae0eb",
                                    "1": "38",
                                    "2": "2185,40",
                                    "3": "3"
                                },
                                {
                                    "0": "30c7f28f-d3a5-897b-2c82-d152bb760c17",
                                    "1": "7",
                                    "2": "2178,27",
                                    "3": "247"
                                },
                                {
                                    "0": "8ca1551a-cf98-32a4-cf46-7bbbac15851f",
                                    "1": "12",
                                    "2": "2176,40",
                                    "3": "4"
                                },
                                {
                                    "0": "53d00c40-e32a-eb92-4a84-ce72b1af869d",
                                    "1": "17",
                                    "2": "2165,85",
                                    "3": "18"
                                },
                                {
                                    "0": "2be17df1-c499-7842-6251-562096c3cc09",
                                    "1": "16",
                                    "2": "2165,00",
                                    "3": "52"
                                },
                                {
                                    "0": "0ffa40d5-4288-e4f3-499b-8780dd0f144f",
                                    "1": "35",
                                    "2": "2162,80",
                                    "3": "102"
                                },
                                {
                                    "0": "7fc87cc3-e89b-3d1d-5cab-dca32f8485aa",
                                    "1": "14",
                                    "2": "2153,90",
                                    "3": "3"
                                },
                                {
                                    "0": "72bc2cce-903c-872f-e376-a8faaa81d237",
                                    "1": "18",
                                    "2": "2149,20",
                                    "3": "8"
                                },
                                {
                                    "0": "b56906f7-fd16-96e0-43f1-bcce164c487b",
                                    "1": "42",
                                    "2": "2148,49",
                                    "3": "18"
                                },
                                {
                                    "0": "373ee4a3-a775-a733-770c-a3f790b8b9ac",
                                    "1": "22",
                                    "2": "2141,49",
                                    "3": "113"
                                },
                                {
                                    "0": "0ed6ce5d-87fd-9c69-eaac-aeb778d67235",
                                    "1": "43",
                                    "2": "2141,42",
                                    "3": "1"
                                },
                                {
                                    "0": "723cd880-edaa-cdb9-9889-8b67c8f9da30",
                                    "1": "12",
                                    "2": "2136,53",
                                    "3": "3"
                                },
                                {
                                    "0": "f5f2ab9b-db6b-30c1-4c61-be68c5ed37da",
                                    "1": "18",
                                    "2": "2134,68",
                                    "3": "220"
                                },
                                {
                                    "0": "87d30a6a-0cbf-8935-6e49-324971ab1d24",
                                    "1": "17",
                                    "2": "2134,13",
                                    "3": "59"
                                },
                                {
                                    "0": "9bcdfa7b-615b-3abb-9461-d9e3ad9886ae",
                                    "1": "20",
                                    "2": "2126,07",
                                    "3": "106"
                                },
                                {
                                    "0": "13074f01-6982-ff2b-d6c5-8ced8682f000",
                                    "1": "15",
                                    "2": "2116,00",
                                    "3": "46"
                                },
                                {
                                    "0": "8f78f090-3005-0640-3673-6c7173a5c2ed",
                                    "1": "21",
                                    "2": "2113,70",
                                    "3": "25"
                                },
                                {
                                    "0": "cf2384dd-2f1d-ddea-3f83-8efed0945e65",
                                    "1": "16",
                                    "2": "2101,50",
                                    "3": "18"
                                },
                                {
                                    "0": "ffdd9f82-b9a4-47f6-f8d4-b91554cc7dd3",
                                    "1": "20",
                                    "2": "2101,20",
                                    "3": "7"
                                },
                                {
                                    "0": "e9511df2-0ccd-8265-8a30-c37b7fb343af",
                                    "1": "30",
                                    "2": "2096,60",
                                    "3": "16"
                                },
                                {
                                    "0": "3bfba5a7-7604-f6df-ae7e-6dd7aaf65821",
                                    "1": "4",
                                    "2": "2095,50",
                                    "3": "3"
                                },
                                {
                                    "0": "7f7b8245-c336-066a-1f99-33c359f11d77",
                                    "1": "43",
                                    "2": "2094,36",
                                    "3": "3"
                                },
                                {
                                    "0": "8de8fe3a-f444-9ed6-95d2-434c933ed73e",
                                    "1": "1",
                                    "2": "2090,00",
                                    "3": "17"
                                },
                                {
                                    "0": "165b1235-e9e9-942c-b5fa-e67103576fb0",
                                    "1": "16",
                                    "2": "2085,15",
                                    "3": "4"
                                },
                                {
                                    "0": "f7720c4f-a8e3-aba4-5463-01ab80ea1f1b",
                                    "1": "78",
                                    "2": "2083,45",
                                    "3": "9"
                                },
                                {
                                    "0": "e6a69c4a-27df-dd98-ffe5-aa757ad744bc",
                                    "1": "29",
                                    "2": "2076,20",
                                    "3": "74"
                                },
                                {
                                    "0": "6aa39286-96ea-b49a-19a4-66e665a649fd",
                                    "1": "22",
                                    "2": "2075,00",
                                    "3": "9"
                                },
                                {
                                    "0": "082e0bf4-cb86-5a65-33b1-e8e498cc0255",
                                    "1": "23",
                                    "2": "2073,30",
                                    "3": "8"
                                }
                            ]
                        },
                        "text/html": [
                            "<table>",
                            "<tr><th>SellerId</th><th>Frequency</th><th>MonetaryValue</th><th>Recency</th></tr>",
                            "<tr><td>4869f7a5-dfa2-77a7-dca6-462dcf3b52b2</td><td>1156</td><td>229472,63</td><td>-13</td></tr>",
                            "<tr><td>53243585-a1d6-dc26-4302-1fd1853d8905</td><td>410</td><td>222776,05</td><td>-10</td></tr>",
                            "<tr><td>4a3ca931-5b74-4ce9-f8e9-374361493884</td><td>1987</td><td>200472,92</td><td>0</td></tr>",
                            "<tr><td>fa1c13f2-614d-7b5c-4749-cbc52fecda94</td><td>586</td><td>194042,03</td><td>1</td></tr>",
                            "<tr><td>7c67e144-8b00-f6e9-69d3-65cea6b010ab</td><td>1364</td><td>187923,89</td><td>1</td></tr>",
                            "<tr><td>7e93a43e-f30c-4f03-f38b-393420bc753a</td><td>340</td><td>176431,87</td><td>36</td></tr>",
                            "<tr><td>da8622b1-4eb1-7ae2-831f-4ac5b9dab84a</td><td>1551</td><td>160236,57</td><td>0</td></tr>",
                            "<tr><td>7a67c85e-85bb-2ce8-582c-35f2203ad736</td><td>1171</td><td>141745,53</td><td>-19</td></tr>",
                            "<tr><td>1025f0e2-d44d-7041-d6cf-58b6550e0bfa</td><td>1428</td><td>138968,55</td><td>-3</td></tr>",
                            "<tr><td>955fee92-16a6-5b61-7aa5-c0531780ce60</td><td>1499</td><td>135171,70</td><td>1</td></tr>",
                            "<tr><td>46dc3b2c-c098-0fb8-ec44-634e21d2718e</td><td>542</td><td>128111,19</td><td>7</td></tr>",
                            "<tr><td>6560211a-19b4-7992-c366-6cc44a7e94c0</td><td>2033</td><td>123304,83</td><td>-14</td></tr>",
                            "<tr><td>620c87c1-71fb-2a6d-d6e8-bb4dec959fc6</td><td>798</td><td>114774,50</td><td>1</td></tr>",
                            "<tr><td>7d13fca1-5225-3586-21be-4086e1eb0964</td><td>578</td><td>113628,97</td><td>-5</td></tr>",
                            "<tr><td>5dceca12-9747-e92f-f8ef-7a997dc4f8ca</td><td>346</td><td>112155,53</td><td>58</td></tr>",
                            "<tr><td>1f50f920-176f-a81d-ab99-4f9023523100</td><td>1931</td><td>106939,21</td><td>1</td></tr>",
                            "<tr><td>cc419e06-50a3-c5ba-7718-9a1882b7556a</td><td>1775</td><td>104288,42</td><td>1</td></tr>",
                            "<tr><td>a1043baf-d471-dff5-36d0-c462352beb48</td><td>770</td><td>101901,16</td><td>1</td></tr>",
                            "<tr><td>3d871de0-142c-e09b-7081-e2b9d1733cb1</td><td>1147</td><td>94914,20</td><td>0</td></tr>",
                            "<tr><td>edb1ef5e-36e0-c8cd-84eb-3c9b003e486d</td><td>175</td><td>79284,55</td><td>7</td></tr>",
                            "<tr><td>ccc4bbb5-f32a-6ab2-b706-6a4130f114e3</td><td>192</td><td>74004,62</td><td>-19</td></tr>",
                            "<tr><td>f7ba60f8-c3f9-9e7e-e404-2fdef03b70c4</td><td>230</td><td>68395,00</td><td>1</td></tr>",
                            "<tr><td>fe2032da-b1a6-1af8-7942-48c8196565c9</td><td>306</td><td>65959,61</td><td>3</td></tr>",
                            "<tr><td>8581055c-e74a-f1da-ba16-4fdbd55a40de</td><td>435</td><td>64925,30</td><td>121</td></tr>",
                            "<tr><td>cca3071e-3e9b-b7d1-2640-c9fbe2301306</td><td>830</td><td>64009,89</td><td>3</td></tr>",
                            "<tr><td>04308b1e-e57b-6625-f47d-f1d56f00eedf</td><td>94</td><td>60130,60</td><td>-3</td></tr>",
                            "<tr><td>522620dc-b18a-6b31-cd7b-df73665113a9</td><td>180</td><td>57168,49</td><td>18</td></tr>",
                            "<tr><td>17e34d82-24d2-7a54-1263-c4c64b11a56b</td><td>268</td><td>56363,24</td><td>1</td></tr>",
                            "<tr><td>7ddcbb64-b5bc-1ef3-6ca8-c151f6ec77df</td><td>343</td><td>55578,57</td><td>72</td></tr>",
                            "<tr><td>de722cd6-dad9-50a9-2b7d-4f82673f8833</td><td>379</td><td>55426,10</td><td>2</td></tr>",
                            "<tr><td>37be5a7c-7511-66fb-c5f8-ccba4119e043</td><td>281</td><td>55350,55</td><td>80</td></tr>",
                            "<tr><td>218d46b8-6c18-81d0-22bc-e9c68a7d4b15</td><td>427</td><td>55093,28</td><td>1</td></tr>",
                            "<tr><td>25c5c91f-6360-7446-a97b-143d2d535d31</td><td>269</td><td>54679,22</td><td>142</td></tr>",
                            "<tr><td>f5a590cf-3625-1cf1-162e-a35bef76fe84</td><td>122</td><td>53201,78</td><td>3</td></tr>",
                            "<tr><td>ceaec554-8eef-c6e2-3e66-07c5435102e7</td><td>211</td><td>52917,18</td><td>-27</td></tr>",
                            "<tr><td>b2ba3715-d723-d245-138f-291a6fe42594</td><td>363</td><td>51676,88</td><td>3</td></tr>",
                            "<tr><td>966cb476-0537-b140-4cae-dd472cc610a5</td><td>75</td><td>51286,05</td><td>15</td></tr>",
                            "<tr><td>e882b2a2-5a10-b9c0-57cc-49695f222c19</td><td>58</td><td>51057,54</td><td>8</td></tr>",
                            "<tr><td>2bf6a2c1-e71b-bd29-a4ad-64e6d3c3629f</td><td>31</td><td>50628,90</td><td>8</td></tr>",
                            "<tr><td>f8db351d-8c4c-4c22-c683-5c19a46f01b0</td><td>724</td><td>50525,60</td><td>0</td></tr>",
                            "<tr><td>17f51e71-9870-1186-712e-53a39c564617</td><td>61</td><td>48019,00</td><td>11</td></tr>",
                            "<tr><td>81602554-18d5-aaa7-dbdc-9f4c64ebda44</td><td>431</td><td>47017,69</td><td>2</td></tr>",
                            "<tr><td>77530e97-72f5-7a62-c906-e1c21538ab82</td><td>389</td><td>46610,40</td><td>3</td></tr>",
                            "<tr><td>4e922959-ae96-0d38-9249-c378d1c939f5</td><td>454</td><td>46030,37</td><td>1</td></tr>",
                            "<tr><td>c826c40d-7b19-f62a-09e2-d7c5e7295ee2</td><td>373</td><td>45643,74</td><td>2</td></tr>",
                            "<tr><td>850f4f8a-f5ea-8728-7ac6-8de36e29107f</td><td>192</td><td>45355,36</td><td>56</td></tr>",
                            "<tr><td>b33e7c55-446e-abf8-fe1a-42d037ac7d6d</td><td>155</td><td>44985,17</td><td>9</td></tr>",
                            "<tr><td>ba90964c-ff9b-9e0e-6f32-b23b82465f7b</td><td>38</td><td>44212,50</td><td>14</td></tr>",
                            "<tr><td>eeb6de78-f791-5960-0292-e314a77cbd18</td><td>84</td><td>43739,84</td><td>3</td></tr>",
                            "<tr><td>4d6d651b-d768-4af3-fffa-bd5f08d12e5a</td><td>395</td><td>43587,40</td><td>1</td></tr>",
                            "<tr><td>e9779976-487b-77c6-d4ac-45f75ec7afe9</td><td>750</td><td>43162,95</td><td>-3</td></tr>",
                            "<tr><td>c3cfdc64-8177-fdbb-bb35-635a37472c53</td><td>307</td><td>43048,18</td><td>0</td></tr>",
                            "<tr><td>b839e417-95b7-f3ad-94cc-2014a52f6796</td><td>36</td><td>42829,00</td><td>2</td></tr>",
                            "<tr><td>2eb70248-d66e-0e3e-f836-59f71b244378</td><td>212</td><td>42628,61</td><td>18</td></tr>",
                            "<tr><td>d91fb3b7-d041-e83b-64a0-0a3edfb37e4f</td><td>536</td><td>40889,74</td><td>-3</td></tr>",
                            "<tr><td>17a053fc-b14b-d219-540c-bde0df490be0</td><td>149</td><td>40703,14</td><td>8</td></tr>",
                            "<tr><td>391fc663-1aeb-cf30-0480-4e51b40bcf1e</td><td>613</td><td>39951,95</td><td>1</td></tr>",
                            "<tr><td>834f3294-fba9-f932-f56e-dc879193f925</td><td>66</td><td>39907,50</td><td>11</td></tr>",
                            "<tr><td>712e6ed8-aa4a-a1fa-65da-b41fed5737e4</td><td>87</td><td>39815,00</td><td>83</td></tr>",
                            "<tr><td>634964b1-7796-e643-04ca-df1ad3050fb7</td><td>326</td><td>39465,10</td><td>-3</td></tr>",
                            "<tr><td>7142540d-d4c9-1e22-37ac-b7e911c4eba2</td><td>331</td><td>37373,56</td><td>2</td></tr>",
                            "<tr><td>ea8482cd-71df-3c19-69d7-b9473ff13abc</td><td>1203</td><td>37177,52</td><td>1</td></tr>",
                            "<tr><td>c3867b46-66c7-d768-6762-7c2f7fb22e21</td><td>259</td><td>37153,40</td><td>32</td></tr>",
                            "<tr><td>7178f9f4-dd81-dcef-02f6-2acdf8151e01</td><td>216</td><td>37070,40</td><td>2</td></tr>",
                            "<tr><td>c70c1b0d-8ca8-6052-f45a-432a38b73958</td><td>338</td><td>36537,37</td><td>1</td></tr>",
                            "<tr><td>59417c56-835d-d8e2-e72f-91f809cd4092</td><td>18</td><td>36459,00</td><td>324</td></tr>",
                            "<tr><td>06a2c3af-7b3a-ee5d-6917-1b0e14f0ee87</td><td>405</td><td>36408,95</td><td>1</td></tr>",
                            "<tr><td>7299e27e-d73d-2ad9-86de-7f7c77d919fa</td><td>361</td><td>34725,43</td><td>1</td></tr>",
                            "<tr><td>e9bc59e7-b60f-c306-3eb2-290deda4cced</td><td>269</td><td>34343,06</td><td>1</td></tr>",
                            "<tr><td>dbc22125-167c-298e-f99d-a25668e1011f</td><td>429</td><td>33776,78</td><td>1</td></tr>",
                            "<tr><td>9c0e69c7-bf26-1967-5bba-df47b43f655a</td><td>206</td><td>33702,78</td><td>85</td></tr>",
                            "<tr><td>76d5af76-d027-1110-f9af-36c92573f765</td><td>159</td><td>33461,60</td><td>17</td></tr>",
                            "<tr><td>1835b56c-e799-e6a4-dc4e-ddc053f04066</td><td>558</td><td>33344,21</td><td>1</td></tr>",
                            "<tr><td>5c243662-ce92-d845-73bf-aff24c3e3700</td><td>100</td><td>32862,02</td><td>186</td></tr>",
                            "<tr><td>2528513d-d952-19a6-013d-4d05176e391a</td><td>167</td><td>32689,10</td><td>3</td></tr>",
                            "<tr><td>855668e0-971d-4dfd-7bef-1b6a4133b41b</td><td>327</td><td>32208,16</td><td>3</td></tr>",
                            "<tr><td>70eea00b-476a-3148-17ce-fde4aad4f89a</td><td>114</td><td>31994,65</td><td>1</td></tr>",
                            "<tr><td>7681ef14-2fd2-c190-48da-7430856b5588</td><td>77</td><td>31941,81</td><td>3</td></tr>",
                            "<tr><td>e59aa562-b9f8-076d-d550-fcddf0e73491</td><td>84</td><td>31574,30</td><td>4</td></tr>",
                            "<tr><td>88460e8e-bdec-bfec-b5f9-601833981930</td><td>302</td><td>31546,55</td><td>-17</td></tr>",
                            "<tr><td>0241d4d5-d36f-10f8-0c64-4447315af0bd</td><td>246</td><td>31397,70</td><td>-32</td></tr>",
                            "<tr><td>87142160-b413-53c4-e5fc-a2360caf6f92</td><td>339</td><td>31095,98</td><td>3</td></tr>",
                            "<tr><td>70a12e78-e608-ac31-179a-ea7f8422044b</td><td>328</td><td>30858,53</td><td>3</td></tr>",
                            "<tr><td>53e4c6e0-f431-2d4d-2107-a8c9cddf45cd</td><td>522</td><td>30148,95</td><td>1</td></tr>",
                            "<tr><td>d23019c8-4ffa-e2d5-ef22-70367b8605fc</td><td>39</td><td>29205,10</td><td>1</td></tr>",
                            "<tr><td>900ba814-c251-a692-506d-7834c1218441</td><td>88</td><td>29099,69</td><td>1</td></tr>",
                            "<tr><td>1554a685-3018-2680-ad5c-8b042c3ab563</td><td>269</td><td>29052,53</td><td>4</td></tr>",
                            "<tr><td>0b90b6df-587e-b836-08a6-4ea8b390cf07</td><td>210</td><td>28592,32</td><td>4</td></tr>",
                            "<tr><td>7e1fb0a3-ebfb-01ff-b3a7-dae98bf3238d</td><td>174</td><td>27349,53</td><td>2</td></tr>",
                            "<tr><td>59b22a78-efb7-9a47-9797-9612b885db36</td><td>133</td><td>27184,50</td><td>1</td></tr>",
                            "<tr><td>d1c281d3-ae14-9232-351c-d8c8cc885f0d</td><td>240</td><td>26942,60</td><td>4</td></tr>",
                            "<tr><td>b32be169-5eb7-ec5f-10f7-2d9610a12527</td><td>46</td><td>26874,00</td><td>13</td></tr>",
                            "<tr><td>12b9676b-00f6-0f3b-700e-83af21824c0e</td><td>135</td><td>26774,00</td><td>1</td></tr>",
                            "<tr><td>a3a38f4a-ffed-601e-b87a-97788c949667</td><td>263</td><td>26533,32</td><td>1</td></tr>",
                            "<tr><td>de23c3b9-8a88-8882-89c6-f5cc1209054a</td><td>181</td><td>26399,67</td><td>2</td></tr>",
                            "<tr><td>9f505651-f4a6-abe9-01a5-6cdc21508025</td><td>430</td><td>26361,82</td><td>-21</td></tr>",
                            "<tr><td>16090f2c-a825-584b-5a14-7ab24aa30c86</td><td>410</td><td>25716,44</td><td>1</td></tr>",
                            "<tr><td>a416b6a8-46a1-1724-3930-25641d4edd5e</td><td>181</td><td>25670,72</td><td>-1</td></tr>",
                            "<tr><td>b94cc9f1-0ddc-85e4-ba73-a6f7974e7101</td><td>39</td><td>25346,10</td><td>53</td></tr>",
                            "<tr><td>c003204e-1ab0-16df-a150-abc119207b24</td><td>202</td><td>25108,09</td><td>-17</td></tr>",
                            "<tr><td>001cca7a-e9ae-17fb-1cae-d9dfb1094831</td><td>239</td><td>25080,03</td><td>42</td></tr>",
                            "<tr><td>1900267e-848c-eeba-8fa3-2d80c1a5f5a8</td><td>529</td><td>24982,53</td><td>-3</td></tr>",
                            "<tr><td>1c68394e-931a-64f9-0ea2-36c5ea590300</td><td>171</td><td>24832,75</td><td>11</td></tr>",
                            "<tr><td>b1b39487-01c5-c724-4549-5bd161b83a4c</td><td>18</td><td>24699,19</td><td>368</td></tr>",
                            "<tr><td>f62d7bb4-a613-ec75-8a03-342d46b580b2</td><td>32</td><td>24665,00</td><td>11</td></tr>",
                            "<tr><td>dc4a0fc8-96dc-34b0-d5bf-ec8438291c80</td><td>249</td><td>24180,77</td><td>4</td></tr>",
                            "<tr><td>b37c4c02-bda3-161a-7546-a4e6d222d5b2</td><td>15</td><td>24075,00</td><td>36</td></tr>",
                            "<tr><td>710e3548-e02b-c1d2-831d-fc4f1b5b14d4</td><td>142</td><td>23979,11</td><td>6</td></tr>",
                            "<tr><td>2b3e4a2a-3ea8-e019-38ca-bda2a3e5cc79</td><td>54</td><td>23629,15</td><td>30</td></tr>",
                            "<tr><td>1a3df491-d1c4-f158-9fc2-b934ada68bf2</td><td>178</td><td>23302,70</td><td>13</td></tr>",
                            "<tr><td>40db9e9a-a57f-7bb1-51bc-da6b0f9bdbb7</td><td>12</td><td>23168,00</td><td>2</td></tr>",
                            "<tr><td>612170e3-4b97-004b-3ba3-7eae81836b4c</td><td>110</td><td>23065,02</td><td>3</td></tr>",
                            "<tr><td>897060da-8b9a-21f6-5530-4d50fd935913</td><td>430</td><td>23023,92</td><td>59</td></tr>",
                            "<tr><td>8444e55c-1f13-cd5c-1798-51e5ca5ebd00</td><td>109</td><td>22873,21</td><td>15</td></tr>",
                            "<tr><td>7b0df942-f464-35ba-bab0-5d49b744b2c4</td><td>32</td><td>22600,63</td><td>65</td></tr>",
                            "<tr><td>7ad32824-caee-8208-7b3e-2e5f33b1bf32</td><td>184</td><td>22505,10</td><td>1</td></tr>",
                            "<tr><td>744dac40-8745-240a-2c25-28fb1b6028f3</td><td>84</td><td>22490,60</td><td>10</td></tr>",
                            "<tr><td>06e5eefc-71ec-47ae-763c-5c6f8db7064f</td><td>95</td><td>22188,56</td><td>3</td></tr>",
                            "<tr><td>f45122a9-ab94-eb4f-3f89-53578bc0c560</td><td>200</td><td>22078,29</td><td>3</td></tr>",
                            "<tr><td>05ff92fe-db5b-e479-20fe-a08e501238b9</td><td>62</td><td>21992,78</td><td>14</td></tr>",
                            "<tr><td>ff69aa92-bb6b-1bf9-b8b7-a51c2ed9cf8b</td><td>20</td><td>21940,80</td><td>67</td></tr>",
                            "<tr><td>8f2ce03f-928b-567e-3d56-181ae20ae952</td><td>175</td><td>21712,90</td><td>-3</td></tr>",
                            "<tr><td>59fb871b-f6f4-522a-87ba-567b42dafecf</td><td>128</td><td>21708,57</td><td>133</td></tr>",
                            "<tr><td>d2374cbc-bb3c-a4ab-1086-534108cc3ab7</td><td>631</td><td>21223,92</td><td>3</td></tr>",
                            "<tr><td>48162d54-8f5b-1b11-b9d2-9d1e01f75a61</td><td>91</td><td>20510,14</td><td>2</td></tr>",
                            "<tr><td>729f0699-3dac-8e86-0d4f-02d7088ca48a</td><td>115</td><td>20485,08</td><td>-3</td></tr>",
                            "<tr><td>00ee6830-8b45-bc5e-2660-cd833c3f81cc</td><td>172</td><td>20260,00</td><td>16</td></tr>",
                            "<tr><td>bfd27a96-6d91-cfaa-fdb2-5d076585f0da</td><td>118</td><td>19921,00</td><td>52</td></tr>",
                            "<tr><td>004c9cd9-d87a-3c30-c522-c48c4fc07416</td><td>170</td><td>19712,71</td><td>97</td></tr>",
                            "<tr><td>d650b663-c3b5-f6fb-392b-6326366efa9a</td><td>60</td><td>19242,90</td><td>-3</td></tr>",
                            "<tr><td>821fb029-fc6e-495c-a4f0-8a35d51e53a5</td><td>29</td><td>19187,42</td><td>4</td></tr>",
                            "<tr><td>f457c460-70d0-2cad-d8a6-8551231220dd</td><td>234</td><td>19093,00</td><td>42</td></tr>",
                            "<tr><td>2a5b78b4-1cd0-5bae-ac8d-f54c6606b92c</td><td>60</td><td>19025,36</td><td>14</td></tr>",
                            "<tr><td>dc317f34-1ab0-e22f-39ac-bd9dbf9b4a1f</td><td>58</td><td>18988,40</td><td>52</td></tr>",
                            "<tr><td>96493fab-2fbb-13a1-4d0c-0e8772eef5c3</td><td>64</td><td>18969,00</td><td>67</td></tr>",
                            "<tr><td>44073f8b-7e41-514d-e3b7-815dd0237f4f</td><td>153</td><td>18729,64</td><td>17</td></tr>",
                            "<tr><td>cd68562d-3f44-870c-0892-2d380acae552</td><td>132</td><td>18569,70</td><td>137</td></tr>",
                            "<tr><td>0dd18406-1fb0-eaa7-ca37-932c68ab91c5</td><td>193</td><td>18446,92</td><td>8</td></tr>",
                            "<tr><td>527801b5-52d0-077f-fd17-0872eb49683b</td><td>92</td><td>17942,80</td><td>1</td></tr>",
                            "<tr><td>a888faf2-d1ba-ecec-a6ba-f9c3d603ee1f</td><td>55</td><td>17765,80</td><td>86</td></tr>",
                            "<tr><td>9de4643a-8dbd-e634-fe55-621059d92273</td><td>81</td><td>17560,34</td><td>170</td></tr>",
                            "<tr><td>8b321bb6-6939-2f51-63d0-4c59e235e066</td><td>1018</td><td>17535,69</td><td>3</td></tr>",
                            "<tr><td>c72de06d-7274-8d1a-0dfb-2125be43ba63</td><td>22</td><td>17522,00</td><td>4</td></tr>",
                            "<tr><td>165fc07b-eebd-cb61-90fb-a8a06db2a449</td><td>64</td><td>17481,40</td><td>4</td></tr>",
                            "<tr><td>0c8380b6-2e38-e8a1-e6ad-beba7eb9688c</td><td>220</td><td>17348,79</td><td>1</td></tr>",
                            "<tr><td>1e8b33f1-8b4f-7598-d87f-5cbee2282cc2</td><td>140</td><td>17309,06</td><td>1</td></tr>",
                            "<tr><td>94144541-854e-298c-2d97-6cb893b81343</td><td>76</td><td>17286,28</td><td>179</td></tr>",
                            "<tr><td>54a1852d-1b8f-1031-2c55-e906355666ee</td><td>204</td><td>17226,44</td><td>4</td></tr>",
                            "<tr><td>abe42c5d-0369-5b42-57b5-c6cbf4e6784e</td><td>50</td><td>17159,00</td><td>14</td></tr>",
                            "<tr><td>41b39e28-db00-5d97-31d9-d485a83b4c38</td><td>231</td><td>17112,55</td><td>7</td></tr>",
                            "<tr><td>4a3ccda3-8b21-2970-5f3f-b522db62ca31</td><td>78</td><td>17062,59</td><td>7</td></tr>",
                            "<tr><td>76d64c4a-ca3a-7baf-218b-f93ef7fa768d</td><td>69</td><td>16911,80</td><td>1</td></tr>",
                            "<tr><td>c3acdfac-4e3e-97ff-8752-9454fbc03642</td><td>12</td><td>16788,00</td><td>2</td></tr>",
                            "<tr><td>86ccac0b-8350-3733-2a59-6a33b6949ee1</td><td>210</td><td>16619,93</td><td>27</td></tr>",
                            "<tr><td>8ae52024-7981-aa06-bc94-abddf5f46d34</td><td>65</td><td>16320,99</td><td>6</td></tr>",
                            "<tr><td>7aa4334b-e125-fcdd-2ba6-4b3180029f14</td><td>240</td><td>16234,81</td><td>209</td></tr>",
                            "<tr><td>ef0ace09-169a-c090-589d-85746e3e036f</td><td>140</td><td>16223,30</td><td>3</td></tr>",
                            "<tr><td>fa40cc5b-9345-74b6-2717-c68f3d678b6d</td><td>340</td><td>16055,87</td><td>71</td></tr>",
                            "<tr><td>1f1bb1f0-8598-8350-5541-bdd6606193e5</td><td>29</td><td>16040,84</td><td>25</td></tr>",
                            "<tr><td>0adac9fb-d9a2-b63c-ccaa-c4f8756c1ca8</td><td>142</td><td>15960,95</td><td>7</td></tr>",
                            "<tr><td>4b9750c8-ad28-220f-e670-2d4ecb7c898f</td><td>222</td><td>15915,30</td><td>1</td></tr>",
                            "<tr><td>2a84855f-d20a-f891-be03-bc5924d2b453</td><td>168</td><td>15819,10</td><td>-12</td></tr>",
                            "<tr><td>229c3efb-fb0e-a205-8de4-ccdfbc3d784a</td><td>148</td><td>15744,00</td><td>8</td></tr>",
                            "<tr><td>f9244d45-189d-3a36-0549-9abddeade7d5</td><td>21</td><td>15731,43</td><td>6</td></tr>",
                            "<tr><td>d921b68b-f747-894b-e13a-97ae52b0f386</td><td>77</td><td>15645,80</td><td>4</td></tr>",
                            "<tr><td>6061155a-ddc1-e54b-4cfb-51c1c2a32ad8</td><td>33</td><td>15633,40</td><td>1</td></tr>",
                            "<tr><td>c3384751-5fa6-305c-e6fe-b1e818569f13</td><td>128</td><td>15519,85</td><td>-6</td></tr>",
                            "<tr><td>85d9eb9d-dc5d-00ca-9336-a2219c97bb13</td><td>522</td><td>15415,24</td><td>1</td></tr>",
                            "<tr><td>213b25e6-f546-6193-9f11-710a6fddb871</td><td>194</td><td>15379,50</td><td>-12</td></tr>",
                            "<tr><td>e5a38146-df06-2eda-f55c-38afa99e42dc</td><td>125</td><td>15360,07</td><td>4</td></tr>",
                            "<tr><td>c847e075-3018-70dd-144a-116762eaff9a</td><td>43</td><td>15348,70</td><td>207</td></tr>",
                            "<tr><td>ce248b21-cb2a-dc36-282e-de306b7660e5</td><td>66</td><td>15230,06</td><td>16</td></tr>",
                            "<tr><td>79ebd9a6-1bac-3eaf-8828-05ed4ecfa12a</td><td>143</td><td>15092,79</td><td>3</td></tr>",
                            "<tr><td>75d34ebb-1bd0-bd7d-de40-dd507b8169c3</td><td>72</td><td>15048,28</td><td>193</td></tr>",
                            "<tr><td>e2a1ac9b-f33e-5549-a2a4-f834e70df2f8</td><td>5</td><td>14999,45</td><td>413</td></tr>",
                            "<tr><td>01fdefa7-697d-26ad-920e-9e0346d4bd1b</td><td>131</td><td>14921,43</td><td>2</td></tr>",
                            "<tr><td>1b4c3a6f-5306-8f0b-6944-d2d005c9fc89</td><td>117</td><td>14760,30</td><td>23</td></tr>",
                            "<tr><td>a5cba26a-62b8-b4d0-145b-68b841e62e7f</td><td>55</td><td>14737,84</td><td>1</td></tr>",
                            "<tr><td>87b740da-f17b-5d1b-e335-a64164ec6842</td><td>13</td><td>14699,87</td><td>150</td></tr>",
                            "<tr><td>4c2b2301-73bb-36f9-b240-f2b8ac11786e</td><td>346</td><td>14592,27</td><td>2</td></tr>",
                            "<tr><td>080199a1-81c4-6c65-7dc5-aa235411be3b</td><td>83</td><td>14504,20</td><td>4</td></tr>",
                            "<tr><td>8e6d7754-bc7e-0f22-c96d-255ebda59eba</td><td>130</td><td>14497,27</td><td>2</td></tr>",
                            "<tr><td>cf8ab161-6079-e279-3aa2-9d524df01bb1</td><td>9</td><td>14391,00</td><td>162</td></tr>",
                            "<tr><td>5cf13acc-ae32-22c7-0a9c-ac40818ae839</td><td>156</td><td>14383,20</td><td>1</td></tr>",
                            "<tr><td>a6bd7d1c-cdac-48c6-b33b-28596b7eb122</td><td>16</td><td>14368,61</td><td>31</td></tr>",
                            "<tr><td>66922902-710d-126a-0e7d-26b0e3805106</td><td>156</td><td>14362,30</td><td>4</td></tr>",
                            "<tr><td>aba1721a-889e-04de-cc91-0aa13b768ef4</td><td>92</td><td>14103,30</td><td>2</td></tr>",
                            "<tr><td>f08a5b9d-d676-7129-688d-001acafc21e5</td><td>18</td><td>14069,63</td><td>203</td></tr>",
                            "<tr><td>3b152885-45f8-928d-3e65-a8f949a28291</td><td>121</td><td>14061,79</td><td>8</td></tr>",
                            "<tr><td>c6bda72e-4dbf-5c58-66b1-3cb1810c6d03</td><td>59</td><td>14059,38</td><td>1</td></tr>",
                            "<tr><td>2e90cb16-77d3-5cfe-24ee-f47d441b7c87</td><td>137</td><td>13894,71</td><td>-1</td></tr>",
                            "<tr><td>a6738210-11d0-cec2-8146-ea42f5ab767f</td><td>146</td><td>13863,69</td><td>1</td></tr>",
                            "<tr><td>d94a40fd-4235-1c25-9927-028d163af842</td><td>110</td><td>13823,80</td><td>14</td></tr>",
                            "<tr><td>05f51e13-da97-1396-48b8-125c31e5f51b</td><td>63</td><td>13769,01</td><td>156</td></tr>",
                            "<tr><td>440dd6ab-2443-15c6-3213-0ecfb63827b1</td><td>95</td><td>13696,90</td><td>7</td></tr>",
                            "<tr><td>b8bc237b-a378-8b23-da09-c0f1f3a3288c</td><td>47</td><td>13685,71</td><td>51</td></tr>",
                            "<tr><td>6039e272-94dc-7581-1c0d-8a39069f52c0</td><td>75</td><td>13670,70</td><td>1</td></tr>",
                            "<tr><td>1f9ab470-8f30-56ed-e071-24aad39a2554</td><td>79</td><td>13602,73</td><td>80</td></tr>",
                            "<tr><td>6d66611d-7c44-cc30-ce35-1abc49a68421</td><td>176</td><td>13593,40</td><td>1</td></tr>",
                            "<tr><td>240b9776-d844-d375-3566-8549a396af32</td><td>36</td><td>13592,08</td><td>-6</td></tr>",
                            "<tr><td>610f72e4-07cd-d7ca-aa2f-8167b0163fd8</td><td>17</td><td>13585,16</td><td>1</td></tr>",
                            "<tr><td>289cdb32-5fb7-e7f8-91c3-8608bf9e0962</td><td>126</td><td>13544,95</td><td>2</td></tr>",
                            "<tr><td>0b35c634-5210-43bf-4b47-e21547b99ab5</td><td>78</td><td>13533,65</td><td>10</td></tr>",
                            "<tr><td>a3e9a2c7-0048-0d9b-b01f-ba070ba80a0e</td><td>144</td><td>13440,80</td><td>3</td></tr>",
                            "<tr><td>d05ae8f7-a5bd-1d2a-690a-44cd079e4e27</td><td>81</td><td>13436,00</td><td>8</td></tr>",
                            "<tr><td>34d1ca11-b242-c0fe-e2c8-34ae8d788566</td><td>41</td><td>13422,24</td><td>20</td></tr>",
                            "<tr><td>1ca7077d-890b-907f-89be-8c954a02686a</td><td>137</td><td>13341,57</td><td>121</td></tr>",
                            "<tr><td>8cc6a0e5-738e-61a8-7b03-c78b2ba9db4b</td><td>26</td><td>13312,40</td><td>443</td></tr>",
                            "<tr><td>669ae818-80e0-8f26-9a64-487cfb287169</td><td>186</td><td>13248,87</td><td>15</td></tr>",
                            "<tr><td>5d378b73-ab7d-d6f0-418d-743e5dcb0bd1</td><td>7</td><td>13243,00</td><td>163</td></tr>",
                            "<tr><td>ad97a199-2363-54e5-3fcd-91a5a913e9a2</td><td>18</td><td>13205,90</td><td>29</td></tr>",
                            "<tr><td>c31eff83-34d6-b304-7ed3-4bebd4d62c36</td><td>123</td><td>13191,50</td><td>4</td></tr>",
                            "<tr><td>e8b3a3a3-8279-a82f-0e5d-006d5e5b7d2c</td><td>92</td><td>13154,70</td><td>143</td></tr>",
                            "<tr><td>6edacfd9-f907-4789-dad6-d62ba7950b9c</td><td>219</td><td>13147,10</td><td>-5</td></tr>",
                            "<tr><td>99eaacc9-e604-6db1-c82b-163c5f84869f</td><td>70</td><td>13139,17</td><td>150</td></tr>",
                            "<tr><td>9e622925-0fed-be05-838f-ef417b74e7fb</td><td>78</td><td>13132,20</td><td>1</td></tr>",
                            "<tr><td>431af27f-296b-c651-9d89-0aa5a05fdb11</td><td>125</td><td>13109,50</td><td>22</td></tr>",
                            "<tr><td>d50d79cb-34e3-8265-a864-9c383dcffd48</td><td>70</td><td>13012,42</td><td>11</td></tr>",
                            "<tr><td>530ec610-9d11-eaaf-8799-9465c6afee01</td><td>104</td><td>12983,81</td><td>4</td></tr>",
                            "<tr><td>6e386f64-c84e-482f-0b9a-bf960797ee1b</td><td>30</td><td>12938,30</td><td>7</td></tr>",
                            "<tr><td>e24fc9fc-d865-784f-b257-05606fe3dfe7</td><td>56</td><td>12936,00</td><td>127</td></tr>",
                            "<tr><td>039e6ad9-dae7-9614-4930-83e241147386</td><td>5</td><td>12925,00</td><td>48</td></tr>",
                            "<tr><td>c60b801f-2d52-c7f7-f91d-e00870882a75</td><td>41</td><td>12913,50</td><td>1</td></tr>",
                            "<tr><td>cfb1a033-7436-68a1-9231-6f3c6d1d2671</td><td>184</td><td>12803,64</td><td>14</td></tr>",
                            "<tr><td>ac350871-9a1d-8f5b-7614-b798f70af136</td><td>104</td><td>12775,84</td><td>17</td></tr>",
                            "<tr><td>ed4acab3-8528-488b-65a9-a9c603ff024a</td><td>40</td><td>12759,45</td><td>23</td></tr>",
                            "<tr><td>7202e2ba-2057-9a9b-d1ac-b29e61fe71f6</td><td>55</td><td>12750,50</td><td>3</td></tr>",
                            "<tr><td>2b1a40c1-daab-c6ca-280c-4b815c101841</td><td>35</td><td>12732,60</td><td>66</td></tr>",
                            "<tr><td>c66dccfb-3f10-9511-246d-a627dd5a2498</td><td>45</td><td>12708,55</td><td>1</td></tr>",
                            "<tr><td>2e1c9f22-be26-9ef4-643f-826c9e650a52</td><td>173</td><td>12687,68</td><td>2</td></tr>",
                            "<tr><td>00fc707a-aaad-2d31-347c-f883cd2dfe10</td><td>135</td><td>12684,90</td><td>70</td></tr>",
                            "<tr><td>b372ee76-8ed6-9e46-ca8c-dbd267aa7a38</td><td>69</td><td>12630,00</td><td>2</td></tr>",
                            "<tr><td>66e0557e-cc2b-4dbe-a057-e93f215f68d8</td><td>31</td><td>12480,00</td><td>160</td></tr>",
                            "<tr><td>a7f13822-ceb9-66b0-76af-67121f87b063</td><td>86</td><td>12477,64</td><td>346</td></tr>",
                            "<tr><td>2138ccb8-5b11-a4ec-1e37-afbd1c8eda1f</td><td>429</td><td>12357,03</td><td>1</td></tr>",
                            "<tr><td>056b4ada-5bbc-2c50-cc78-42547dda6b51</td><td>66</td><td>12333,39</td><td>2</td></tr>",
                            "<tr><td>d6b1ce66-b035-a475-f00c-017792ff9769</td><td>108</td><td>12277,40</td><td>1</td></tr>",
                            "<tr><td>48436dad-e18a-c8b2-bce0-89ec2a041202</td><td>151</td><td>12271,71</td><td>8</td></tr>",
                            "<tr><td>c510bc17-18f0-f296-1eaa-42a23330681a</td><td>13</td><td>12251,00</td><td>15</td></tr>",
                            "<tr><td>fbc14c0c-f935-05ef-89f6-4665ffa4a7b5</td><td>18</td><td>12227,82</td><td>10</td></tr>",
                            "<tr><td>c8b0e2b0-a709-5e5d-8219-575d5e7e1181</td><td>85</td><td>12170,21</td><td>4</td></tr>",
                            "<tr><td>70c27847-eca8-195c-983e-d7e798c56743</td><td>98</td><td>12077,52</td><td>1</td></tr>",
                            "<tr><td>ff063b02-2a9a-0aab-91ba-d2c9088760b7</td><td>96</td><td>12076,50</td><td>8</td></tr>",
                            "<tr><td>e26901d5-ab43-4ce9-2fd9-b5c256820a4e</td><td>221</td><td>11990,90</td><td>346</td></tr>",
                            "<tr><td>701938c4-5070-5b8a-e65f-c923b70f35c7</td><td>112</td><td>11983,28</td><td>123</td></tr>",
                            "<tr><td>c4f7fee5-b0db-50e8-7766-f5a4d1b1b758</td><td>9</td><td>11961,83</td><td>120</td></tr>",
                            "<tr><td>12863947-3a13-9ac0-f3e5-f5ade55873a5</td><td>560</td><td>11908,85</td><td>3</td></tr>",
                            "<tr><td>d71d863e-5ef3-0d94-e440-c11be17dcd8f</td><td>36</td><td>11900,90</td><td>103</td></tr>",
                            "<tr><td>8b8cfc83-05aa-441e-4239-358c9f6f2485</td><td>15</td><td>11892,00</td><td>135</td></tr>",
                            "<tr><td>7901646f-dd36-a55f-564f-faf2dbccaaf7</td><td>27</td><td>11857,08</td><td>4</td></tr>",
                            "<tr><td>09f952a5-f58d-2285-b037-2551ae8f9b01</td><td>56</td><td>11821,50</td><td>1</td></tr>",
                            "<tr><td>adbc2665-8d6c-7b4b-6219-f9d934598091</td><td>92</td><td>11806,40</td><td>4</td></tr>",
                            "<tr><td>0be8ff43-f22e-456b-4e03-71b2245e4d01</td><td>180</td><td>11805,50</td><td>-13</td></tr>",
                            "<tr><td>72c5da29-406b-4234-927b-81855e7b64f6</td><td>31</td><td>11798,69</td><td>1</td></tr>",
                            "<tr><td>ce7d1888-639e-6fb0-6b27-49cbfdac1ff7</td><td>84</td><td>11793,89</td><td>7</td></tr>",
                            "<tr><td>23d7c96d-4a11-60db-1c72-6b248601b25a</td><td>55</td><td>11766,94</td><td>11</td></tr>",
                            "<tr><td>d1b65fc7-debc-3361-ea86-b5f14c68d2e2</td><td>41</td><td>11703,07</td><td>72</td></tr>",
                            "<tr><td>bba3293d-6f5d-5af2-f415-e004e8b93ae3</td><td>17</td><td>11702,10</td><td>59</td></tr>",
                            "<tr><td>25e6ffe9-76bd-7561-8acc-fe16cefcbd0d</td><td>117</td><td>11691,61</td><td>62</td></tr>",
                            "<tr><td>c4d51195-486d-c781-5318-76a7d00453d8</td><td>17</td><td>11468,98</td><td>65</td></tr>",
                            "<tr><td>80e6699f-e291-50b3-72a0-c8a1ebf7dcc8</td><td>100</td><td>11441,56</td><td>105</td></tr>",
                            "<tr><td>b4f8921f-cc4f-f77b-66be-a6dda43dcd51</td><td>20</td><td>11395,05</td><td>2</td></tr>",
                            "<tr><td>cab85505-710c-7cb9-b720-bceb52b01cee</td><td>209</td><td>11389,10</td><td>-25</td></tr>",
                            "<tr><td>1d8dbc4f-3237-8d71-5c71-7c1c1fc57bae</td><td>98</td><td>11315,89</td><td>60</td></tr>",
                            "<tr><td>813348c9-9646-9b40-f2e0-28d5429d3495</td><td>202</td><td>11205,83</td><td>111</td></tr>",
                            "<tr><td>6cd68b3e-d6d5-9aaa-9fec-e558ad360c0a</td><td>157</td><td>11188,57</td><td>116</td></tr>",
                            "<tr><td>5a8e7d50-03a1-f221-f9e1-d6e411de7c23</td><td>181</td><td>11171,90</td><td>1</td></tr>",
                            "<tr><td>ccb83a79-4700-270f-de70-898fe9ff368b</td><td>12</td><td>11062,00</td><td>363</td></tr>",
                            "<tr><td>8d956fec-2e43-37af-fcb5-20f56fd8cbfd</td><td>228</td><td>11015,19</td><td>1</td></tr>",
                            "<tr><td>6973a06f-484a-acf4-00ec-e213dbf3d946</td><td>115</td><td>11011,05</td><td>67</td></tr>",
                            "<tr><td>95e03ca3-d414-6e40-1198-5981aeb959b9</td><td>193</td><td>11009,96</td><td>9</td></tr>",
                            "<tr><td>7ea5bfa6-c340-f58f-8e71-fc1f0412b0d6</td><td>104</td><td>11002,89</td><td>14</td></tr>",
                            "<tr><td>54965bbe-3e4f-07ae-045b-90b0b8541f52</td><td>86</td><td>10961,30</td><td>49</td></tr>",
                            "<tr><td>82e0a475-a88c-c959-5229-d8029273f045</td><td>80</td><td>10930,02</td><td>217</td></tr>",
                            "<tr><td>dd2bdf85-5a91-7273-4fbc-3744021ae9b9</td><td>113</td><td>10816,70</td><td>187</td></tr>",
                            "<tr><td>0ea22c1c-fbdc-755f-86b9-b54b39c16043</td><td>269</td><td>10711,70</td><td>3</td></tr>",
                            "<tr><td>ce27a3cc-3c8c-c1ea-79d1-1e561e9bebb6</td><td>164</td><td>10682,65</td><td>1</td></tr>",
                            "<tr><td>c9c7905c-ffc4-ef9f-f9f1-13554423e671</td><td>139</td><td>10657,18</td><td>3</td></tr>",
                            "<tr><td>bd23da73-5481-3347-129d-751591d1a6e2</td><td>90</td><td>10544,30</td><td>10</td></tr>",
                            "<tr><td>f3b80352-b986-ab4d-1057-a4b724be19d0</td><td>92</td><td>10505,10</td><td>15</td></tr>",
                            "<tr><td>f262cbc1-c910-c839-59f8-49465454ddd3</td><td>207</td><td>10482,83</td><td>3</td></tr>",
                            "<tr><td>c864036f-eaab-8c16-59f6-5ea4faebe1da</td><td>58</td><td>10454,20</td><td>17</td></tr>",
                            "<tr><td>b499c00f-28f4-b706-9ff6-550af8c1348a</td><td>187</td><td>10327,13</td><td>1</td></tr>",
                            "<tr><td>ea566164-622c-6b43-9516-ab18062c42cd</td><td>52</td><td>10309,42</td><td>2</td></tr>",
                            "<tr><td>33a6f4b1-e7cd-c205-511e-76ba1b6e0186</td><td>126</td><td>10295,01</td><td>1</td></tr>",
                            "<tr><td>9d5a9018-aee5-6acb-367b-a9c3f05d1d6a</td><td>79</td><td>10292,31</td><td>151</td></tr>",
                            "<tr><td>06532f10-2827-04ef-4c69-168b914b77be</td><td>9</td><td>10220,50</td><td>367</td></tr>",
                            "<tr><td>1c5e4e49-b907-9480-255b-49d50aac1aa9</td><td>12</td><td>10173,11</td><td>21</td></tr>",
                            "<tr><td>7b1222c3-624a-a89b-9558-b50a2594188c</td><td>22</td><td>10103,52</td><td>52</td></tr>",
                            "<tr><td>5058e8c1-e826-5397-4541-e83690655b4a</td><td>78</td><td>10022,82</td><td>8</td></tr>",
                            "<tr><td>0df3984f-9dfb-3d49-ac63-66acbd3bbb85</td><td>89</td><td>10021,49</td><td>56</td></tr>",
                            "<tr><td>5343d064-9eca-2a98-3820-bfe93fc4d17e</td><td>111</td><td>10000,64</td><td>25</td></tr>",
                            "<tr><td>054694fa-03fe-82ce-c4b7-551487331d74</td><td>22</td><td>9983,10</td><td>128</td></tr>",
                            "<tr><td>9d4db00d-65d7-7606-44ac-0c14edb5fd86</td><td>100</td><td>9979,70</td><td>8</td></tr>",
                            "<tr><td>961dff0a-659b-4561-3343-72337dd897d9</td><td>4</td><td>9946,00</td><td>429</td></tr>",
                            "<tr><td>5882820e-f11c-4c06-8eea-0677a7a879b4</td><td>14</td><td>9925,50</td><td>31</td></tr>",
                            "<tr><td>4830e406-4073-4fc1-c52c-d21127c341d4</td><td>219</td><td>9843,47</td><td>2</td></tr>",
                            "<tr><td>ef506c96-320a-beed-fb89-4c34db06f478</td><td>340</td><td>9771,43</td><td>4</td></tr>",
                            "<tr><td>17ca9b9e-9b9e-f8fd-b529-001b49ebb50f</td><td>129</td><td>9754,83</td><td>2</td></tr>",
                            "<tr><td>7040e82f-899a-04d1-b434-b795a43b4617</td><td>228</td><td>9738,20</td><td>1</td></tr>",
                            "<tr><td>ca3bd7cd-9f14-9df7-5950-150d010fe4a2</td><td>138</td><td>9731,85</td><td>20</td></tr>",
                            "<tr><td>7b07b3c7-487f-0ea8-25fc-6df75abd658b</td><td>98</td><td>9731,85</td><td>1</td></tr>",
                            "<tr><td>01cf7e3d-2149-4c41-fb86-034f2e714fa1</td><td>67</td><td>9729,36</td><td>178</td></tr>",
                            "<tr><td>17306570-e772-e771-8c92-a562d33f5f1d</td><td>32</td><td>9669,80</td><td>125</td></tr>",
                            "<tr><td>e96498ed-8daa-a3e9-c23f-7a62da76591c</td><td>34</td><td>9619,09</td><td>23</td></tr>",
                            "<tr><td>31344c16-881c-08a8-a72c-6d2eb29918c1</td><td>43</td><td>9615,70</td><td>2</td></tr>",
                            "<tr><td>e7df4cd2-9ab5-abab-70fb-0783ddb53987</td><td>24</td><td>9608,70</td><td>1</td></tr>",
                            "<tr><td>73a63f72-308a-a20a-46f4-b1632018f196</td><td>41</td><td>9606,80</td><td>22</td></tr>",
                            "<tr><td>b2ac621f-0d03-2243-4d04-a12b078b9369</td><td>30</td><td>9575,50</td><td>4</td></tr>",
                            "<tr><td>1c129092-bf23-f28a-5930-387c980c0dfc</td><td>220</td><td>9553,62</td><td>14</td></tr>",
                            "<tr><td>36a968b5-4469-5394-e4e9-d7572688598f</td><td>162</td><td>9482,87</td><td>2</td></tr>",
                            "<tr><td>3db66a85-6d18-a9cb-a7c9-241fc5221c50</td><td>97</td><td>9478,30</td><td>4</td></tr>",
                            "<tr><td>270297ea-d4c6-5a6c-d259-3960d2af6b21</td><td>20</td><td>9422,40</td><td>9</td></tr>",
                            "<tr><td>81a1104d-f0f0-8b59-c68a-a5b03cfe398e</td><td>73</td><td>9420,88</td><td>127</td></tr>",
                            "<tr><td>066a6914-e1eb-f3ea-95a2-16c73a986b91</td><td>74</td><td>9410,38</td><td>10</td></tr>",
                            "<tr><td>cb8bcce2-48bb-1fb2-74ba-762d8b971456</td><td>69</td><td>9402,20</td><td>9</td></tr>",
                            "<tr><td>a00824eb-9093-d40e-589b-940ec45c4eb0</td><td>3</td><td>9399,97</td><td>140</td></tr>",
                            "<tr><td>5b815461-0ebb-21fb-90eb-587365e673df</td><td>41</td><td>9397,54</td><td>25</td></tr>",
                            "<tr><td>3c487ae8-f8d7-542b-eff5-788e2e0aea83</td><td>33</td><td>9385,70</td><td>2</td></tr>",
                            "<tr><td>aaed1309-3747-18fd-d995-ee4c58c9dfcd</td><td>112</td><td>9376,95</td><td>18</td></tr>",
                            "<tr><td>8b28d096-6340-3566-7e82-63d57ba3368c</td><td>155</td><td>9375,70</td><td>30</td></tr>",
                            "<tr><td>05feb94f-19d0-94d4-b0f9-281f0b1d4c99</td><td>6</td><td>9353,00</td><td>179</td></tr>",
                            "<tr><td>048c2757-5353-28e0-d7da-c690ad3c0aae</td><td>51</td><td>9264,78</td><td>3</td></tr>",
                            "<tr><td>aafe3660-0ce6-04f2-05b8-6b5084d3d767</td><td>131</td><td>9251,40</td><td>2</td></tr>",
                            "<tr><td>624f4ece-8da4-aafb-7769-9233d480f8ef</td><td>55</td><td>9205,00</td><td>2</td></tr>",
                            "<tr><td>dd7ddc04-e1b6-c2c6-1435-2b383efe2d36</td><td>143</td><td>9178,51</td><td>16</td></tr>",
                            "<tr><td>4e7c18b9-8d84-e05c-bae3-ff0ff03846c2</td><td>89</td><td>9177,90</td><td>38</td></tr>",
                            "<tr><td>6c12e406-90c3-35db-c2f6-8a4134d30dc1</td><td>18</td><td>9139,20</td><td>21</td></tr>",
                            "<tr><td>f80edd2c-5aaa-505c-c4b0-a3b219abf4b8</td><td>128</td><td>9108,20</td><td>2</td></tr>",
                            "<tr><td>8e8a7ce9-f2f9-70dc-00e2-acf6f6e199f6</td><td>66</td><td>9101,00</td><td>6</td></tr>",
                            "<tr><td>0db783cf-cd3b-7399-8abc-6e10e59a102f</td><td>137</td><td>9077,40</td><td>138</td></tr>",
                            "<tr><td>06df0c10-d34e-459d-9672-bc77388742eb</td><td>30</td><td>9070,00</td><td>21</td></tr>",
                            "<tr><td>fffd5413-c070-0ac8-20c7-069d66d98c89</td><td>61</td><td>9062,30</td><td>1</td></tr>",
                            "<tr><td>9b013e03-b2ab-7865-05a1-d3b5c0756754</td><td>225</td><td>9027,40</td><td>1</td></tr>",
                            "<tr><td>5f2684da-b12e-59f8-3bef-73ae57724e45</td><td>74</td><td>9000,87</td><td>1</td></tr>",
                            "<tr><td>403aa869-1252-7d73-0337-ffcb0fb096ab</td><td>11</td><td>8959,89</td><td>277</td></tr>",
                            "<tr><td>f27e33c6-d29b-5138-fa99-67bcd445b6d5</td><td>98</td><td>8888,30</td><td>1</td></tr>",
                            "<tr><td>32b8764b-4ef6-28b5-3608-fc34011fcc13</td><td>38</td><td>8884,00</td><td>2</td></tr>",
                            "<tr><td>d03698c2-efd0-4a54-9382-afa6623e27fb</td><td>21</td><td>8865,47</td><td>23</td></tr>",
                            "<tr><td>2089a6d6-4099-9f9b-9141-ac719b2af596</td><td>44</td><td>8830,82</td><td>60</td></tr>",
                            "<tr><td>1da3aeb7-0d79-89d1-e6d9-b0e887f97c23</td><td>328</td><td>8823,52</td><td>1</td></tr>",
                            "<tr><td>a49928bc-df77-c55c-6d6e-05e09a9b4ca5</td><td>106</td><td>8816,70</td><td>84</td></tr>",
                            "<tr><td>562fc2f2-c286-3ab7-e79a-9e4388a58a14</td><td>270</td><td>8814,20</td><td>0</td></tr>",
                            "<tr><td>af4a0e4c-fe1d-9c26-b671-2b1be25a72e5</td><td>26</td><td>8757,98</td><td>143</td></tr>",
                            "<tr><td>18a349e7-5d30-7f4b-4cc6-46a691ed4216</td><td>148</td><td>8711,53</td><td>1</td></tr>",
                            "<tr><td>6d803cb7-9cc3-1c41-c4c7-89a75933b3c7</td><td>66</td><td>8711,40</td><td>77</td></tr>",
                            "<tr><td>6c7d50c2-4b3c-cd2f-d83b-44d8bb34e073</td><td>128</td><td>8699,34</td><td>9</td></tr>",
                            "<tr><td>b1a81260-566c-1bac-3114-a6d124413f27</td><td>54</td><td>8684,69</td><td>6</td></tr>",
                            "<tr><td>9596c870-880d-9000-12f2-e8e6e30d06d7</td><td>24</td><td>8606,25</td><td>16</td></tr>",
                            "<tr><td>db295674-5b3a-8e9f-3785-c99f34b5d25e</td><td>48</td><td>8599,00</td><td>2</td></tr>",
                            "<tr><td>259f7b5e-6e48-2c23-0e5b-faa670b6bb8f</td><td>165</td><td>8526,04</td><td>1</td></tr>",
                            "<tr><td>93dc8770-3c04-6b60-3023-e75222018b45</td><td>36</td><td>8517,35</td><td>-41</td></tr>",
                            "<tr><td>cbd996ad-3c1b-7dc7-1fd0-e5f5df9087e2</td><td>196</td><td>8411,04</td><td>0</td></tr>",
                            "<tr><td>b18dc380-845b-2403-8cfc-48006478f099</td><td>54</td><td>8353,30</td><td>21</td></tr>",
                            "<tr><td>6c177e38-df6d-3f34-182b-1f1d427231bf</td><td>56</td><td>8341,89</td><td>1</td></tr>",
                            "<tr><td>7d456afc-6602-2682-9370-f3173d14520c</td><td>91</td><td>8338,25</td><td>8</td></tr>",
                            "<tr><td>fcb5ace8-bcc9-2f75-707d-c0f01a27d269</td><td>73</td><td>8318,63</td><td>8</td></tr>",
                            "<tr><td>784ba75d-d9d2-0200-c4ca-ed3d7a77141a</td><td>24</td><td>8295,13</td><td>217</td></tr>",
                            "<tr><td>30780969-83cf-766a-32a0-6257648502d1</td><td>64</td><td>8285,42</td><td>107</td></tr>",
                            "<tr><td>26d8a1c7-c75d-5130-4579-8992ead43aa2</td><td>38</td><td>8244,12</td><td>10</td></tr>",
                            "<tr><td>b92e3c8f-9738-272f-f7c5-9e111e108d7c</td><td>70</td><td>8231,09</td><td>16</td></tr>",
                            "<tr><td>4371b634-e0ef-c0e2-2b09-b52907d9d469</td><td>112</td><td>8194,00</td><td>14</td></tr>",
                            "<tr><td>397c4d0c-005b-6f41-f900-98ac724e28cb</td><td>5</td><td>8177,00</td><td>17</td></tr>",
                            "<tr><td>67883baa-ae61-34ee-81b2-71a542613728</td><td>19</td><td>8167,90</td><td>8</td></tr>",
                            "<tr><td>86bb7c4b-535e-49a5-41ba-f3266b1c95b1</td><td>16</td><td>8162,40</td><td>156</td></tr>",
                            "<tr><td>fdb90952-04a3-34cd-8872-252ffec6f2db</td><td>61</td><td>8156,00</td><td>85</td></tr>",
                            "<tr><td>52d76513-f0c4-d97f-3b99-570e2c94ee31</td><td>28</td><td>8153,10</td><td>9</td></tr>",
                            "<tr><td>33a17d60-c643-9335-1ebf-1ef860f4e0f2</td><td>47</td><td>8152,48</td><td>6</td></tr>",
                            "<tr><td>4bfc7a4a-1cf8-d4d2-121c-27422d9e50b5</td><td>40</td><td>8124,40</td><td>7</td></tr>",
                            "<tr><td>8fb79102-2c1f-c890-9664-f48ab7dc636d</td><td>5</td><td>8119,95</td><td>32</td></tr>",
                            "<tr><td>972d0f9c-f61b-499a-4812-cf0bfa3ad3c4</td><td>88</td><td>8089,29</td><td>1</td></tr>",
                            "<tr><td>750303a2-0e9c-56b2-a6bc-45cdce0b897d</td><td>57</td><td>8085,00</td><td>3</td></tr>",
                            "<tr><td>a2e87407-4c87-7c5a-05ab-ae80ad6e488f</td><td>46</td><td>8071,98</td><td>1</td></tr>",
                            "<tr><td>6bd69102-ab48-df50-0790-a8cecfc285c2</td><td>5</td><td>8070,00</td><td>105</td></tr>",
                            "<tr><td>5656537e-5888-03a5-55b8-eb41f07a944b</td><td>188</td><td>8065,93</td><td>1</td></tr>",
                            "<tr><td>7a241947-449c-c45d-bfda-4f9d0798d9d0</td><td>72</td><td>8027,63</td><td>18</td></tr>",
                            "<tr><td>54065e9a-ef7e-9e9c-2dc2-3b7594db021a</td><td>14</td><td>8003,00</td><td>403</td></tr>",
                            "<tr><td>b1fc4f64-df5a-0e8b-6913-ab38803c57a9</td><td>121</td><td>7994,74</td><td>14</td></tr>",
                            "<tr><td>90303766-0cf8-48a7-1716-6eb7a06d616e</td><td>60</td><td>7991,51</td><td>-1</td></tr>",
                            "<tr><td>ebd2d609-05fb-5827-1fac-ef5596b620d3</td><td>88</td><td>7941,72</td><td>2</td></tr>",
                            "<tr><td>bbf9ad41-dca6-603e-614e-fcdad7aab8c4</td><td>14</td><td>7846,00</td><td>58</td></tr>",
                            "<tr><td>989becdc-e12e-bc39-863c-2bceab6f3ca1</td><td>18</td><td>7840,88</td><td>7</td></tr>",
                            "<tr><td>725c32fa-80c2-faac-c4fc-88450d27314e</td><td>93</td><td>7838,88</td><td>13</td></tr>",
                            "<tr><td>8476243f-9244-2881-ddd5-b578975cf115</td><td>12</td><td>7838,00</td><td>9</td></tr>",
                            "<tr><td>0432ead4-2b6c-8a0b-df68-154add917fdf</td><td>90</td><td>7792,10</td><td>30</td></tr>",
                            "<tr><td>d51e0a40-3fe2-e689-ece6-c73359d96e12</td><td>26</td><td>7790,00</td><td>22</td></tr>",
                            "<tr><td>2dee2ce6-0de9-709b-1a24-083217181a1f</td><td>55</td><td>7784,50</td><td>53</td></tr>",
                            "<tr><td>7008613e-a464-bad5-cb9b-83456e1e6a8f</td><td>156</td><td>7777,00</td><td>2</td></tr>",
                            "<tr><td>7bac63f6-603d-382c-c8d0-832eb6c100a8</td><td>19</td><td>7751,95</td><td>23</td></tr>",
                            "<tr><td>5b925e1d-006e-9476-d738-aa200751b73b</td><td>63</td><td>7748,50</td><td>7</td></tr>",
                            "<tr><td>6fd52c52-8dcb-38be-2eea-044946b811f8</td><td>84</td><td>7743,02</td><td>11</td></tr>",
                            "<tr><td>e5a34388-91c0-bfdb-9394-643f95273d8e</td><td>255</td><td>7738,35</td><td>121</td></tr>",
                            "<tr><td>257e61d3-251f-b5ef-b9da-adddbc2cf7ca</td><td>12</td><td>7729,00</td><td>11</td></tr>",
                            "<tr><td>b410bdd3-6d5d-b7a6-5dcd-42b7ead933b8</td><td>44</td><td>7726,90</td><td>4</td></tr>",
                            "<tr><td>42bde9fe-f835-393b-b8a8-849cb6b7f245</td><td>40</td><td>7703,00</td><td>3</td></tr>",
                            "<tr><td>3bb548e3-cb7f-70f2-8e3f-11ee9dce0e59</td><td>53</td><td>7690,02</td><td>8</td></tr>",
                            "<tr><td>058fd0aa-2bfd-b227-4e05-e1ae971dabb6</td><td>64</td><td>7667,90</td><td>77</td></tr>",
                            "<tr><td>08633c14-ef2d-b992-c11f-840f04fad4cd</td><td>97</td><td>7644,30</td><td>2</td></tr>",
                            "<tr><td>4e17c65a-516f-69d0-23a2-ae78b84f28d6</td><td>74</td><td>7639,26</td><td>2</td></tr>",
                            "<tr><td>52f976b1-7ea7-f2f0-87f5-6dcc419328f6</td><td>6</td><td>7630,00</td><td>32</td></tr>",
                            "<tr><td>640e21a7-d01d-f761-4a3b-4923e990d40c</td><td>137</td><td>7598,88</td><td>-47</td></tr>",
                            "<tr><td>4aba391b-c3b8-8717-ce08-eb11e44937b2</td><td>30</td><td>7595,87</td><td>17</td></tr>",
                            "<tr><td>6a51fc55-6dab-5f76-6ced-6fbc860bc613</td><td>33</td><td>7577,67</td><td>3</td></tr>",
                            "<tr><td>8a432f4e-5b47-1f8d-a497-d7dc517666e2</td><td>106</td><td>7555,00</td><td>1</td></tr>",
                            "<tr><td>062ce95f-a2ad-4dfa-edfc-79260130565f</td><td>60</td><td>7521,00</td><td>325</td></tr>",
                            "<tr><td>0bae85eb-84b9-fb3b-d773-911e89288d54</td><td>146</td><td>7482,21</td><td>3</td></tr>",
                            "<tr><td>c26a2be5-b53b-7db6-b276-280da212a779</td><td>18</td><td>7482,00</td><td>18</td></tr>",
                            "<tr><td>87e24fc7-0522-59b1-f7f6-07d61c10d8be</td><td>8</td><td>7473,49</td><td>2</td></tr>",
                            "<tr><td>bd0389da-23d8-9b72-6abf-911cccc54596</td><td>90</td><td>7472,16</td><td>4</td></tr>",
                            "<tr><td>a420f60f-f1aa-9acc-80d0-e42959f2b313</td><td>69</td><td>7443,30</td><td>13</td></tr>",
                            "<tr><td>8648b1e8-9e9b-349e-32d3-741b30ec737e</td><td>103</td><td>7442,55</td><td>3</td></tr>",
                            "<tr><td>512d298a-c2a9-6d19-31b6-bd30aa21f61d</td><td>12</td><td>7401,94</td><td>8</td></tr>",
                            "<tr><td>e0a36631-5b1b-726b-6c78-32d664c0f530</td><td>51</td><td>7400,09</td><td>4</td></tr>",
                            "<tr><td>f25e2390-5208-4705-e17a-982bc600ab2a</td><td>8</td><td>7380,00</td><td>14</td></tr>",
                            "<tr><td>381c83fd-ca33-2ea6-afd8-96da20bf6e4a</td><td>46</td><td>7355,80</td><td>15</td></tr>",
                            "<tr><td>b3476778-12ea-483b-0f52-8eaf8cbc09b7</td><td>21</td><td>7288,99</td><td>58</td></tr>",
                            "<tr><td>febab027-5244-b9a4-9a62-3f0bd613ca2f</td><td>129</td><td>7272,42</td><td>2</td></tr>",
                            "<tr><td>aced59e9-b31e-f866-a94f-9e7f29d8d418</td><td>67</td><td>7268,50</td><td>1</td></tr>",
                            "<tr><td>e333046c-e651-7bd8-bb51-0291d44f0130</td><td>74</td><td>7268,00</td><td>0</td></tr>",
                            "<tr><td>0873d9f8-f361-23f8-d910-f4760e788cfb</td><td>6</td><td>7265,59</td><td>8</td></tr>",
                            "<tr><td>cee48807-215b-30a1-2ca2-ca10ffb5f250</td><td>40</td><td>7212,23</td><td>4</td></tr>",
                            "<tr><td>d624126b-9206-f595-fb3f-bb6ba03b28a8</td><td>28</td><td>7198,80</td><td>8</td></tr>",
                            "<tr><td>ade45994-b717-ccee-3334-92330fbf037b</td><td>10</td><td>7196,00</td><td>7</td></tr>",
                            "<tr><td>dbb9b48c-841a-0e39-e21f-98e1a6b2ec3e</td><td>118</td><td>7186,85</td><td>56</td></tr>",
                            "<tr><td>d13e50ea-a47b-4cbe-9eb8-1465865d8cfc</td><td>69</td><td>7155,05</td><td>1</td></tr>",
                            "<tr><td>a4b6b9b9-92b4-6e9e-f863-637af96e04bc</td><td>14</td><td>7147,00</td><td>415</td></tr>",
                            "<tr><td>cc63f0dd-2acb-a93f-fed4-fe9f8e0321fa</td><td>63</td><td>7096,71</td><td>1</td></tr>",
                            "<tr><td>7722b1df-1b0e-383e-0003-97b2c11e3e19</td><td>145</td><td>7094,09</td><td>1</td></tr>",
                            "<tr><td>014c0679-dd34-0a0e-3388-72e7ec85666a</td><td>15</td><td>7058,00</td><td>49</td></tr>",
                            "<tr><td>f1fd5ab1-181f-827f-fad9-98c1a5de7d74</td><td>15</td><td>7045,99</td><td>11</td></tr>",
                            "<tr><td>dd55f1bb-7887-14a4-0e79-54c3be6df745</td><td>37</td><td>7041,76</td><td>35</td></tr>",
                            "<tr><td>679769a9-8cfc-c6da-877c-8486ff1c13f3</td><td>21</td><td>7029,00</td><td>1</td></tr>",
                            "<tr><td>ff4ea69c-2a72-9e83-e63c-7579e4ef8170</td><td>9</td><td>7017,00</td><td>456</td></tr>",
                            "<tr><td>6fa9202c-1049-1e47-2dff-d59a3e82b2a3</td><td>3</td><td>7014,24</td><td>7</td></tr>",
                            "<tr><td>b8630e11-2143-7d41-cb08-e3c749c2c2e2</td><td>12</td><td>6988,00</td><td>18</td></tr>",
                            "<tr><td>d98eec89-afa3-380e-1446-3da2aabaea72</td><td>183</td><td>6968,53</td><td>3</td></tr>",
                            "<tr><td>bacb1f0e-d56a-d241-98f5-810d2b3fe9a5</td><td>42</td><td>6940,45</td><td>207</td></tr>",
                            "<tr><td>1da366ca-de6d-8276-e7d8-beea7af5d4bf</td><td>49</td><td>6917,59</td><td>234</td></tr>",
                            "<tr><td>30829ded-4523-ab92-24b9-3bc49a62c95f</td><td>31</td><td>6911,71</td><td>3</td></tr>",
                            "<tr><td>d9bd9481-1c33-38dc-eb41-81f3dbc0c73e</td><td>61</td><td>6911,02</td><td>3</td></tr>",
                            "<tr><td>ad781527-c93d-00d8-9a11-eecd9dcad7c1</td><td>44</td><td>6899,57</td><td>88</td></tr>",
                            "<tr><td>e3b4998c-7a49-8169-dc7b-ce44e6bb6277</td><td>3</td><td>6897,90</td><td>546</td></tr>",
                            "<tr><td>1127b7f2-5946-83f2-510f-1c2c834a486b</td><td>132</td><td>6851,33</td><td>4</td></tr>",
                            "<tr><td>b3b17aab-11f2-7302-3a5f-22ca52e1eb70</td><td>13</td><td>6850,00</td><td>74</td></tr>",
                            "<tr><td>58f1a619-7ed8-6354-3e01-36bdedb3fce2</td><td>45</td><td>6833,00</td><td>3</td></tr>",
                            "<tr><td>8e6cc767-478e-dae9-41d9-bd9eb778d77a</td><td>114</td><td>6830,58</td><td>59</td></tr>",
                            "<tr><td>5b678826-48fe-bfb6-e122-5e6ad7164f6b</td><td>30</td><td>6813,48</td><td>11</td></tr>",
                            "<tr><td>ececbfcf-f980-4a2d-6b40-f589df8eef2b</td><td>104</td><td>6792,40</td><td>1</td></tr>",
                            "<tr><td>33dd941c-2785-4f76-25b9-68cc6195a552</td><td>5</td><td>6787,50</td><td>15</td></tr>",
                            "<tr><td>40d54b51-e962-dbe0-9cab-bcfd33298dee</td><td>31</td><td>6785,56</td><td>3</td></tr>",
                            "<tr><td>63b464db-f392-c7b8-0d12-d932fa7cafed</td><td>39</td><td>6781,00</td><td>210</td></tr>",
                            "<tr><td>a63bfbaa-882c-8f45-4289-1b4e2246cc7f</td><td>7</td><td>6772,00</td><td>2</td></tr>",
                            "<tr><td>ff1fb4c4-04b2-efe6-8b03-350a8dc24122</td><td>49</td><td>6771,00</td><td>7</td></tr>",
                            "<tr><td>aac29b1b-9977-6be7-3c30-49939652091d</td><td>138</td><td>6755,91</td><td>17</td></tr>",
                            "<tr><td>54219883-e72a-ad86-9adf-b2a54b7bfa0f</td><td>5</td><td>6750,00</td><td>42</td></tr>",
                            "<tr><td>3340ef19-13fb-70d2-8420-f6ceb685c339</td><td>42</td><td>6731,15</td><td>256</td></tr>",
                            "<tr><td>455c5640-e8c5-bd1b-2ee8-5c0158f85727</td><td>8</td><td>6729,50</td><td>87</td></tr>",
                            "<tr><td>80ceebb4-ee9b-31af-b6c6-a916a574a1e2</td><td>1</td><td>6729,00</td><td>16</td></tr>",
                            "<tr><td>abe021b0-1ba9-9224-5271-b9aa422032df</td><td>2</td><td>6720,00</td><td>448</td></tr>",
                            "<tr><td>31ae0774-c17f-abd0-6ff7-07cc5bde005f</td><td>11</td><td>6719,85</td><td>3</td></tr>",
                            "<tr><td>e5e33c0d-8e7e-002f-398f-5dc4cbbb338f</td><td>29</td><td>6698,70</td><td>15</td></tr>",
                            "<tr><td>83e197e9-5a1b-babc-8c75-e883ed016c47</td><td>55</td><td>6693,69</td><td>182</td></tr>",
                            "<tr><td>fa1a9dec-3a99-40c0-7268-4a46728bf1fc</td><td>60</td><td>6674,00</td><td>4</td></tr>",
                            "<tr><td>33c51922-b6e3-c16b-24a8-f28e5833c99d</td><td>20</td><td>6657,87</td><td>18</td></tr>",
                            "<tr><td>b4ffb71f-0cb1-b1c3-d63f-ad021ecf93e1</td><td>165</td><td>6656,09</td><td>3</td></tr>",
                            "<tr><td>751bdc4d-83a4-66c7-206c-d42e8f426b03</td><td>71</td><td>6648,93</td><td>22</td></tr>",
                            "<tr><td>516e7738-bd8f-735a-c19a-010ee5450d8d</td><td>84</td><td>6643,09</td><td>1</td></tr>",
                            "<tr><td>5670f4db-5b62-c43d-542e-1b2d56b0cf7c</td><td>22</td><td>6630,09</td><td>7</td></tr>",
                            "<tr><td>5d0363b3-3554-b373-851f-c1622e4d5f3c</td><td>95</td><td>6610,79</td><td>2</td></tr>",
                            "<tr><td>609e1a9a-6c25-3991-9b82-05cf7c4e6ff0</td><td>130</td><td>6595,23</td><td>2</td></tr>",
                            "<tr><td>92eb0f42-c219-42b6-5523-62b9b114707d</td><td>365</td><td>6548,63</td><td>1</td></tr>",
                            "<tr><td>11305281-b50f-ff20-ae8b-b473f8e11876</td><td>40</td><td>6528,70</td><td>2</td></tr>",
                            "<tr><td>282f23a9-769b-2690-c5dd-a22e316f9941</td><td>110</td><td>6505,08</td><td>1</td></tr>",
                            "<tr><td>ee27a8f1-5b1d-ded4-d213-a468ba4eb391</td><td>1</td><td>6499,00</td><td>452</td></tr>",
                            "<tr><td>4c03b9dd-4c11-ee2c-b35c-96c49efc9420</td><td>48</td><td>6458,60</td><td>316</td></tr>",
                            "<tr><td>34056b8b-55c1-775a-22af-2331670a799c</td><td>78</td><td>6455,40</td><td>2</td></tr>",
                            "<tr><td>6f892e20-a171-e98e-fe17-fdb971ff319b</td><td>53</td><td>6438,70</td><td>255</td></tr>",
                            "<tr><td>8a32e327-fe2c-1b35-1160-9d81aaf9f042</td><td>180</td><td>6429,01</td><td>182</td></tr>",
                            "<tr><td>7dc8c42c-c750-eeaf-ea6c-85712ffee9bf</td><td>50</td><td>6409,68</td><td>1</td></tr>",
                            "<tr><td>376a8917-62bb-decb-c02b-4b6adec3fdda</td><td>58</td><td>6406,23</td><td>109</td></tr>",
                            "<tr><td>dbdd0ec7-3a48-1797-1d96-2698f2fea022</td><td>16</td><td>6384,00</td><td>2</td></tr>",
                            "<tr><td>4b5f66b7-adcf-57f1-ecc0-d3c07dd6b177</td><td>38</td><td>6381,78</td><td>25</td></tr>",
                            "<tr><td>02f623a8-eb24-6f3c-5f7c-2f96462654e6</td><td>44</td><td>6378,00</td><td>-8</td></tr>",
                            "<tr><td>57e63271-1dec-9ec1-4ca7-546769483e7e</td><td>65</td><td>6350,06</td><td>18</td></tr>",
                            "<tr><td>670c26e0-f1bf-8d05-7627-1d5cfaec6d2b</td><td>87</td><td>6341,60</td><td>17</td></tr>",
                            "<tr><td>f4c4daa8-6e30-c7e5-a553-a8d518ac03a5</td><td>20</td><td>6301,91</td><td>280</td></tr>",
                            "<tr><td>dee656f0-f566-ed1a-a85b-d137c943f08f</td><td>95</td><td>6271,98</td><td>3</td></tr>",
                            "<tr><td>bd4889b5-e913-3b35-b66e-42a8665cea5c</td><td>42</td><td>6271,90</td><td>35</td></tr>",
                            "<tr><td>6b243f80-ed07-b10f-0e8a-a0f21a205f3c</td><td>89</td><td>6260,10</td><td>1</td></tr>",
                            "<tr><td>2fdde51a-d3e1-2f29-7da6-56d4fbd5d0b5</td><td>10</td><td>6252,00</td><td>305</td></tr>",
                            "<tr><td>ea67327e-2448-7bdf-ac5f-bfa37ea124df</td><td>34</td><td>6250,18</td><td>-11</td></tr>",
                            "<tr><td>2528744c-5ef5-d955-adc3-18720a94d2e7</td><td>5</td><td>6245,00</td><td>52</td></tr>",
                            "<tr><td>f12ff17a-d8bb-f01e-c5c3-3b17e506649b</td><td>29</td><td>6241,00</td><td>81</td></tr>",
                            "<tr><td>eb3071b9-f0b0-ddaa-2df5-ea130f09f26b</td><td>11</td><td>6230,00</td><td>99</td></tr>",
                            "<tr><td>b19f3ca2-ea47-5913-750f-25a5c37c8d8f</td><td>24</td><td>6202,91</td><td>10</td></tr>",
                            "<tr><td>cfa5ab0e-4d3f-c212-fd0b-3410e7081c62</td><td>21</td><td>6180,80</td><td>3</td></tr>",
                            "<tr><td>9baf5cb7-7970-f539-089d-09a38bcec5c3</td><td>33</td><td>6129,67</td><td>10</td></tr>",
                            "<tr><td>dfc5fb72-59bb-2b59-9ca5-65e6e9448f0f</td><td>34</td><td>6124,63</td><td>8</td></tr>",
                            "<tr><td>ba143b05-f011-0f0d-c71a-d71b4466ce92</td><td>86</td><td>6110,58</td><td>2</td></tr>",
                            "<tr><td>2c9e548b-e185-21d1-c43c-de1c582c6de8</td><td>174</td><td>6109,44</td><td>2</td></tr>",
                            "<tr><td>d6b664fa-0667-064c-6d76-394e7848d790</td><td>6</td><td>6080,00</td><td>100</td></tr>",
                            "<tr><td>6a8b085f-816a-1f75-f92d-bac6eb545f8f</td><td>135</td><td>6018,97</td><td>2</td></tr>",
                            "<tr><td>bba74270-a877-3272-7b5a-3b4fd9ac1c39</td><td>41</td><td>6001,59</td><td>70</td></tr>",
                            "<tr><td>37515688-008a-7a40-ac93-e3b2e4ab203f</td><td>240</td><td>5986,60</td><td>16</td></tr>",
                            "<tr><td>688756f7-17c4-62a2-06ad-854c5027a64a</td><td>101</td><td>5966,54</td><td>1</td></tr>",
                            "<tr><td>f84a00e6-0c73-a49e-7e85-1c9bdca3a5bb</td><td>99</td><td>5949,94</td><td>28</td></tr>",
                            "<tr><td>91f848e9-f4be-368f-4318-775aac733370</td><td>73</td><td>5932,60</td><td>386</td></tr>",
                            "<tr><td>b14db04a-a788-1970-e83f-fa9426897925</td><td>111</td><td>5898,60</td><td>1</td></tr>",
                            "<tr><td>0691148a-ee60-ca47-977c-187804f935ae</td><td>53</td><td>5868,51</td><td>1</td></tr>",
                            "<tr><td>f4649062-4488-d3ff-7ce7-8613913a7711</td><td>91</td><td>5802,85</td><td>-10</td></tr>",
                            "<tr><td>02d35243-ea2e-4973-35cd-0f076b45675d</td><td>16</td><td>5794,00</td><td>14</td></tr>",
                            "<tr><td>e8b42252-84fb-b02d-16f2-00513f1f395d</td><td>31</td><td>5788,52</td><td>8</td></tr>",
                            "<tr><td>0bf0150d-5b9d-60d9-cd29-06003332f085</td><td>62</td><td>5774,60</td><td>36</td></tr>",
                            "<tr><td>05d2173d-43ea-568a-a054-0eba70d2ca76</td><td>66</td><td>5759,66</td><td>9</td></tr>",
                            "<tr><td>3ade81da-b5a1-72b8-8e18-71c28ae05260</td><td>32</td><td>5751,60</td><td>1</td></tr>",
                            "<tr><td>b4a476fb-d28d-e64b-1e34-7abf9089366a</td><td>38</td><td>5724,04</td><td>58</td></tr>",
                            "<tr><td>080102cd-0a76-b09e-0dcf-55fcacc60e05</td><td>130</td><td>5716,78</td><td>1</td></tr>",
                            "<tr><td>96163520-88dc-f83a-7c06-637f4ebf1c80</td><td>98</td><td>5703,00</td><td>1</td></tr>",
                            "<tr><td>94e93ce8-77be-27a5-1511-8dbfd2c2be41</td><td>35</td><td>5674,57</td><td>347</td></tr>",
                            "<tr><td>e2aee089-2199-b1d9-2530-e371abd825bf</td><td>41</td><td>5662,57</td><td>16</td></tr>",
                            "<tr><td>52ac6f92-0b72-80e4-c6d3-0dd94de6259b</td><td>7</td><td>5657,30</td><td>87</td></tr>",
                            "<tr><td>8c16d1f3-2a54-d928-97cc-437244442e1b</td><td>118</td><td>5642,60</td><td>2</td></tr>",
                            "<tr><td>67bf6941-ba2f-1fa1-d02c-375766bc3e53</td><td>22</td><td>5610,00</td><td>1</td></tr>",
                            "<tr><td>d63c73ef-d41e-b002-280e-7ec831424edb</td><td>2</td><td>5598,00</td><td>86</td></tr>",
                            "<tr><td>45ba18c2-10d4-2734-ec52-c0c1c574e9ee</td><td>41</td><td>5589,13</td><td>3</td></tr>",
                            "<tr><td>817245bc-c3ba-dd82-bbd2-22e0366951a6</td><td>45</td><td>5580,50</td><td>39</td></tr>",
                            "<tr><td>f181738b-150d-f1f3-7cb0-bd72e705b193</td><td>37</td><td>5529,70</td><td>4</td></tr>",
                            "<tr><td>04aa0a1c-5ce6-b222-0034-03a3e11c3cc0</td><td>17</td><td>5518,00</td><td>197</td></tr>",
                            "<tr><td>916c9de0-b5ad-9573-46ee-eb12f332687e</td><td>28</td><td>5480,25</td><td>34</td></tr>",
                            "<tr><td>cc3d1411-6804-f720-9f38-84f6367f1152</td><td>30</td><td>5477,80</td><td>4</td></tr>",
                            "<tr><td>4917cee8-d902-e134-28c3-ec4b1ca6f315</td><td>33</td><td>5421,90</td><td>4</td></tr>",
                            "<tr><td>575df70b-de3f-9f2b-30bf-8d2e9910d725</td><td>34</td><td>5410,05</td><td>2</td></tr>",
                            "<tr><td>3f0e48d2-0901-8b46-6fcd-3bb4ccfeb520</td><td>10</td><td>5399,00</td><td>214</td></tr>",
                            "<tr><td>c4af8633-0efa-7a26-2077-2227d2d670c9</td><td>4</td><td>5396,00</td><td>70</td></tr>",
                            "<tr><td>23c38deb-affe-4a25-a30f-dbd9b586a13f</td><td>46</td><td>5382,18</td><td>10</td></tr>",
                            "<tr><td>3be63455-3519-fb65-36a0-3e1358e9fdc7</td><td>99</td><td>5370,95</td><td>2</td></tr>",
                            "<tr><td>b6d44737-c043-3287-08f6-749c2dbe50bd</td><td>80</td><td>5369,60</td><td>18</td></tr>",
                            "<tr><td>83deb69e-889c-f80f-82be-1dc6d5f2d486</td><td>42</td><td>5363,01</td><td>1</td></tr>",
                            "<tr><td>2a261b5b-644f-a05f-4f27-00eb93544f2c</td><td>82</td><td>5355,00</td><td>25</td></tr>",
                            "<tr><td>e62b2d6a-c105-70a0-35a3-0bafcf01d263</td><td>71</td><td>5340,39</td><td>8</td></tr>",
                            "<tr><td>0cbcee27-c791-afa0-cdcb-08587a2013a8</td><td>41</td><td>5324,15</td><td>35</td></tr>",
                            "<tr><td>c35affa6-5afd-2501-5128-5c5917fc1c8a</td><td>9</td><td>5279,91</td><td>59</td></tr>",
                            "<tr><td>e06f09ec-0a4a-ca21-0779-cf1cfc63cf19</td><td>31</td><td>5279,49</td><td>234</td></tr>",
                            "<tr><td>02ecc2a1-9303-f05e-59ce-133fd923fff7</td><td>24</td><td>5264,19</td><td>2</td></tr>",
                            "<tr><td>e9c6969d-40e6-a3d2-d0f9-0013165c2b98</td><td>10</td><td>5239,98</td><td>84</td></tr>",
                            "<tr><td>5bffbafb-b22d-af6d-3bfc-216a46db8708</td><td>23</td><td>5239,70</td><td>422</td></tr>",
                            "<tr><td>4d0041cd-be51-b461-7d95-c70b19decc74</td><td>8</td><td>5235,20</td><td>27</td></tr>",
                            "<tr><td>099095b0-50cf-e8eb-1ddf-f5317587e96e</td><td>20</td><td>5193,83</td><td>8</td></tr>",
                            "<tr><td>b39d7fe2-63ef-4696-05db-b32608aee0af</td><td>49</td><td>5193,10</td><td>1</td></tr>",
                            "<tr><td>f67efa3f-0b67-6110-2a7f-8c6b7b571f5d</td><td>32</td><td>5188,68</td><td>132</td></tr>",
                            "<tr><td>f680f85b-ee2d-2535-56ac-91be391d2c82</td><td>54</td><td>5183,92</td><td>3</td></tr>",
                            "<tr><td>5b179e9e-8cc7-ab6f-d113-a46ca584da81</td><td>36</td><td>5173,50</td><td>339</td></tr>",
                            "<tr><td>822bad9b-c42b-5121-3ba5-22fe87b7ab5d</td><td>18</td><td>5160,00</td><td>66</td></tr>",
                            "<tr><td>709e16e2-b25c-7474-d980-076c6bfc4806</td><td>80</td><td>5151,90</td><td>1</td></tr>",
                            "<tr><td>d566c37f-a119-d5e6-6c4e-9052e83ee4ea</td><td>73</td><td>5145,70</td><td>1</td></tr>",
                            "<tr><td>afe00671-31b7-3e40-875c-9b6c10bd2e21</td><td>46</td><td>5130,40</td><td>55</td></tr>",
                            "<tr><td>835f0f78-10c7-6831-d6c7-d24c7a646d4d</td><td>50</td><td>5130,00</td><td>179</td></tr>",
                            "<tr><td>fad44952-7137-6483-6814-be105382aee5</td><td>32</td><td>5129,00</td><td>10</td></tr>",
                            "<tr><td>f84fa566-034f-5e8e-880a-07ec624c56af</td><td>102</td><td>5093,79</td><td>7</td></tr>",
                            "<tr><td>f7496d65-9ca9-fdaf-323c-0aae84176632</td><td>27</td><td>5087,57</td><td>4</td></tr>",
                            "<tr><td>9674754b-5a0c-b32b-638c-ec001178f799</td><td>97</td><td>5069,92</td><td>1</td></tr>",
                            "<tr><td>e0878efa-0e0b-7e53-13ac-0b43bc04c081</td><td>29</td><td>5065,30</td><td>168</td></tr>",
                            "<tr><td>e067ad2c-1c0b-4875-8eb1-b5228bcf7a68</td><td>61</td><td>5042,55</td><td>3</td></tr>",
                            "<tr><td>3df020b7-2d3d-44b3-af9d-110fa3940b65</td><td>101</td><td>5039,90</td><td>4</td></tr>",
                            "<tr><td>3ab971ce-7183-9580-d2ae-5b4e40fe8044</td><td>38</td><td>5002,90</td><td>4</td></tr>",
                            "<tr><td>1bb2bdb9-5f48-41f1-bba2-c0d2cd83d3c9</td><td>85</td><td>5002,71</td><td>9</td></tr>",
                            "<tr><td>4bf2f4ee-5407-98a6-1f96-36d12cd9cc80</td><td>30</td><td>4995,56</td><td>14</td></tr>",
                            "<tr><td>45213867-cefb-f2cd-4c61-77e10216a951</td><td>14</td><td>4955,42</td><td>318</td></tr>",
                            "<tr><td>dbd66278-cbfe-1aa1-000f-90a217ca4695</td><td>99</td><td>4928,90</td><td>3</td></tr>",
                            "<tr><td>e9d99831-abad-7445-8942-f21e16f33f92</td><td>149</td><td>4922,48</td><td>2</td></tr>",
                            "<tr><td>9df57502-09b8-3567-ec14-4eb299d7d634</td><td>11</td><td>4917,00</td><td>29</td></tr>",
                            "<tr><td>503c1de0-8ae8-1a2d-86f1-7951b204db55</td><td>22</td><td>4906,99</td><td>30</td></tr>",
                            "<tr><td>822b6391-2576-852a-ea9a-8436d72317b7</td><td>9</td><td>4905,69</td><td>569</td></tr>",
                            "<tr><td>d66c305a-faec-317e-bee5-52073a674429</td><td>47</td><td>4886,46</td><td>449</td></tr>",
                            "<tr><td>abcd2cb3-7d46-c2c8-fb1b-f071c859fc5b</td><td>52</td><td>4880,22</td><td>10</td></tr>",
                            "<tr><td>f789d2c4-f2c2-eb38-fc43-73e7a4b35264</td><td>49</td><td>4864,24</td><td>3</td></tr>",
                            "<tr><td>0d85bbda-9889-ce1f-7e63-778d24f346eb</td><td>58</td><td>4845,20</td><td>130</td></tr>",
                            "<tr><td>45d33f71-5e24-d15a-6ccf-5c17b3a23e3c</td><td>61</td><td>4838,23</td><td>7</td></tr>",
                            "<tr><td>1336efc6-1c31-6ddf-92c8-99eb817f7cae</td><td>85</td><td>4837,31</td><td>8</td></tr>",
                            "<tr><td>9add47bf-45ce-8e8c-7db6-b9cf670b1e09</td><td>45</td><td>4829,24</td><td>8</td></tr>",
                            "<tr><td>4c498c73-45e8-9aeb-ad65-1544829beca0</td><td>48</td><td>4819,76</td><td>11</td></tr>",
                            "<tr><td>ce69a802-1d18-961d-d2a4-0269b7c2c293</td><td>19</td><td>4818,00</td><td>6</td></tr>",
                            "<tr><td>8f580d36-c1e9-d6fb-ce95-283403c7d447</td><td>8</td><td>4813,25</td><td>8</td></tr>",
                            "<tr><td>c12b92bf-1c35-0f3e-6bf8-8d3596219c86</td><td>17</td><td>4808,78</td><td>8</td></tr>",
                            "<tr><td>f6122bc8-4774-df1b-372b-db3bb88ddb9f</td><td>3</td><td>4799,87</td><td>158</td></tr>",
                            "<tr><td>2a7dc43c-ecab-f234-0307-8e2188437d1d</td><td>54</td><td>4795,91</td><td>81</td></tr>",
                            "<tr><td>fcdd8200-84f1-7e99-8242-7971e4e9d47f</td><td>27</td><td>4783,99</td><td>4</td></tr>",
                            "<tr><td>dfa0c4c6-229a-b200-a4a1-336b4d7128ff</td><td>86</td><td>4777,10</td><td>2</td></tr>",
                            "<tr><td>7e3f87d1-6fb3-53f4-08d4-67e74fbd8014</td><td>94</td><td>4754,99</td><td>2</td></tr>",
                            "<tr><td>b2479f94-4e1b-90cf-8a5d-e1bbfde284d6</td><td>131</td><td>4752,51</td><td>2</td></tr>",
                            "<tr><td>acce39e8-3233-8deb-b07b-02385cde5967</td><td>44</td><td>4748,10</td><td>1</td></tr>",
                            "<tr><td>0176f73c-c119-5f36-7f7b-32db1e5b3aa8</td><td>39</td><td>4733,10</td><td>8</td></tr>",
                            "<tr><td>30a2f535-bb48-308f-991d-0b9ad4a8c4bb</td><td>87</td><td>4731,30</td><td>31</td></tr>",
                            "<tr><td>0307f756-5ff8-5b29-9b6e-5ef162b1b1a9</td><td>7</td><td>4728,80</td><td>448</td></tr>",
                            "<tr><td>06579cb2-53ec-d5a3-a12a-9e6eb6bf8f47</td><td>72</td><td>4727,20</td><td>15</td></tr>",
                            "<tr><td>ad420dd0-c4f9-2f8a-f951-ac24b86d0cf5</td><td>46</td><td>4705,29</td><td>1</td></tr>",
                            "<tr><td>582d4f86-75b9-4572-2eda-7c0cb61ba4c7</td><td>71</td><td>4702,96</td><td>21</td></tr>",
                            "<tr><td>c004e5ea-1573-7026-ceca-ee0447e00b75</td><td>2</td><td>4700,00</td><td>-12</td></tr>",
                            "<tr><td>c9a06ece-156b-b057-372c-68718ec8909b</td><td>14</td><td>4688,90</td><td>564</td></tr>",
                            "<tr><td>537eb890-efff-034a-8867-9788b647c564</td><td>173</td><td>4679,70</td><td>1</td></tr>",
                            "<tr><td>968268a6-86aa-05d1-f529-fb07dff08130</td><td>12</td><td>4677,29</td><td>14</td></tr>",
                            "<tr><td>8931a84a-914b-3fe9-b1dd-aa4d704947ca</td><td>32</td><td>4668,30</td><td>32</td></tr>",
                            "<tr><td>1a932caa-d4f9-d804-097d-7f8e615baed1</td><td>30</td><td>4661,00</td><td>7</td></tr>",
                            "<tr><td>ef990a83-bbea-832f-36eb-e81376335aa8</td><td>44</td><td>4642,59</td><td>-5</td></tr>",
                            "<tr><td>a3dd39f5-83bc-80bd-8c59-01c95878921e</td><td>37</td><td>4607,81</td><td>128</td></tr>",
                            "<tr><td>31da954d-c085-5f24-95c6-310f70a2f931</td><td>30</td><td>4583,00</td><td>7</td></tr>",
                            "<tr><td>2addf05f-476d-0637-8644-54e93ba673d5</td><td>12</td><td>4552,00</td><td>155</td></tr>",
                            "<tr><td>c68fb906-c8f4-b4b9-46d8-386bfa6e5467</td><td>48</td><td>4541,16</td><td>28</td></tr>",
                            "<tr><td>834f8533-b2ec-b659-8dd0-04ff3de7203a</td><td>47</td><td>4538,29</td><td>7</td></tr>",
                            "<tr><td>1fe5540d-7c1c-37a5-95fe-fbacd5570d9e</td><td>25</td><td>4537,60</td><td>2</td></tr>",
                            "<tr><td>37dd29b3-6c45-8d82-f74a-953c40c43645</td><td>8</td><td>4536,99</td><td>86</td></tr>",
                            "<tr><td>13fa2a6c-6b9d-0f43-cb58-8d7c82117a12</td><td>10</td><td>4528,00</td><td>303</td></tr>",
                            "<tr><td>c840d3fd-bba0-7904-04fd-ae73d253b253</td><td>14</td><td>4522,28</td><td>49</td></tr>",
                            "<tr><td>180c3376-aff0-e43d-d578-8709df48a843</td><td>10</td><td>4513,00</td><td>205</td></tr>",
                            "<tr><td>6288c69c-4ce6-38e5-9925-e59193f98b16</td><td>22</td><td>4506,28</td><td>18</td></tr>",
                            "<tr><td>b5619278-0764-5834-b59e-f0d16ba55a24</td><td>95</td><td>4501,99</td><td>-21</td></tr>",
                            "<tr><td>fc906263-ca50-83d0-9dce-42fe02247800</td><td>119</td><td>4497,70</td><td>239</td></tr>",
                            "<tr><td>55d3daac-7c40-4d59-e51c-2aa2f4dc5a23</td><td>28</td><td>4480,60</td><td>9</td></tr>",
                            "<tr><td>2ff97219-cb86-22ea-f3cd-89b7d9c09824</td><td>96</td><td>4476,90</td><td>1</td></tr>",
                            "<tr><td>e81e1f9c-3e76-2e62-0f3f-b60a51499e16</td><td>18</td><td>4465,99</td><td>104</td></tr>",
                            "<tr><td>4d600e08-ecbe-0825-8c79-e536c5a42fee</td><td>8</td><td>4465,34</td><td>526</td></tr>",
                            "<tr><td>bbad7e51-8d7a-f88a-0897-397ffdca1979</td><td>85</td><td>4462,22</td><td>8</td></tr>",
                            "<tr><td>8bd0f31c-f0a6-14c6-58f6-763bd02dea69</td><td>35</td><td>4455,34</td><td>8</td></tr>",
                            "<tr><td>b90e8916-71cf-fd95-57f3-3a97dc523645</td><td>39</td><td>4449,00</td><td>4</td></tr>",
                            "<tr><td>2e3be8a9-87a3-0d75-44db-bda6861cc14e</td><td>19</td><td>4430,84</td><td>36</td></tr>",
                            "<tr><td>d379f449-f2a3-b271-bc01-c0782020f705</td><td>29</td><td>4423,06</td><td>1</td></tr>",
                            "<tr><td>0ef83d7d-83ed-97cd-2a00-49ac8be5f88a</td><td>55</td><td>4421,01</td><td>1</td></tr>",
                            "<tr><td>f021c962-aaba-8ef6-eb52-7a9c2c8394d1</td><td>5</td><td>4398,50</td><td>380</td></tr>",
                            "<tr><td>beadbee3-0901-a7f6-1d03-1b6b686095ad</td><td>68</td><td>4373,98</td><td>4</td></tr>",
                            "<tr><td>15aac934-c58d-8867-85ac-1b17953ea898</td><td>26</td><td>4353,90</td><td>56</td></tr>",
                            "<tr><td>eed78ac1-7f7f-795a-19a7-09745f00cd4e</td><td>56</td><td>4349,50</td><td>37</td></tr>",
                            "<tr><td>a3f0b55d-e503-3873-83c7-b1de3ad7f678</td><td>26</td><td>4348,40</td><td>88</td></tr>",
                            "<tr><td>c5003674-2499-4318-b9e7-79ff1ae9a330</td><td>9</td><td>4346,40</td><td>255</td></tr>",
                            "<tr><td>65febd49-fd28-ec95-5651-299159b1f527</td><td>40</td><td>4319,70</td><td>4</td></tr>",
                            "<tr><td>23613d49-c3ac-2bd3-0225-9e55c06c050c</td><td>80</td><td>4293,00</td><td>1</td></tr>",
                            "<tr><td>9803a40e-82e4-5418-ab7f-b84091af5231</td><td>18</td><td>4278,75</td><td>2</td></tr>",
                            "<tr><td>282c7480-173b-b9c0-1dd4-1cc739fec010</td><td>8</td><td>4274,20</td><td>346</td></tr>",
                            "<tr><td>cc5a78bb-ad32-776d-c4e3-af205218368c</td><td>38</td><td>4269,18</td><td>3</td></tr>",
                            "<tr><td>1fdc5748-83ef-3b33-ad41-562d93f3a74a</td><td>18</td><td>4251,00</td><td>36</td></tr>",
                            "<tr><td>43f8c995-0d11-ecd0-3a03-04a49e010da6</td><td>41</td><td>4249,59</td><td>88</td></tr>",
                            "<tr><td>9b158575-2613-ec34-2d03-bbab9997ec48</td><td>3</td><td>4248,98</td><td>9</td></tr>",
                            "<tr><td>6ec1a01e-8665-84bb-679e-b9b098345919</td><td>32</td><td>4248,91</td><td>3</td></tr>",
                            "<tr><td>3c03b12b-ab54-d8b3-7d79-d914bfdb1aa0</td><td>43</td><td>4236,34</td><td>2</td></tr>",
                            "<tr><td>98dac663-5aee-4995-d501-a3972e047414</td><td>195</td><td>4235,85</td><td>1</td></tr>",
                            "<tr><td>8b9d6eec-4a7e-b7d0-f9d5-79ce0b38324d</td><td>53</td><td>4232,54</td><td>1</td></tr>",
                            "<tr><td>8a130737-016f-8381-39d3-1878787a39c9</td><td>62</td><td>4222,03</td><td>28</td></tr>",
                            "<tr><td>6b3bd31a-d8fc-da4b-2635-ec9f3ff2ecdf</td><td>43</td><td>4198,90</td><td>9</td></tr>",
                            "<tr><td>8bb48dc1-9fcc-aa86-13b6-229bf7f452a2</td><td>95</td><td>4190,72</td><td>29</td></tr>",
                            "<tr><td>891071be-6ba8-27b5-9126-4c90c2ae8a63</td><td>98</td><td>4177,28</td><td>3</td></tr>",
                            "<tr><td>cac4c8e7-b1ca-6252-d8f2-0b2fc1a2e4af</td><td>83</td><td>4168,18</td><td>-19</td></tr>",
                            "<tr><td>5c030029-b591-6fed-0986-310385ec9009</td><td>10</td><td>4164,40</td><td>4</td></tr>",
                            "<tr><td>bccf933e-006e-9b94-a618-4af782963e77</td><td>46</td><td>4162,74</td><td>4</td></tr>",
                            "<tr><td>f76a3b13-49b6-df1e-e875-d1f3fa4340f0</td><td>24</td><td>4160,79</td><td>8</td></tr>",
                            "<tr><td>cd6efc47-efaa-bf13-4f8b-db654e10b4f1</td><td>32</td><td>4158,55</td><td>11</td></tr>",
                            "<tr><td>6fc26fe1-10fe-ebd8-0a43-3e1f012a84f9</td><td>72</td><td>4150,87</td><td>7</td></tr>",
                            "<tr><td>d20b021d-3efd-f267-a402-c402a48ea64b</td><td>106</td><td>4140,17</td><td>23</td></tr>",
                            "<tr><td>681fce91-4360-217d-b477-84ae28905a96</td><td>24</td><td>4127,33</td><td>23</td></tr>",
                            "<tr><td>42b729f8-5972-8f50-7949-9127a9c2ef37</td><td>132</td><td>4118,86</td><td>2</td></tr>",
                            "<tr><td>e883aa81-2c37-a741-3226-856f4579fe91</td><td>29</td><td>4097,10</td><td>6</td></tr>",
                            "<tr><td>2a167ca7-3899-c850-01a8-37d8fb4962f6</td><td>3</td><td>4097,00</td><td>34</td></tr>",
                            "<tr><td>382229d1-e840-115f-fe3d-bf5ff460e417</td><td>49</td><td>4096,96</td><td>1</td></tr>",
                            "<tr><td>951e8cef-368f-09bb-3f3d-03c00ca4702c</td><td>71</td><td>4092,29</td><td>1</td></tr>",
                            "<tr><td>99002261-c568-a84c-ce14-d43fcffb43ea</td><td>36</td><td>4088,00</td><td>1</td></tr>",
                            "<tr><td>b17b679f-4f5c-e2e0-3ce6-968c62648246</td><td>57</td><td>4084,75</td><td>88</td></tr>",
                            "<tr><td>2199e7fe-213c-1621-3bf5-d6a7eadc9a5d</td><td>31</td><td>4078,29</td><td>8</td></tr>",
                            "<tr><td>ec887996-0bd2-221d-5c32-f8e12f7da711</td><td>36</td><td>4062,40</td><td>123</td></tr>",
                            "<tr><td>d5ba419e-26d2-46a0-7194-37cf37d9b46d</td><td>35</td><td>4061,40</td><td>4</td></tr>",
                            "<tr><td>f35b3c61-3c4f-7b22-75f4-185d0a3c59ec</td><td>9</td><td>4047,25</td><td>81</td></tr>",
                            "<tr><td>a0415d9b-25ed-e3c4-b1e4-77e9916ffc03</td><td>10</td><td>4044,10</td><td>224</td></tr>",
                            "<tr><td>715bbd5b-a4e6-b74c-b0d2-f29eb45058b0</td><td>64</td><td>4043,30</td><td>4</td></tr>",
                            "<tr><td>3c7c4a49-ec3c-6550-8090-89c6a2ca9370</td><td>160</td><td>4033,64</td><td>8</td></tr>",
                            "<tr><td>e70053bf-73d1-b586-3932-e53a9fa47496</td><td>7</td><td>4025,00</td><td>21</td></tr>",
                            "<tr><td>55a5b51f-93f2-b70e-a513-f5a047b0262a</td><td>41</td><td>4002,30</td><td>324</td></tr>",
                            "<tr><td>cb41bfbc-bda0-aea3-54a8-34ab222f9a59</td><td>12</td><td>4002,00</td><td>42</td></tr>",
                            "<tr><td>6b333a05-bf18-8ef3-e1f1-662a86bd9855</td><td>13</td><td>3990,91</td><td>10</td></tr>",
                            "<tr><td>1b938a7e-c6ac-5061-a66a-3766e0e75f90</td><td>33</td><td>3987,60</td><td>7</td></tr>",
                            "<tr><td>bede5609-5ba3-3c42-038f-b85f707b8a42</td><td>2</td><td>3973,90</td><td>251</td></tr>",
                            "<tr><td>50c99756-9500-9e5e-6473-912e83a6d1da</td><td>68</td><td>3964,40</td><td>28</td></tr>",
                            "<tr><td>bf3c6d2a-28b2-b550-1e6c-15448982dcc9</td><td>43</td><td>3956,50</td><td>105</td></tr>",
                            "<tr><td>3f995f07-c49d-0d55-a99d-5c54957f7d81</td><td>43</td><td>3955,70</td><td>9</td></tr>",
                            "<tr><td>81f89e42-2672-13cb-94da-7ddc301651da</td><td>52</td><td>3955,00</td><td>0</td></tr>",
                            "<tr><td>d12c926d-74ce-ff0a-90a2-1184466ce161</td><td>99</td><td>3944,18</td><td>103</td></tr>",
                            "<tr><td>11bfa663-3277-7660-bd06-40ee84d47006</td><td>102</td><td>3925,87</td><td>3</td></tr>",
                            "<tr><td>fde0cc9e-a29c-8ccf-c0a2-c22256a58c71</td><td>35</td><td>3922,00</td><td>8</td></tr>",
                            "<tr><td>232a6014-e7b1-0cba-61c6-c2b2ea6bb4b0</td><td>36</td><td>3919,87</td><td>38</td></tr>",
                            "<tr><td>7f152321-c60a-266e-dc53-af1925ef96c1</td><td>20</td><td>3919,80</td><td>20</td></tr>",
                            "<tr><td>d673a59a-ac7a-70d8-b01e-6902bf090a11</td><td>84</td><td>3908,94</td><td>4</td></tr>",
                            "<tr><td>79ed7553-14cf-e6df-0dae-f2c6cd3022cd</td><td>25</td><td>3907,50</td><td>17</td></tr>",
                            "<tr><td>3361277d-c30b-7ccc-db0c-286b24219756</td><td>42</td><td>3905,05</td><td>6</td></tr>",
                            "<tr><td>f00e21b1-e91a-7965-3163-b7fd8f293ff1</td><td>31</td><td>3900,09</td><td>260</td></tr>",
                            "<tr><td>271c58a1-d139-c45e-af33-16107c6d3a3b</td><td>29</td><td>3897,52</td><td>4</td></tr>",
                            "<tr><td>6a0cbc8a-f2e8-abd1-bdfb-777943d174c6</td><td>35</td><td>3894,05</td><td>50</td></tr>",
                            "<tr><td>14d79857-02e7-2162-bbf1-3b6beb74ab2b</td><td>38</td><td>3887,00</td><td>2</td></tr>",
                            "<tr><td>02f58373-40d7-eb4f-653d-676c7256523a</td><td>30</td><td>3883,05</td><td>17</td></tr>",
                            "<tr><td>80904905-73c6-c0aa-343a-7231ebcb8c86</td><td>26</td><td>3871,12</td><td>1</td></tr>",
                            "<tr><td>42fa4ee7-240e-9b8e-b457-6358ec142ba7</td><td>22</td><td>3845,70</td><td>49</td></tr>",
                            "<tr><td>7d76b645-482b-e4a3-3237-4e8223836592</td><td>187</td><td>3843,93</td><td>8</td></tr>",
                            "<tr><td>8ed8ea9a-57c8-62f2-c18c-2fe41f601d56</td><td>19</td><td>3831,90</td><td>76</td></tr>",
                            "<tr><td>13d058e4-eeac-2ce8-2176-60b2f8a05812</td><td>23</td><td>3829,77</td><td>29</td></tr>",
                            "<tr><td>3f3486b6-1f45-078d-4f31-ee5e43d8c5bb</td><td>40</td><td>3829,73</td><td>2</td></tr>",
                            "<tr><td>6860153b-69cc-696d-5dcf-e1cdaaafcf62</td><td>84</td><td>3827,63</td><td>3</td></tr>",
                            "<tr><td>f0b47fbb-c6de-e9aa-fe41-5a6e33051b3f</td><td>86</td><td>3795,91</td><td>1</td></tr>",
                            "<tr><td>2e13c710-26e1-a39b-a5cc-1b86dcb679aa</td><td>28</td><td>3793,00</td><td>3</td></tr>",
                            "<tr><td>38874e32-7ce9-4d11-390b-96eb42d61928</td><td>6</td><td>3779,94</td><td>290</td></tr>",
                            "<tr><td>5d9dc90a-686a-8fdd-acff-ab6bab5653a3</td><td>12</td><td>3761,94</td><td>10</td></tr>",
                            "<tr><td>edf96ef9-3ed5-9508-4bbc-bd9224bd2894</td><td>28</td><td>3757,00</td><td>10</td></tr>",
                            "<tr><td>2d2c62be-f4c8-ba0d-d74e-0e228e808539</td><td>16</td><td>3749,00</td><td>3</td></tr>",
                            "<tr><td>1d0997ff-06b5-24ce-9289-ffd75114ecd3</td><td>3</td><td>3747,00</td><td>248</td></tr>",
                            "<tr><td>3c4e0452-bff7-a2a7-8817-9488d3d77032</td><td>36</td><td>3746,40</td><td>155</td></tr>",
                            "<tr><td>eb4df17a-ed01-d918-c65f-0f8d650900c0</td><td>11</td><td>3739,87</td><td>8</td></tr>",
                            "<tr><td>602044f2-c161-90c2-c6e4-5eb35c2e21cb</td><td>57</td><td>3739,16</td><td>2</td></tr>",
                            "<tr><td>0509040e-a3fe-5007-1181-bbc359eb7738</td><td>98</td><td>3737,95</td><td>23</td></tr>",
                            "<tr><td>77e4abfd-739a-ed9c-4648-0f90f81c0eb4</td><td>18</td><td>3736,99</td><td>10</td></tr>",
                            "<tr><td>8f119a0a-ee85-c0c8-fc53-4629734e94fd</td><td>83</td><td>3733,68</td><td>11</td></tr>",
                            "<tr><td>66dc1b16-32bd-6a3e-5085-10c5b3492107</td><td>42</td><td>3721,39</td><td>10</td></tr>",
                            "<tr><td>23a0ffca-143a-15b9-b5bb-db7d552f626a</td><td>24</td><td>3718,51</td><td>7</td></tr>",
                            "<tr><td>822166ed-1e47-908f-7cfb-49946d03c726</td><td>108</td><td>3714,83</td><td>29</td></tr>",
                            "<tr><td>ec80e49e-6974-5ab6-c14f-984bf2149423</td><td>12</td><td>3709,00</td><td>7</td></tr>",
                            "<tr><td>99a54764-c341-d5dc-80b4-a8fac4eba3fb</td><td>67</td><td>3708,76</td><td>1</td></tr>",
                            "<tr><td>a44fb5a4-4710-5f84-69bd-f16bf9159f25</td><td>19</td><td>3706,10</td><td>18</td></tr>",
                            "<tr><td>f3da5b2f-f499-efb8-d4a6-d371d175d7dd</td><td>84</td><td>3702,29</td><td>48</td></tr>",
                            "<tr><td>520b493b-5780-9f44-6cb0-a233bb3e25c7</td><td>73</td><td>3698,90</td><td>247</td></tr>",
                            "<tr><td>c0563dd5-88b7-75f2-e377-47ef6ad6c92c</td><td>28</td><td>3697,20</td><td>1</td></tr>",
                            "<tr><td>4559697a-8f7e-6372-27c2-eeaed843baff</td><td>42</td><td>3696,00</td><td>59</td></tr>",
                            "<tr><td>38e679b9-e006-4cd9-4c6f-035707344dae</td><td>30</td><td>3694,51</td><td>207</td></tr>",
                            "<tr><td>5f5b43b2-bffa-8656-e4bc-6efeb13cc649</td><td>29</td><td>3677,20</td><td>57</td></tr>",
                            "<tr><td>b1fecf4d-a1fa-2689-bccf-fa0121953643</td><td>20</td><td>3669,64</td><td>452</td></tr>",
                            "<tr><td>2745f798-279e-0ed0-33ad-dcc1474776d7</td><td>32</td><td>3668,53</td><td>87</td></tr>",
                            "<tr><td>c731d18c-ea9b-f687-ffee-82a241c25b11</td><td>26</td><td>3662,00</td><td>1</td></tr>",
                            "<tr><td>df560393-f3a5-1e74-553a-b94004ba5c87</td><td>29</td><td>3661,18</td><td>151</td></tr>",
                            "<tr><td>33ac3e28-642a-b8bd-a860-a2f693000e78</td><td>35</td><td>3661,03</td><td>37</td></tr>",
                            "<tr><td>8b2492b7-ff44-6883-9593-fafeed55bad9</td><td>45</td><td>3660,08</td><td>28</td></tr>",
                            "<tr><td>56642bcb-7990-0e77-7d68-e91915cb4267</td><td>56</td><td>3657,64</td><td>32</td></tr>",
                            "<tr><td>7f2617c5-8d5d-0680-6987-308b45654351</td><td>23</td><td>3656,80</td><td>64</td></tr>",
                            "<tr><td>5d3bb114-74a0-6bdc-23fb-9e89f1164ee0</td><td>32</td><td>3654,60</td><td>14</td></tr>",
                            "<tr><td>e49c26c3-edfa-46d2-27d5-121a6b6e4d37</td><td>36</td><td>3654,25</td><td>31</td></tr>",
                            "<tr><td>f97e2b06-50c2-0682-27e1-d366140eb62f</td><td>21</td><td>3654,00</td><td>4</td></tr>",
                            "<tr><td>6bb0724e-df0b-62fb-91ac-404873a97241</td><td>18</td><td>3653,00</td><td>120</td></tr>",
                            "<tr><td>40682277-7a0b-9eb5-c50e-442dd4cd3ec5</td><td>47</td><td>3648,08</td><td>3</td></tr>",
                            "<tr><td>ed4311e6-7deb-d72b-8610-a5347a743087</td><td>26</td><td>3636,00</td><td>1</td></tr>",
                            "<tr><td>1eade46f-ba20-122d-c4ae-fb379f8c636b</td><td>75</td><td>3635,37</td><td>31</td></tr>",
                            "<tr><td>96804ea3-9d96-eb90-8e7c-3afdb671bb9e</td><td>40</td><td>3610,70</td><td>116</td></tr>",
                            "<tr><td>21e83881-401b-92b4-9fb0-9a16d3852291</td><td>15</td><td>3588,05</td><td>205</td></tr>",
                            "<tr><td>3364a91e-c4d5-6c98-e441-74de954b94f6</td><td>6</td><td>3579,94</td><td>352</td></tr>",
                            "<tr><td>3c010235-b734-5c92-f125-d14ee232a76b</td><td>15</td><td>3578,00</td><td>3</td></tr>",
                            "<tr><td>3d8fa2f5-b647-373c-8620-330c4e077a9f</td><td>48</td><td>3571,73</td><td>8</td></tr>",
                            "<tr><td>f2336e11-3377-dd21-c744-d9c4fc8293a9</td><td>4</td><td>3563,00</td><td>326</td></tr>",
                            "<tr><td>218f9917-54f3-60af-9c2d-aa5e0b8e990c</td><td>17</td><td>3554,32</td><td>2</td></tr>",
                            "<tr><td>585175ec-331e-a177-fa47-199e39a6170a</td><td>1</td><td>3549,00</td><td>548</td></tr>",
                            "<tr><td>71039d19-d430-3bf9-054d-69e9a9236699</td><td>38</td><td>3537,20</td><td>18</td></tr>",
                            "<tr><td>276677b5-d087-86d5-dce7-c2149dcce48b</td><td>47</td><td>3522,00</td><td>14</td></tr>",
                            "<tr><td>6750d711-53f0-0fc5-8829-af2a8ef1bcf1</td><td>6</td><td>3514,00</td><td>374</td></tr>",
                            "<tr><td>e7d5b006-eb62-4f13-0744-97221eb37807</td><td>63</td><td>3478,93</td><td>35</td></tr>",
                            "<tr><td>244b0468-0fdb-ded0-acf5-aebd9c92b44a</td><td>3</td><td>3477,70</td><td>212</td></tr>",
                            "<tr><td>8ff38bc3-969e-67c3-6c48-343a07090f66</td><td>8</td><td>3472,00</td><td>324</td></tr>",
                            "<tr><td>ed46f1eb-4a63-8113-deb2-a1137b5f22e9</td><td>4</td><td>3470,00</td><td>1</td></tr>",
                            "<tr><td>bce6a5ec-f98e-99fd-2a88-68b15c51f04b</td><td>15</td><td>3464,90</td><td>-1</td></tr>",
                            "<tr><td>f0837c8d-7143-4931-d9e3-8e7b79234797</td><td>23</td><td>3446,90</td><td>10</td></tr>",
                            "<tr><td>994f04b3-718c-2bab-35c2-adfa8afecd2a</td><td>57</td><td>3445,70</td><td>29</td></tr>",
                            "<tr><td>1b8356da-bde1-d35e-17ce-f975c3f82730</td><td>61</td><td>3426,39</td><td>283</td></tr>",
                            "<tr><td>c394e193-cda3-b422-5ff2-094d32184849</td><td>12</td><td>3419,88</td><td>101</td></tr>",
                            "<tr><td>4677a543-7afd-a5fa-7140-b927b07be1cc</td><td>11</td><td>3415,70</td><td>7</td></tr>",
                            "<tr><td>f4db9b37-944b-cb88-73e6-b456ee190bbf</td><td>22</td><td>3409,78</td><td>10</td></tr>",
                            "<tr><td>827f8f69-dfa5-29c5-6190-1c4f2e0f332f</td><td>104</td><td>3408,39</td><td>140</td></tr>",
                            "<tr><td>070d1653-98b5-53f3-b4b8-51c216b8a358</td><td>39</td><td>3393,16</td><td>1</td></tr>",
                            "<tr><td>cfd7ddab-722b-902f-7ac5-b5f3ba6d723d</td><td>13</td><td>3385,03</td><td>14</td></tr>",
                            "<tr><td>960945e1-a953-5cbc-0cd6-ddd35fbe7ae8</td><td>29</td><td>3381,73</td><td>3</td></tr>",
                            "<tr><td>2d50d628-2f8a-a225-7819-a77bfaa0efe0</td><td>45</td><td>3353,48</td><td>2</td></tr>",
                            "<tr><td>db4350fd-57ae-3008-2dec-7acbaacc17f9</td><td>146</td><td>3331,31</td><td>7</td></tr>",
                            "<tr><td>6481e965-7481-6ead-5797-5da2c0f6d80d</td><td>43</td><td>3324,90</td><td>30</td></tr>",
                            "<tr><td>6b90f847-357d-8981-edd7-9a1eb1bf0acb</td><td>47</td><td>3322,08</td><td>0</td></tr>",
                            "<tr><td>8c3b533c-63cc-a562-40f9-4f1e3a6b18ef</td><td>8</td><td>3312,16</td><td>407</td></tr>",
                            "<tr><td>a2b5b610-5ea5-9423-0063-1d2e76f4ffe0</td><td>16</td><td>3286,69</td><td>3</td></tr>",
                            "<tr><td>54c04bdb-5ec4-6762-f8f0-8c7e8f86ed4a</td><td>19</td><td>3281,66</td><td>-10</td></tr>",
                            "<tr><td>5b51032e-ddd2-42ad-c84c-38acab88f23d</td><td>14</td><td>3280,00</td><td>69</td></tr>",
                            "<tr><td>643214e6-2b87-0443-ccbe-55ab29a4dccf</td><td>68</td><td>3270,13</td><td>3</td></tr>",
                            "<tr><td>52562a9f-449c-3dc3-d53f-5f5b9ed74903</td><td>14</td><td>3266,60</td><td>127</td></tr>",
                            "<tr><td>aeb36d67-f141-4f23-4d42-a29e27cf1f17</td><td>4</td><td>3263,80</td><td>21</td></tr>",
                            "<tr><td>594f9aaa-48e5-bf43-1f01-1ddc5669b0d5</td><td>38</td><td>3248,80</td><td>1</td></tr>",
                            "<tr><td>a938325a-4b35-7fd2-3a6a-4d5bb126408e</td><td>25</td><td>3231,00</td><td>7</td></tr>",
                            "<tr><td>c64a2aec-32cc-408a-8a4c-6d7c46017f91</td><td>9</td><td>3221,50</td><td>177</td></tr>",
                            "<tr><td>afa6714a-cee0-29b2-dfdf-357e5579cc03</td><td>17</td><td>3220,76</td><td>7</td></tr>",
                            "<tr><td>95f83f51-203c-6266-48c8-75dd41874c7f</td><td>67</td><td>3217,46</td><td>4</td></tr>",
                            "<tr><td>4c18691b-6037-662b-e2df-78a765d98ab5</td><td>67</td><td>3195,52</td><td>1</td></tr>",
                            "<tr><td>bb7a14e2-29b1-c951-5671-9c3d9552eeee</td><td>11</td><td>3190,10</td><td>84</td></tr>",
                            "<tr><td>d57e18d5-f73c-7ccb-7f73-39b61166898d</td><td>63</td><td>3187,70</td><td>4</td></tr>",
                            "<tr><td>e48b04bf-1aa1-ef71-1cae-beb7aede6180</td><td>25</td><td>3187,10</td><td>25</td></tr>",
                            "<tr><td>e89c4adb-e7b1-d081-9dbb-636e16461cf1</td><td>25</td><td>3181,30</td><td>8</td></tr>",
                            "<tr><td>5c6d4016-c2a2-88f0-74fa-0848a2b653d2</td><td>35</td><td>3159,00</td><td>4</td></tr>",
                            "<tr><td>870d0118-f7a9-d859-60f2-9ad89d5d989a</td><td>61</td><td>3157,20</td><td>1</td></tr>",
                            "<tr><td>c8b3445d-737d-e6be-fde0-c88ede534a5e</td><td>36</td><td>3149,04</td><td>60</td></tr>",
                            "<tr><td>5bc24d98-9e71-e93c-33e5-0a7782431b0e</td><td>17</td><td>3148,00</td><td>2</td></tr>",
                            "<tr><td>f3260068-1595-6455-b285-9abd58fe7e39</td><td>30</td><td>3147,16</td><td>18</td></tr>",
                            "<tr><td>3cfa1358-a6ca-a965-2787-21344c8d76f2</td><td>5</td><td>3140,28</td><td>72</td></tr>",
                            "<tr><td>b1ac6ea7-895b-c3dd-6f0f-6f4abbdd2821</td><td>41</td><td>3139,00</td><td>245</td></tr>",
                            "<tr><td>238fac59-4e17-0b59-c6d2-28f5a4f4f1d9</td><td>30</td><td>3126,00</td><td>6</td></tr>",
                            "<tr><td>430315b7-bb4b-6e4b-3c97-8f9dfa9b0558</td><td>21</td><td>3118,40</td><td>15</td></tr>",
                            "<tr><td>3bdff180-c7e1-f655-1a64-3b99c265a120</td><td>61</td><td>3114,90</td><td>113</td></tr>",
                            "<tr><td>5b351361-9771-0e16-ac5e-7b7c2bd4ea85</td><td>9</td><td>3104,20</td><td>117</td></tr>",
                            "<tr><td>08cdbae1-23ff-67ca-4e36-d9d641ce0119</td><td>6</td><td>3098,99</td><td>18</td></tr>",
                            "<tr><td>f61c63d1-3f7c-d800-549d-5acdd390ae72</td><td>26</td><td>3072,30</td><td>7</td></tr>",
                            "<tr><td>bd697db5-6ff8-e7c9-cd1a-beb7f72029b2</td><td>22</td><td>3069,78</td><td>1</td></tr>",
                            "<tr><td>aae3bfea-0555-32c5-7fb4-53ed3ec80b30</td><td>50</td><td>3057,92</td><td>99</td></tr>",
                            "<tr><td>612a743d-294c-2788-4fb7-b80d2b19ba35</td><td>3</td><td>3057,70</td><td>1</td></tr>",
                            "<tr><td>d9e8c084-b68f-e958-861d-8f2c21202e6b</td><td>12</td><td>3050,00</td><td>38</td></tr>",
                            "<tr><td>b8555308-bfdb-4ca1-ed54-325a58da9a97</td><td>28</td><td>3047,20</td><td>1</td></tr>",
                            "<tr><td>0ebd97a1-0643-3a45-a4ae-be57c1799778</td><td>32</td><td>3046,80</td><td>36</td></tr>",
                            "<tr><td>9646c351-3289-980f-1722-6a2fc4720dbd</td><td>78</td><td>3039,30</td><td>28</td></tr>",
                            "<tr><td>4da0e408-c99d-2fdc-2126-dc9fce518060</td><td>54</td><td>3026,00</td><td>8</td></tr>",
                            "<tr><td>d17f467e-4bf6-08a5-10c2-0d82f4ba3b6b</td><td>12</td><td>3021,66</td><td>8</td></tr>",
                            "<tr><td>4c854574-2faa-f58f-afd5-fd14d25d75cf</td><td>4</td><td>3020,00</td><td>98</td></tr>",
                            "<tr><td>55f7a331-9d80-f7fd-f078-b8f03e6725fe</td><td>22</td><td>3013,78</td><td>3</td></tr>",
                            "<tr><td>f4aba7c0-bca5-1484-c30a-b7bdc34bcdd1</td><td>117</td><td>3009,79</td><td>387</td></tr>",
                            "<tr><td>49e7217c-fe4e-4271-91c3-78ec626d8737</td><td>14</td><td>3002,70</td><td>78</td></tr>",
                            "<tr><td>c9aafcd0-621b-2207-c10e-32c649cada4d</td><td>52</td><td>2997,25</td><td>8</td></tr>",
                            "<tr><td>5bc55dbe-2f12-b6af-6d83-ed46023e0dc8</td><td>21</td><td>2992,10</td><td>3</td></tr>",
                            "<tr><td>8cbac7e1-2637-ed9c-ffa1-8c7875207478</td><td>82</td><td>2990,98</td><td>1</td></tr>",
                            "<tr><td>0c7533c7-1df8-61ec-58ad-7ff999ed0e8d</td><td>73</td><td>2989,30</td><td>30</td></tr>",
                            "<tr><td>974cf2cb-8f4b-7add-9870-9c30df02fe10</td><td>33</td><td>2982,67</td><td>3</td></tr>",
                            "<tr><td>2156f267-1501-a810-34d7-d07f217609d0</td><td>22</td><td>2981,50</td><td>14</td></tr>",
                            "<tr><td>fce62094-ffe6-a400-9188-ec44e681dfdd</td><td>11</td><td>2969,70</td><td>149</td></tr>",
                            "<tr><td>432c37c9-dfba-8711-72ec-162e20118b8c</td><td>57</td><td>2968,87</td><td>123</td></tr>",
                            "<tr><td>b4948913-78bd-8f45-60ab-e576c52deacd</td><td>22</td><td>2958,90</td><td>4</td></tr>",
                            "<tr><td>e908c0f3-646e-8b60-3757-34a350d95d71</td><td>1</td><td>2951,00</td><td>486</td></tr>",
                            "<tr><td>dd58ee93-286b-0821-5655-74c570e9e1dc</td><td>2</td><td>2948,00</td><td>479</td></tr>",
                            "<tr><td>1996942d-c085-d777-3ba7-7a529b163cd0</td><td>10</td><td>2943,51</td><td>8</td></tr>",
                            "<tr><td>60562ab0-0b80-5428-0520-d390c8c0045c</td><td>17</td><td>2943,00</td><td>17</td></tr>",
                            "<tr><td>cb5df0dc-b9e2-80b1-780e-9d589889f2c7</td><td>19</td><td>2934,72</td><td>424</td></tr>",
                            "<tr><td>be9a160a-9011-f627-c3e1-21d076c1ec7b</td><td>7</td><td>2934,00</td><td>295</td></tr>",
                            "<tr><td>f44b6f77-5a2b-3903-80e0-e30b5c9d3eee</td><td>10</td><td>2930,00</td><td>2</td></tr>",
                            "<tr><td>606ce776-8fea-c12c-5e8b-d58db8b08f0f</td><td>5</td><td>2916,60</td><td>17</td></tr>",
                            "<tr><td>a6fe7de3-d16f-6149-ffe2-80349a8535a0</td><td>52</td><td>2904,80</td><td>4</td></tr>",
                            "<tr><td>b1204cfd-a1d4-9486-79db-3cfc0d3cb95c</td><td>11</td><td>2903,70</td><td>29</td></tr>",
                            "<tr><td>20d83f3e-f0e6-925f-d74b-fd59170babf7</td><td>54</td><td>2903,60</td><td>1</td></tr>",
                            "<tr><td>d3dcf060-4eab-f022-4fbd-5948b5e02f69</td><td>9</td><td>2902,30</td><td>25</td></tr>",
                            "<tr><td>4305fe92-735c-8a43-d154-ff6dd2b8d927</td><td>21</td><td>2885,90</td><td>3</td></tr>",
                            "<tr><td>1771297a-c436-903d-1dd6-b0e9279aa505</td><td>36</td><td>2881,27</td><td>7</td></tr>",
                            "<tr><td>cb3dd9ce-6626-8c7a-3ca7-241ac70ab58c</td><td>52</td><td>2879,76</td><td>120</td></tr>",
                            "<tr><td>1987cd4b-e10f-e09e-e504-54f9c354d1c6</td><td>16</td><td>2877,70</td><td>143</td></tr>",
                            "<tr><td>b335c59a-b742-f751-a85d-b9c411a86739</td><td>35</td><td>2873,34</td><td>240</td></tr>",
                            "<tr><td>4342d4b2-ba6b-1614-68c6-3a7e7cfce593</td><td>20</td><td>2867,10</td><td>30</td></tr>",
                            "<tr><td>977f9f63-dd36-0c2a-32ec-e2f93ad6d306</td><td>25</td><td>2858,87</td><td>6</td></tr>",
                            "<tr><td>2a1348e9-addc-1af5-aaa6-19b1a3679d6b</td><td>55</td><td>2843,00</td><td>24</td></tr>",
                            "<tr><td>fec62752-5347-1ace-26d2-09bbaa64cd0f</td><td>10</td><td>2840,00</td><td>35</td></tr>",
                            "<tr><td>491a5ada-3aa1-6784-14e9-90262c4bbdc1</td><td>2</td><td>2840,00</td><td>506</td></tr>",
                            "<tr><td>d32e3909-cfb7-14fb-2a6c-b092c85b9c5f</td><td>11</td><td>2827,90</td><td>115</td></tr>",
                            "<tr><td>730937bf-88cb-151e-b2eb-849f642fc213</td><td>26</td><td>2821,20</td><td>3</td></tr>",
                            "<tr><td>1838dd9b-8977-065a-cf51-d95e0053ea7a</td><td>67</td><td>2820,30</td><td>24</td></tr>",
                            "<tr><td>dd533b42-9f38-0718-b70a-d9922c294bae</td><td>45</td><td>2819,77</td><td>232</td></tr>",
                            "<tr><td>f593898e-c748-b7a8-cb81-fc04edafd98a</td><td>23</td><td>2813,04</td><td>157</td></tr>",
                            "<tr><td>5f1dc280-29d2-c244-352a-68107ec2b542</td><td>78</td><td>2807,30</td><td>70</td></tr>",
                            "<tr><td>3fd1e727-ba94-cfe1-22d1-65e176ce7967</td><td>38</td><td>2805,20</td><td>123</td></tr>",
                            "<tr><td>820cc752-a266-cdc6-c1a1-e61dd4583330</td><td>15</td><td>2802,80</td><td>106</td></tr>",
                            "<tr><td>df56d7b4-0d43-7f88-407c-5f78b63bc328</td><td>25</td><td>2791,28</td><td>149</td></tr>",
                            "<tr><td>f7ccf836-d21b-2fb1-de37-564105216cc1</td><td>74</td><td>2787,40</td><td>4</td></tr>",
                            "<tr><td>62c50c1a-f4df-dc41-49d2-5c5222043d39</td><td>19</td><td>2785,72</td><td>480</td></tr>",
                            "<tr><td>ae7ab174-effd-ead6-c241-e547e4ca13f0</td><td>7</td><td>2778,60</td><td>11</td></tr>",
                            "<tr><td>a17f621c-590e-a0fa-b3d5-d883e1630ec6</td><td>80</td><td>2778,58</td><td>135</td></tr>",
                            "<tr><td>8d79c8a0-4e42-d722-a750-97ce5cbcf2ef</td><td>28</td><td>2777,72</td><td>149</td></tr>",
                            "<tr><td>f125f3a3-10c2-e5f8-22d1-16147de1e474</td><td>22</td><td>2761,40</td><td>6</td></tr>",
                            "<tr><td>8f54d64f-28a9-9355-0aa7-943f12572959</td><td>16</td><td>2755,50</td><td>9</td></tr>",
                            "<tr><td>a1474fd4-6fd3-4301-68f7-ec202da39408</td><td>14</td><td>2752,50</td><td>296</td></tr>",
                            "<tr><td>1444c08e-64d5-5fb3-c25f-0f09c07ffcf2</td><td>1</td><td>2749,00</td><td>115</td></tr>",
                            "<tr><td>05257715-1711-aec5-c744-fe12e66db3e1</td><td>4</td><td>2748,00</td><td>295</td></tr>",
                            "<tr><td>f805b96f-a705-ba79-95a2-21f1749dc141</td><td>7</td><td>2744,44</td><td>155</td></tr>",
                            "<tr><td>3b872fd4-747f-01cc-5620-6f2934198618</td><td>27</td><td>2726,74</td><td>1</td></tr>",
                            "<tr><td>5cbbd5a2-99ca-b112-b7bf-23862255e43e</td><td>38</td><td>2726,06</td><td>7</td></tr>",
                            "<tr><td>458d868c-9642-f55f-18f0-4e951a3fdde6</td><td>2</td><td>2718,00</td><td>374</td></tr>",
                            "<tr><td>33576ec5-412f-b590-5d87-6f12f33bfde6</td><td>32</td><td>2718,00</td><td>50</td></tr>",
                            "<tr><td>78744a20-ee2f-80ba-64f6-804c25def2b8</td><td>6</td><td>2715,00</td><td>4</td></tr>",
                            "<tr><td>fe26f3ec-b51a-15e6-d833-5cd92da42562</td><td>7</td><td>2708,96</td><td>186</td></tr>",
                            "<tr><td>d93844a9-c55b-a7ce-3533-88bcf849ea56</td><td>14</td><td>2708,50</td><td>109</td></tr>",
                            "<tr><td>51702dc2-a3e1-06c7-6dbf-f722b5bf0726</td><td>14</td><td>2705,10</td><td>102</td></tr>",
                            "<tr><td>e99e927c-81e3-f517-39c9-4fcdfca9f10f</td><td>25</td><td>2702,83</td><td>141</td></tr>",
                            "<tr><td>31561f32-5664-a8a7-aba4-c8d0c3a9b3db</td><td>38</td><td>2702,19</td><td>9</td></tr>",
                            "<tr><td>82bd0703-a4ae-fd6b-599e-5bfdaed378fb</td><td>24</td><td>2692,28</td><td>359</td></tr>",
                            "<tr><td>850913d5-9ce3-1715-6b00-f3705f1c3edb</td><td>34</td><td>2690,00</td><td>25</td></tr>",
                            "<tr><td>0015a82c-2db0-00af-6aaa-f3ae2ecb0532</td><td>3</td><td>2685,00</td><td>308</td></tr>",
                            "<tr><td>ffa6adaf-b71b-807d-c131-59e26431354c</td><td>18</td><td>2669,90</td><td>9</td></tr>",
                            "<tr><td>d93919c9-44be-9cff-128f-6c9cb899eacb</td><td>33</td><td>2666,70</td><td>32</td></tr>",
                            "<tr><td>9c068d10-aca3-8e85-c502-02e17b4a7e88</td><td>17</td><td>2658,90</td><td>3</td></tr>",
                            "<tr><td>d25aa0aa-acb3-70e9-12f8-cf6efeba38b3</td><td>21</td><td>2658,45</td><td>10</td></tr>",
                            "<tr><td>6f229cc5-08fc-6915-ed5c-499efd93baa4</td><td>14</td><td>2654,80</td><td>14</td></tr>",
                            "<tr><td>0885aaf1-1679-5758-dfeb-5f1032487bcd</td><td>30</td><td>2648,00</td><td>3</td></tr>",
                            "<tr><td>4e8dacf3-d38f-281a-e26c-3e0321d92d88</td><td>15</td><td>2644,95</td><td>509</td></tr>",
                            "<tr><td>bc302730-ea8c-f49b-5c74-f579febb5bbf</td><td>11</td><td>2640,90</td><td>24</td></tr>",
                            "<tr><td>f1b93673-5023-75d4-9178-0bb49d615dbc</td><td>10</td><td>2638,93</td><td>1</td></tr>",
                            "<tr><td>1b7e5006-cb25-dd23-ce86-86691013b121</td><td>11</td><td>2636,74</td><td>17</td></tr>",
                            "<tr><td>ccf8813e-5a7d-6c84-d865-cd38bfc2b130</td><td>26</td><td>2635,50</td><td>2</td></tr>",
                            "<tr><td>ea6b12bf-9ffe-2bac-3460-2ec631d97a47</td><td>11</td><td>2625,80</td><td>438</td></tr>",
                            "<tr><td>9906e7aa-42a3-c067-b7c9-a564d01c4320</td><td>16</td><td>2619,00</td><td>7</td></tr>",
                            "<tr><td>8ab42aa5-8097-fd46-68d6-0cc648225d5f</td><td>26</td><td>2616,75</td><td>20</td></tr>",
                            "<tr><td>a369d693-961c-b93b-61ca-2cc518872a85</td><td>18</td><td>2597,00</td><td>35</td></tr>",
                            "<tr><td>fdaaf5bf-da82-b7b8-0535-610c831b8d09</td><td>15</td><td>2588,90</td><td>114</td></tr>",
                            "<tr><td>cd06602b-43d8-800b-d0af-ad514919d35c</td><td>53</td><td>2588,07</td><td>20</td></tr>",
                            "<tr><td>244c2f1b-ff6a-fe1f-2eaf-9bfe9b2aed38</td><td>27</td><td>2580,00</td><td>195</td></tr>",
                            "<tr><td>2c4c47cb-51ac-d5ea-5db5-e0ae0e26542a</td><td>15</td><td>2575,90</td><td>24</td></tr>",
                            "<tr><td>04aba032-7915-7f6d-4e0f-e8ccaf21963c</td><td>16</td><td>2575,90</td><td>1</td></tr>",
                            "<tr><td>b76dba6c-951a-b00d-c4ed-f0a1aa88037e</td><td>169</td><td>2574,78</td><td>-20</td></tr>",
                            "<tr><td>41ab63a9-1b8b-264e-8c87-80368bf1dd5b</td><td>13</td><td>2571,95</td><td>36</td></tr>",
                            "<tr><td>1ce3ae5a-3998-04d1-a87e-706f8a813c3e</td><td>44</td><td>2563,00</td><td>4</td></tr>",
                            "<tr><td>f1c1ac3f-3efc-07e6-59c0-35008e615e66</td><td>14</td><td>2561,96</td><td>322</td></tr>",
                            "<tr><td>323ce52b-5b81-df2c-d804-b017b7f09aa7</td><td>30</td><td>2554,20</td><td>18</td></tr>",
                            "<tr><td>157c3e4b-42f8-1ac4-a44e-8b1ca2fe9876</td><td>31</td><td>2548,50</td><td>11</td></tr>",
                            "<tr><td>bb5bd94c-8f59-cc05-0072-d2930c869cac</td><td>17</td><td>2543,87</td><td>67</td></tr>",
                            "<tr><td>fe49ee02-9e61-e789-a1f3-a5525f57ba8d</td><td>17</td><td>2527,59</td><td>161</td></tr>",
                            "<tr><td>cce6ab8d-1682-639f-e45a-b70234f1665f</td><td>66</td><td>2522,70</td><td>254</td></tr>",
                            "<tr><td>47efca56-3408-aae1-9bb7-206c2d969ea9</td><td>12</td><td>2522,00</td><td>2</td></tr>",
                            "<tr><td>ede0c036-4559-8cdf-c63c-a8237acbe73d</td><td>50</td><td>2518,37</td><td>88</td></tr>",
                            "<tr><td>318f287a-62ab-7ac1-0b70-3ac37435a231</td><td>62</td><td>2517,48</td><td>2</td></tr>",
                            "<tr><td>3d39fbf2-2a66-5714-baf6-2fae36029e23</td><td>8</td><td>2504,20</td><td>266</td></tr>",
                            "<tr><td>de0c7882-4586-e9a5-f5f0-4fd84e25df39</td><td>16</td><td>2489,30</td><td>9</td></tr>",
                            "<tr><td>cea72905-4f15-7f58-70bd-d321a958d994</td><td>26</td><td>2482,10</td><td>16</td></tr>",
                            "<tr><td>6989574b-d97d-9773-f10d-232b6c07da59</td><td>7</td><td>2478,40</td><td>31</td></tr>",
                            "<tr><td>5eeb9c75-6d97-80b9-6283-e5a2ac6da334</td><td>9</td><td>2471,00</td><td>39</td></tr>",
                            "<tr><td>c2d70ce2-c5d0-a2eb-75e7-8668236e6dc8</td><td>15</td><td>2470,90</td><td>1</td></tr>",
                            "<tr><td>3a734b71-5d33-3a25-88a3-d54a0c9b8746</td><td>24</td><td>2463,52</td><td>211</td></tr>",
                            "<tr><td>1c40343c-c5d1-8c2d-8248-ac2f3366de34</td><td>22</td><td>2461,41</td><td>3</td></tr>",
                            "<tr><td>fa74b2f3-287d-296e-9fbd-2cc80f2d1cf1</td><td>11</td><td>2459,89</td><td>204</td></tr>",
                            "<tr><td>a0869268-0c77-d30a-0b42-80da5df01c5a</td><td>17</td><td>2433,00</td><td>211</td></tr>",
                            "<tr><td>5160d230-7576-4e18-e07c-1f4a87fad743</td><td>39</td><td>2429,00</td><td>266</td></tr>",
                            "<tr><td>efcd8d21-04f1-a05d-028a-f7bad20d974b</td><td>51</td><td>2424,78</td><td>2</td></tr>",
                            "<tr><td>ed859002-ad59-dbf8-cf36-02696a6c3000</td><td>13</td><td>2421,70</td><td>582</td></tr>",
                            "<tr><td>4b0fdb52-6525-f989-0eb1-45bf1534640e</td><td>20</td><td>2419,00</td><td>2</td></tr>",
                            "<tr><td>888faa8b-fb0b-159c-37de-6d898b961c31</td><td>23</td><td>2418,30</td><td>3</td></tr>",
                            "<tr><td>d06d019f-72a0-4e54-97a0-b64190af170c</td><td>17</td><td>2415,93</td><td>4</td></tr>",
                            "<tr><td>d3f39f05-462b-79a4-562d-35893a28f159</td><td>38</td><td>2411,30</td><td>70</td></tr>",
                            "<tr><td>1354d516-53f6-4534-9064-725ed204e85e</td><td>20</td><td>2410,00</td><td>7</td></tr>",
                            "<tr><td>76833248-bbc0-e65a-0293-ec62023e4396</td><td>2</td><td>2399,98</td><td>269</td></tr>",
                            "<tr><td>0bb738e4-d789-e63e-2267-697c42d35a2d</td><td>31</td><td>2388,30</td><td>85</td></tr>",
                            "<tr><td>6bbcb892-4baf-70b7-fe2f-e2097e8cd407</td><td>11</td><td>2382,50</td><td>13</td></tr>",
                            "<tr><td>acadd4d3-6859-671c-b635-527c6c977533</td><td>12</td><td>2381,00</td><td>15</td></tr>",
                            "<tr><td>cfe94489-ddd3-37d1-e29e-12f2a7205d10</td><td>24</td><td>2376,00</td><td>7</td></tr>",
                            "<tr><td>8a87611c-0884-9ffe-ecca-b52aa798b6c7</td><td>14</td><td>2369,80</td><td>563</td></tr>",
                            "<tr><td>120476eb-7a04-c149-d147-72edaf5d9bf2</td><td>6</td><td>2368,80</td><td>11</td></tr>",
                            "<tr><td>f615fe7e-fbef-0f4f-08fd-3086bc7a3e60</td><td>24</td><td>2359,27</td><td>316</td></tr>",
                            "<tr><td>4978a02e-a9c8-be7a-9b54-80680f40334e</td><td>19</td><td>2356,61</td><td>24</td></tr>",
                            "<tr><td>8603f003-8fe0-e52f-edd3-382d266723de</td><td>10</td><td>2355,00</td><td>181</td></tr>",
                            "<tr><td>3504c0cb-71d7-fa48-d967-e0e4c94d59d9</td><td>53</td><td>2349,94</td><td>286</td></tr>",
                            "<tr><td>4391ea5c-5990-5021-76a1-dcda44a2373d</td><td>5</td><td>2349,00</td><td>87</td></tr>",
                            "<tr><td>5a93f3ab-0ef4-c84e-d5e1-b5dbf23978bc</td><td>44</td><td>2338,25</td><td>136</td></tr>",
                            "<tr><td>34f563c8-2a85-b99a-e9e6-d60db5fc2e28</td><td>8</td><td>2332,30</td><td>15</td></tr>",
                            "<tr><td>8bdd8e3f-d58b-afa4-8af7-6b2c5fd71974</td><td>11</td><td>2324,82</td><td>22</td></tr>",
                            "<tr><td>1d458720-3296-c8f4-ad13-4dc286fa6db0</td><td>43</td><td>2323,30</td><td>1</td></tr>",
                            "<tr><td>df91910b-6a03-bb2e-3358-fa6a35e32f6f</td><td>14</td><td>2312,10</td><td>8</td></tr>",
                            "<tr><td>daeb5653-dd96-c1b1-1860-f72209795012</td><td>41</td><td>2305,90</td><td>16</td></tr>",
                            "<tr><td>fd386aa7-bed2-af3c-7035-c65506c9b4a3</td><td>76</td><td>2304,15</td><td>1</td></tr>",
                            "<tr><td>6338ea67-c410-78a4-6ad9-9cc009654956</td><td>44</td><td>2286,09</td><td>4</td></tr>",
                            "<tr><td>9a84ba99-f536-7fdb-d459-8363496f1ea2</td><td>16</td><td>2284,98</td><td>49</td></tr>",
                            "<tr><td>7238a95b-b63e-f7e4-9838-9fb863b834a1</td><td>15</td><td>2265,70</td><td>10</td></tr>",
                            "<tr><td>e8f6dc8e-6a1d-cde8-9d20-e3995c8d90b3</td><td>48</td><td>2256,34</td><td>259</td></tr>",
                            "<tr><td>8fe8786e-e000-001a-b51d-030dfd4a7bf1</td><td>5</td><td>2255,00</td><td>64</td></tr>",
                            "<tr><td>655220df-3326-2c7e-0c49-49a147366f94</td><td>15</td><td>2245,00</td><td>108</td></tr>",
                            "<tr><td>7b8e8ec3-5bad-4b0e-f7e3-963650b0a87b</td><td>5</td><td>2244,28</td><td>29</td></tr>",
                            "<tr><td>1b1ae47a-313a-825a-7ccc-eb8e2e30fa9d</td><td>11</td><td>2243,90</td><td>102</td></tr>",
                            "<tr><td>3e8bd881-d924-66e6-3ba9-e3e809cd3c50</td><td>10</td><td>2242,28</td><td>119</td></tr>",
                            "<tr><td>5abb8ea0-23c7-7787-f2c1-5da891c8d384</td><td>13</td><td>2241,00</td><td>226</td></tr>",
                            "<tr><td>54583ab3-7948-9add-547f-e47b628db589</td><td>10</td><td>2240,00</td><td>1</td></tr>",
                            "<tr><td>e5f9e61c-eb5f-523c-c966-e0f34095032f</td><td>4</td><td>2238,00</td><td>161</td></tr>",
                            "<tr><td>cac876b3-7d3a-bcd6-bd76-caca30277996</td><td>33</td><td>2229,77</td><td>31</td></tr>",
                            "<tr><td>b83cedfb-587e-7911-540e-3f576d6917ce</td><td>25</td><td>2224,95</td><td>108</td></tr>",
                            "<tr><td>b74d1c09-cb38-0e1d-03a6-f859c6f4224b</td><td>39</td><td>2221,60</td><td>18</td></tr>",
                            "<tr><td>fb89df7f-89fd-1b8f-03fa-2acca1ba7364</td><td>25</td><td>2220,00</td><td>3</td></tr>",
                            "<tr><td>3a4127e1-ba72-08ea-3704-4c5092aae170</td><td>6</td><td>2219,60</td><td>35</td></tr>",
                            "<tr><td>747e73c0-1a45-93d4-cf60-dcf970fd2689</td><td>3</td><td>2217,99</td><td>115</td></tr>",
                            "<tr><td>77a515ca-a363-2715-1d1c-c6c32a9f00e1</td><td>26</td><td>2217,39</td><td>1</td></tr>",
                            "<tr><td>abbf6046-bbdf-1028-606a-5bc7f00c99e7</td><td>7</td><td>2217,15</td><td>106</td></tr>",
                            "<tr><td>f214d28e-8d8e-3ef0-6874-8498ccc2f813</td><td>59</td><td>2212,41</td><td>4</td></tr>",
                            "<tr><td>4992e76a-42cb-3aad-7a70-47e0d3d7e729</td><td>74</td><td>2211,10</td><td>8</td></tr>",
                            "<tr><td>e5475dca-b1e0-7b63-d7f6-e902d8f5eda8</td><td>19</td><td>2192,00</td><td>17</td></tr>",
                            "<tr><td>91f0eec2-3d4a-61d7-d7ca-eefa3f0ad1ca</td><td>11</td><td>2190,80</td><td>25</td></tr>",
                            "<tr><td>0725b8c0-f3f9-06e5-8f70-cbe76b7c748c</td><td>37</td><td>2190,30</td><td>10</td></tr>",
                            "<tr><td>14a08204-d03b-b6b6-bde8-029f801ae0eb</td><td>38</td><td>2185,40</td><td>3</td></tr>",
                            "<tr><td>30c7f28f-d3a5-897b-2c82-d152bb760c17</td><td>7</td><td>2178,27</td><td>247</td></tr>",
                            "<tr><td>8ca1551a-cf98-32a4-cf46-7bbbac15851f</td><td>12</td><td>2176,40</td><td>4</td></tr>",
                            "<tr><td>53d00c40-e32a-eb92-4a84-ce72b1af869d</td><td>17</td><td>2165,85</td><td>18</td></tr>",
                            "<tr><td>2be17df1-c499-7842-6251-562096c3cc09</td><td>16</td><td>2165,00</td><td>52</td></tr>",
                            "<tr><td>0ffa40d5-4288-e4f3-499b-8780dd0f144f</td><td>35</td><td>2162,80</td><td>102</td></tr>",
                            "<tr><td>7fc87cc3-e89b-3d1d-5cab-dca32f8485aa</td><td>14</td><td>2153,90</td><td>3</td></tr>",
                            "<tr><td>72bc2cce-903c-872f-e376-a8faaa81d237</td><td>18</td><td>2149,20</td><td>8</td></tr>",
                            "<tr><td>b56906f7-fd16-96e0-43f1-bcce164c487b</td><td>42</td><td>2148,49</td><td>18</td></tr>",
                            "<tr><td>373ee4a3-a775-a733-770c-a3f790b8b9ac</td><td>22</td><td>2141,49</td><td>113</td></tr>",
                            "<tr><td>0ed6ce5d-87fd-9c69-eaac-aeb778d67235</td><td>43</td><td>2141,42</td><td>1</td></tr>",
                            "<tr><td>723cd880-edaa-cdb9-9889-8b67c8f9da30</td><td>12</td><td>2136,53</td><td>3</td></tr>",
                            "<tr><td>f5f2ab9b-db6b-30c1-4c61-be68c5ed37da</td><td>18</td><td>2134,68</td><td>220</td></tr>",
                            "<tr><td>87d30a6a-0cbf-8935-6e49-324971ab1d24</td><td>17</td><td>2134,13</td><td>59</td></tr>",
                            "<tr><td>9bcdfa7b-615b-3abb-9461-d9e3ad9886ae</td><td>20</td><td>2126,07</td><td>106</td></tr>",
                            "<tr><td>13074f01-6982-ff2b-d6c5-8ced8682f000</td><td>15</td><td>2116,00</td><td>46</td></tr>",
                            "<tr><td>8f78f090-3005-0640-3673-6c7173a5c2ed</td><td>21</td><td>2113,70</td><td>25</td></tr>",
                            "<tr><td>cf2384dd-2f1d-ddea-3f83-8efed0945e65</td><td>16</td><td>2101,50</td><td>18</td></tr>",
                            "<tr><td>ffdd9f82-b9a4-47f6-f8d4-b91554cc7dd3</td><td>20</td><td>2101,20</td><td>7</td></tr>",
                            "<tr><td>e9511df2-0ccd-8265-8a30-c37b7fb343af</td><td>30</td><td>2096,60</td><td>16</td></tr>",
                            "<tr><td>3bfba5a7-7604-f6df-ae7e-6dd7aaf65821</td><td>4</td><td>2095,50</td><td>3</td></tr>",
                            "<tr><td>7f7b8245-c336-066a-1f99-33c359f11d77</td><td>43</td><td>2094,36</td><td>3</td></tr>",
                            "<tr><td>8de8fe3a-f444-9ed6-95d2-434c933ed73e</td><td>1</td><td>2090,00</td><td>17</td></tr>",
                            "<tr><td>165b1235-e9e9-942c-b5fa-e67103576fb0</td><td>16</td><td>2085,15</td><td>4</td></tr>",
                            "<tr><td>f7720c4f-a8e3-aba4-5463-01ab80ea1f1b</td><td>78</td><td>2083,45</td><td>9</td></tr>",
                            "<tr><td>e6a69c4a-27df-dd98-ffe5-aa757ad744bc</td><td>29</td><td>2076,20</td><td>74</td></tr>",
                            "<tr><td>6aa39286-96ea-b49a-19a4-66e665a649fd</td><td>22</td><td>2075,00</td><td>9</td></tr>",
                            "<tr><td>082e0bf4-cb86-5a65-33b1-e8e498cc0255</td><td>23</td><td>2073,30</td><td>8</td></tr>",
                            "</table>"
                        ]
                    }
                }
            ],
            "execution_count": 9
        },
        {
            "cell_type": "code",
            "source": [
                "SELECT COUNT(DISTINCT SellerId)\r\n",
                "FROM dbo.OrderItems i\r\n",
                "JOIN dbo.Orders o\r\n",
                "ON i.OrderId = o.OrderId\r\n",
                "WHERE YEAR(o.OrderDeliveredCustomerDate) >= 2017"
            ],
            "metadata": {
                "azdata_cell_guid": "cd3f779f-67d0-43b1-8d6e-a5731ff2074d"
            },
            "outputs": [
                {
                    "output_type": "display_data",
                    "data": {
                        "text/html": "(1 row affected)"
                    },
                    "metadata": {}
                },
                {
                    "output_type": "display_data",
                    "data": {
                        "text/html": "Total execution time: 00:00:00.469"
                    },
                    "metadata": {}
                },
                {
                    "output_type": "execute_result",
                    "metadata": {},
                    "execution_count": 17,
                    "data": {
                        "application/vnd.dataresource+json": {
                            "schema": {
                                "fields": [
                                    {
                                        "name": "(No column name)"
                                    }
                                ]
                            },
                            "data": [
                                {
                                    "0": "2945"
                                }
                            ]
                        },
                        "text/html": [
                            "<table>",
                            "<tr><th>(No column name)</th></tr>",
                            "<tr><td>2945</td></tr>",
                            "</table>"
                        ]
                    }
                }
            ],
            "execution_count": 17
        },
        {
            "cell_type": "code",
            "source": [
                "SELECT COUNT(DISTINCT seller_id)\r\n",
                "FROM raw_data.Sellers\r\n",
                ""
            ],
            "metadata": {
                "azdata_cell_guid": "76a83a68-58f7-4ccc-9457-ff9adcf47c15"
            },
            "outputs": [
                {
                    "output_type": "display_data",
                    "data": {
                        "text/html": "(1 row affected)"
                    },
                    "metadata": {}
                },
                {
                    "output_type": "display_data",
                    "data": {
                        "text/html": "Total execution time: 00:00:00.142"
                    },
                    "metadata": {}
                },
                {
                    "output_type": "execute_result",
                    "metadata": {},
                    "execution_count": 3,
                    "data": {
                        "application/vnd.dataresource+json": {
                            "schema": {
                                "fields": [
                                    {
                                        "name": "(No column name)"
                                    }
                                ]
                            },
                            "data": [
                                {
                                    "0": "3095"
                                }
                            ]
                        },
                        "text/html": [
                            "<table>",
                            "<tr><th>(No column name)</th></tr>",
                            "<tr><td>3095</td></tr>",
                            "</table>"
                        ]
                    }
                }
            ],
            "execution_count": 3
        },
        {
            "cell_type": "code",
            "source": [
                "EXEC dbo.CreateSellersKPI @date = '2018-10-18'"
            ],
            "metadata": {
                "azdata_cell_guid": "89e7a270-c098-4727-8d34-c07a6eba3f4f"
            },
            "outputs": [
                {
                    "output_type": "display_data",
                    "data": {
                        "text/html": "(2945 rows affected)"
                    },
                    "metadata": {}
                },
                {
                    "output_type": "display_data",
                    "data": {
                        "text/html": "Total execution time: 00:00:00.842"
                    },
                    "metadata": {}
                }
            ],
            "execution_count": 18
        },
        {
            "cell_type": "code",
            "source": [
                "SELECT TOP 150 *\r\n",
                "FROM Analitics.SellersKPI"
            ],
            "metadata": {
                "azdata_cell_guid": "00545a89-9265-439d-847b-e66f77793395"
            },
            "outputs": [
                {
                    "output_type": "display_data",
                    "data": {
                        "text/html": "(150 rows affected)"
                    },
                    "metadata": {}
                },
                {
                    "output_type": "display_data",
                    "data": {
                        "text/html": "Total execution time: 00:00:00.253"
                    },
                    "metadata": {}
                },
                {
                    "output_type": "execute_result",
                    "metadata": {},
                    "execution_count": 19,
                    "data": {
                        "application/vnd.dataresource+json": {
                            "schema": {
                                "fields": [
                                    {
                                        "name": "SellerId"
                                    },
                                    {
                                        "name": "ReportDay"
                                    },
                                    {
                                        "name": "DaysFromFirstPurchase"
                                    },
                                    {
                                        "name": "ItemsSold"
                                    },
                                    {
                                        "name": "Recency"
                                    },
                                    {
                                        "name": "Revenue"
                                    }
                                ]
                            },
                            "data": [
                                {
                                    "0": "e9c6969d-40e6-a3d2-d0f9-0013165c2b98",
                                    "1": "2018-10-18",
                                    "2": "332",
                                    "3": "10",
                                    "4": "132",
                                    "5": "5239,98"
                                },
                                {
                                    "0": "f08a5b9d-d676-7129-688d-001acafc21e5",
                                    "1": "2018-10-18",
                                    "2": "356",
                                    "3": "18",
                                    "4": "251",
                                    "5": "14069,63"
                                },
                                {
                                    "0": "17ca9b9e-9b9e-f8fd-b529-001b49ebb50f",
                                    "1": "2018-10-18",
                                    "2": "454",
                                    "3": "128",
                                    "4": "50",
                                    "5": "9649,86"
                                },
                                {
                                    "0": "5e25c632-f9db-6cfb-8bc1-00421c2737b6",
                                    "1": "2018-10-18",
                                    "2": "122",
                                    "3": "1",
                                    "4": "122",
                                    "5": "259,00"
                                },
                                {
                                    "0": "e8b42252-84fb-b02d-16f2-00513f1f395d",
                                    "1": "2018-10-18",
                                    "2": "184",
                                    "3": "30",
                                    "4": "56",
                                    "5": "5638,62"
                                },
                                {
                                    "0": "e8b3a3a3-8279-a82f-0e5d-006d5e5b7d2c",
                                    "1": "2018-10-18",
                                    "2": "366",
                                    "3": "85",
                                    "4": "191",
                                    "5": "11762,40"
                                },
                                {
                                    "0": "f43827dd-686b-e3a4-a80e-00aa299990fb",
                                    "1": "2018-10-18",
                                    "2": "245",
                                    "3": "2",
                                    "4": "245",
                                    "5": "95,54"
                                },
                                {
                                    "0": "70b52a4c-fc82-3994-561b-00bad161b4ed",
                                    "1": "2018-10-18",
                                    "2": "590",
                                    "3": "10",
                                    "4": "83",
                                    "5": "585,00"
                                },
                                {
                                    "0": "5de1c808-11ce-7007-f62f-00d971236c09",
                                    "1": "2018-10-18",
                                    "2": "98",
                                    "3": "2",
                                    "4": "73",
                                    "5": "76,80"
                                },
                                {
                                    "0": "2b5ed0c9-139d-ae88-83a2-00dfcb272ece",
                                    "1": "2018-10-18",
                                    "2": "553",
                                    "3": "4",
                                    "4": "304",
                                    "5": "85,41"
                                },
                                {
                                    "0": "2a261b5b-644f-a05f-4f27-00eb93544f2c",
                                    "1": "2018-10-18",
                                    "2": "355",
                                    "3": "82",
                                    "4": "73",
                                    "5": "5355,00"
                                },
                                {
                                    "0": "e627629b-a868-740e-2878-00f1a9be81c2",
                                    "1": "2018-10-18",
                                    "2": "611",
                                    "3": "11",
                                    "4": "449",
                                    "5": "337,10"
                                },
                                {
                                    "0": "49383af7-ab77-4e4e-8f30-00f49c83dc4b",
                                    "1": "2018-10-18",
                                    "2": "161",
                                    "3": "12",
                                    "4": "49",
                                    "5": "660,00"
                                },
                                {
                                    "0": "516e7738-bd8f-735a-c19a-010ee5450d8d",
                                    "1": "2018-10-18",
                                    "2": "152",
                                    "3": "82",
                                    "4": "49",
                                    "5": "6463,19"
                                },
                                {
                                    "0": "777a0c55-737f-34ff-eb78-010f7542ab41",
                                    "1": "2018-10-18",
                                    "2": "112",
                                    "3": "6",
                                    "4": "49",
                                    "5": "452,50"
                                },
                                {
                                    "0": "2d378dbb-3981-5785-238c-0139c7647fb7",
                                    "1": "2018-10-18",
                                    "2": "534",
                                    "3": "2",
                                    "4": "499",
                                    "5": "1154,00"
                                },
                                {
                                    "0": "1e26c56a-f8d4-8424-e1df-0140a2401f83",
                                    "1": "2018-10-18",
                                    "2": "125",
                                    "3": "2",
                                    "4": "62",
                                    "5": "258,90"
                                },
                                {
                                    "0": "d6b1ce66-b035-a475-f00c-017792ff9769",
                                    "1": "2018-10-18",
                                    "2": "191",
                                    "3": "108",
                                    "4": "49",
                                    "5": "12277,40"
                                },
                                {
                                    "0": "bac692d6-c0ed-0846-7878-018e6cc9c26c",
                                    "1": "2018-10-18",
                                    "2": "72",
                                    "3": "3",
                                    "4": "72",
                                    "5": "477,00"
                                },
                                {
                                    "0": "f7720c4f-a8e3-aba4-5463-01ab80ea1f1b",
                                    "1": "2018-10-18",
                                    "2": "540",
                                    "3": "77",
                                    "4": "57",
                                    "5": "2043,55"
                                },
                                {
                                    "0": "be3b4b0f-050a-6aa1-b2d9-01c4b77e979f",
                                    "1": "2018-10-18",
                                    "2": "169",
                                    "3": "8",
                                    "4": "125",
                                    "5": "578,20"
                                },
                                {
                                    "0": "141440ca-d934-1e55-3f84-01c574a2aa38",
                                    "1": "2018-10-18",
                                    "2": "164",
                                    "3": "12",
                                    "4": "59",
                                    "5": "1288,20"
                                },
                                {
                                    "0": "a3dd39f5-83bc-80bd-8c59-01c95878921e",
                                    "1": "2018-10-18",
                                    "2": "416",
                                    "3": "37",
                                    "4": "176",
                                    "5": "4607,81"
                                },
                                {
                                    "0": "2dd1fb6f-0e42-a224-3b8a-01e40cd41216",
                                    "1": "2018-10-18",
                                    "2": "592",
                                    "3": "4",
                                    "4": "533",
                                    "5": "686,89"
                                },
                                {
                                    "0": "da6a60cc-8cc7-24fe-51be-021ff8be779c",
                                    "1": "2018-10-18",
                                    "2": "134",
                                    "3": "13",
                                    "4": "55",
                                    "5": "728,79"
                                },
                                {
                                    "0": "3f2af267-0e10-4d1b-cb54-022274daeac5",
                                    "1": "2018-10-18",
                                    "2": "332",
                                    "3": "7",
                                    "4": "135",
                                    "5": "973,60"
                                },
                                {
                                    "0": "acce39e8-3233-8deb-b07b-02385cde5967",
                                    "1": "2018-10-18",
                                    "2": "150",
                                    "3": "44",
                                    "4": "49",
                                    "5": "4748,10"
                                },
                                {
                                    "0": "b7e1750c-1157-341d-2abd-0251e07c186b",
                                    "1": "2018-10-18",
                                    "2": "604",
                                    "3": "4",
                                    "4": "532",
                                    "5": "159,60"
                                },
                                {
                                    "0": "d8cf3b6a-2151-949f-930d-0252b180ec42",
                                    "1": "2018-10-18",
                                    "2": "181",
                                    "3": "19",
                                    "4": "112",
                                    "5": "623,70"
                                },
                                {
                                    "0": "0bb27263-6282-58b8-111a-0262769fa9db",
                                    "1": "2018-10-18",
                                    "2": "523",
                                    "3": "1",
                                    "4": "523",
                                    "5": "22,20"
                                },
                                {
                                    "0": "6b9b80d5-3ba3-676e-afe6-0268a810b5a1",
                                    "1": "2018-10-18",
                                    "2": "608",
                                    "3": "9",
                                    "4": "398",
                                    "5": "783,70"
                                },
                                {
                                    "0": "ed859002-ad59-dbf8-cf36-02696a6c3000",
                                    "1": "2018-10-18",
                                    "2": "630",
                                    "3": "3",
                                    "4": "630",
                                    "5": "719,70"
                                },
                                {
                                    "0": "ce69a802-1d18-961d-d2a4-0269b7c2c293",
                                    "1": "2018-10-18",
                                    "2": "195",
                                    "3": "19",
                                    "4": "54",
                                    "5": "4818,00"
                                },
                                {
                                    "0": "d94a40fd-4235-1c25-9927-028d163af842",
                                    "1": "2018-10-18",
                                    "2": "441",
                                    "3": "109",
                                    "4": "62",
                                    "5": "13674,80"
                                },
                                {
                                    "0": "e333046c-e651-7bd8-bb51-0291d44f0130",
                                    "1": "2018-10-18",
                                    "2": "449",
                                    "3": "74",
                                    "4": "48",
                                    "5": "7268,00"
                                },
                                {
                                    "0": "14a08204-d03b-b6b6-bde8-029f801ae0eb",
                                    "1": "2018-10-18",
                                    "2": "197",
                                    "3": "38",
                                    "4": "51",
                                    "5": "2185,40"
                                },
                                {
                                    "0": "a99504ac-23ed-125a-af53-02af6cc30af9",
                                    "1": "2018-10-18",
                                    "2": "353",
                                    "3": "1",
                                    "4": "353",
                                    "5": "978,00"
                                },
                                {
                                    "0": "024b564a-e893-ce8e-9bfa-02c10a401ece",
                                    "1": "2018-10-18",
                                    "2": "603",
                                    "3": "2",
                                    "4": "603",
                                    "5": "239,00"
                                },
                                {
                                    "0": "729f0699-3dac-8e86-0d4f-02d7088ca48a",
                                    "1": "2018-10-18",
                                    "2": "561",
                                    "3": "113",
                                    "4": "45",
                                    "5": "19885,18"
                                },
                                {
                                    "0": "9c068d10-aca3-8e85-c502-02e17b4a7e88",
                                    "1": "2018-10-18",
                                    "2": "358",
                                    "3": "17",
                                    "4": "51",
                                    "5": "2658,90"
                                },
                                {
                                    "0": "4e0d109c-cfba-9a11-51c1-03049880c857",
                                    "1": "2018-10-18",
                                    "2": "315",
                                    "3": "2",
                                    "4": "115",
                                    "5": "279,89"
                                },
                                {
                                    "0": "8fe8786e-e000-001a-b51d-030dfd4a7bf1",
                                    "1": "2018-10-18",
                                    "2": "300",
                                    "3": "5",
                                    "4": "112",
                                    "5": "2255,00"
                                },
                                {
                                    "0": "09bad886-1112-55c5-b503-0314fc7f1a4a",
                                    "1": "2018-10-18",
                                    "2": "63",
                                    "3": "5",
                                    "4": "50",
                                    "5": "487,50"
                                },
                                {
                                    "0": "7b98de63-1987-e26d-d6d8-03490c43a13c",
                                    "1": "2018-10-18",
                                    "2": "132",
                                    "3": "8",
                                    "4": "71",
                                    "5": "634,20"
                                },
                                {
                                    "0": "01cf7e3d-2149-4c41-fb86-034f2e714fa1",
                                    "1": "2018-10-18",
                                    "2": "618",
                                    "3": "64",
                                    "4": "226",
                                    "5": "9369,66"
                                },
                                {
                                    "0": "38e679b9-e006-4cd9-4c6f-035707344dae",
                                    "1": "2018-10-18",
                                    "2": "624",
                                    "3": "27",
                                    "4": "255",
                                    "5": "3599,25"
                                },
                                {
                                    "0": "0fe2d973-3ed8-41eb-0645-03920015a8c0",
                                    "1": "2018-10-18",
                                    "2": "150",
                                    "3": "3",
                                    "4": "87",
                                    "5": "389,64"
                                },
                                {
                                    "0": "04aa0a1c-5ce6-b222-0034-03a3e11c3cc0",
                                    "1": "2018-10-18",
                                    "2": "566",
                                    "3": "17",
                                    "4": "245",
                                    "5": "5518,00"
                                },
                                {
                                    "0": "b64d51f0-435e-884e-8de6-03b1655155ae",
                                    "1": "2018-10-18",
                                    "2": "189",
                                    "3": "23",
                                    "4": "50",
                                    "5": "416,18"
                                },
                                {
                                    "0": "26b482dc-cfa2-9bd2-e407-03ba45523702",
                                    "1": "2018-10-18",
                                    "2": "76",
                                    "3": "4",
                                    "4": "56",
                                    "5": "344,78"
                                },
                                {
                                    "0": "951e8cef-368f-09bb-3f3d-03c00ca4702c",
                                    "1": "2018-10-18",
                                    "2": "173",
                                    "3": "69",
                                    "4": "49",
                                    "5": "3993,31"
                                },
                                {
                                    "0": "4dab98ca-6cd6-d3df-5862-03cefd28a042",
                                    "1": "2018-10-18",
                                    "2": "199",
                                    "3": "1",
                                    "4": "199",
                                    "5": "154,90"
                                },
                                {
                                    "0": "0b18d63d-0cd1-d723-5679-03fd34a07df2",
                                    "1": "2018-10-18",
                                    "2": "546",
                                    "3": "14",
                                    "4": "126",
                                    "5": "1678,14"
                                },
                                {
                                    "0": "0b64bcdb-0784-abc1-39af-04077d49a20e",
                                    "1": "2018-10-18",
                                    "2": "187",
                                    "3": "4",
                                    "4": "86",
                                    "5": "137,60"
                                },
                                {
                                    "0": "bafc5aa1-1e41-3978-be29-040f51342e70",
                                    "1": "2018-10-18",
                                    "2": "303",
                                    "3": "9",
                                    "4": "230",
                                    "5": "1679,55"
                                },
                                {
                                    "0": "6fd52c52-8dcb-38be-2eea-044946b811f8",
                                    "1": "2018-10-18",
                                    "2": "413",
                                    "3": "84",
                                    "4": "59",
                                    "5": "7743,02"
                                },
                                {
                                    "0": "bf004579-1395-e664-60eb-04749c68672a",
                                    "1": "2018-10-18",
                                    "2": "610",
                                    "3": "2",
                                    "4": "561",
                                    "5": "119,80"
                                },
                                {
                                    "0": "c32fc744-b916-0ac8-5345-0488e3cfea93",
                                    "1": "2018-10-18",
                                    "2": "150",
                                    "3": "2",
                                    "4": "120",
                                    "5": "65,80"
                                },
                                {
                                    "0": "43f8c995-0d11-ecd0-3a03-04a49e010da6",
                                    "1": "2018-10-18",
                                    "2": "433",
                                    "3": "41",
                                    "4": "136",
                                    "5": "4249,59"
                                },
                                {
                                    "0": "b56828a9-f902-7f3c-918c-04ca720d9e3c",
                                    "1": "2018-10-18",
                                    "2": "365",
                                    "3": "3",
                                    "4": "147",
                                    "5": "360,00"
                                },
                                {
                                    "0": "03bd479e-1d94-84cd-b141-04d3023f7321",
                                    "1": "2018-10-18",
                                    "2": "136",
                                    "3": "3",
                                    "4": "63",
                                    "5": "359,70"
                                },
                                {
                                    "0": "b8114f2f-589a-6804-810f-04f99b36b498",
                                    "1": "2018-10-18",
                                    "2": "194",
                                    "3": "11",
                                    "4": "58",
                                    "5": "1399,62"
                                },
                                {
                                    "0": "834f8533-b2ec-b659-8dd0-04ff3de7203a",
                                    "1": "2018-10-18",
                                    "2": "624",
                                    "3": "45",
                                    "4": "55",
                                    "5": "4324,35"
                                },
                                {
                                    "0": "e24fc9fc-d865-784f-b257-05606fe3dfe7",
                                    "1": "2018-10-18",
                                    "2": "639",
                                    "3": "54",
                                    "4": "175",
                                    "5": "12558,00"
                                },
                                {
                                    "0": "3092c0b2-97aa-cfb4-bb6e-056ebe13b9b8",
                                    "1": "2018-10-18",
                                    "2": "258",
                                    "3": "17",
                                    "4": "104",
                                    "5": "1184,30"
                                },
                                {
                                    "0": "ea00f977-a203-ff88-adf7-057cb7806998",
                                    "1": "2018-10-18",
                                    "2": "106",
                                    "3": "18",
                                    "4": "55",
                                    "5": "381,73"
                                },
                                {
                                    "0": "7c9130f5-f372-9edd-32aa-059141d92484",
                                    "1": "2018-10-18",
                                    "2": "115",
                                    "3": "4",
                                    "4": "50",
                                    "5": "126,00"
                                },
                                {
                                    "0": "df47da4a-e86f-a4db-890d-05aaf24e21d8",
                                    "1": "2018-10-18",
                                    "2": "83",
                                    "3": "5",
                                    "4": "50",
                                    "5": "310,50"
                                },
                                {
                                    "0": "82921991-ff5b-557b-0456-05b8bbf08d49",
                                    "1": "2018-10-18",
                                    "2": "70",
                                    "3": "1",
                                    "4": "70",
                                    "5": "18,90"
                                },
                                {
                                    "0": "609e1a9a-6c25-3991-9b82-05cf7c4e6ff0",
                                    "1": "2018-10-18",
                                    "2": "244",
                                    "3": "130",
                                    "4": "50",
                                    "5": "6595,23"
                                },
                                {
                                    "0": "5f0057b6-77eb-9636-72bf-05dfa3f16c34",
                                    "1": "2018-10-18",
                                    "2": "629",
                                    "3": "2",
                                    "4": "619",
                                    "5": "56,89"
                                },
                                {
                                    "0": "a49928bc-df77-c55c-6d6e-05e09a9b4ca5",
                                    "1": "2018-10-18",
                                    "2": "486",
                                    "3": "104",
                                    "4": "132",
                                    "5": "8646,90"
                                },
                                {
                                    "0": "79ebd9a6-1bac-3eaf-8828-05ed4ecfa12a",
                                    "1": "2018-10-18",
                                    "2": "363",
                                    "3": "140",
                                    "4": "51",
                                    "5": "14783,09"
                                },
                                {
                                    "0": "1e483cc5-c76f-ef08-d3ca-05f9a8af7d01",
                                    "1": "2018-10-18",
                                    "2": "610",
                                    "3": "10",
                                    "4": "507",
                                    "5": "166,09"
                                },
                                {
                                    "0": "0bf0150d-5b9d-60d9-cd29-06003332f085",
                                    "1": "2018-10-18",
                                    "2": "591",
                                    "3": "62",
                                    "4": "84",
                                    "5": "5774,60"
                                },
                                {
                                    "0": "a56e3514-45e5-863f-c896-0640ba9190c7",
                                    "1": "2018-10-18",
                                    "2": "188",
                                    "3": "4",
                                    "4": "147",
                                    "5": "760,92"
                                },
                                {
                                    "0": "e24d3429-d294-b2eb-200b-064ebb035879",
                                    "1": "2018-10-18",
                                    "2": "111",
                                    "3": "22",
                                    "4": "51",
                                    "5": "1878,58"
                                },
                                {
                                    "0": "7139dc51-86aa-238b-006e-066d8fbab2e4",
                                    "1": "2018-10-18",
                                    "2": "252",
                                    "3": "24",
                                    "4": "66",
                                    "5": "1712,00"
                                },
                                {
                                    "0": "5882820e-f11c-4c06-8eea-0677a7a879b4",
                                    "1": "2018-10-18",
                                    "2": "554",
                                    "3": "14",
                                    "4": "79",
                                    "5": "9925,50"
                                },
                                {
                                    "0": "fffd5413-c070-0ac8-20c7-069d66d98c89",
                                    "1": "2018-10-18",
                                    "2": "447",
                                    "3": "58",
                                    "4": "49",
                                    "5": "8535,00"
                                },
                                {
                                    "0": "81783131-d2a9-7c8d-44d4-06a4be81b5d9",
                                    "1": "2018-10-18",
                                    "2": "77",
                                    "3": "9",
                                    "4": "57",
                                    "5": "761,84"
                                },
                                {
                                    "0": "9c4d31c7-e46a-b03a-43fc-06e3142afd4e",
                                    "1": "2018-10-18",
                                    "2": "58",
                                    "3": "2",
                                    "4": "52",
                                    "5": "1218,90"
                                },
                                {
                                    "0": "e595809a-6c31-ec43-14fd-06ef198c244d",
                                    "1": "2018-10-18",
                                    "2": "205",
                                    "3": "1",
                                    "4": "205",
                                    "5": "39,00"
                                },
                                {
                                    "0": "0afccdb8-a34e-e5c7-9f7c-06faf2b4d56e",
                                    "1": "2018-10-18",
                                    "2": "547",
                                    "3": "24",
                                    "4": "174",
                                    "5": "1185,60"
                                },
                                {
                                    "0": "89d9a386-b0b6-e5fc-8403-071b03f7206a",
                                    "1": "2018-10-18",
                                    "2": "237",
                                    "3": "5",
                                    "4": "234",
                                    "5": "167,00"
                                },
                                {
                                    "0": "3da38366-e7bd-9baf-6369-071f782ecdf0",
                                    "1": "2018-10-18",
                                    "2": "234",
                                    "3": "1",
                                    "4": "234",
                                    "5": "59,47"
                                },
                                {
                                    "0": "ede2977f-baf3-7385-8317-0735ca403f6c",
                                    "1": "2018-10-18",
                                    "2": "220",
                                    "3": "1",
                                    "4": "220",
                                    "5": "289,90"
                                },
                                {
                                    "0": "709e16e2-b25c-7474-d980-076c6bfc4806",
                                    "1": "2018-10-18",
                                    "2": "364",
                                    "3": "80",
                                    "4": "49",
                                    "5": "5151,90"
                                },
                                {
                                    "0": "9140bd1d-9de2-8b19-7dce-077bdd687438",
                                    "1": "2018-10-18",
                                    "2": "143",
                                    "3": "8",
                                    "4": "58",
                                    "5": "1258,87"
                                },
                                {
                                    "0": "e7df4cd2-9ab5-abab-70fb-0783ddb53987",
                                    "1": "2018-10-18",
                                    "2": "603",
                                    "3": "24",
                                    "4": "49",
                                    "5": "9608,70"
                                },
                                {
                                    "0": "160e4f13-fd3a-64b1-b868-07be88b5ffb0",
                                    "1": "2018-10-18",
                                    "2": "325",
                                    "3": "4",
                                    "4": "233",
                                    "5": "886,00"
                                },
                                {
                                    "0": "ceaec554-8eef-c6e2-3e66-07c5435102e7",
                                    "1": "2018-10-18",
                                    "2": "259",
                                    "3": "206",
                                    "4": "21",
                                    "5": "51478,18"
                                },
                                {
                                    "0": "038b75b7-29c8-a9a0-4b0d-07cba7eabe86",
                                    "1": "2018-10-18",
                                    "2": "164",
                                    "3": "2",
                                    "4": "151",
                                    "5": "467,00"
                                },
                                {
                                    "0": "31ae0774-c17f-abd0-6ff7-07cc5bde005f",
                                    "1": "2018-10-18",
                                    "2": "514",
                                    "3": "11",
                                    "4": "51",
                                    "5": "6719,85"
                                },
                                {
                                    "0": "87e24fc7-0522-59b1-f7f6-07d61c10d8be",
                                    "1": "2018-10-18",
                                    "2": "138",
                                    "3": "7",
                                    "4": "50",
                                    "5": "7073,59"
                                },
                                {
                                    "0": "e4ebd3f8-7bf7-0440-014f-07ddda7fbe03",
                                    "1": "2018-10-18",
                                    "2": "303",
                                    "3": "7",
                                    "4": "210",
                                    "5": "671,50"
                                },
                                {
                                    "0": "d29ba122-0fb8-634f-a3a1-07e54497b8a4",
                                    "1": "2018-10-18",
                                    "2": "177",
                                    "3": "9",
                                    "4": "56",
                                    "5": "724,94"
                                },
                                {
                                    "0": "95cca791-657a-abef-f15a-07eb152d7841",
                                    "1": "2018-10-18",
                                    "2": "106",
                                    "3": "1",
                                    "4": "106",
                                    "5": "9,99"
                                },
                                {
                                    "0": "f84fa566-034f-5e8e-880a-07ec624c56af",
                                    "1": "2018-10-18",
                                    "2": "451",
                                    "3": "100",
                                    "4": "55",
                                    "5": "4993,91"
                                },
                                {
                                    "0": "139157dd-4daa-45c2-5b08-07ffff348363",
                                    "1": "2018-10-18",
                                    "2": "412",
                                    "3": "1",
                                    "4": "412",
                                    "5": "29,90"
                                },
                                {
                                    "0": "544863df-86ed-3b78-a04e-0820d41430ee",
                                    "1": "2018-10-18",
                                    "2": "103",
                                    "3": "1",
                                    "4": "103",
                                    "5": "23,90"
                                },
                                {
                                    "0": "2dee2ce6-0de9-709b-1a24-083217181a1f",
                                    "1": "2018-10-18",
                                    "2": "449",
                                    "3": "55",
                                    "4": "101",
                                    "5": "7784,50"
                                },
                                {
                                    "0": "5c6d4016-c2a2-88f0-74fa-0848a2b653d2",
                                    "1": "2018-10-18",
                                    "2": "367",
                                    "3": "34",
                                    "4": "52",
                                    "5": "3100,00"
                                },
                                {
                                    "0": "25e47381-a6c5-10dd-eb36-084e33b89f0c",
                                    "1": "2018-10-18",
                                    "2": "511",
                                    "3": "17",
                                    "4": "464",
                                    "5": "1289,60"
                                },
                                {
                                    "0": "0cbcee27-c791-afa0-cdcb-08587a2013a8",
                                    "1": "2018-10-18",
                                    "2": "588",
                                    "3": "39",
                                    "4": "83",
                                    "5": "5054,15"
                                },
                                {
                                    "0": "527801b5-52d0-077f-fd17-0872eb49683b",
                                    "1": "2018-10-18",
                                    "2": "364",
                                    "3": "92",
                                    "4": "49",
                                    "5": "17942,80"
                                },
                                {
                                    "0": "5566627e-ab3f-e93f-d6ee-08798226101a",
                                    "1": "2018-10-18",
                                    "2": "547",
                                    "3": "5",
                                    "4": "262",
                                    "5": "85,50"
                                },
                                {
                                    "0": "8132b9bd-1687-6e1b-0f88-08d43825dd48",
                                    "1": "2018-10-18",
                                    "2": "514",
                                    "3": "1",
                                    "4": "514",
                                    "5": "77,90"
                                },
                                {
                                    "0": "515d7811-50fe-ed28-a6ac-091bb0e3cb8c",
                                    "1": "2018-10-18",
                                    "2": "532",
                                    "3": "5",
                                    "4": "518",
                                    "5": "789,95"
                                },
                                {
                                    "0": "3f9c5676-4fab-ca62-7406-093dcb3ef0b4",
                                    "1": "2018-10-18",
                                    "2": "261",
                                    "3": "7",
                                    "4": "168",
                                    "5": "909,30"
                                },
                                {
                                    "0": "a3b42d26-6fa8-afc8-74b9-09422ce88582",
                                    "1": "2018-10-18",
                                    "2": "76",
                                    "3": "6",
                                    "4": "76",
                                    "5": "839,40"
                                },
                                {
                                    "0": "c394e193-cda3-b422-5ff2-094d32184849",
                                    "1": "2018-10-18",
                                    "2": "168",
                                    "3": "11",
                                    "4": "149",
                                    "5": "3134,89"
                                },
                                {
                                    "0": "eed78ac1-7f7f-795a-19a7-09745f00cd4e",
                                    "1": "2018-10-18",
                                    "2": "436",
                                    "3": "56",
                                    "4": "85",
                                    "5": "4349,50"
                                },
                                {
                                    "0": "0a85ebe4-e328-db81-ac91-09781205e2f7",
                                    "1": "2018-10-18",
                                    "2": "153",
                                    "3": "12",
                                    "4": "49",
                                    "5": "667,90"
                                },
                                {
                                    "0": "e256a62e-0ac5-8c0e-dfba-09966142d561",
                                    "1": "2018-10-18",
                                    "2": "178",
                                    "3": "14",
                                    "4": "72",
                                    "5": "1474,11"
                                },
                                {
                                    "0": "9baf5cb7-7970-f539-089d-09a38bcec5c3",
                                    "1": "2018-10-18",
                                    "2": "626",
                                    "3": "32",
                                    "4": "58",
                                    "5": "5989,68"
                                },
                                {
                                    "0": "20b54c37-6b79-4ed0-28df-09a3cd88e8dc",
                                    "1": "2018-10-18",
                                    "2": "380",
                                    "3": "7",
                                    "4": "101",
                                    "5": "927,87"
                                },
                                {
                                    "0": "83c465a7-86b0-6574-3769-09b35ef6752a",
                                    "1": "2018-10-18",
                                    "2": "112",
                                    "3": "3",
                                    "4": "57",
                                    "5": "281,40"
                                },
                                {
                                    "0": "fec62752-5347-1ace-26d2-09bbaa64cd0f",
                                    "1": "2018-10-18",
                                    "2": "256",
                                    "3": "10",
                                    "4": "83",
                                    "5": "2840,00"
                                },
                                {
                                    "0": "84deb808-079d-1be6-01c2-09c1e771b1cc",
                                    "1": "2018-10-18",
                                    "2": "405",
                                    "3": "2",
                                    "4": "313",
                                    "5": "34,93"
                                },
                                {
                                    "0": "b9ec22de-23f1-8567-de0e-09d776ca0309",
                                    "1": "2018-10-18",
                                    "2": "111",
                                    "3": "2",
                                    "4": "59",
                                    "5": "341,98"
                                },
                                {
                                    "0": "497709c2-976a-8fa3-0873-0a2dec5b0726",
                                    "1": "2018-10-18",
                                    "2": "85",
                                    "3": "2",
                                    "4": "85",
                                    "5": "76,00"
                                },
                                {
                                    "0": "baa49d93-c8c8-841e-2740-0a300f5d74b2",
                                    "1": "2018-10-18",
                                    "2": "525",
                                    "3": "6",
                                    "4": "477",
                                    "5": "246,40"
                                },
                                {
                                    "0": "d91fb3b7-d041-e83b-64a0-0a3edfb37e4f",
                                    "1": "2018-10-18",
                                    "2": "603",
                                    "3": "525",
                                    "4": "45",
                                    "5": "39926,39"
                                },
                                {
                                    "0": "11938fcc-75f6-902f-ea1d-0a6f72b54a57",
                                    "1": "2018-10-18",
                                    "2": "246",
                                    "3": "2",
                                    "4": "133",
                                    "5": "594,98"
                                },
                                {
                                    "0": "034b9387-752b-fa30-9f35-0a70cd45ffa3",
                                    "1": "2018-10-18",
                                    "2": "183",
                                    "3": "8",
                                    "4": "52",
                                    "5": "96,00"
                                },
                                {
                                    "0": "5bc24d98-9e71-e93c-33e5-0a7782431b0e",
                                    "1": "2018-10-18",
                                    "2": "164",
                                    "3": "17",
                                    "4": "50",
                                    "5": "3148,00"
                                },
                                {
                                    "0": "97e99562-9983-723d-1183-0a829bc2b246",
                                    "1": "2018-10-18",
                                    "2": "335",
                                    "3": "5",
                                    "4": "51",
                                    "5": "499,50"
                                },
                                {
                                    "0": "aba1721a-889e-04de-cc91-0aa13b768ef4",
                                    "1": "2018-10-18",
                                    "2": "612",
                                    "3": "92",
                                    "4": "50",
                                    "5": "14103,30"
                                },
                                {
                                    "0": "431af27f-296b-c651-9d89-0aa5a05fdb11",
                                    "1": "2018-10-18",
                                    "2": "524",
                                    "3": "124",
                                    "4": "70",
                                    "5": "12974,60"
                                },
                                {
                                    "0": "f7496d65-9ca9-fdaf-323c-0aae84176632",
                                    "1": "2018-10-18",
                                    "2": "616",
                                    "3": "25",
                                    "4": "52",
                                    "5": "4717,68"
                                },
                                {
                                    "0": "00d8b143-d126-32ba-d99c-0ad66ad52825",
                                    "1": "2018-10-18",
                                    "2": "204",
                                    "3": "1",
                                    "4": "204",
                                    "5": "86,00"
                                },
                                {
                                    "0": "8a8835a4-3bda-99fd-3731-0ad76c457510",
                                    "1": "2018-10-18",
                                    "2": "84",
                                    "3": "3",
                                    "4": "72",
                                    "5": "224,34"
                                },
                                {
                                    "0": "3289d8c3-eef4-873f-91ce-0b1343c0dd58",
                                    "1": "2018-10-18",
                                    "2": "132",
                                    "3": "1",
                                    "4": "132",
                                    "5": "199,99"
                                },
                                {
                                    "0": "cac4c8e7-b1ca-6252-d8f2-0b2fc1a2e4af",
                                    "1": "2018-10-18",
                                    "2": "519",
                                    "3": "81",
                                    "4": "29",
                                    "5": "3728,20"
                                },
                                {
                                    "0": "e0878efa-0e0b-7e53-13ac-0b43bc04c081",
                                    "1": "2018-10-18",
                                    "2": "328",
                                    "3": "28",
                                    "4": "216",
                                    "5": "5025,40"
                                },
                                {
                                    "0": "d79e8478-eed9-9994-9399-0b44955fb22e",
                                    "1": "2018-10-18",
                                    "2": "108",
                                    "3": "5",
                                    "4": "56",
                                    "5": "721,89"
                                },
                                {
                                    "0": "880ce495-1cf8-57ab-1d9e-0b75c1d856f4",
                                    "1": "2018-10-18",
                                    "2": "232",
                                    "3": "1",
                                    "4": "232",
                                    "5": "178,90"
                                },
                                {
                                    "0": "1961c3e1-272b-fece-b05d-0b78b5bbfdaf",
                                    "1": "2018-10-18",
                                    "2": "79",
                                    "3": "3",
                                    "4": "50",
                                    "5": "657,00"
                                },
                                {
                                    "0": "30a2f535-bb48-308f-991d-0b9ad4a8c4bb",
                                    "1": "2018-10-18",
                                    "2": "618",
                                    "3": "87",
                                    "4": "79",
                                    "5": "4731,30"
                                },
                                {
                                    "0": "9200e6ce-317b-6719-6b6b-0bad4d4bd567",
                                    "1": "2018-10-18",
                                    "2": "556",
                                    "3": "1",
                                    "4": "556",
                                    "5": "36,90"
                                },
                                {
                                    "0": "e62b2d6a-c105-70a0-35a3-0bafcf01d263",
                                    "1": "2018-10-18",
                                    "2": "383",
                                    "3": "71",
                                    "4": "56",
                                    "5": "5340,39"
                                },
                                {
                                    "0": "f1b93673-5023-75d4-9178-0bb49d615dbc",
                                    "1": "2018-10-18",
                                    "2": "216",
                                    "3": "10",
                                    "4": "49",
                                    "5": "2638,93"
                                },
                                {
                                    "0": "8cf21434-553b-02cb-d37c-0bbd07e041b0",
                                    "1": "2018-10-18",
                                    "2": "317",
                                    "3": "1",
                                    "4": "317",
                                    "5": "49,99"
                                },
                                {
                                    "0": "bd4ff043-77f9-7457-4f7f-0bf9d6ce7dde",
                                    "1": "2018-10-18",
                                    "2": "576",
                                    "3": "1",
                                    "4": "576",
                                    "5": "34,99"
                                },
                                {
                                    "0": "6ba4733a-a33f-6386-e9fb-0c0fd3993b38",
                                    "1": "2018-10-18",
                                    "2": "176",
                                    "3": "3",
                                    "4": "54",
                                    "5": "149,79"
                                },
                                {
                                    "0": "9d4db00d-65d7-7606-44ac-0c14edb5fd86",
                                    "1": "2018-10-18",
                                    "2": "295",
                                    "3": "99",
                                    "4": "56",
                                    "5": "9845,71"
                                },
                                {
                                    "0": "6c9875b2-f94b-a781-186f-0c1aed8d1687",
                                    "1": "2018-10-18",
                                    "2": "510",
                                    "3": "4",
                                    "4": "428",
                                    "5": "25,00"
                                },
                                {
                                    "0": "f90f77ef-2799-a27f-80d9-0c425ca944f7",
                                    "1": "2018-10-18",
                                    "2": "149",
                                    "3": "1",
                                    "4": "149",
                                    "5": "70,00"
                                },
                                {
                                    "0": "b33aaadd-1a88-91d2-dfef-0c4c3bdf0371",
                                    "1": "2018-10-18",
                                    "2": "273",
                                    "3": "17",
                                    "4": "107",
                                    "5": "1504,00"
                                }
                            ]
                        },
                        "text/html": [
                            "<table>",
                            "<tr><th>SellerId</th><th>ReportDay</th><th>DaysFromFirstPurchase</th><th>ItemsSold</th><th>Recency</th><th>Revenue</th></tr>",
                            "<tr><td>e9c6969d-40e6-a3d2-d0f9-0013165c2b98</td><td>2018-10-18</td><td>332</td><td>10</td><td>132</td><td>5239,98</td></tr>",
                            "<tr><td>f08a5b9d-d676-7129-688d-001acafc21e5</td><td>2018-10-18</td><td>356</td><td>18</td><td>251</td><td>14069,63</td></tr>",
                            "<tr><td>17ca9b9e-9b9e-f8fd-b529-001b49ebb50f</td><td>2018-10-18</td><td>454</td><td>128</td><td>50</td><td>9649,86</td></tr>",
                            "<tr><td>5e25c632-f9db-6cfb-8bc1-00421c2737b6</td><td>2018-10-18</td><td>122</td><td>1</td><td>122</td><td>259,00</td></tr>",
                            "<tr><td>e8b42252-84fb-b02d-16f2-00513f1f395d</td><td>2018-10-18</td><td>184</td><td>30</td><td>56</td><td>5638,62</td></tr>",
                            "<tr><td>e8b3a3a3-8279-a82f-0e5d-006d5e5b7d2c</td><td>2018-10-18</td><td>366</td><td>85</td><td>191</td><td>11762,40</td></tr>",
                            "<tr><td>f43827dd-686b-e3a4-a80e-00aa299990fb</td><td>2018-10-18</td><td>245</td><td>2</td><td>245</td><td>95,54</td></tr>",
                            "<tr><td>70b52a4c-fc82-3994-561b-00bad161b4ed</td><td>2018-10-18</td><td>590</td><td>10</td><td>83</td><td>585,00</td></tr>",
                            "<tr><td>5de1c808-11ce-7007-f62f-00d971236c09</td><td>2018-10-18</td><td>98</td><td>2</td><td>73</td><td>76,80</td></tr>",
                            "<tr><td>2b5ed0c9-139d-ae88-83a2-00dfcb272ece</td><td>2018-10-18</td><td>553</td><td>4</td><td>304</td><td>85,41</td></tr>",
                            "<tr><td>2a261b5b-644f-a05f-4f27-00eb93544f2c</td><td>2018-10-18</td><td>355</td><td>82</td><td>73</td><td>5355,00</td></tr>",
                            "<tr><td>e627629b-a868-740e-2878-00f1a9be81c2</td><td>2018-10-18</td><td>611</td><td>11</td><td>449</td><td>337,10</td></tr>",
                            "<tr><td>49383af7-ab77-4e4e-8f30-00f49c83dc4b</td><td>2018-10-18</td><td>161</td><td>12</td><td>49</td><td>660,00</td></tr>",
                            "<tr><td>516e7738-bd8f-735a-c19a-010ee5450d8d</td><td>2018-10-18</td><td>152</td><td>82</td><td>49</td><td>6463,19</td></tr>",
                            "<tr><td>777a0c55-737f-34ff-eb78-010f7542ab41</td><td>2018-10-18</td><td>112</td><td>6</td><td>49</td><td>452,50</td></tr>",
                            "<tr><td>2d378dbb-3981-5785-238c-0139c7647fb7</td><td>2018-10-18</td><td>534</td><td>2</td><td>499</td><td>1154,00</td></tr>",
                            "<tr><td>1e26c56a-f8d4-8424-e1df-0140a2401f83</td><td>2018-10-18</td><td>125</td><td>2</td><td>62</td><td>258,90</td></tr>",
                            "<tr><td>d6b1ce66-b035-a475-f00c-017792ff9769</td><td>2018-10-18</td><td>191</td><td>108</td><td>49</td><td>12277,40</td></tr>",
                            "<tr><td>bac692d6-c0ed-0846-7878-018e6cc9c26c</td><td>2018-10-18</td><td>72</td><td>3</td><td>72</td><td>477,00</td></tr>",
                            "<tr><td>f7720c4f-a8e3-aba4-5463-01ab80ea1f1b</td><td>2018-10-18</td><td>540</td><td>77</td><td>57</td><td>2043,55</td></tr>",
                            "<tr><td>be3b4b0f-050a-6aa1-b2d9-01c4b77e979f</td><td>2018-10-18</td><td>169</td><td>8</td><td>125</td><td>578,20</td></tr>",
                            "<tr><td>141440ca-d934-1e55-3f84-01c574a2aa38</td><td>2018-10-18</td><td>164</td><td>12</td><td>59</td><td>1288,20</td></tr>",
                            "<tr><td>a3dd39f5-83bc-80bd-8c59-01c95878921e</td><td>2018-10-18</td><td>416</td><td>37</td><td>176</td><td>4607,81</td></tr>",
                            "<tr><td>2dd1fb6f-0e42-a224-3b8a-01e40cd41216</td><td>2018-10-18</td><td>592</td><td>4</td><td>533</td><td>686,89</td></tr>",
                            "<tr><td>da6a60cc-8cc7-24fe-51be-021ff8be779c</td><td>2018-10-18</td><td>134</td><td>13</td><td>55</td><td>728,79</td></tr>",
                            "<tr><td>3f2af267-0e10-4d1b-cb54-022274daeac5</td><td>2018-10-18</td><td>332</td><td>7</td><td>135</td><td>973,60</td></tr>",
                            "<tr><td>acce39e8-3233-8deb-b07b-02385cde5967</td><td>2018-10-18</td><td>150</td><td>44</td><td>49</td><td>4748,10</td></tr>",
                            "<tr><td>b7e1750c-1157-341d-2abd-0251e07c186b</td><td>2018-10-18</td><td>604</td><td>4</td><td>532</td><td>159,60</td></tr>",
                            "<tr><td>d8cf3b6a-2151-949f-930d-0252b180ec42</td><td>2018-10-18</td><td>181</td><td>19</td><td>112</td><td>623,70</td></tr>",
                            "<tr><td>0bb27263-6282-58b8-111a-0262769fa9db</td><td>2018-10-18</td><td>523</td><td>1</td><td>523</td><td>22,20</td></tr>",
                            "<tr><td>6b9b80d5-3ba3-676e-afe6-0268a810b5a1</td><td>2018-10-18</td><td>608</td><td>9</td><td>398</td><td>783,70</td></tr>",
                            "<tr><td>ed859002-ad59-dbf8-cf36-02696a6c3000</td><td>2018-10-18</td><td>630</td><td>3</td><td>630</td><td>719,70</td></tr>",
                            "<tr><td>ce69a802-1d18-961d-d2a4-0269b7c2c293</td><td>2018-10-18</td><td>195</td><td>19</td><td>54</td><td>4818,00</td></tr>",
                            "<tr><td>d94a40fd-4235-1c25-9927-028d163af842</td><td>2018-10-18</td><td>441</td><td>109</td><td>62</td><td>13674,80</td></tr>",
                            "<tr><td>e333046c-e651-7bd8-bb51-0291d44f0130</td><td>2018-10-18</td><td>449</td><td>74</td><td>48</td><td>7268,00</td></tr>",
                            "<tr><td>14a08204-d03b-b6b6-bde8-029f801ae0eb</td><td>2018-10-18</td><td>197</td><td>38</td><td>51</td><td>2185,40</td></tr>",
                            "<tr><td>a99504ac-23ed-125a-af53-02af6cc30af9</td><td>2018-10-18</td><td>353</td><td>1</td><td>353</td><td>978,00</td></tr>",
                            "<tr><td>024b564a-e893-ce8e-9bfa-02c10a401ece</td><td>2018-10-18</td><td>603</td><td>2</td><td>603</td><td>239,00</td></tr>",
                            "<tr><td>729f0699-3dac-8e86-0d4f-02d7088ca48a</td><td>2018-10-18</td><td>561</td><td>113</td><td>45</td><td>19885,18</td></tr>",
                            "<tr><td>9c068d10-aca3-8e85-c502-02e17b4a7e88</td><td>2018-10-18</td><td>358</td><td>17</td><td>51</td><td>2658,90</td></tr>",
                            "<tr><td>4e0d109c-cfba-9a11-51c1-03049880c857</td><td>2018-10-18</td><td>315</td><td>2</td><td>115</td><td>279,89</td></tr>",
                            "<tr><td>8fe8786e-e000-001a-b51d-030dfd4a7bf1</td><td>2018-10-18</td><td>300</td><td>5</td><td>112</td><td>2255,00</td></tr>",
                            "<tr><td>09bad886-1112-55c5-b503-0314fc7f1a4a</td><td>2018-10-18</td><td>63</td><td>5</td><td>50</td><td>487,50</td></tr>",
                            "<tr><td>7b98de63-1987-e26d-d6d8-03490c43a13c</td><td>2018-10-18</td><td>132</td><td>8</td><td>71</td><td>634,20</td></tr>",
                            "<tr><td>01cf7e3d-2149-4c41-fb86-034f2e714fa1</td><td>2018-10-18</td><td>618</td><td>64</td><td>226</td><td>9369,66</td></tr>",
                            "<tr><td>38e679b9-e006-4cd9-4c6f-035707344dae</td><td>2018-10-18</td><td>624</td><td>27</td><td>255</td><td>3599,25</td></tr>",
                            "<tr><td>0fe2d973-3ed8-41eb-0645-03920015a8c0</td><td>2018-10-18</td><td>150</td><td>3</td><td>87</td><td>389,64</td></tr>",
                            "<tr><td>04aa0a1c-5ce6-b222-0034-03a3e11c3cc0</td><td>2018-10-18</td><td>566</td><td>17</td><td>245</td><td>5518,00</td></tr>",
                            "<tr><td>b64d51f0-435e-884e-8de6-03b1655155ae</td><td>2018-10-18</td><td>189</td><td>23</td><td>50</td><td>416,18</td></tr>",
                            "<tr><td>26b482dc-cfa2-9bd2-e407-03ba45523702</td><td>2018-10-18</td><td>76</td><td>4</td><td>56</td><td>344,78</td></tr>",
                            "<tr><td>951e8cef-368f-09bb-3f3d-03c00ca4702c</td><td>2018-10-18</td><td>173</td><td>69</td><td>49</td><td>3993,31</td></tr>",
                            "<tr><td>4dab98ca-6cd6-d3df-5862-03cefd28a042</td><td>2018-10-18</td><td>199</td><td>1</td><td>199</td><td>154,90</td></tr>",
                            "<tr><td>0b18d63d-0cd1-d723-5679-03fd34a07df2</td><td>2018-10-18</td><td>546</td><td>14</td><td>126</td><td>1678,14</td></tr>",
                            "<tr><td>0b64bcdb-0784-abc1-39af-04077d49a20e</td><td>2018-10-18</td><td>187</td><td>4</td><td>86</td><td>137,60</td></tr>",
                            "<tr><td>bafc5aa1-1e41-3978-be29-040f51342e70</td><td>2018-10-18</td><td>303</td><td>9</td><td>230</td><td>1679,55</td></tr>",
                            "<tr><td>6fd52c52-8dcb-38be-2eea-044946b811f8</td><td>2018-10-18</td><td>413</td><td>84</td><td>59</td><td>7743,02</td></tr>",
                            "<tr><td>bf004579-1395-e664-60eb-04749c68672a</td><td>2018-10-18</td><td>610</td><td>2</td><td>561</td><td>119,80</td></tr>",
                            "<tr><td>c32fc744-b916-0ac8-5345-0488e3cfea93</td><td>2018-10-18</td><td>150</td><td>2</td><td>120</td><td>65,80</td></tr>",
                            "<tr><td>43f8c995-0d11-ecd0-3a03-04a49e010da6</td><td>2018-10-18</td><td>433</td><td>41</td><td>136</td><td>4249,59</td></tr>",
                            "<tr><td>b56828a9-f902-7f3c-918c-04ca720d9e3c</td><td>2018-10-18</td><td>365</td><td>3</td><td>147</td><td>360,00</td></tr>",
                            "<tr><td>03bd479e-1d94-84cd-b141-04d3023f7321</td><td>2018-10-18</td><td>136</td><td>3</td><td>63</td><td>359,70</td></tr>",
                            "<tr><td>b8114f2f-589a-6804-810f-04f99b36b498</td><td>2018-10-18</td><td>194</td><td>11</td><td>58</td><td>1399,62</td></tr>",
                            "<tr><td>834f8533-b2ec-b659-8dd0-04ff3de7203a</td><td>2018-10-18</td><td>624</td><td>45</td><td>55</td><td>4324,35</td></tr>",
                            "<tr><td>e24fc9fc-d865-784f-b257-05606fe3dfe7</td><td>2018-10-18</td><td>639</td><td>54</td><td>175</td><td>12558,00</td></tr>",
                            "<tr><td>3092c0b2-97aa-cfb4-bb6e-056ebe13b9b8</td><td>2018-10-18</td><td>258</td><td>17</td><td>104</td><td>1184,30</td></tr>",
                            "<tr><td>ea00f977-a203-ff88-adf7-057cb7806998</td><td>2018-10-18</td><td>106</td><td>18</td><td>55</td><td>381,73</td></tr>",
                            "<tr><td>7c9130f5-f372-9edd-32aa-059141d92484</td><td>2018-10-18</td><td>115</td><td>4</td><td>50</td><td>126,00</td></tr>",
                            "<tr><td>df47da4a-e86f-a4db-890d-05aaf24e21d8</td><td>2018-10-18</td><td>83</td><td>5</td><td>50</td><td>310,50</td></tr>",
                            "<tr><td>82921991-ff5b-557b-0456-05b8bbf08d49</td><td>2018-10-18</td><td>70</td><td>1</td><td>70</td><td>18,90</td></tr>",
                            "<tr><td>609e1a9a-6c25-3991-9b82-05cf7c4e6ff0</td><td>2018-10-18</td><td>244</td><td>130</td><td>50</td><td>6595,23</td></tr>",
                            "<tr><td>5f0057b6-77eb-9636-72bf-05dfa3f16c34</td><td>2018-10-18</td><td>629</td><td>2</td><td>619</td><td>56,89</td></tr>",
                            "<tr><td>a49928bc-df77-c55c-6d6e-05e09a9b4ca5</td><td>2018-10-18</td><td>486</td><td>104</td><td>132</td><td>8646,90</td></tr>",
                            "<tr><td>79ebd9a6-1bac-3eaf-8828-05ed4ecfa12a</td><td>2018-10-18</td><td>363</td><td>140</td><td>51</td><td>14783,09</td></tr>",
                            "<tr><td>1e483cc5-c76f-ef08-d3ca-05f9a8af7d01</td><td>2018-10-18</td><td>610</td><td>10</td><td>507</td><td>166,09</td></tr>",
                            "<tr><td>0bf0150d-5b9d-60d9-cd29-06003332f085</td><td>2018-10-18</td><td>591</td><td>62</td><td>84</td><td>5774,60</td></tr>",
                            "<tr><td>a56e3514-45e5-863f-c896-0640ba9190c7</td><td>2018-10-18</td><td>188</td><td>4</td><td>147</td><td>760,92</td></tr>",
                            "<tr><td>e24d3429-d294-b2eb-200b-064ebb035879</td><td>2018-10-18</td><td>111</td><td>22</td><td>51</td><td>1878,58</td></tr>",
                            "<tr><td>7139dc51-86aa-238b-006e-066d8fbab2e4</td><td>2018-10-18</td><td>252</td><td>24</td><td>66</td><td>1712,00</td></tr>",
                            "<tr><td>5882820e-f11c-4c06-8eea-0677a7a879b4</td><td>2018-10-18</td><td>554</td><td>14</td><td>79</td><td>9925,50</td></tr>",
                            "<tr><td>fffd5413-c070-0ac8-20c7-069d66d98c89</td><td>2018-10-18</td><td>447</td><td>58</td><td>49</td><td>8535,00</td></tr>",
                            "<tr><td>81783131-d2a9-7c8d-44d4-06a4be81b5d9</td><td>2018-10-18</td><td>77</td><td>9</td><td>57</td><td>761,84</td></tr>",
                            "<tr><td>9c4d31c7-e46a-b03a-43fc-06e3142afd4e</td><td>2018-10-18</td><td>58</td><td>2</td><td>52</td><td>1218,90</td></tr>",
                            "<tr><td>e595809a-6c31-ec43-14fd-06ef198c244d</td><td>2018-10-18</td><td>205</td><td>1</td><td>205</td><td>39,00</td></tr>",
                            "<tr><td>0afccdb8-a34e-e5c7-9f7c-06faf2b4d56e</td><td>2018-10-18</td><td>547</td><td>24</td><td>174</td><td>1185,60</td></tr>",
                            "<tr><td>89d9a386-b0b6-e5fc-8403-071b03f7206a</td><td>2018-10-18</td><td>237</td><td>5</td><td>234</td><td>167,00</td></tr>",
                            "<tr><td>3da38366-e7bd-9baf-6369-071f782ecdf0</td><td>2018-10-18</td><td>234</td><td>1</td><td>234</td><td>59,47</td></tr>",
                            "<tr><td>ede2977f-baf3-7385-8317-0735ca403f6c</td><td>2018-10-18</td><td>220</td><td>1</td><td>220</td><td>289,90</td></tr>",
                            "<tr><td>709e16e2-b25c-7474-d980-076c6bfc4806</td><td>2018-10-18</td><td>364</td><td>80</td><td>49</td><td>5151,90</td></tr>",
                            "<tr><td>9140bd1d-9de2-8b19-7dce-077bdd687438</td><td>2018-10-18</td><td>143</td><td>8</td><td>58</td><td>1258,87</td></tr>",
                            "<tr><td>e7df4cd2-9ab5-abab-70fb-0783ddb53987</td><td>2018-10-18</td><td>603</td><td>24</td><td>49</td><td>9608,70</td></tr>",
                            "<tr><td>160e4f13-fd3a-64b1-b868-07be88b5ffb0</td><td>2018-10-18</td><td>325</td><td>4</td><td>233</td><td>886,00</td></tr>",
                            "<tr><td>ceaec554-8eef-c6e2-3e66-07c5435102e7</td><td>2018-10-18</td><td>259</td><td>206</td><td>21</td><td>51478,18</td></tr>",
                            "<tr><td>038b75b7-29c8-a9a0-4b0d-07cba7eabe86</td><td>2018-10-18</td><td>164</td><td>2</td><td>151</td><td>467,00</td></tr>",
                            "<tr><td>31ae0774-c17f-abd0-6ff7-07cc5bde005f</td><td>2018-10-18</td><td>514</td><td>11</td><td>51</td><td>6719,85</td></tr>",
                            "<tr><td>87e24fc7-0522-59b1-f7f6-07d61c10d8be</td><td>2018-10-18</td><td>138</td><td>7</td><td>50</td><td>7073,59</td></tr>",
                            "<tr><td>e4ebd3f8-7bf7-0440-014f-07ddda7fbe03</td><td>2018-10-18</td><td>303</td><td>7</td><td>210</td><td>671,50</td></tr>",
                            "<tr><td>d29ba122-0fb8-634f-a3a1-07e54497b8a4</td><td>2018-10-18</td><td>177</td><td>9</td><td>56</td><td>724,94</td></tr>",
                            "<tr><td>95cca791-657a-abef-f15a-07eb152d7841</td><td>2018-10-18</td><td>106</td><td>1</td><td>106</td><td>9,99</td></tr>",
                            "<tr><td>f84fa566-034f-5e8e-880a-07ec624c56af</td><td>2018-10-18</td><td>451</td><td>100</td><td>55</td><td>4993,91</td></tr>",
                            "<tr><td>139157dd-4daa-45c2-5b08-07ffff348363</td><td>2018-10-18</td><td>412</td><td>1</td><td>412</td><td>29,90</td></tr>",
                            "<tr><td>544863df-86ed-3b78-a04e-0820d41430ee</td><td>2018-10-18</td><td>103</td><td>1</td><td>103</td><td>23,90</td></tr>",
                            "<tr><td>2dee2ce6-0de9-709b-1a24-083217181a1f</td><td>2018-10-18</td><td>449</td><td>55</td><td>101</td><td>7784,50</td></tr>",
                            "<tr><td>5c6d4016-c2a2-88f0-74fa-0848a2b653d2</td><td>2018-10-18</td><td>367</td><td>34</td><td>52</td><td>3100,00</td></tr>",
                            "<tr><td>25e47381-a6c5-10dd-eb36-084e33b89f0c</td><td>2018-10-18</td><td>511</td><td>17</td><td>464</td><td>1289,60</td></tr>",
                            "<tr><td>0cbcee27-c791-afa0-cdcb-08587a2013a8</td><td>2018-10-18</td><td>588</td><td>39</td><td>83</td><td>5054,15</td></tr>",
                            "<tr><td>527801b5-52d0-077f-fd17-0872eb49683b</td><td>2018-10-18</td><td>364</td><td>92</td><td>49</td><td>17942,80</td></tr>",
                            "<tr><td>5566627e-ab3f-e93f-d6ee-08798226101a</td><td>2018-10-18</td><td>547</td><td>5</td><td>262</td><td>85,50</td></tr>",
                            "<tr><td>8132b9bd-1687-6e1b-0f88-08d43825dd48</td><td>2018-10-18</td><td>514</td><td>1</td><td>514</td><td>77,90</td></tr>",
                            "<tr><td>515d7811-50fe-ed28-a6ac-091bb0e3cb8c</td><td>2018-10-18</td><td>532</td><td>5</td><td>518</td><td>789,95</td></tr>",
                            "<tr><td>3f9c5676-4fab-ca62-7406-093dcb3ef0b4</td><td>2018-10-18</td><td>261</td><td>7</td><td>168</td><td>909,30</td></tr>",
                            "<tr><td>a3b42d26-6fa8-afc8-74b9-09422ce88582</td><td>2018-10-18</td><td>76</td><td>6</td><td>76</td><td>839,40</td></tr>",
                            "<tr><td>c394e193-cda3-b422-5ff2-094d32184849</td><td>2018-10-18</td><td>168</td><td>11</td><td>149</td><td>3134,89</td></tr>",
                            "<tr><td>eed78ac1-7f7f-795a-19a7-09745f00cd4e</td><td>2018-10-18</td><td>436</td><td>56</td><td>85</td><td>4349,50</td></tr>",
                            "<tr><td>0a85ebe4-e328-db81-ac91-09781205e2f7</td><td>2018-10-18</td><td>153</td><td>12</td><td>49</td><td>667,90</td></tr>",
                            "<tr><td>e256a62e-0ac5-8c0e-dfba-09966142d561</td><td>2018-10-18</td><td>178</td><td>14</td><td>72</td><td>1474,11</td></tr>",
                            "<tr><td>9baf5cb7-7970-f539-089d-09a38bcec5c3</td><td>2018-10-18</td><td>626</td><td>32</td><td>58</td><td>5989,68</td></tr>",
                            "<tr><td>20b54c37-6b79-4ed0-28df-09a3cd88e8dc</td><td>2018-10-18</td><td>380</td><td>7</td><td>101</td><td>927,87</td></tr>",
                            "<tr><td>83c465a7-86b0-6574-3769-09b35ef6752a</td><td>2018-10-18</td><td>112</td><td>3</td><td>57</td><td>281,40</td></tr>",
                            "<tr><td>fec62752-5347-1ace-26d2-09bbaa64cd0f</td><td>2018-10-18</td><td>256</td><td>10</td><td>83</td><td>2840,00</td></tr>",
                            "<tr><td>84deb808-079d-1be6-01c2-09c1e771b1cc</td><td>2018-10-18</td><td>405</td><td>2</td><td>313</td><td>34,93</td></tr>",
                            "<tr><td>b9ec22de-23f1-8567-de0e-09d776ca0309</td><td>2018-10-18</td><td>111</td><td>2</td><td>59</td><td>341,98</td></tr>",
                            "<tr><td>497709c2-976a-8fa3-0873-0a2dec5b0726</td><td>2018-10-18</td><td>85</td><td>2</td><td>85</td><td>76,00</td></tr>",
                            "<tr><td>baa49d93-c8c8-841e-2740-0a300f5d74b2</td><td>2018-10-18</td><td>525</td><td>6</td><td>477</td><td>246,40</td></tr>",
                            "<tr><td>d91fb3b7-d041-e83b-64a0-0a3edfb37e4f</td><td>2018-10-18</td><td>603</td><td>525</td><td>45</td><td>39926,39</td></tr>",
                            "<tr><td>11938fcc-75f6-902f-ea1d-0a6f72b54a57</td><td>2018-10-18</td><td>246</td><td>2</td><td>133</td><td>594,98</td></tr>",
                            "<tr><td>034b9387-752b-fa30-9f35-0a70cd45ffa3</td><td>2018-10-18</td><td>183</td><td>8</td><td>52</td><td>96,00</td></tr>",
                            "<tr><td>5bc24d98-9e71-e93c-33e5-0a7782431b0e</td><td>2018-10-18</td><td>164</td><td>17</td><td>50</td><td>3148,00</td></tr>",
                            "<tr><td>97e99562-9983-723d-1183-0a829bc2b246</td><td>2018-10-18</td><td>335</td><td>5</td><td>51</td><td>499,50</td></tr>",
                            "<tr><td>aba1721a-889e-04de-cc91-0aa13b768ef4</td><td>2018-10-18</td><td>612</td><td>92</td><td>50</td><td>14103,30</td></tr>",
                            "<tr><td>431af27f-296b-c651-9d89-0aa5a05fdb11</td><td>2018-10-18</td><td>524</td><td>124</td><td>70</td><td>12974,60</td></tr>",
                            "<tr><td>f7496d65-9ca9-fdaf-323c-0aae84176632</td><td>2018-10-18</td><td>616</td><td>25</td><td>52</td><td>4717,68</td></tr>",
                            "<tr><td>00d8b143-d126-32ba-d99c-0ad66ad52825</td><td>2018-10-18</td><td>204</td><td>1</td><td>204</td><td>86,00</td></tr>",
                            "<tr><td>8a8835a4-3bda-99fd-3731-0ad76c457510</td><td>2018-10-18</td><td>84</td><td>3</td><td>72</td><td>224,34</td></tr>",
                            "<tr><td>3289d8c3-eef4-873f-91ce-0b1343c0dd58</td><td>2018-10-18</td><td>132</td><td>1</td><td>132</td><td>199,99</td></tr>",
                            "<tr><td>cac4c8e7-b1ca-6252-d8f2-0b2fc1a2e4af</td><td>2018-10-18</td><td>519</td><td>81</td><td>29</td><td>3728,20</td></tr>",
                            "<tr><td>e0878efa-0e0b-7e53-13ac-0b43bc04c081</td><td>2018-10-18</td><td>328</td><td>28</td><td>216</td><td>5025,40</td></tr>",
                            "<tr><td>d79e8478-eed9-9994-9399-0b44955fb22e</td><td>2018-10-18</td><td>108</td><td>5</td><td>56</td><td>721,89</td></tr>",
                            "<tr><td>880ce495-1cf8-57ab-1d9e-0b75c1d856f4</td><td>2018-10-18</td><td>232</td><td>1</td><td>232</td><td>178,90</td></tr>",
                            "<tr><td>1961c3e1-272b-fece-b05d-0b78b5bbfdaf</td><td>2018-10-18</td><td>79</td><td>3</td><td>50</td><td>657,00</td></tr>",
                            "<tr><td>30a2f535-bb48-308f-991d-0b9ad4a8c4bb</td><td>2018-10-18</td><td>618</td><td>87</td><td>79</td><td>4731,30</td></tr>",
                            "<tr><td>9200e6ce-317b-6719-6b6b-0bad4d4bd567</td><td>2018-10-18</td><td>556</td><td>1</td><td>556</td><td>36,90</td></tr>",
                            "<tr><td>e62b2d6a-c105-70a0-35a3-0bafcf01d263</td><td>2018-10-18</td><td>383</td><td>71</td><td>56</td><td>5340,39</td></tr>",
                            "<tr><td>f1b93673-5023-75d4-9178-0bb49d615dbc</td><td>2018-10-18</td><td>216</td><td>10</td><td>49</td><td>2638,93</td></tr>",
                            "<tr><td>8cf21434-553b-02cb-d37c-0bbd07e041b0</td><td>2018-10-18</td><td>317</td><td>1</td><td>317</td><td>49,99</td></tr>",
                            "<tr><td>bd4ff043-77f9-7457-4f7f-0bf9d6ce7dde</td><td>2018-10-18</td><td>576</td><td>1</td><td>576</td><td>34,99</td></tr>",
                            "<tr><td>6ba4733a-a33f-6386-e9fb-0c0fd3993b38</td><td>2018-10-18</td><td>176</td><td>3</td><td>54</td><td>149,79</td></tr>",
                            "<tr><td>9d4db00d-65d7-7606-44ac-0c14edb5fd86</td><td>2018-10-18</td><td>295</td><td>99</td><td>56</td><td>9845,71</td></tr>",
                            "<tr><td>6c9875b2-f94b-a781-186f-0c1aed8d1687</td><td>2018-10-18</td><td>510</td><td>4</td><td>428</td><td>25,00</td></tr>",
                            "<tr><td>f90f77ef-2799-a27f-80d9-0c425ca944f7</td><td>2018-10-18</td><td>149</td><td>1</td><td>149</td><td>70,00</td></tr>",
                            "<tr><td>b33aaadd-1a88-91d2-dfef-0c4c3bdf0371</td><td>2018-10-18</td><td>273</td><td>17</td><td>107</td><td>1504,00</td></tr>",
                            "</table>"
                        ]
                    }
                }
            ],
            "execution_count": 19
        },
        {
            "cell_type": "code",
            "source": [
                "-- Select rows from a TaCOUNT(b)le or VAnalitics '[SellersKPI]' in schema '[dbo]'\r\n",
                "SELECT COUNT(DISTINCT SellerId) FROM [Analitics].[SellersKPI]\r\n",
                "GO"
            ],
            "metadata": {
                "azdata_cell_guid": "bf27cd44-aea2-470d-9478-29fc0974490a"
            },
            "outputs": [
                {
                    "output_type": "display_data",
                    "data": {
                        "text/html": "(1 row affected)"
                    },
                    "metadata": {}
                },
                {
                    "output_type": "display_data",
                    "data": {
                        "text/html": "Total execution time: 00:00:00.029"
                    },
                    "metadata": {}
                },
                {
                    "output_type": "execute_result",
                    "metadata": {},
                    "execution_count": 16,
                    "data": {
                        "application/vnd.dataresource+json": {
                            "schema": {
                                "fields": [
                                    {
                                        "name": "(No column name)"
                                    }
                                ]
                            },
                            "data": [
                                {
                                    "0": "2945"
                                }
                            ]
                        },
                        "text/html": [
                            "<table>",
                            "<tr><th>(No column name)</th></tr>",
                            "<tr><td>2945</td></tr>",
                            "</table>"
                        ]
                    }
                }
            ],
            "execution_count": 16
        }
    ]
}